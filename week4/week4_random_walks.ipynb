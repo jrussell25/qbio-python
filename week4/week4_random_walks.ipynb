{
 "cells": [
  {
   "cell_type": "markdown",
   "id": "ea64df8e-45c2-4356-bb5e-7eb17d9a9a35",
   "metadata": {},
   "source": [
    "## Week 4 - Random Walks\n",
    "John Russell (johnrussell@g.harvard.edu)"
   ]
  },
  {
   "cell_type": "code",
   "execution_count": 3,
   "id": "9cc56739-7894-4d7d-a6ad-babc790f9a6a",
   "metadata": {
    "tags": []
   },
   "outputs": [],
   "source": [
    "import numpy as np\n",
    "import matplotlib.pyplot as plt"
   ]
  },
  {
   "cell_type": "code",
   "execution_count": 4,
   "id": "ce9b01a4-9068-4adf-9798-e05302194bd4",
   "metadata": {},
   "outputs": [],
   "source": [
    "#this cell changes some matplotlib defaults to make plots nicer \n",
    "import matplotlib as mpl\n",
    "mpl.rc(\"font\", family='serif')\n",
    "mpl.rc(\"figure\", figsize=(9,6))\n",
    "%config InlineBackend.figure_format = 'retina'"
   ]
  },
  {
   "cell_type": "markdown",
   "id": "689874a8-2b93-4caa-a340-91fb4a29957f",
   "metadata": {},
   "source": [
    "## Random numbers and random walks\n",
    "\n",
    "Random number generation is a surprisingly tricky thing to do on a computer which we generally think of as highly non-random. Strictly speaking, we will be talking about *pseudo*random number generation since its impossible to genereate truly random numbers. However it is important enough that lots work has gone into doing it well and many of the best implementations live in the `numpy.random` module.\n",
    "\n",
    "*Note*: The `numpy.random` module was changed significantly in summer of 2019 so what you'll see today is the modern (and higher performace) usage. For compatibility reasons, numpy still supports the old way and you are likely to come across older code which will look slightly different.\n",
    "\n",
    "The core of the random module is a `Generator` object. The easiest and most likely best way to initialize one is"
   ]
  },
  {
   "cell_type": "code",
   "execution_count": 57,
   "id": "be2022c8-da42-4c3b-8d2e-5641252292e8",
   "metadata": {},
   "outputs": [],
   "source": [
    "rng = np.random.default_rng() #rng stands for Random Number Generator"
   ]
  },
  {
   "cell_type": "markdown",
   "id": "aee801a2-175d-4805-9f39-6e3cc6c37344",
   "metadata": {},
   "source": [
    "The `Generator` object can then generate numbers from a vast array of different distributions. You can learn about these in a statistics class but I'll show a few examples."
   ]
  },
  {
   "cell_type": "code",
   "execution_count": null,
   "id": "d1be60a1-16da-4cd6-9d86-f55630c62786",
   "metadata": {},
   "outputs": [],
   "source": [
    "rng"
   ]
  },
  {
   "cell_type": "code",
   "execution_count": null,
   "id": "0bef2072-efc7-43e0-a2b7-fd44fad8f053",
   "metadata": {},
   "outputs": [],
   "source": [
    "#sample normal distribution"
   ]
  },
  {
   "cell_type": "code",
   "execution_count": null,
   "id": "fe86d852-361e-4029-9ca2-b5db2919dafe",
   "metadata": {},
   "outputs": [],
   "source": []
  },
  {
   "cell_type": "code",
   "execution_count": null,
   "id": "dbaa3ce3-a662-439a-adf0-7c62662dad90",
   "metadata": {},
   "outputs": [],
   "source": [
    "#show every distribution, sample gamma"
   ]
  },
  {
   "cell_type": "code",
   "execution_count": null,
   "id": "7edeb04f-6eb0-4d85-8654-108674b85cdb",
   "metadata": {},
   "outputs": [],
   "source": []
  },
  {
   "cell_type": "code",
   "execution_count": null,
   "id": "185f2c8f-cf36-418d-8802-79bdc030758e",
   "metadata": {},
   "outputs": [],
   "source": [
    "#Randomly choose from pets\n",
    "pets = ['cat', 'dog', 'fish', 'rabbit']"
   ]
  },
  {
   "cell_type": "code",
   "execution_count": null,
   "id": "b2195763-2bd3-419c-9220-309aad13a199",
   "metadata": {},
   "outputs": [],
   "source": []
  },
  {
   "cell_type": "markdown",
   "id": "6b8bc3e5-fc14-4d80-98e5-bcd0295f13a9",
   "metadata": {},
   "source": [
    "#### Random Walks\n",
    "\n",
    "Random walks are a *very* powerful and widely used model in basically every area of science. One of the great things about random walks is that they are very easy to simulate and often analytically tractable (the math is much beyond the scope of this bootcamp but happy to discuss in office hours as usual). We'll work on these today since they pull together pretty much all of the numpy tools we have discussed.\n",
    "\n",
    "Here is the idea: a walker starts at some point and at each time point takes a \"random step.\" There are many ways to define a random step but lets focus on the simplest case in 1 dimension. \n",
    "- A walker starts at 0 on the number line.\n",
    "- The walker flips a coin.\n",
    "- If the coin comes heads, take a step to the right (+1)\n",
    "- If the coin comes up tails take a step to the left (-1)\n",
    "- Repeat this process for many time steps i.e. coin flips."
   ]
  },
  {
   "cell_type": "code",
   "execution_count": null,
   "id": "03376ebb-157d-4fbb-9fca-2c633e075782",
   "metadata": {},
   "outputs": [],
   "source": [
    "steps = rng.choice([-1,1], size=1000)"
   ]
  },
  {
   "cell_type": "code",
   "execution_count": null,
   "id": "bab1e59d-2ae9-4c17-8cdc-31aa352318f9",
   "metadata": {},
   "outputs": [],
   "source": [
    "position = np.cumsum(steps)"
   ]
  },
  {
   "cell_type": "code",
   "execution_count": null,
   "id": "e24e07cf-caeb-4afd-baba-d6a2083a14fa",
   "metadata": {},
   "outputs": [],
   "source": [
    "plt.plot(position)\n",
    "plt.title(\"A Random Walk\")\n",
    "plt.xlabel('Time')\n",
    "plt.ylabel('Position')\n",
    "plt.show()"
   ]
  },
  {
   "cell_type": "markdown",
   "id": "4ba9b1c2-19bf-4821-ac9a-9b65770b62eb",
   "metadata": {},
   "source": [
    "#### Compiling statistics\n",
    "\n",
    "Often the idea with simulating random walkers is that we simulate many of them and the calculate statistics as a function of time. Said slightly differently, we often average over the walkers rather than averaging over time. "
   ]
  },
  {
   "cell_type": "code",
   "execution_count": null,
   "id": "8db3c2bc-d6dd-4120-a89a-aa3b924bf75a",
   "metadata": {},
   "outputs": [],
   "source": [
    "# generate 500 rws\n",
    "# steps = rng.choice([-1,1], size=(1000,500)) #1000 steps or time points, 500 walkers"
   ]
  },
  {
   "cell_type": "code",
   "execution_count": null,
   "id": "ebc3a85b-ad60-4934-b66a-ccb59a1fa0d9",
   "metadata": {},
   "outputs": [],
   "source": [
    "#positions = steps.cumsum(axis=0)"
   ]
  },
  {
   "cell_type": "code",
   "execution_count": null,
   "id": "0f27ee7e-efb6-4ce1-b2ba-d2f1e3bc1297",
   "metadata": {},
   "outputs": [],
   "source": []
  },
  {
   "cell_type": "code",
   "execution_count": null,
   "id": "67bd791d-a707-41b9-b515-bb12263e7df1",
   "metadata": {},
   "outputs": [],
   "source": [
    "# plt.plot(positions[:,0])\n",
    "# plt.title(\"10 Random Walks\")\n",
    "# plt.xlabel('Time')\n",
    "# plt.ylabel('Position')\n",
    "# plt.show()"
   ]
  },
  {
   "cell_type": "code",
   "execution_count": null,
   "id": "6ce6fa45-e8ff-442d-91e5-bf621317b56e",
   "metadata": {},
   "outputs": [],
   "source": [
    "positions.shape"
   ]
  },
  {
   "cell_type": "code",
   "execution_count": null,
   "id": "e960561d-079e-40f4-ac5e-f60bb0d7a5b5",
   "metadata": {},
   "outputs": [],
   "source": [
    "#plot "
   ]
  },
  {
   "cell_type": "markdown",
   "id": "82ba2ea0-a464-494b-a395-b57c12832e27",
   "metadata": {},
   "source": [
    "Remember that we have 500 walkers and 1000 time steps so the first dimension in this array is time and the second dimension is the walkers."
   ]
  },
  {
   "cell_type": "code",
   "execution_count": null,
   "id": "dc968dbe-4710-470b-8fd1-3a9e67fc6e55",
   "metadata": {},
   "outputs": [],
   "source": [
    "#select the trajectories"
   ]
  },
  {
   "cell_type": "code",
   "execution_count": null,
   "id": "431e9d1f-a50e-4fa8-9cad-ab03ad1e00e1",
   "metadata": {},
   "outputs": [],
   "source": [
    "# mean = positions.mean(1)\n",
    "# std = positions.std(1)"
   ]
  },
  {
   "cell_type": "code",
   "execution_count": null,
   "id": "f36e049b-4d63-4ade-992b-14da99c918d1",
   "metadata": {},
   "outputs": [],
   "source": [
    "#count them"
   ]
  },
  {
   "cell_type": "code",
   "execution_count": null,
   "id": "faa225a4-464c-4a46-9656-f71a5a57f97a",
   "metadata": {},
   "outputs": [],
   "source": [
    "# plt.plot(std, label=\"Std. Dev.\")\n",
    "# plt.plot(mean, label='Mean')\n",
    "# fit standard deviation\n",
    "# plt.legend()\n",
    "# plt.show()"
   ]
  },
  {
   "cell_type": "markdown",
   "id": "5a3a6190-d38e-4956-bf84-8d437d78b37f",
   "metadata": {},
   "source": [
    "### Random Walks Exercise\n",
    "\n",
    "*Note* Since we are generating random numbers your individual results may be slightly different. \n",
    "\n",
    "\n",
    "#### Part a.\n",
    "\n",
    "Similate 100 random walkers each taking 1000 steps as above but rather than a \"coin flip\" to determine the step, have these walkers take a step to the right (+1) with probability 0.65 and a step to the left (-1) with probability 0.35 - this is often called a biased random walk. Make plot showing the trajectories of the walkers which ended up farthest from the origin and closest to the origin.\n",
    "\n",
    "*Hint* Read the documentation of `rng.choice`"
   ]
  },
  {
   "cell_type": "code",
   "execution_count": null,
   "id": "9db272e4-e5f9-4ca2-b25f-92849fc01921",
   "metadata": {},
   "outputs": [],
   "source": []
  },
  {
   "cell_type": "markdown",
   "id": "e2b6c05e-ab4b-4be7-8e61-3dc242ba3a2c",
   "metadata": {},
   "source": [
    "#### Part b.\n",
    "\n",
    "- Compute the mean and standard deviation of these walkers as a function of time. \n",
    "- Plot the mean and standard deviation as a function of time on the same axes. \n",
    "- Plot $\\sqrt{t}$ as above and plot on the same axes. Does it still seem to describe the standard deiviation as a function of time?\n",
    "- **Optional** Can you come up with a function that describes the mean as a function of time? Plot this function as well. *Hint* How do you think the average depends on the probability of going right? Does your formula give the correct result from the demo above when $p=0.5$?"
   ]
  },
  {
   "cell_type": "code",
   "execution_count": null,
   "id": "82625e93-c3c2-40c4-8c5b-d2b2c19a2991",
   "metadata": {},
   "outputs": [],
   "source": []
  },
  {
   "cell_type": "markdown",
   "id": "0dee3008-70f8-4e55-8203-70208aa0c912",
   "metadata": {},
   "source": [
    "#### Part c. \n",
    "\n",
    "Rather than just walking up and down the number line, lets see what happens when the walk happens in two dimensions. Simulate 100 walkers each taking 1000 steps in the XY plane. Generate a 2D step by taking 2 independent samples from a standard normal distribution (mean=0, standard deviation=1). Plot 10 walks *in the XY plane*."
   ]
  },
  {
   "cell_type": "code",
   "execution_count": null,
   "id": "4c4b1eca-815f-4668-87ff-2f7a43d936df",
   "metadata": {},
   "outputs": [],
   "source": []
  },
  {
   "cell_type": "markdown",
   "id": "766c44d7-4c02-4ebd-9018-c36e41b75f51",
   "metadata": {},
   "source": [
    "#### Part d.\n",
    "\n",
    "Find the walkers which end up the farthest from the origin and the closest. Plot these two trajectories in the XY plane.\n",
    "\n",
    "*Hint* Given a point $(x,y)$ how do you compute the distance from the origin? Can you use numpy to compute the distance for all the walkers at all the time points without any loops?\n",
    "\n",
    "**Optional** Plot the trajectories of all the walkers in black and pass the keyword argument `alpha=0.25` to `plt.plot` which makes the lines somewhat transparent. Then plot the furthest and closest trajectories on the same axes in two different colors of your choice."
   ]
  },
  {
   "cell_type": "code",
   "execution_count": null,
   "id": "e7c01df9-5a53-4c02-8236-9b0e91bc7c53",
   "metadata": {},
   "outputs": [],
   "source": []
  },
  {
   "cell_type": "markdown",
   "id": "48a44e49-36ba-45ea-8807-3c12a96ef3d6",
   "metadata": {},
   "source": [
    "#### Part e. \n",
    "\n",
    "Plot the trajectories of any walkers who remain in the first quadrant for their entire trajectory (i.e. $x(t)>0$ and $y(t)>0$ for all times $t$). You will probably want to simulate more walkers (~$10^5$) in order to find some who meet this criterion, it happens with probability ~0.05\\%."
   ]
  },
  {
   "cell_type": "code",
   "execution_count": null,
   "id": "2f4bbd6a-6edc-49d1-8d1d-57cb63831fd9",
   "metadata": {},
   "outputs": [],
   "source": []
  }
 ],
 "metadata": {
  "kernelspec": {
   "display_name": "Python 3",
   "language": "python",
   "name": "python3"
  },
  "language_info": {
   "codemirror_mode": {
    "name": "ipython",
    "version": 3
   },
   "file_extension": ".py",
   "mimetype": "text/x-python",
   "name": "python",
   "nbconvert_exporter": "python",
   "pygments_lexer": "ipython3",
   "version": "3.9.5"
  }
 },
 "nbformat": 4,
 "nbformat_minor": 5
}
