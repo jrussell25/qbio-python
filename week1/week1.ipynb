{
 "cells": [
  {
   "cell_type": "markdown",
   "id": "civilian-whole",
   "metadata": {},
   "source": [
    "# Week 1: Introduction and Review\n",
    "\n",
    "## June 17, 2021\n",
    "\n",
    "Hi, everyone! Welcome to the first week of QBio Python workshops!\n",
    "\n",
    "Program links:\n",
    "\n",
    "[Workshop and Office Hour schedules](https://docs.google.com/document/d/167RV34j7GoF71j1zGlJVk8VZC_ufwv9qy_lxTDXe7Ng/edit?usp=sharing)\n",
    "\n",
    "Package links:\n",
    "\n",
    "[Anaconda](https://www.anaconda.com/products/individual)\n",
    "\n",
    "[Miniconda (minimal conda install)](https://docs.conda.io/en/latest/miniconda.html)\n",
    "\n",
    "Extra material if you'd like more review or practice:\n",
    "\n",
    "[Unix cheatsheet for command line](http://www.mathcs.emory.edu/~valerie/courses/fall10/155/resources/unix_cheatsheet.html)\n",
    "\n",
    "[Whirlwind Tour of Python](https://jakevdp.github.io/WhirlwindTourOfPython/)\n",
    "\n",
    "[Jake Vanderplas' blog on scientific computing with python](https://jakevdp.github.io/)\n",
    "\n",
    "[MIT OCW Intro to Comp Sci/Python](https://ocw.mit.edu/courses/electrical-engineering-and-computer-science/6-0001-introduction-to-computer-science-and-programming-in-python-fall-2016/index.htm)\n",
    "\n",
    "### What to accomplish today?\n",
    "In this session, we plan to:\n",
    "- introduce ourselves (it's nice to meet you!)\n",
    "- discuss the command-line/terminal interface\n",
    "- talk through the installation of anaconda or miniconda, perhaps the most convenient python ecosystems to install on your work station\n",
    "- cover some Python basics, including\n",
    "    - variable types (integers, floats, strings)\n",
    "    - input/output (reading in files, printing out results)\n",
    "    - container types (lists and dictionaries)\n",
    "    - program flow (if statements, for loops)\n",
    "    - writing functions"
   ]
  },
  {
   "cell_type": "markdown",
   "id": "honey-setup",
   "metadata": {},
   "source": [
    "## The Command Line"
   ]
  },
  {
   "cell_type": "markdown",
   "id": "dutch-sierra",
   "metadata": {},
   "source": [
    "When working on a *Unix-type system*, we often use the command line (or terminal, or command prompt) to interact with our computer, call scripts, move files, etc. Let's use the command line to install the GitHub repository for our Python workshops. [You can install \\\"git\\\" here.](https://git-scm.com/downloads)\n",
    "\n",
    "Some sample commands:\n",
    "- *cd \\[dir\\]*: change directory to \\[dir\\]\n",
    "- *rm \\[file\\]*: remove the provided file\n",
    "- *python \\[file.py\\]*: run the provided python script\n",
    "- *git clone https://github.com/jrussell25/qbio-python.git .*: clone our QBio Python Workshop GitHub repository into the current directory\n",
    "- *git pull*: if you're inside of a github repository, pull updates from\n",
    "\n",
    "The directory structure we're in looks like the following:"
   ]
  },
  {
   "cell_type": "raw",
   "id": "alpine-asthma",
   "metadata": {},
   "source": [
    "qbio-python/\n",
    "├── week1/\n",
    "│   ├── sample_tree/\n",
    "│   |   ├── hello_world.py\n",
    "│   |   ├── data.txt\n",
    "|   │   ├── subdirectory/\n",
    "|   │   │   ├── add_two_ints.py\n",
    "|   │   │   ├── message.txt\n",
    "│   ├── week1.ipynb\n",
    "├── week2/\n",
    ".\n",
    ".\n",
    "."
   ]
  },
  {
   "cell_type": "markdown",
   "id": "wireless-europe",
   "metadata": {},
   "source": [
    "Where \\\"are\\\" we? Can we print the contents of the files \\\"hello_world.py\\\" or \\\"add_two_ints.py\\\"? Here's a function to do so:"
   ]
  },
  {
   "cell_type": "code",
   "execution_count": 34,
   "id": "timely-enforcement",
   "metadata": {},
   "outputs": [],
   "source": [
    "# a function for printing a file's contents\n",
    "def print_file(filename):\n",
    "    \n",
    "    # open up file\n",
    "    file = open(filename,\"r\")\n",
    "    \n",
    "    # print each line\n",
    "    for line in file:\n",
    "        print(line, end=\"\")\n",
    "        \n",
    "    # close file when we're done with it\n",
    "    file.close()"
   ]
  },
  {
   "cell_type": "markdown",
   "id": "certain-advertiser",
   "metadata": {},
   "source": [
    "What happens if we execute the following code snippet? Why?"
   ]
  },
  {
   "cell_type": "code",
   "execution_count": 7,
   "id": "collective-edgar",
   "metadata": {},
   "outputs": [
    {
     "ename": "FileNotFoundError",
     "evalue": "[Errno 2] No such file or directory: 'hello_world.py'",
     "output_type": "error",
     "traceback": [
      "\u001b[0;31m---------------------------------------------------------------------------\u001b[0m",
      "\u001b[0;31mFileNotFoundError\u001b[0m                         Traceback (most recent call last)",
      "\u001b[0;32m<ipython-input-7-668e44434340>\u001b[0m in \u001b[0;36m<module>\u001b[0;34m\u001b[0m\n\u001b[0;32m----> 1\u001b[0;31m \u001b[0mprint_file\u001b[0m\u001b[0;34m(\u001b[0m\u001b[0;34m\"hello_world.py\"\u001b[0m\u001b[0;34m)\u001b[0m\u001b[0;34m\u001b[0m\u001b[0;34m\u001b[0m\u001b[0m\n\u001b[0m",
      "\u001b[0;32m<ipython-input-6-baac9701e537>\u001b[0m in \u001b[0;36mprint_file\u001b[0;34m(filename)\u001b[0m\n\u001b[1;32m      3\u001b[0m \u001b[0;34m\u001b[0m\u001b[0m\n\u001b[1;32m      4\u001b[0m     \u001b[0;31m# open up file\u001b[0m\u001b[0;34m\u001b[0m\u001b[0;34m\u001b[0m\u001b[0;34m\u001b[0m\u001b[0m\n\u001b[0;32m----> 5\u001b[0;31m     \u001b[0mfile_handle\u001b[0m \u001b[0;34m=\u001b[0m \u001b[0mopen\u001b[0m\u001b[0;34m(\u001b[0m\u001b[0mfilename\u001b[0m\u001b[0;34m,\u001b[0m\u001b[0;34m\"r\"\u001b[0m\u001b[0;34m)\u001b[0m\u001b[0;34m\u001b[0m\u001b[0;34m\u001b[0m\u001b[0m\n\u001b[0m\u001b[1;32m      6\u001b[0m \u001b[0;34m\u001b[0m\u001b[0m\n\u001b[1;32m      7\u001b[0m     \u001b[0;31m# print each line\u001b[0m\u001b[0;34m\u001b[0m\u001b[0;34m\u001b[0m\u001b[0;34m\u001b[0m\u001b[0m\n",
      "\u001b[0;31mFileNotFoundError\u001b[0m: [Errno 2] No such file or directory: 'hello_world.py'"
     ]
    }
   ],
   "source": [
    "print_file(\"hello_world.py\")"
   ]
  },
  {
   "cell_type": "code",
   "execution_count": 3,
   "id": "vulnerable-wagon",
   "metadata": {
    "scrolled": true
   },
   "outputs": [
    {
     "name": "stdout",
     "output_type": "stream",
     "text": [
      "# this is a (short) python script that prints out \"Hello, World!\"\n",
      "\n",
      "print(\"Hello, World!\")\n"
     ]
    }
   ],
   "source": [
    "for line in open(\"sample_tree/hello_world.py\"):\n",
    "    print(line,end=\"\")"
   ]
  },
  {
   "cell_type": "markdown",
   "id": "random-siemens",
   "metadata": {},
   "source": [
    "## Anaconda"
   ]
  },
  {
   "cell_type": "markdown",
   "id": "reduced-selection",
   "metadata": {},
   "source": [
    "There are many different ways to install python (e.g. a distribution manager such as homebrew on iOS or apt on Ubuntu.) The most convenient is with Anaconda (link at top), which provides a multitude of standard packages at installation for easy use (and access to many more by installing them if you turn out to need them!)\n",
    "\n",
    "Let's move into breakout rooms and start setting up Anaconda installations."
   ]
  },
  {
   "cell_type": "markdown",
   "id": "contrary-queue",
   "metadata": {},
   "source": [
    "## Python Review"
   ]
  },
  {
   "cell_type": "markdown",
   "id": "pressed-commonwealth",
   "metadata": {},
   "source": [
    "### Variable Types"
   ]
  },
  {
   "cell_type": "markdown",
   "id": "legendary-basis",
   "metadata": {
    "id": "lw5N2ejS9UHE"
   },
   "source": [
    "There are many different types of variables, and in fact you can create your own. Many are constructed out of just a few basic variable types."
   ]
  },
  {
   "cell_type": "code",
   "execution_count": null,
   "id": "victorian-pixel",
   "metadata": {
    "id": "1woVj72k9V_O"
   },
   "outputs": [],
   "source": [
    "# strings represent a group of characters\n",
    "string_variable = 'this is a sentence.'\n",
    "\n",
    "# integers represent whole numbers\n",
    "int_variable = 1\n",
    "\n",
    "# floats represent decimals\n",
    "float_variable = 4.5\n",
    "float_variable_2 = 4.2\n",
    "\n",
    "\n",
    "# bools represent true/false values\n",
    "bool_variable = True\n"
   ]
  },
  {
   "cell_type": "markdown",
   "id": "assisted-tours",
   "metadata": {
    "id": "Vw9TSPNhd3i1"
   },
   "source": [
    "We can see the type of a variable with the type() function."
   ]
  },
  {
   "cell_type": "code",
   "execution_count": null,
   "id": "acoustic-ethics",
   "metadata": {
    "colab": {
     "base_uri": "https://localhost:8080/",
     "height": 85
    },
    "executionInfo": {
     "elapsed": 427,
     "status": "ok",
     "timestamp": 1594252987728,
     "user": {
      "displayName": "monica roberson",
      "photoUrl": "",
      "userId": "12493745571037541376"
     },
     "user_tz": 240
    },
    "id": "-KUFe_JXd7eg",
    "outputId": "291b17a0-78d2-49ac-af17-ce325104ab60"
   },
   "outputs": [
    {
     "name": "stdout",
     "output_type": "stream",
     "text": [
      "<class 'str'>\n",
      "<class 'int'>\n",
      "<class 'float'>\n",
      "<class 'bool'>\n"
     ]
    }
   ],
   "source": [
    "print(type(string_variable))\n",
    "print(type(int_variable))\n",
    "print(type(float_variable))\n",
    "print(type(bool_variable))"
   ]
  },
  {
   "cell_type": "markdown",
   "id": "tested-orchestra",
   "metadata": {
    "id": "mI_tRcXobwhZ"
   },
   "source": [
    "We can cast between variable types using type names. Casting a float to an int drops the decimal part (*truncates*). This is not the same as rounding."
   ]
  },
  {
   "cell_type": "code",
   "execution_count": null,
   "id": "metallic-forth",
   "metadata": {
    "colab": {
     "base_uri": "https://localhost:8080/",
     "height": 68
    },
    "executionInfo": {
     "elapsed": 2359,
     "status": "ok",
     "timestamp": 1594253275222,
     "user": {
      "displayName": "monica roberson",
      "photoUrl": "",
      "userId": "12493745571037541376"
     },
     "user_tz": 240
    },
    "id": "86P-rm9YbugF",
    "outputId": "4ecee216-f824-48f1-af35-5cefe9762d5a"
   },
   "outputs": [
    {
     "name": "stdout",
     "output_type": "stream",
     "text": [
      "4\n",
      "4\n",
      "5\n"
     ]
    }
   ],
   "source": [
    "# dropping decimals gives us 3\n",
    "print(int(float_variable))\n",
    "\n",
    "# 4.999 does not round to 5!\n",
    "print(int(4.9999))\n",
    "\n",
    "# we can round by adding 0.5 before truncation\n",
    "print(int(4.999 + 0.5))"
   ]
  },
  {
   "cell_type": "markdown",
   "id": "appointed-ontario",
   "metadata": {
    "id": "-vOnB3HLcpCZ"
   },
   "source": [
    "Python lets you use variables without explicitly specifying the type of each one (we say that Python as a language uses *soft typing*), but sometimes it guesses incorrectly about what you intend the type of a variable to be.\n",
    "\n",
    "You can help it out by adding a decimal point to a whole number if you want it to be a float."
   ]
  },
  {
   "cell_type": "code",
   "execution_count": null,
   "id": "standing-melbourne",
   "metadata": {
    "colab": {
     "base_uri": "https://localhost:8080/",
     "height": 85
    },
    "executionInfo": {
     "elapsed": 758,
     "status": "ok",
     "timestamp": 1594253373322,
     "user": {
      "displayName": "monica roberson",
      "photoUrl": "",
      "userId": "12493745571037541376"
     },
     "user_tz": 240
    },
    "id": "pXfsghhpdkE6",
    "outputId": "225e7778-3109-4161-8934-b870f4c6937d"
   },
   "outputs": [
    {
     "name": "stdout",
     "output_type": "stream",
     "text": [
      "<class 'int'>\n",
      "<class 'float'>\n",
      "<class 'int'>\n",
      "<class 'float'>\n"
     ]
    }
   ],
   "source": [
    "# python thinks this variable is an integer\n",
    "var = 3\n",
    "print(type(var))\n",
    "\n",
    "# it will think it is a float if we add the decimal point\n",
    "var = 3.\n",
    "print(type(var))\n"
   ]
  },
  {
   "cell_type": "markdown",
   "id": "determined-sacramento",
   "metadata": {
    "id": "7CJZ2m8peKIP"
   },
   "source": [
    "If different variables are combined, Python has rules for what the output is. For instance, adding a float to an int gives you a float, even if the result is a whole number.\n",
    "\n",
    "This is because python stores floats and ints differently. It is unable to detect when a float happens to be a whole number value."
   ]
  },
  {
   "cell_type": "code",
   "execution_count": null,
   "id": "median-startup",
   "metadata": {
    "colab": {
     "base_uri": "https://localhost:8080/",
     "height": 86
    },
    "executionInfo": {
     "elapsed": 857,
     "status": "ok",
     "timestamp": 1593525164364,
     "user": {
      "displayName": "Nick Derr",
      "photoUrl": "",
      "userId": "09936509318349382167"
     },
     "user_tz": 240
    },
    "id": "8saAJqbJeTWY",
    "outputId": "8db0052c-93f7-4463-f800-226f4ce2f7d9"
   },
   "outputs": [
    {
     "name": "stdout",
     "output_type": "stream",
     "text": [
      "<class 'float'>\n",
      "4.0\n",
      "<class 'float'>\n",
      "4\n"
     ]
    }
   ],
   "source": [
    "# adding a float and an int produces a float\n",
    "sum = 1.5 + 2\n",
    "print(type(sum))\n",
    "\n",
    "# ...even if the sum is an integer\n",
    "sum = 1.5 + 2.5\n",
    "print(sum)\n",
    "print(type(sum))\n",
    "\n",
    "# we can cast it to an int\n",
    "print(int(sum+0.5))\n",
    "\n",
    "# why did I add a 0.5? Because of the way floats are\n",
    "# stored, python could have recorded sum with a value of\n",
    "# something like 3.999999999999999999999999, so it\n",
    "# could have truncated to 3!"
   ]
  },
  {
   "cell_type": "markdown",
   "id": "circular-feelings",
   "metadata": {
    "id": "fBv9cIXwfBEk"
   },
   "source": [
    "Some variables don't have automatic rules for combining. If this is true and they're used in a way that python can't make sense of, we'll generate a TypeError."
   ]
  },
  {
   "cell_type": "code",
   "execution_count": null,
   "id": "viral-commercial",
   "metadata": {
    "colab": {
     "base_uri": "https://localhost:8080/",
     "height": 184
    },
    "executionInfo": {
     "elapsed": 760,
     "status": "error",
     "timestamp": 1593524919774,
     "user": {
      "displayName": "Nick Derr",
      "photoUrl": "",
      "userId": "09936509318349382167"
     },
     "user_tz": 240
    },
    "id": "20WQKo3O9taM",
    "outputId": "9a1b0d0c-b8f7-4251-ac47-445a02669608"
   },
   "outputs": [
    {
     "ename": "TypeError",
     "evalue": "ignored",
     "output_type": "error",
     "traceback": [
      "\u001b[0;31m---------------------------------------------------------------------------\u001b[0m",
      "\u001b[0;31mTypeError\u001b[0m                                 Traceback (most recent call last)",
      "\u001b[0;32m<ipython-input-220-69a06d88a8b7>\u001b[0m in \u001b[0;36m<module>\u001b[0;34m()\u001b[0m\n\u001b[1;32m      1\u001b[0m \u001b[0;31m# throws TypeError if uncommented\u001b[0m\u001b[0;34m\u001b[0m\u001b[0;34m\u001b[0m\u001b[0;34m\u001b[0m\u001b[0m\n\u001b[0;32m----> 2\u001b[0;31m \u001b[0mint_variable\u001b[0m \u001b[0;34m+\u001b[0m \u001b[0mstring_variable\u001b[0m\u001b[0;34m\u001b[0m\u001b[0;34m\u001b[0m\u001b[0m\n\u001b[0m",
      "\u001b[0;31mTypeError\u001b[0m: unsupported operand type(s) for +: 'int' and 'str'"
     ]
    }
   ],
   "source": [
    "# throws TypeError if uncommented\n",
    "int_variable + string_variable"
   ]
  },
  {
   "cell_type": "markdown",
   "id": "coastal-cleaning",
   "metadata": {
    "id": "WHB9YSTW9GsG"
   },
   "source": [
    "We can cast numeric values to strings in the same way we cast floats to ints and vice versa. This is what's happening under the hood (*implicit type conversion*) when we pass an int or a float to the print function."
   ]
  },
  {
   "cell_type": "code",
   "execution_count": null,
   "id": "adult-jones",
   "metadata": {
    "colab": {
     "base_uri": "https://localhost:8080/",
     "height": 119
    },
    "executionInfo": {
     "elapsed": 443,
     "status": "ok",
     "timestamp": 1594253539669,
     "user": {
      "displayName": "monica roberson",
      "photoUrl": "",
      "userId": "12493745571037541376"
     },
     "user_tz": 240
    },
    "id": "cJ-bmq0Gfi_5",
    "outputId": "f7250699-7897-4f15-920f-f2f6f04ab9a0"
   },
   "outputs": [
    {
     "name": "stdout",
     "output_type": "stream",
     "text": [
      "4.5\n",
      "1\n",
      "True\n",
      "4.5\n",
      "1\n",
      "True\n"
     ]
    }
   ],
   "source": [
    "# these will print the same things, because python is\n",
    "# performing the same actions behind the scences\n",
    "print(float_variable)\n",
    "print(int_variable)\n",
    "print(bool_variable)\n",
    "print(str(float_variable))\n",
    "print(str(int_variable))\n",
    "print(str(bool_variable))"
   ]
  },
  {
   "cell_type": "markdown",
   "id": "metallic-laugh",
   "metadata": {
    "id": "faHH1Zx7gqC6"
   },
   "source": [
    "Implicit type conversion is easy and convenient, but Python has a better set of tools for choosing how to format the output of non-string variables."
   ]
  },
  {
   "cell_type": "markdown",
   "id": "hybrid-transformation",
   "metadata": {},
   "source": [
    "There is another special variable type, NoneType, which has only one value: \\\"None\\\". This plays the roll of \\\"null\\\" in other programming languages, indicating being unset or an absence of being anything at all."
   ]
  },
  {
   "cell_type": "code",
   "execution_count": 10,
   "id": "closing-intensity",
   "metadata": {},
   "outputs": [
    {
     "name": "stdout",
     "output_type": "stream",
     "text": [
      "<class 'int'>\n",
      "<class 'NoneType'>\n"
     ]
    }
   ],
   "source": [
    "not_None = 5\n",
    "yes_None = None\n",
    "\n",
    "print(type(not_None))\n",
    "print(type(yes_None))"
   ]
  },
  {
   "cell_type": "markdown",
   "id": "sustainable-jonathan",
   "metadata": {
    "id": "cRfAMLtjIyUv"
   },
   "source": [
    "## Printing\n",
    "\n",
    "Python3 uses the print() function to print the specified message to the screen or to another standard output device."
   ]
  },
  {
   "cell_type": "code",
   "execution_count": null,
   "id": "editorial-notion",
   "metadata": {
    "colab": {
     "base_uri": "https://localhost:8080/",
     "height": 34
    },
    "executionInfo": {
     "elapsed": 865,
     "status": "ok",
     "timestamp": 1594253681186,
     "user": {
      "displayName": "monica roberson",
      "photoUrl": "",
      "userId": "12493745571037541376"
     },
     "user_tz": 240
    },
    "id": "NxCO7bqeJVEh",
    "outputId": "1b8438de-63d8-4332-b4f4-f699bdca5033"
   },
   "outputs": [
    {
     "name": "stdout",
     "output_type": "stream",
     "text": [
      "Hello my name is Priya\n"
     ]
    }
   ],
   "source": [
    "# print a string\n",
    "x = \"Hello my name is Nick\"\n",
    "\n",
    "print(x)\n"
   ]
  },
  {
   "cell_type": "markdown",
   "id": "ceramic-malta",
   "metadata": {
    "id": "03MvBlmLJjS4"
   },
   "source": [
    "Print 2 messages with a separator specified:"
   ]
  },
  {
   "cell_type": "code",
   "execution_count": null,
   "id": "opened-philippines",
   "metadata": {
    "colab": {
     "base_uri": "https://localhost:8080/",
     "height": 34
    },
    "executionInfo": {
     "elapsed": 723,
     "status": "ok",
     "timestamp": 1594253780237,
     "user": {
      "displayName": "monica roberson",
      "photoUrl": "",
      "userId": "12493745571037541376"
     },
     "user_tz": 240
    },
    "id": "fCAXfXPQJoB4",
    "outputId": "509a1311-1f0a-4ad9-f8a5-88a9bd4fae7f"
   },
   "outputs": [
    {
     "name": "stdout",
     "output_type": "stream",
     "text": [
      "Hello my name is:Priya\n"
     ]
    }
   ],
   "source": [
    "greeting = \"Hello my name is\"\n",
    "name = \"Nick\"\n",
    "print(greeting, name, sep=\":\")\n",
    "\n"
   ]
  },
  {
   "cell_type": "markdown",
   "id": "younger-hardwood",
   "metadata": {
    "id": "UQV-CL_9JveK"
   },
   "source": [
    "The string .format() method can be used to pass variables into an otherwise constant string, using the {} placeholder."
   ]
  },
  {
   "cell_type": "code",
   "execution_count": 29,
   "id": "searching-military",
   "metadata": {
    "colab": {
     "base_uri": "https://localhost:8080/",
     "height": 34
    },
    "executionInfo": {
     "elapsed": 843,
     "status": "ok",
     "timestamp": 1594254436545,
     "user": {
      "displayName": "monica roberson",
      "photoUrl": "",
      "userId": "12493745571037541376"
     },
     "user_tz": 240
    },
    "id": "MEFj2XkZKGO0",
    "outputId": "1729b135-0ef4-48d1-af9c-f1fa61ea19e4"
   },
   "outputs": [
    {
     "name": "stdout",
     "output_type": "stream",
     "text": [
      "Hello my name is Nick, and I'm a G5 in the Applied Math program.\n"
     ]
    }
   ],
   "source": [
    "# basic usage, each {} is filled with the next item in the specified values of .format() \n",
    "text_format_1 = \"Hello my name is {}, and I'm a G{} in the {} program.\".format(\"Nick\", 5, \"Applied Math\")\n",
    "print(text_format_1)\n"
   ]
  },
  {
   "cell_type": "markdown",
   "id": "private-somewhere",
   "metadata": {
    "id": "fYA173r-PCna"
   },
   "source": [
    "The placeholders can be specified with variable names.\n",
    "Note that they DON'T have to be in order!"
   ]
  },
  {
   "cell_type": "code",
   "execution_count": null,
   "id": "moved-democracy",
   "metadata": {
    "colab": {
     "base_uri": "https://localhost:8080/",
     "height": 34
    },
    "executionInfo": {
     "elapsed": 494,
     "status": "ok",
     "timestamp": 1593538538983,
     "user": {
      "displayName": "Priya Veeraraghavan",
      "photoUrl": "https://lh3.googleusercontent.com/a-/AOh14GiC8c03Ty3XKDty3DqTKr7bxSDNQZre0H-fZPlOY3fne-zbRvJZRExmDbpp1HuyjPwUTszr8eohaXax7v8ZO8G9Hx5_DQURFtcHp9Sd2jiDzs-n_pahskGXi9soJHJCZjo32qWxji2jZusaXnNHhi3Yq92OLBacLlrnIWNqz6rh_dVTs5_Rp5FdLDOu6PG9XLPF1Q36SGrG7qQWIGA7gPPbax7RpQpfmuTHQcWarbHEFIUXavMEVY2RVCxvl2nvsZlAJGDVzI0Qy6kaRAwrOw1YWtHrAq1N5qm98nun8F0fZPIRLS1wdvbz3r7PVmCcQ3rPHanJGgdyaakZ4FMfxMacDqDeuBaFJOo16cOqPFuPVf7Lum9g0RfUpQfp4yd4EHWB2Bw7ub2WwUnwm7yOPQ-ktR_RcMMrg3i4EMjT5v_fpLm48bfDflqB6wYz3FuKPMEPG9Ty7aFG5bk4_TmJE94TALuuk-kFAEhR55xQk6ovaHtvP2lI0jn7jQLzMJ96NQG49Dr1a6WdRqodogWurSBOBvy2adtJfrAnzXsBTKMfHqocb9xPsZWEptfLw9vKZJ28BtsTWmj9ni15E_bkgSvMssYYdKGU-txtXtExaRLkfuwkE981dC75B8Olg1W76Vg7qk6cFdJCD96K6_OxGUMTkNQ2N2dfSZzrCJ5iKgb3Z2AhPzg7Di_TAy4uYOeiyvXyF_GFMYxzc8jSk6aXO2LpUn7fsXMj4-BqnzZNI6vPWBAFeE_FL77pgQlQjn32VGTnzg=s64",
      "userId": "10950794880338920839"
     },
     "user_tz": 240
    },
    "id": "8F3ClXmAPHgX",
    "outputId": "2fa4ffae-02fa-439b-e849-0d2335e687f8"
   },
   "outputs": [
    {
     "name": "stdout",
     "output_type": "stream",
     "text": [
      "Hello my name is Priya, and I'm a G3 in the BBS program.\n"
     ]
    }
   ],
   "source": [
    "text_format_2 = \"Hello my name is {name}, and I'm a G{year} in the {program} program.\".format(name=\"Nick\", program=\"BBS\",  year=3)\n",
    "print(text_format_2)\n"
   ]
  },
  {
   "cell_type": "markdown",
   "id": "human-budapest",
   "metadata": {
    "id": "FUJYfmVzPU8H"
   },
   "source": [
    "The precise format of the placeholder value can also be specified. Often it suffices to use:\n",
    "- {:d} (for integers)\n",
    "- {:g} (for floats using \\\"most convenient\\\" notation)\n",
    "- {:s} (for strings)\n",
    "\n",
    "\n",
    "More details on format types here: https://www.w3schools.com/python/ref_string_format.asp\n"
   ]
  },
  {
   "cell_type": "code",
   "execution_count": 31,
   "id": "interpreted-apple",
   "metadata": {},
   "outputs": [
    {
     "name": "stdout",
     "output_type": "stream",
     "text": [
      "3 ducks give 2.2 pounds of mosquito repellent to my dog\n"
     ]
    }
   ],
   "source": [
    "print(\"{:d} ducks give {:g} pounds of {:s} to my dog\".format(3,2.2,\"mosquito repellent\"))"
   ]
  },
  {
   "cell_type": "markdown",
   "id": "periodic-aggregate",
   "metadata": {
    "id": "b-pcNRJ3PjFW"
   },
   "source": [
    "Importantly, the placeholder format has to match the given value. Otherwise, ValueError will be thrown."
   ]
  },
  {
   "cell_type": "code",
   "execution_count": 30,
   "id": "built-material",
   "metadata": {
    "colab": {
     "base_uri": "https://localhost:8080/",
     "height": 34
    },
    "executionInfo": {
     "elapsed": 760,
     "status": "ok",
     "timestamp": 1594254899232,
     "user": {
      "displayName": "monica roberson",
      "photoUrl": "",
      "userId": "12493745571037541376"
     },
     "user_tz": 240
    },
    "id": "CcEKrgrxPowt",
    "outputId": "95985057-0b7e-4730-ae13-995f4e1ebd8d",
    "scrolled": true
   },
   "outputs": [
    {
     "ename": "ValueError",
     "evalue": "Unknown format code 's' for object of type 'int'",
     "output_type": "error",
     "traceback": [
      "\u001b[0;31m---------------------------------------------------------------------------\u001b[0m",
      "\u001b[0;31mValueError\u001b[0m                                Traceback (most recent call last)",
      "\u001b[0;32m<ipython-input-30-2ccb530ca489>\u001b[0m in \u001b[0;36m<module>\u001b[0;34m\u001b[0m\n\u001b[0;32m----> 1\u001b[0;31m \u001b[0mtext_format_6\u001b[0m \u001b[0;34m=\u001b[0m \u001b[0;34m\"The year is {:s}\"\u001b[0m\u001b[0;34m.\u001b[0m\u001b[0mformat\u001b[0m\u001b[0;34m(\u001b[0m\u001b[0;36m2020\u001b[0m\u001b[0;34m)\u001b[0m\u001b[0;34m\u001b[0m\u001b[0;34m\u001b[0m\u001b[0m\n\u001b[0m\u001b[1;32m      2\u001b[0m \u001b[0mprint\u001b[0m\u001b[0;34m(\u001b[0m\u001b[0mtext_format_6\u001b[0m\u001b[0;34m)\u001b[0m\u001b[0;34m\u001b[0m\u001b[0;34m\u001b[0m\u001b[0m\n",
      "\u001b[0;31mValueError\u001b[0m: Unknown format code 's' for object of type 'int'"
     ]
    }
   ],
   "source": [
    "text_format_6 = \"The year is {:s}\".format(2020)\n",
    "print(text_format_6)"
   ]
  },
  {
   "cell_type": "markdown",
   "id": "restricted-sense",
   "metadata": {
    "id": "_pbpuXgsQjjr"
   },
   "source": [
    "### Containers\n",
    "\n",
    "Python has many ways of representing groups of variables in what are called \"data structures\". Data structures include tuples, lists, sets, and dictionaries. These structures differ based on order (are the elements of the structure in a defined order?), how the elements are accessed, and whether the structure can be changed (mutability). We'll go through each of the structures below."
   ]
  },
  {
   "cell_type": "markdown",
   "id": "leading-seventh",
   "metadata": {
    "id": "Rlw8ioPqGvgv"
   },
   "source": [
    "#### Tuples\n",
    "\n",
    "A tuple is an ordered sequence of elements. Neither the order nor the values can change: we call this *immutable*. Tuples are represented with parentheses.\n"
   ]
  },
  {
   "cell_type": "code",
   "execution_count": null,
   "id": "inclusive-platform",
   "metadata": {
    "colab": {
     "base_uri": "https://localhost:8080/",
     "height": 68
    },
    "executionInfo": {
     "elapsed": 765,
     "status": "ok",
     "timestamp": 1593539131732,
     "user": {
      "displayName": "Priya Veeraraghavan",
      "photoUrl": "https://lh3.googleusercontent.com/a-/AOh14GiC8c03Ty3XKDty3DqTKr7bxSDNQZre0H-fZPlOY3fne-zbRvJZRExmDbpp1HuyjPwUTszr8eohaXax7v8ZO8G9Hx5_DQURFtcHp9Sd2jiDzs-n_pahskGXi9soJHJCZjo32qWxji2jZusaXnNHhi3Yq92OLBacLlrnIWNqz6rh_dVTs5_Rp5FdLDOu6PG9XLPF1Q36SGrG7qQWIGA7gPPbax7RpQpfmuTHQcWarbHEFIUXavMEVY2RVCxvl2nvsZlAJGDVzI0Qy6kaRAwrOw1YWtHrAq1N5qm98nun8F0fZPIRLS1wdvbz3r7PVmCcQ3rPHanJGgdyaakZ4FMfxMacDqDeuBaFJOo16cOqPFuPVf7Lum9g0RfUpQfp4yd4EHWB2Bw7ub2WwUnwm7yOPQ-ktR_RcMMrg3i4EMjT5v_fpLm48bfDflqB6wYz3FuKPMEPG9Ty7aFG5bk4_TmJE94TALuuk-kFAEhR55xQk6ovaHtvP2lI0jn7jQLzMJ96NQG49Dr1a6WdRqodogWurSBOBvy2adtJfrAnzXsBTKMfHqocb9xPsZWEptfLw9vKZJ28BtsTWmj9ni15E_bkgSvMssYYdKGU-txtXtExaRLkfuwkE981dC75B8Olg1W76Vg7qk6cFdJCD96K6_OxGUMTkNQ2N2dfSZzrCJ5iKgb3Z2AhPzg7Di_TAy4uYOeiyvXyF_GFMYxzc8jSk6aXO2LpUn7fsXMj4-BqnzZNI6vPWBAFeE_FL77pgQlQjn32VGTnzg=s64",
      "userId": "10950794880338920839"
     },
     "user_tz": 240
    },
    "id": "GrQ6Ar3BHNsB",
    "outputId": "c75c452e-cf37-478a-b740-a16affbe20da"
   },
   "outputs": [
    {
     "name": "stdout",
     "output_type": "stream",
     "text": [
      "empty_tuple: ()\n",
      "nonempty tuple: ('REU', 'Summer', 2020)\n",
      "((), ('REU', 'Summer', 2020))\n"
     ]
    }
   ],
   "source": [
    "empty_tuple = ()\n",
    "nonempty_tuple = (\"REU\", \"Summer\", 2020)\n",
    "\n",
    "nonempty_tuple_2 = (empty_tuple, nonempty_tuple)\n",
    "\n",
    "print(\"empty_tuple:\", empty_tuple)\n",
    "print(\"nonempty tuple:\", nonempty_tuple)\n",
    "print(nonempty_tuple_2)"
   ]
  },
  {
   "cell_type": "markdown",
   "id": "emotional-perfume",
   "metadata": {
    "id": "_Y3lUIDSSevF"
   },
   "source": [
    "Accessing data: tuples let you read data if you know where it is in the tuple (\"indexing\"). All base Python data structures are \"0\"-indexed, which means that the first element is at index 0."
   ]
  },
  {
   "cell_type": "code",
   "execution_count": null,
   "id": "behind-defensive",
   "metadata": {
    "colab": {
     "base_uri": "https://localhost:8080/",
     "height": 34
    },
    "executionInfo": {
     "elapsed": 466,
     "status": "ok",
     "timestamp": 1593539263664,
     "user": {
      "displayName": "Priya Veeraraghavan",
      "photoUrl": "https://lh3.googleusercontent.com/a-/AOh14GiC8c03Ty3XKDty3DqTKr7bxSDNQZre0H-fZPlOY3fne-zbRvJZRExmDbpp1HuyjPwUTszr8eohaXax7v8ZO8G9Hx5_DQURFtcHp9Sd2jiDzs-n_pahskGXi9soJHJCZjo32qWxji2jZusaXnNHhi3Yq92OLBacLlrnIWNqz6rh_dVTs5_Rp5FdLDOu6PG9XLPF1Q36SGrG7qQWIGA7gPPbax7RpQpfmuTHQcWarbHEFIUXavMEVY2RVCxvl2nvsZlAJGDVzI0Qy6kaRAwrOw1YWtHrAq1N5qm98nun8F0fZPIRLS1wdvbz3r7PVmCcQ3rPHanJGgdyaakZ4FMfxMacDqDeuBaFJOo16cOqPFuPVf7Lum9g0RfUpQfp4yd4EHWB2Bw7ub2WwUnwm7yOPQ-ktR_RcMMrg3i4EMjT5v_fpLm48bfDflqB6wYz3FuKPMEPG9Ty7aFG5bk4_TmJE94TALuuk-kFAEhR55xQk6ovaHtvP2lI0jn7jQLzMJ96NQG49Dr1a6WdRqodogWurSBOBvy2adtJfrAnzXsBTKMfHqocb9xPsZWEptfLw9vKZJ28BtsTWmj9ni15E_bkgSvMssYYdKGU-txtXtExaRLkfuwkE981dC75B8Olg1W76Vg7qk6cFdJCD96K6_OxGUMTkNQ2N2dfSZzrCJ5iKgb3Z2AhPzg7Di_TAy4uYOeiyvXyF_GFMYxzc8jSk6aXO2LpUn7fsXMj4-BqnzZNI6vPWBAFeE_FL77pgQlQjn32VGTnzg=s64",
      "userId": "10950794880338920839"
     },
     "user_tz": 240
    },
    "id": "A4Ynk-JHSkBj",
    "outputId": "a8434455-ce98-4bf8-b621-ee529f35bd5f"
   },
   "outputs": [
    {
     "name": "stdout",
     "output_type": "stream",
     "text": [
      "The third element in the nonempty_tuple is 2020\n"
     ]
    }
   ],
   "source": [
    "print(\"The third element in the nonempty_tuple is {:d}\".format(nonempty_tuple[2]))"
   ]
  },
  {
   "cell_type": "markdown",
   "id": "trying-school",
   "metadata": {
    "id": "ZDOo98zuGqxD"
   },
   "source": [
    "#### Lists\n",
    "\n",
    "A list is an ordered sequence of elements. The order and values can change in specific ways; for this reason, lists are *mutable*. Lists are represented with brackets []."
   ]
  },
  {
   "cell_type": "code",
   "execution_count": null,
   "id": "activated-spending",
   "metadata": {
    "id": "2QuSpleJBQkx"
   },
   "outputs": [],
   "source": [
    "list_same = [1,3,5,2,3]\n",
    "list_mix  = [1,'banana',-43/2,False]"
   ]
  },
  {
   "cell_type": "markdown",
   "id": "sacred-reggae",
   "metadata": {
    "id": "Eu7CMcb7XAHb"
   },
   "source": [
    "You can find the length of the list using the len() function"
   ]
  },
  {
   "cell_type": "code",
   "execution_count": null,
   "id": "standing-experience",
   "metadata": {
    "colab": {
     "base_uri": "https://localhost:8080/",
     "height": 51
    },
    "executionInfo": {
     "elapsed": 508,
     "status": "ok",
     "timestamp": 1593539399695,
     "user": {
      "displayName": "Priya Veeraraghavan",
      "photoUrl": "https://lh3.googleusercontent.com/a-/AOh14GiC8c03Ty3XKDty3DqTKr7bxSDNQZre0H-fZPlOY3fne-zbRvJZRExmDbpp1HuyjPwUTszr8eohaXax7v8ZO8G9Hx5_DQURFtcHp9Sd2jiDzs-n_pahskGXi9soJHJCZjo32qWxji2jZusaXnNHhi3Yq92OLBacLlrnIWNqz6rh_dVTs5_Rp5FdLDOu6PG9XLPF1Q36SGrG7qQWIGA7gPPbax7RpQpfmuTHQcWarbHEFIUXavMEVY2RVCxvl2nvsZlAJGDVzI0Qy6kaRAwrOw1YWtHrAq1N5qm98nun8F0fZPIRLS1wdvbz3r7PVmCcQ3rPHanJGgdyaakZ4FMfxMacDqDeuBaFJOo16cOqPFuPVf7Lum9g0RfUpQfp4yd4EHWB2Bw7ub2WwUnwm7yOPQ-ktR_RcMMrg3i4EMjT5v_fpLm48bfDflqB6wYz3FuKPMEPG9Ty7aFG5bk4_TmJE94TALuuk-kFAEhR55xQk6ovaHtvP2lI0jn7jQLzMJ96NQG49Dr1a6WdRqodogWurSBOBvy2adtJfrAnzXsBTKMfHqocb9xPsZWEptfLw9vKZJ28BtsTWmj9ni15E_bkgSvMssYYdKGU-txtXtExaRLkfuwkE981dC75B8Olg1W76Vg7qk6cFdJCD96K6_OxGUMTkNQ2N2dfSZzrCJ5iKgb3Z2AhPzg7Di_TAy4uYOeiyvXyF_GFMYxzc8jSk6aXO2LpUn7fsXMj4-BqnzZNI6vPWBAFeE_FL77pgQlQjn32VGTnzg=s64",
      "userId": "10950794880338920839"
     },
     "user_tz": 240
    },
    "id": "ycaFsS5EXDwW",
    "outputId": "abbcc1f9-1e28-42c6-eb49-b16e892a7fe8"
   },
   "outputs": [
    {
     "name": "stdout",
     "output_type": "stream",
     "text": [
      "The length of list_same is 5\n",
      "The length of list_mix is 4\n"
     ]
    }
   ],
   "source": [
    "print(\"The length of list_same is {:d}\".format(len(list_same)))\n",
    "print(\"The length of list_mix is {:d}\".format(len(list_mix)))"
   ]
  },
  {
   "cell_type": "markdown",
   "id": "thorough-finger",
   "metadata": {
    "id": "q__3cQJbCcHX"
   },
   "source": [
    "Accessing data: lists let you quickly read data if you know where it is in the list (\"indexing\")"
   ]
  },
  {
   "cell_type": "code",
   "execution_count": null,
   "id": "south-chinese",
   "metadata": {
    "colab": {
     "base_uri": "https://localhost:8080/",
     "height": 51
    },
    "executionInfo": {
     "elapsed": 473,
     "status": "ok",
     "timestamp": 1593539474569,
     "user": {
      "displayName": "Priya Veeraraghavan",
      "photoUrl": "https://lh3.googleusercontent.com/a-/AOh14GiC8c03Ty3XKDty3DqTKr7bxSDNQZre0H-fZPlOY3fne-zbRvJZRExmDbpp1HuyjPwUTszr8eohaXax7v8ZO8G9Hx5_DQURFtcHp9Sd2jiDzs-n_pahskGXi9soJHJCZjo32qWxji2jZusaXnNHhi3Yq92OLBacLlrnIWNqz6rh_dVTs5_Rp5FdLDOu6PG9XLPF1Q36SGrG7qQWIGA7gPPbax7RpQpfmuTHQcWarbHEFIUXavMEVY2RVCxvl2nvsZlAJGDVzI0Qy6kaRAwrOw1YWtHrAq1N5qm98nun8F0fZPIRLS1wdvbz3r7PVmCcQ3rPHanJGgdyaakZ4FMfxMacDqDeuBaFJOo16cOqPFuPVf7Lum9g0RfUpQfp4yd4EHWB2Bw7ub2WwUnwm7yOPQ-ktR_RcMMrg3i4EMjT5v_fpLm48bfDflqB6wYz3FuKPMEPG9Ty7aFG5bk4_TmJE94TALuuk-kFAEhR55xQk6ovaHtvP2lI0jn7jQLzMJ96NQG49Dr1a6WdRqodogWurSBOBvy2adtJfrAnzXsBTKMfHqocb9xPsZWEptfLw9vKZJ28BtsTWmj9ni15E_bkgSvMssYYdKGU-txtXtExaRLkfuwkE981dC75B8Olg1W76Vg7qk6cFdJCD96K6_OxGUMTkNQ2N2dfSZzrCJ5iKgb3Z2AhPzg7Di_TAy4uYOeiyvXyF_GFMYxzc8jSk6aXO2LpUn7fsXMj4-BqnzZNI6vPWBAFeE_FL77pgQlQjn32VGTnzg=s64",
      "userId": "10950794880338920839"
     },
     "user_tz": 240
    },
    "id": "qPQyy-DlCbnu",
    "outputId": "503e4591-ef81-4ff5-fdbd-d3576151ea44"
   },
   "outputs": [
    {
     "name": "stdout",
     "output_type": "stream",
     "text": [
      "the third element of list_same is 5\n",
      "the second element of list_mix is banana\n"
     ]
    }
   ],
   "source": [
    "print('the third element of list_same is {:d}'.format(list_same[2]))\n",
    "print('the second element of list_mix is {:s}'.format(list_mix[1]))"
   ]
  },
  {
   "cell_type": "markdown",
   "id": "undefined-negotiation",
   "metadata": {
    "id": "iknc0B7uC8lK"
   },
   "source": [
    "We can also lookup data from the back"
   ]
  },
  {
   "cell_type": "code",
   "execution_count": null,
   "id": "italic-remainder",
   "metadata": {
    "colab": {
     "base_uri": "https://localhost:8080/",
     "height": 51
    },
    "executionInfo": {
     "elapsed": 480,
     "status": "ok",
     "timestamp": 1593539522386,
     "user": {
      "displayName": "Priya Veeraraghavan",
      "photoUrl": "https://lh3.googleusercontent.com/a-/AOh14GiC8c03Ty3XKDty3DqTKr7bxSDNQZre0H-fZPlOY3fne-zbRvJZRExmDbpp1HuyjPwUTszr8eohaXax7v8ZO8G9Hx5_DQURFtcHp9Sd2jiDzs-n_pahskGXi9soJHJCZjo32qWxji2jZusaXnNHhi3Yq92OLBacLlrnIWNqz6rh_dVTs5_Rp5FdLDOu6PG9XLPF1Q36SGrG7qQWIGA7gPPbax7RpQpfmuTHQcWarbHEFIUXavMEVY2RVCxvl2nvsZlAJGDVzI0Qy6kaRAwrOw1YWtHrAq1N5qm98nun8F0fZPIRLS1wdvbz3r7PVmCcQ3rPHanJGgdyaakZ4FMfxMacDqDeuBaFJOo16cOqPFuPVf7Lum9g0RfUpQfp4yd4EHWB2Bw7ub2WwUnwm7yOPQ-ktR_RcMMrg3i4EMjT5v_fpLm48bfDflqB6wYz3FuKPMEPG9Ty7aFG5bk4_TmJE94TALuuk-kFAEhR55xQk6ovaHtvP2lI0jn7jQLzMJ96NQG49Dr1a6WdRqodogWurSBOBvy2adtJfrAnzXsBTKMfHqocb9xPsZWEptfLw9vKZJ28BtsTWmj9ni15E_bkgSvMssYYdKGU-txtXtExaRLkfuwkE981dC75B8Olg1W76Vg7qk6cFdJCD96K6_OxGUMTkNQ2N2dfSZzrCJ5iKgb3Z2AhPzg7Di_TAy4uYOeiyvXyF_GFMYxzc8jSk6aXO2LpUn7fsXMj4-BqnzZNI6vPWBAFeE_FL77pgQlQjn32VGTnzg=s64",
      "userId": "10950794880338920839"
     },
     "user_tz": 240
    },
    "id": "bkH8RX5NC_Oc",
    "outputId": "ee293885-a9c5-4b11-94af-f153ec36ca1c"
   },
   "outputs": [
    {
     "name": "stdout",
     "output_type": "stream",
     "text": [
      "the last element of list_same is 3\n",
      "the second-to-last element of list_mix is -21.500000\n"
     ]
    }
   ],
   "source": [
    "print('the last element of list_same is {:d}'.format(list_same[-1]))\n",
    "print('the second-to-last element of list_mix is {:f}'.format(list_mix[-2]))"
   ]
  },
  {
   "cell_type": "markdown",
   "id": "color-carbon",
   "metadata": {
    "id": "n375U_iTUmYF"
   },
   "source": [
    "Reversing the list can be achieved with the .reverse() command. Note that this doesn't return anything, just modifies the original list."
   ]
  },
  {
   "cell_type": "code",
   "execution_count": null,
   "id": "personal-enclosure",
   "metadata": {
    "colab": {
     "base_uri": "https://localhost:8080/",
     "height": 68
    },
    "executionInfo": {
     "elapsed": 478,
     "status": "ok",
     "timestamp": 1593540116187,
     "user": {
      "displayName": "Priya Veeraraghavan",
      "photoUrl": "https://lh3.googleusercontent.com/a-/AOh14GiC8c03Ty3XKDty3DqTKr7bxSDNQZre0H-fZPlOY3fne-zbRvJZRExmDbpp1HuyjPwUTszr8eohaXax7v8ZO8G9Hx5_DQURFtcHp9Sd2jiDzs-n_pahskGXi9soJHJCZjo32qWxji2jZusaXnNHhi3Yq92OLBacLlrnIWNqz6rh_dVTs5_Rp5FdLDOu6PG9XLPF1Q36SGrG7qQWIGA7gPPbax7RpQpfmuTHQcWarbHEFIUXavMEVY2RVCxvl2nvsZlAJGDVzI0Qy6kaRAwrOw1YWtHrAq1N5qm98nun8F0fZPIRLS1wdvbz3r7PVmCcQ3rPHanJGgdyaakZ4FMfxMacDqDeuBaFJOo16cOqPFuPVf7Lum9g0RfUpQfp4yd4EHWB2Bw7ub2WwUnwm7yOPQ-ktR_RcMMrg3i4EMjT5v_fpLm48bfDflqB6wYz3FuKPMEPG9Ty7aFG5bk4_TmJE94TALuuk-kFAEhR55xQk6ovaHtvP2lI0jn7jQLzMJ96NQG49Dr1a6WdRqodogWurSBOBvy2adtJfrAnzXsBTKMfHqocb9xPsZWEptfLw9vKZJ28BtsTWmj9ni15E_bkgSvMssYYdKGU-txtXtExaRLkfuwkE981dC75B8Olg1W76Vg7qk6cFdJCD96K6_OxGUMTkNQ2N2dfSZzrCJ5iKgb3Z2AhPzg7Di_TAy4uYOeiyvXyF_GFMYxzc8jSk6aXO2LpUn7fsXMj4-BqnzZNI6vPWBAFeE_FL77pgQlQjn32VGTnzg=s64",
      "userId": "10950794880338920839"
     },
     "user_tz": 240
    },
    "id": "wyYXapRYUj8R",
    "outputId": "de92003d-bf7f-43ce-cfa9-19508eea2a53"
   },
   "outputs": [
    {
     "name": "stdout",
     "output_type": "stream",
     "text": [
      "my_list original value: [3, 4, 1, 5, 2]\n",
      "return value of my_list.reverse():  None\n",
      "my_list after .reverse(): [2, 5, 1, 4, 3]\n"
     ]
    }
   ],
   "source": [
    "print(\"my_list original value:\", my_list)\n",
    "\n",
    "# use .reverse()\n",
    "result = my_list.reverse()\n",
    "\n",
    "# the return value of .reverse() is nothing\n",
    "print(\"return value of my_list.reverse(): \", result)\n",
    "\n",
    "# however, my_list has now changed\n",
    "print(\"my_list after .reverse():\", my_list)"
   ]
  },
  {
   "cell_type": "markdown",
   "id": "practical-requirement",
   "metadata": {
    "id": "wuluu7UOU1BB"
   },
   "source": [
    "Sorting the list can be achieved with the .sort() command. Note that this also doesn't return anything, just modifies the original list."
   ]
  },
  {
   "cell_type": "code",
   "execution_count": null,
   "id": "small-architecture",
   "metadata": {
    "colab": {
     "base_uri": "https://localhost:8080/",
     "height": 68
    },
    "executionInfo": {
     "elapsed": 800,
     "status": "ok",
     "timestamp": 1593540155740,
     "user": {
      "displayName": "Priya Veeraraghavan",
      "photoUrl": "https://lh3.googleusercontent.com/a-/AOh14GiC8c03Ty3XKDty3DqTKr7bxSDNQZre0H-fZPlOY3fne-zbRvJZRExmDbpp1HuyjPwUTszr8eohaXax7v8ZO8G9Hx5_DQURFtcHp9Sd2jiDzs-n_pahskGXi9soJHJCZjo32qWxji2jZusaXnNHhi3Yq92OLBacLlrnIWNqz6rh_dVTs5_Rp5FdLDOu6PG9XLPF1Q36SGrG7qQWIGA7gPPbax7RpQpfmuTHQcWarbHEFIUXavMEVY2RVCxvl2nvsZlAJGDVzI0Qy6kaRAwrOw1YWtHrAq1N5qm98nun8F0fZPIRLS1wdvbz3r7PVmCcQ3rPHanJGgdyaakZ4FMfxMacDqDeuBaFJOo16cOqPFuPVf7Lum9g0RfUpQfp4yd4EHWB2Bw7ub2WwUnwm7yOPQ-ktR_RcMMrg3i4EMjT5v_fpLm48bfDflqB6wYz3FuKPMEPG9Ty7aFG5bk4_TmJE94TALuuk-kFAEhR55xQk6ovaHtvP2lI0jn7jQLzMJ96NQG49Dr1a6WdRqodogWurSBOBvy2adtJfrAnzXsBTKMfHqocb9xPsZWEptfLw9vKZJ28BtsTWmj9ni15E_bkgSvMssYYdKGU-txtXtExaRLkfuwkE981dC75B8Olg1W76Vg7qk6cFdJCD96K6_OxGUMTkNQ2N2dfSZzrCJ5iKgb3Z2AhPzg7Di_TAy4uYOeiyvXyF_GFMYxzc8jSk6aXO2LpUn7fsXMj4-BqnzZNI6vPWBAFeE_FL77pgQlQjn32VGTnzg=s64",
      "userId": "10950794880338920839"
     },
     "user_tz": 240
    },
    "id": "yryvdBV7U7W4",
    "outputId": "edef4038-dba8-430d-d44c-b707a7c333b2"
   },
   "outputs": [
    {
     "name": "stdout",
     "output_type": "stream",
     "text": [
      "my_list original value: [2, 5, 1, 4, 3]\n",
      "return value of my_list.sort():  None\n",
      "my_list after .sort(): [1, 2, 3, 4, 5]\n"
     ]
    }
   ],
   "source": [
    "print(\"my_list original value:\", my_list)\n",
    "\n",
    "# use .sort()\n",
    "result = my_list.sort()\n",
    "\n",
    "# the return value of .reverse() is nothing\n",
    "print(\"return value of my_list.sort(): \", result)\n",
    "\n",
    "#  my_list has now changed\n",
    "print(\"my_list after .sort():\", my_list)"
   ]
  },
  {
   "cell_type": "markdown",
   "id": "floppy-spread",
   "metadata": {
    "id": "49qWubTqVbuU"
   },
   "source": [
    "Add an element to the end of the list using .append(new_item)"
   ]
  },
  {
   "cell_type": "code",
   "execution_count": null,
   "id": "excited-offer",
   "metadata": {
    "colab": {
     "base_uri": "https://localhost:8080/",
     "height": 68
    },
    "executionInfo": {
     "elapsed": 790,
     "status": "ok",
     "timestamp": 1593540179099,
     "user": {
      "displayName": "Priya Veeraraghavan",
      "photoUrl": "https://lh3.googleusercontent.com/a-/AOh14GiC8c03Ty3XKDty3DqTKr7bxSDNQZre0H-fZPlOY3fne-zbRvJZRExmDbpp1HuyjPwUTszr8eohaXax7v8ZO8G9Hx5_DQURFtcHp9Sd2jiDzs-n_pahskGXi9soJHJCZjo32qWxji2jZusaXnNHhi3Yq92OLBacLlrnIWNqz6rh_dVTs5_Rp5FdLDOu6PG9XLPF1Q36SGrG7qQWIGA7gPPbax7RpQpfmuTHQcWarbHEFIUXavMEVY2RVCxvl2nvsZlAJGDVzI0Qy6kaRAwrOw1YWtHrAq1N5qm98nun8F0fZPIRLS1wdvbz3r7PVmCcQ3rPHanJGgdyaakZ4FMfxMacDqDeuBaFJOo16cOqPFuPVf7Lum9g0RfUpQfp4yd4EHWB2Bw7ub2WwUnwm7yOPQ-ktR_RcMMrg3i4EMjT5v_fpLm48bfDflqB6wYz3FuKPMEPG9Ty7aFG5bk4_TmJE94TALuuk-kFAEhR55xQk6ovaHtvP2lI0jn7jQLzMJ96NQG49Dr1a6WdRqodogWurSBOBvy2adtJfrAnzXsBTKMfHqocb9xPsZWEptfLw9vKZJ28BtsTWmj9ni15E_bkgSvMssYYdKGU-txtXtExaRLkfuwkE981dC75B8Olg1W76Vg7qk6cFdJCD96K6_OxGUMTkNQ2N2dfSZzrCJ5iKgb3Z2AhPzg7Di_TAy4uYOeiyvXyF_GFMYxzc8jSk6aXO2LpUn7fsXMj4-BqnzZNI6vPWBAFeE_FL77pgQlQjn32VGTnzg=s64",
      "userId": "10950794880338920839"
     },
     "user_tz": 240
    },
    "id": "u9Dc6DXCVanV",
    "outputId": "ed3258c0-de7e-42d8-9893-3bf0d80f6e3a"
   },
   "outputs": [
    {
     "name": "stdout",
     "output_type": "stream",
     "text": [
      "my_list original value: [1, 2, 3, 4, 5]\n",
      "return value of my_list.append(6):  None\n",
      "my_list after .append(6): [1, 2, 3, 4, 5, 6]\n"
     ]
    }
   ],
   "source": [
    "print(\"my_list original value:\", my_list)\n",
    "\n",
    "# append the number 6\n",
    "result = my_list.append(6)\n",
    "\n",
    "# the return value of .append() is nothing\n",
    "print(\"return value of my_list.append(6): \", result)\n",
    "\n",
    "# my_list has now changed\n",
    "print(\"my_list after .append(6):\", my_list)"
   ]
  },
  {
   "cell_type": "markdown",
   "id": "passing-cache",
   "metadata": {
    "id": "BoRuMajGZHrC"
   },
   "source": [
    "Add an element at a specific index using .insert(index, new_element)"
   ]
  },
  {
   "cell_type": "code",
   "execution_count": null,
   "id": "willing-integer",
   "metadata": {
    "colab": {
     "base_uri": "https://localhost:8080/",
     "height": 68
    },
    "executionInfo": {
     "elapsed": 814,
     "status": "ok",
     "timestamp": 1593540247128,
     "user": {
      "displayName": "Priya Veeraraghavan",
      "photoUrl": "https://lh3.googleusercontent.com/a-/AOh14GiC8c03Ty3XKDty3DqTKr7bxSDNQZre0H-fZPlOY3fne-zbRvJZRExmDbpp1HuyjPwUTszr8eohaXax7v8ZO8G9Hx5_DQURFtcHp9Sd2jiDzs-n_pahskGXi9soJHJCZjo32qWxji2jZusaXnNHhi3Yq92OLBacLlrnIWNqz6rh_dVTs5_Rp5FdLDOu6PG9XLPF1Q36SGrG7qQWIGA7gPPbax7RpQpfmuTHQcWarbHEFIUXavMEVY2RVCxvl2nvsZlAJGDVzI0Qy6kaRAwrOw1YWtHrAq1N5qm98nun8F0fZPIRLS1wdvbz3r7PVmCcQ3rPHanJGgdyaakZ4FMfxMacDqDeuBaFJOo16cOqPFuPVf7Lum9g0RfUpQfp4yd4EHWB2Bw7ub2WwUnwm7yOPQ-ktR_RcMMrg3i4EMjT5v_fpLm48bfDflqB6wYz3FuKPMEPG9Ty7aFG5bk4_TmJE94TALuuk-kFAEhR55xQk6ovaHtvP2lI0jn7jQLzMJ96NQG49Dr1a6WdRqodogWurSBOBvy2adtJfrAnzXsBTKMfHqocb9xPsZWEptfLw9vKZJ28BtsTWmj9ni15E_bkgSvMssYYdKGU-txtXtExaRLkfuwkE981dC75B8Olg1W76Vg7qk6cFdJCD96K6_OxGUMTkNQ2N2dfSZzrCJ5iKgb3Z2AhPzg7Di_TAy4uYOeiyvXyF_GFMYxzc8jSk6aXO2LpUn7fsXMj4-BqnzZNI6vPWBAFeE_FL77pgQlQjn32VGTnzg=s64",
      "userId": "10950794880338920839"
     },
     "user_tz": 240
    },
    "id": "-U_iTko_ZRr0",
    "outputId": "b8414c9f-e49f-4757-a2b4-6b4f82b28321"
   },
   "outputs": [
    {
     "name": "stdout",
     "output_type": "stream",
     "text": [
      "my_list original value: [1, 2, 3, 4, 5, 6, 7, 8, 9]\n",
      "return value of my_list.insert(new_elt): None\n",
      "my_list after .insert(4, new_elt): [1, 2, 3, 4, 9, 5, 6, 7, 8, 9]\n"
     ]
    }
   ],
   "source": [
    "print(\"my_list original value:\", my_list)\n",
    "\n",
    "new_elt = 9\n",
    "\n",
    "result = my_list.insert(4, new_elt)\n",
    "\n",
    "# the return value of .insert() is nothing\n",
    "print(\"return value of my_list.insert(new_elt):\", result)\n",
    "\n",
    "# my_list has now changed\n",
    "print(\"my_list after .insert(4, new_elt):\", my_list)"
   ]
  },
  {
   "cell_type": "markdown",
   "id": "aquatic-astrology",
   "metadata": {
    "id": "veS4pA4dVzDy"
   },
   "source": [
    "Remove an element from the end of a list by using .pop(index). If you don't specify an index, then the last element of the list will be removed. The function returns the element that was removed from the list."
   ]
  },
  {
   "cell_type": "code",
   "execution_count": null,
   "id": "embedded-spirit",
   "metadata": {
    "colab": {
     "base_uri": "https://localhost:8080/",
     "height": 68
    },
    "executionInfo": {
     "elapsed": 493,
     "status": "ok",
     "timestamp": 1593540295622,
     "user": {
      "displayName": "Priya Veeraraghavan",
      "photoUrl": "https://lh3.googleusercontent.com/a-/AOh14GiC8c03Ty3XKDty3DqTKr7bxSDNQZre0H-fZPlOY3fne-zbRvJZRExmDbpp1HuyjPwUTszr8eohaXax7v8ZO8G9Hx5_DQURFtcHp9Sd2jiDzs-n_pahskGXi9soJHJCZjo32qWxji2jZusaXnNHhi3Yq92OLBacLlrnIWNqz6rh_dVTs5_Rp5FdLDOu6PG9XLPF1Q36SGrG7qQWIGA7gPPbax7RpQpfmuTHQcWarbHEFIUXavMEVY2RVCxvl2nvsZlAJGDVzI0Qy6kaRAwrOw1YWtHrAq1N5qm98nun8F0fZPIRLS1wdvbz3r7PVmCcQ3rPHanJGgdyaakZ4FMfxMacDqDeuBaFJOo16cOqPFuPVf7Lum9g0RfUpQfp4yd4EHWB2Bw7ub2WwUnwm7yOPQ-ktR_RcMMrg3i4EMjT5v_fpLm48bfDflqB6wYz3FuKPMEPG9Ty7aFG5bk4_TmJE94TALuuk-kFAEhR55xQk6ovaHtvP2lI0jn7jQLzMJ96NQG49Dr1a6WdRqodogWurSBOBvy2adtJfrAnzXsBTKMfHqocb9xPsZWEptfLw9vKZJ28BtsTWmj9ni15E_bkgSvMssYYdKGU-txtXtExaRLkfuwkE981dC75B8Olg1W76Vg7qk6cFdJCD96K6_OxGUMTkNQ2N2dfSZzrCJ5iKgb3Z2AhPzg7Di_TAy4uYOeiyvXyF_GFMYxzc8jSk6aXO2LpUn7fsXMj4-BqnzZNI6vPWBAFeE_FL77pgQlQjn32VGTnzg=s64",
      "userId": "10950794880338920839"
     },
     "user_tz": 240
    },
    "id": "VbVFWAGeWVYT",
    "outputId": "9d91f3b3-1e10-4698-f8b1-5a8e7ac424d8"
   },
   "outputs": [
    {
     "name": "stdout",
     "output_type": "stream",
     "text": [
      "my_list original value: [1, 2, 3, 4, 9, 5, 6, 7, 8, 9]\n",
      "return value of my_list.pop(0): 1\n",
      "my_list after .pop(0): [2, 3, 4, 9, 5, 6, 7, 8, 9]\n"
     ]
    }
   ],
   "source": [
    "print(\"my_list original value:\", my_list)\n",
    "\n",
    "# remove the first element of the list\n",
    "result = my_list.pop(0)\n",
    "\n",
    "# the return value of .pop(0) is the first element of the list\n",
    "print(\"return value of my_list.pop(0):\", result)\n",
    "\n",
    "# the new value of my_list\n",
    "print(\"my_list after .pop(0):\", my_list)"
   ]
  },
  {
   "cell_type": "markdown",
   "id": "abroad-board",
   "metadata": {
    "id": "Jw2USYL3Z98v"
   },
   "source": [
    "Remove the first instance of a specific value in a list with .remove(value)"
   ]
  },
  {
   "cell_type": "code",
   "execution_count": null,
   "id": "missing-graduation",
   "metadata": {
    "colab": {
     "base_uri": "https://localhost:8080/",
     "height": 68
    },
    "executionInfo": {
     "elapsed": 802,
     "status": "ok",
     "timestamp": 1593540345702,
     "user": {
      "displayName": "Priya Veeraraghavan",
      "photoUrl": "https://lh3.googleusercontent.com/a-/AOh14GiC8c03Ty3XKDty3DqTKr7bxSDNQZre0H-fZPlOY3fne-zbRvJZRExmDbpp1HuyjPwUTszr8eohaXax7v8ZO8G9Hx5_DQURFtcHp9Sd2jiDzs-n_pahskGXi9soJHJCZjo32qWxji2jZusaXnNHhi3Yq92OLBacLlrnIWNqz6rh_dVTs5_Rp5FdLDOu6PG9XLPF1Q36SGrG7qQWIGA7gPPbax7RpQpfmuTHQcWarbHEFIUXavMEVY2RVCxvl2nvsZlAJGDVzI0Qy6kaRAwrOw1YWtHrAq1N5qm98nun8F0fZPIRLS1wdvbz3r7PVmCcQ3rPHanJGgdyaakZ4FMfxMacDqDeuBaFJOo16cOqPFuPVf7Lum9g0RfUpQfp4yd4EHWB2Bw7ub2WwUnwm7yOPQ-ktR_RcMMrg3i4EMjT5v_fpLm48bfDflqB6wYz3FuKPMEPG9Ty7aFG5bk4_TmJE94TALuuk-kFAEhR55xQk6ovaHtvP2lI0jn7jQLzMJ96NQG49Dr1a6WdRqodogWurSBOBvy2adtJfrAnzXsBTKMfHqocb9xPsZWEptfLw9vKZJ28BtsTWmj9ni15E_bkgSvMssYYdKGU-txtXtExaRLkfuwkE981dC75B8Olg1W76Vg7qk6cFdJCD96K6_OxGUMTkNQ2N2dfSZzrCJ5iKgb3Z2AhPzg7Di_TAy4uYOeiyvXyF_GFMYxzc8jSk6aXO2LpUn7fsXMj4-BqnzZNI6vPWBAFeE_FL77pgQlQjn32VGTnzg=s64",
      "userId": "10950794880338920839"
     },
     "user_tz": 240
    },
    "id": "o9IjvwiIaQrD",
    "outputId": "1a4b90a4-7f25-48ce-d270-8ce1eec09ea0"
   },
   "outputs": [
    {
     "name": "stdout",
     "output_type": "stream",
     "text": [
      "my_list original value: [2, 3, 4, 9, 5, 6, 7, 8, 9]\n",
      "return value of my_list.remove(9): None\n",
      "my_list after .remove(9): [2, 3, 4, 5, 6, 7, 8, 9]\n"
     ]
    }
   ],
   "source": [
    "print(\"my_list original value:\", my_list)\n",
    "\n",
    "result = my_list.remove(9)\n",
    "\n",
    "print(\"return value of my_list.remove(9):\", result)\n",
    "print(\"my_list after .remove(9):\", my_list)"
   ]
  },
  {
   "cell_type": "markdown",
   "id": "increasing-coral",
   "metadata": {
    "id": "CBqDF9yTWu4q"
   },
   "source": [
    "What happens if you index outside of the range? An IndexError : You specified an index that is not present in the list-- ie a number out of the range [0, len(list)-1]"
   ]
  },
  {
   "cell_type": "markdown",
   "id": "simplified-ghana",
   "metadata": {
    "id": "Yzc515JcDbBC"
   },
   "source": [
    "#### Dictionaries\n",
    "\n",
    "Like lists, dictionares are a mutable collection of items, called *values*, which can be of any type. Unlike lists, their items are not accessed according to their position. Instead, they are accessed by providing a unique corresponding *key* which is commonly a string. They are identified by curly brackets { }.\n",
    "\n",
    "They can be instantiated by providing a set of key-value pairs in the form key:value between curly braces."
   ]
  },
  {
   "cell_type": "code",
   "execution_count": 1,
   "id": "close-wrong",
   "metadata": {
    "colab": {
     "base_uri": "https://localhost:8080/"
    },
    "executionInfo": {
     "elapsed": 373,
     "status": "ok",
     "timestamp": 1623720301095,
     "user": {
      "displayName": "Nick Derr",
      "photoUrl": "",
      "userId": "09936509318349382167"
     },
     "user_tz": 240
    },
    "id": "77rbo-a5Dcy4",
    "outputId": "ed2c840f-c3a4-445a-a1f4-84ae600ab0b2"
   },
   "outputs": [
    {
     "name": "stdout",
     "output_type": "stream",
     "text": [
      "{'name': 'Pickles', 'age': 6, 'is_a_cat': False}\n"
     ]
    }
   ],
   "source": [
    "dog = {\"name\":\"Pickles\", \"age\":6, \"is_a_cat\":False}\n",
    "print(dog)"
   ]
  },
  {
   "cell_type": "markdown",
   "id": "requested-stand",
   "metadata": {
    "id": "Tf1REsGvE_Lc"
   },
   "source": [
    "The dictionary may contain multiple copies of a value, but no key can be repeated.\n",
    "\n",
    "Be careful, because providing a repeated key will not generate an error. It will simply write over the value previously associated with that key. "
   ]
  },
  {
   "cell_type": "code",
   "execution_count": 2,
   "id": "spiritual-accountability",
   "metadata": {
    "colab": {
     "base_uri": "https://localhost:8080/"
    },
    "executionInfo": {
     "elapsed": 285,
     "status": "ok",
     "timestamp": 1623720301110,
     "user": {
      "displayName": "Nick Derr",
      "photoUrl": "",
      "userId": "09936509318349382167"
     },
     "user_tz": 240
    },
    "id": "9To6K6ItE4F5",
    "outputId": "76c00a91-7465-4fc0-ab37-d915f1741146"
   },
   "outputs": [
    {
     "name": "stdout",
     "output_type": "stream",
     "text": [
      "key1 is the key for value1\n",
      "key2 is the key for value2\n",
      "key3 is the key for value4\n"
     ]
    }
   ],
   "source": [
    "# create a dictionary providing repeated keys\n",
    "repeat_dict = {\"key1\":\"value1\", \"key2\":\"value2\",\"key3\":\"value3\",\"key3\":\"value4\"}\n",
    "\n",
    "# print the value of each unique key\n",
    "print('key1 is the key for {:s}'.format(repeat_dict['key1']))\n",
    "print('key2 is the key for {:s}'.format(repeat_dict['key2']))\n",
    "print('key3 is the key for {:s}'.format(repeat_dict['key3']))\n"
   ]
  },
  {
   "cell_type": "markdown",
   "id": "biblical-universe",
   "metadata": {
    "id": "SWan-293CJqw"
   },
   "source": [
    "The length of the dictionary can be found with the len() function."
   ]
  },
  {
   "cell_type": "code",
   "execution_count": 3,
   "id": "essential-pantyhose",
   "metadata": {
    "colab": {
     "base_uri": "https://localhost:8080/"
    },
    "executionInfo": {
     "elapsed": 225,
     "status": "ok",
     "timestamp": 1623720301118,
     "user": {
      "displayName": "Nick Derr",
      "photoUrl": "",
      "userId": "09936509318349382167"
     },
     "user_tz": 240
    },
    "id": "831ESF20CFnf",
    "outputId": "97365728-8f35-403b-f968-c89dfd315719"
   },
   "outputs": [
    {
     "name": "stdout",
     "output_type": "stream",
     "text": [
      "This dictionary contains 3 key-value pairs.\n"
     ]
    }
   ],
   "source": [
    "print('This dictionary contains {:d} key-value pairs.'.format(len(dog)))"
   ]
  },
  {
   "cell_type": "markdown",
   "id": "decreased-difference",
   "metadata": {
    "id": "oMwKziscHG7c"
   },
   "source": [
    "Values can be accessed by providing the key within brackets following the dictionary name, as shown above."
   ]
  },
  {
   "cell_type": "code",
   "execution_count": 4,
   "id": "joint-clock",
   "metadata": {
    "colab": {
     "base_uri": "https://localhost:8080/"
    },
    "executionInfo": {
     "elapsed": 177,
     "status": "ok",
     "timestamp": 1623720301126,
     "user": {
      "displayName": "Nick Derr",
      "photoUrl": "",
      "userId": "09936509318349382167"
     },
     "user_tz": 240
    },
    "id": "oaEDrwmW_YZr",
    "outputId": "661d65d4-8f19-4be0-b45d-27ea498ff61e"
   },
   "outputs": [
    {
     "name": "stdout",
     "output_type": "stream",
     "text": [
      "the dog's name is Pickles\n",
      "the dog is 6 years old\n"
     ]
    }
   ],
   "source": [
    "print('the dog\\'s name is {:s}'.format(dog['name']))\n",
    "print('the dog is {:d} years old'.format(dog['age']))"
   ]
  },
  {
   "cell_type": "markdown",
   "id": "civic-figure",
   "metadata": {
    "id": "mWo5qZeKH51f"
   },
   "source": [
    "If a key is provided which is not contained in the dictionary, we will get a KeyError."
   ]
  },
  {
   "cell_type": "code",
   "execution_count": 5,
   "id": "acquired-robert",
   "metadata": {
    "colab": {
     "base_uri": "https://localhost:8080/",
     "height": 176
    },
    "executionInfo": {
     "elapsed": 83,
     "status": "error",
     "timestamp": 1623720301606,
     "user": {
      "displayName": "Nick Derr",
      "photoUrl": "",
      "userId": "09936509318349382167"
     },
     "user_tz": 240
    },
    "id": "Axavu6VEH2IN",
    "outputId": "ced0bfd3-b542-480f-b25c-d442bb702838"
   },
   "outputs": [
    {
     "ename": "KeyError",
     "evalue": "ignored",
     "output_type": "error",
     "traceback": [
      "\u001b[0;31m---------------------------------------------------------------------------\u001b[0m",
      "\u001b[0;31mKeyError\u001b[0m                                  Traceback (most recent call last)",
      "\u001b[0;32m<ipython-input-5-c7bd2bfaca10>\u001b[0m in \u001b[0;36m<module>\u001b[0;34m()\u001b[0m\n\u001b[0;32m----> 1\u001b[0;31m \u001b[0mprint\u001b[0m\u001b[0;34m(\u001b[0m\u001b[0;34m'the dog\\'s favorite book is {:s}'\u001b[0m\u001b[0;34m.\u001b[0m\u001b[0mformat\u001b[0m\u001b[0;34m(\u001b[0m\u001b[0mdog\u001b[0m\u001b[0;34m[\u001b[0m\u001b[0;34m'favorite_book'\u001b[0m\u001b[0;34m]\u001b[0m\u001b[0;34m)\u001b[0m\u001b[0;34m)\u001b[0m\u001b[0;34m\u001b[0m\u001b[0;34m\u001b[0m\u001b[0m\n\u001b[0m",
      "\u001b[0;31mKeyError\u001b[0m: 'favorite_book'"
     ]
    }
   ],
   "source": [
    "print('the dog\\'s favorite book is {:s}'.format(dog['favorite_book']))"
   ]
  },
  {
   "cell_type": "markdown",
   "id": "increased-defense",
   "metadata": {
    "id": "svh5lWt7IJGD"
   },
   "source": [
    "Alternatively, we can use the get(key,[default]) method to retrieve values. (The brackets around *default* indicate that providing it is optional.)\n",
    "\n",
    "If a key is provided which is not contained in the dictionary, get will not thrown an error. Instead, it will return None or a user-provided default value."
   ]
  },
  {
   "cell_type": "code",
   "execution_count": 32,
   "id": "central-liverpool",
   "metadata": {
    "executionInfo": {
     "elapsed": 35,
     "status": "aborted",
     "timestamp": 1623720301582,
     "user": {
      "displayName": "Nick Derr",
      "photoUrl": "",
      "userId": "09936509318349382167"
     },
     "user_tz": 240
    },
    "id": "EvdO_dPnHYOc"
   },
   "outputs": [
    {
     "ename": "NameError",
     "evalue": "name 'dog' is not defined",
     "output_type": "error",
     "traceback": [
      "\u001b[0;31m---------------------------------------------------------------------------\u001b[0m",
      "\u001b[0;31mNameError\u001b[0m                                 Traceback (most recent call last)",
      "\u001b[0;32m<ipython-input-32-9a461d32b098>\u001b[0m in \u001b[0;36m<module>\u001b[0;34m\u001b[0m\n\u001b[1;32m      1\u001b[0m \u001b[0;31m# this prints \"None\" since there is no favorite book key\u001b[0m\u001b[0;34m\u001b[0m\u001b[0;34m\u001b[0m\u001b[0;34m\u001b[0m\u001b[0m\n\u001b[0;32m----> 2\u001b[0;31m \u001b[0mprint\u001b[0m\u001b[0;34m(\u001b[0m\u001b[0mdog\u001b[0m\u001b[0;34m.\u001b[0m\u001b[0mget\u001b[0m\u001b[0;34m(\u001b[0m\u001b[0;34m'favorite_book'\u001b[0m\u001b[0;34m)\u001b[0m\u001b[0;34m)\u001b[0m\u001b[0;34m\u001b[0m\u001b[0;34m\u001b[0m\u001b[0m\n\u001b[0m\u001b[1;32m      3\u001b[0m \u001b[0;34m\u001b[0m\u001b[0m\n\u001b[1;32m      4\u001b[0m \u001b[0;31m# this is set to the default value\u001b[0m\u001b[0;34m\u001b[0m\u001b[0;34m\u001b[0m\u001b[0;34m\u001b[0m\u001b[0m\n\u001b[1;32m      5\u001b[0m \u001b[0mfave_book\u001b[0m \u001b[0;34m=\u001b[0m \u001b[0mdog\u001b[0m\u001b[0;34m.\u001b[0m\u001b[0mget\u001b[0m\u001b[0;34m(\u001b[0m\u001b[0;34m'favorite_book'\u001b[0m\u001b[0;34m,\u001b[0m\u001b[0;34m'The Bone Clocks'\u001b[0m\u001b[0;34m)\u001b[0m\u001b[0;34m\u001b[0m\u001b[0;34m\u001b[0m\u001b[0m\n",
      "\u001b[0;31mNameError\u001b[0m: name 'dog' is not defined"
     ]
    }
   ],
   "source": [
    "# this prints \"None\" since there is no favorite book key\n",
    "print(dog.get('favorite_book'))\n",
    "\n",
    "# this is set to the default value\n",
    "fave_book = dog.get('favorite_book','The Bone Clocks')\n",
    "\n",
    "print(fave_book)"
   ]
  },
  {
   "cell_type": "markdown",
   "id": "static-bikini",
   "metadata": {
    "id": "dYcHgyxQKUux"
   },
   "source": [
    "The keys() function returns a list of all keys contained in the dictionary. Note that we need to use the list() function to cast it into a normal Python list.\n",
    "\n",
    "(Order is a less important concept for dictionaries than for lists---we won't see any sorting funtions here. It is still worth knowing that in recent versions of Python dictionaries remember the order in which its entried were added. The list returned by keys is ordered from least- to most-recently added.)"
   ]
  },
  {
   "cell_type": "code",
   "execution_count": null,
   "id": "infectious-burner",
   "metadata": {
    "executionInfo": {
     "elapsed": 33,
     "status": "aborted",
     "timestamp": 1623720301584,
     "user": {
      "displayName": "Nick Derr",
      "photoUrl": "",
      "userId": "09936509318349382167"
     },
     "user_tz": 240
    },
    "id": "Ecxj9ve7InsZ"
   },
   "outputs": [],
   "source": [
    "keys = list(dog.keys())\n",
    "print(keys)\n",
    "\n",
    "# this will be the name, since it came first when dog was constructed\n",
    "print('the first key added to the dictionary was {:s}'.format(keys[0]))"
   ]
  },
  {
   "cell_type": "markdown",
   "id": "internal-marshall",
   "metadata": {
    "id": "Tjw_FnjxL6qB"
   },
   "source": [
    "The values() function returns a list of the dictionary's values in the order of least- to most-recently added."
   ]
  },
  {
   "cell_type": "code",
   "execution_count": null,
   "id": "hungry-constitution",
   "metadata": {
    "executionInfo": {
     "elapsed": 33,
     "status": "aborted",
     "timestamp": 1623720301586,
     "user": {
      "displayName": "Nick Derr",
      "photoUrl": "",
      "userId": "09936509318349382167"
     },
     "user_tz": 240
    },
    "id": "FfLbaD-zL3T3"
   },
   "outputs": [],
   "source": [
    "values = list(dog.values())\n",
    "print(values)\n",
    "\n",
    "# this will be the is_a_cat field, since it came last\n",
    "print('the most recent value added to the dictionary was {},'.format(values[-1]))\n",
    "print('  corresponding to the {:s} key'.format(keys[-1]))"
   ]
  },
  {
   "cell_type": "markdown",
   "id": "canadian-punishment",
   "metadata": {
    "id": "RkJAFm85OQLZ"
   },
   "source": [
    "We can also extract a list of the key-pairs with the items() function, which returns a list of 2-item tuples in the form [(key1,value1),(key2,value2),...]"
   ]
  },
  {
   "cell_type": "code",
   "execution_count": null,
   "id": "active-volume",
   "metadata": {
    "executionInfo": {
     "elapsed": 33,
     "status": "aborted",
     "timestamp": 1623720301587,
     "user": {
      "displayName": "Nick Derr",
      "photoUrl": "",
      "userId": "09936509318349382167"
     },
     "user_tz": 240
    },
    "id": "sDj3mOZBKcRY"
   },
   "outputs": [],
   "source": [
    "items = list(dog.items())\n",
    "print(items)"
   ]
  },
  {
   "cell_type": "markdown",
   "id": "distributed-province",
   "metadata": {
    "id": "T7bTGrk0PIeU"
   },
   "source": [
    "Dictionaries are mutable, like lists. We can add entries by setting the value of a provided key like below."
   ]
  },
  {
   "cell_type": "code",
   "execution_count": null,
   "id": "adaptive-absolute",
   "metadata": {
    "executionInfo": {
     "elapsed": 38,
     "status": "aborted",
     "timestamp": 1623720301593,
     "user": {
      "displayName": "Nick Derr",
      "photoUrl": "",
      "userId": "09936509318349382167"
     },
     "user_tz": 240
    },
    "id": "q5dywH8bPBUs"
   },
   "outputs": [],
   "source": [
    "# prints None, since there is no favorite_toy entry\n",
    "print(dog.get('favorite_toy'))\n",
    "\n",
    "# adds a favorite toy entry\n",
    "dog['favorite_toy'] = 'squeaker'\n",
    "\n",
    "# now this will not generate an error\n",
    "print('the dog\\'s favorite toy is the {:s}'.format(dog['favorite_toy']))"
   ]
  },
  {
   "cell_type": "markdown",
   "id": "large-powder",
   "metadata": {
    "id": "l0AnRrgORPOA"
   },
   "source": [
    "Setting the value of a key already in the dictionary updates its value."
   ]
  },
  {
   "cell_type": "code",
   "execution_count": null,
   "id": "forbidden-advocate",
   "metadata": {
    "executionInfo": {
     "elapsed": 39,
     "status": "aborted",
     "timestamp": 1623720301595,
     "user": {
      "displayName": "Nick Derr",
      "photoUrl": "",
      "userId": "09936509318349382167"
     },
     "user_tz": 240
    },
    "id": "yELjeX4QQohL"
   },
   "outputs": [],
   "source": [
    "# sets the dog's age to one more than its current value (6->7)\n",
    "dog['age'] = dog['age'] + 1\n",
    "print('Happy Birthday! The dog is now {:d}'.format(dog['age']))"
   ]
  },
  {
   "cell_type": "markdown",
   "id": "floppy-scroll",
   "metadata": {
    "id": "TEE11YdDYg-C"
   },
   "source": [
    "Keys can be any type as long as it's not mutable. It's common practice to use strings so that the key itself can describe what the value represents."
   ]
  },
  {
   "cell_type": "code",
   "execution_count": null,
   "id": "optional-field",
   "metadata": {
    "executionInfo": {
     "elapsed": 40,
     "status": "aborted",
     "timestamp": 1623720301596,
     "user": {
      "displayName": "Nick Derr",
      "photoUrl": "",
      "userId": "09936509318349382167"
     },
     "user_tz": 240
    },
    "id": "_pfS2MrVYyM_"
   },
   "outputs": [],
   "source": [
    "# use an int as a key\n",
    "dog[2] = 'two'\n",
    "\n",
    "# print contents\n",
    "print(dog)"
   ]
  },
  {
   "cell_type": "markdown",
   "id": "incorporate-concentrate",
   "metadata": {
    "colab_type": "text",
    "id": "CmwBmzfqhBh7"
   },
   "source": [
    "### Command Flow"
   ]
  },
  {
   "cell_type": "markdown",
   "id": "negative-period",
   "metadata": {
    "colab_type": "text",
    "id": "s32EZ3AKjr3d"
   },
   "source": [
    "#### If/else statements\n",
    "\n",
    "\"Branching\" means that you provide the computer instructions to begin executing a different part of the program rather than executing steps one-by-one. In Python, we represent this with if, else, and elif (\"else if\") statements. Each of these statements depends on the evaluation of some condition into a boolean (recall: True or False). Then the direction of the control flow goes to the first statement that evaluates \"True\".\n",
    "\n",
    "\n"
   ]
  },
  {
   "cell_type": "markdown",
   "id": "living-karaoke",
   "metadata": {
    "colab_type": "text",
    "id": "V3IabRFdDipK"
   },
   "source": [
    "Here's an example of a simple if statement that always is True."
   ]
  },
  {
   "cell_type": "code",
   "execution_count": null,
   "id": "located-workshop",
   "metadata": {
    "colab": {},
    "colab_type": "code",
    "id": "1dMQUgJeDdO7"
   },
   "outputs": [],
   "source": [
    "if True:\n",
    "  print(\"Hello world\")"
   ]
  },
  {
   "cell_type": "markdown",
   "id": "wooden-xerox",
   "metadata": {
    "colab_type": "text",
    "id": "ixxpwA0QD4W9"
   },
   "source": [
    "Comparisons evaluate to \"True\" or \"False\". Here are some examples."
   ]
  },
  {
   "cell_type": "code",
   "execution_count": null,
   "id": "alert-partition",
   "metadata": {
    "colab": {
     "base_uri": "https://localhost:8080/",
     "height": 102
    },
    "colab_type": "code",
    "executionInfo": {
     "elapsed": 587,
     "status": "ok",
     "timestamp": 1595948473930,
     "user": {
      "displayName": "monica roberson",
      "photoUrl": "",
      "userId": "12493745571037541376"
     },
     "user_tz": 240
    },
    "id": "QLhgCTiuD-Bn",
    "outputId": "7175e0cb-868b-41eb-8d4b-1f1c28a885d3"
   },
   "outputs": [
    {
     "name": "stdout",
     "output_type": "stream",
     "text": [
      "Length of list is greater than 0 boolean: True.\n",
      "Number num less than 7 boolean: False\n",
      "Print True\n",
      "Print False\n",
      "True\n"
     ]
    }
   ],
   "source": [
    "# length of a list greater than zero\n",
    "lst = [0, 2, 3, 5]\n",
    "boolean1 = len(lst) > 0\n",
    "print(\"Length of list is greater than 0 boolean: {}.\".format(boolean1))\n",
    "\n",
    "# compare two numbers\n",
    "num = 8\n",
    "\n",
    "boolean2 = num < 7\n",
    "print(\"Number num less than 7 boolean: {}\".format(boolean2))\n",
    "\n",
    "# use inequality\n",
    "boolean3 = num != 7\n",
    "print(\"Print {}\".format(boolean3))\n",
    "\n",
    "# use compound booleans\n",
    "boolean4 = True and False\n",
    "print(\"Print {}\".format(boolean4))\n",
    "\n",
    "boolean5 = True or False\n",
    "print(boolean5)\n",
    "\n",
    "boolean6 = (True or False) and True"
   ]
  },
  {
   "cell_type": "markdown",
   "id": "north-hunter",
   "metadata": {
    "colab_type": "text",
    "id": "ObGEl7-qEsPE"
   },
   "source": [
    "The program follows the \"elif\" branch of the code if the condition in \"if\" is not satisfied AND if the condition in the \"elif\" is satisfied. The program follows the \"else\" branch of the code if the condition in the preceding \"if\" and \"elif\" statements ALL evaluate to False."
   ]
  },
  {
   "cell_type": "code",
   "execution_count": 17,
   "id": "veterinary-patio",
   "metadata": {
    "colab": {},
    "colab_type": "code",
    "id": "529s50qwE12t"
   },
   "outputs": [
    {
     "name": "stdout",
     "output_type": "stream",
     "text": [
      "Number is divisible by two!\n"
     ]
    }
   ],
   "source": [
    "num = 8\n",
    "\n",
    "if num < 7:\n",
    "  print(\"Number is less than seven!\")\n",
    "\n",
    "# the % is called the \"modulo\" operator. \n",
    "# x % y is the residual number after x has been divided by y\n",
    "# for example, 10 % 3 = 1 because 9 is divisible by 3 and 10-1 = 9\n",
    "elif num % 2 == 0:\n",
    "  print(\"Number is divisible by two!\")"
   ]
  },
  {
   "cell_type": "markdown",
   "id": "confidential-bandwidth",
   "metadata": {},
   "source": [
    "### Breakout Rooms for a few exercises!"
   ]
  },
  {
   "cell_type": "markdown",
   "id": "fifth-marker",
   "metadata": {
    "colab_type": "text",
    "id": "Z51D69hSFEAd"
   },
   "source": [
    "#### *Exercise 1*: \n",
    " a. What would happen if num=6 instead?\n",
    " \n",
    " b. What would happen if num=6 but we flipped the if and elif statements?"
   ]
  },
  {
   "cell_type": "markdown",
   "id": "prostate-incidence",
   "metadata": {
    "colab_type": "text",
    "id": "zKXg-y_IDpua"
   },
   "source": [
    "The program follows the \"else\" branch of the code if the condition in the preceding \"if\" and \"elif\" statements ALL evaluate to False. \n"
   ]
  },
  {
   "cell_type": "code",
   "execution_count": null,
   "id": "coral-furniture",
   "metadata": {
    "colab": {},
    "colab_type": "code",
    "id": "tOPLyGrRFZZj"
   },
   "outputs": [],
   "source": [
    "num = 9\n",
    "\n",
    "if num < 7:\n",
    "  print(\"Number is less than seven!\")\n",
    "elif num % 2 == 0:\n",
    "  print(\"Number is divisible by two!\")\n",
    "else:\n",
    "  print(\"Made it to the else statement!\")"
   ]
  },
  {
   "cell_type": "markdown",
   "id": "crucial-applicant",
   "metadata": {
    "colab_type": "text",
    "id": "KwZJT1gdr7i9"
   },
   "source": [
    "#### *Exercise 2*\n",
    "What does the code print when x = 0 and y = 5?\n",
    "\n",
    "\n",
    "```\n",
    "if x == y:\n",
    "    if y != 0:\n",
    "        print(\"x / y is\", x/y)\n",
    "elif x < y:\n",
    "    print(\"x is smaller\")\n",
    "else:\n",
    "    print(\"y is smaller\")\n",
    "```\n",
    "\n"
   ]
  },
  {
   "cell_type": "markdown",
   "id": "medical-silly",
   "metadata": {
    "colab_type": "text",
    "id": "8omiYzgNtRG0"
   },
   "source": [
    "#### *Exercise 3*\n",
    "\n",
    "What does the following code print when run?\n",
    "\n",
    "```\n",
    "sum = 14\n",
    "if sum < 20:\n",
    "   print(\"Under \")\n",
    "else\n",
    "   print(\"Over \")\n",
    "print(\"the limit\")\n",
    "```\n",
    "\n"
   ]
  },
  {
   "cell_type": "markdown",
   "id": "inner-vatican",
   "metadata": {
    "colab_type": "text",
    "id": "FVdVFhhqtyis"
   },
   "source": [
    "#### *Exercise 4*\n",
    "\n",
    "What does the following code print when run?\n",
    "\n",
    "```\n",
    "sum = 14\n",
    "if sum < 20:\n",
    "   print(\"Under \")\n",
    "else\n",
    "   print(\"Over \")\n",
    "   print(\"the limit\")\n",
    "```\n"
   ]
  },
  {
   "cell_type": "markdown",
   "id": "moral-airport",
   "metadata": {
    "colab_type": "text",
    "id": "SqaToGL5uiOF"
   },
   "source": [
    "#### *Exercise 5*\n",
    "\n",
    "What does the following code print when run?\n",
    "\n",
    "```\n",
    "num = 2\n",
    "\n",
    "# != means not equal to\n",
    "if num != 7: \n",
    "  print(\"number is not equal to seven!\")\n",
    "elif num == 2:\n",
    "  print(\"Number is equal to two!\")\n",
    "else:\n",
    "  print(\"Made it to the else statement!\")\n",
    "```"
   ]
  },
  {
   "cell_type": "markdown",
   "id": "confused-flour",
   "metadata": {
    "colab_type": "text",
    "id": "fPSC-U3wiBsj"
   },
   "source": [
    "## For loops\n",
    "\n",
    "A for loop sequentially steps through an object that is *iterable*, like a list, creating a variable assigned to the value of the iterable at the particular step (\"num\" in this case). When the for loop has completed, this variable retains the *last* value that it had in the for loop.\n",
    "\n"
   ]
  },
  {
   "cell_type": "code",
   "execution_count": null,
   "id": "medical-translator",
   "metadata": {
    "colab": {
     "base_uri": "https://localhost:8080/",
     "height": 101
    },
    "colab_type": "code",
    "executionInfo": {
     "elapsed": 332,
     "status": "ok",
     "timestamp": 1594747048090,
     "user": {
      "displayName": "Priya Veeraraghavan",
      "photoUrl": "https://lh3.googleusercontent.com/a-/AOh14Gh2dEr_zfHymCarnLpzSeBStUfsCSd3VguS7odKMikqxgM916bExUrLY3O49YnZ6vR3MdR250MLZTfakPYl4b6qq3KqoX47cMPxnUw5Np-v92Q--lQSoaA2N5ePkvEE4rWiv7cFFHzHUNy3e4TEUqM0EF2Ec_uXbbWWl2jtTp19GBLA_5BoSV2_zDzi2pH3tLgfi8NjHXTdDeMFEGzMAR-D41Hy61PvGty-3qwJw5CEGKheJN8FiMeqwxk3byGtGmB-knuxuWkEUupZonJDxvfRq8NJQ1m7Cadn3en5trCUlGpUhQTyBDLI-biT9OPFI9xLDPTrwHx6KOrkw7gs0v30BJ4eQ1V2-B3Rlwsf0RE1ZqCOob71YS4K-7BvmEBTMdOo-SdprmwdgSk9knEg_NmGn1CLqnAkbqihZPPCv8f2nNLJwypgKPOysaa5v1N_JYbQIKGM9LG2QuihZ-0Ga-cWSBhinvb3Hc3cEY80UnsFO7A-SlmCgrM7Jk33LMtxxERMm2G1Ci7vT8dZcg7qVlvbtBIm8gQc_Eo7bT54GMe1HKvUEOVcGIcstFzkrPH4fw1o67emGFNzf6dO3QDp0RAgOwUdwwPZzHXvRXKVeGP7zJQkeHU-GYXUgvMv75IVcuGJs9KbZyR6A0Doy8HYEqJx6ZdMLZ29UgNs-WetfCSdrlxuYxU2Ye36BIG6RSD_rIKPpRjZPr29nfhm4O_zjNUTtLuYYxXEyr3BFCoNz0AniHKOu_jJ6w56QRx_kyoP7L5jwg=s64",
      "userId": "10950794880338920839"
     },
     "user_tz": 240
    },
    "id": "d744LH39wM4E",
    "outputId": "245dccfd-017f-4be7-9658-c196ebc51bf6"
   },
   "outputs": [
    {
     "name": "stdout",
     "output_type": "stream",
     "text": [
      "3\n",
      "5\n",
      "6\n",
      "8\n",
      "The final value of num is : 8\n"
     ]
    }
   ],
   "source": [
    "lst = [3, 5, 6, 8]\n",
    "\n",
    "for num in lst:\n",
    "   print(num)\n",
    "\n",
    "print(\"The final value of num is : {}\".format(num))"
   ]
  },
  {
   "cell_type": "markdown",
   "id": "suspected-opposition",
   "metadata": {
    "colab_type": "text",
    "id": "vlKoeYSD2pVb"
   },
   "source": [
    "#### *Exercise 6*\n",
    "\n",
    "What is the output of this code?\n",
    "\n",
    "```\n",
    "lst_nest = [\"hi\", \"my\", \"name\", [\"is\", \"Nick\"], \"!\"]\n",
    "\n",
    "for i in lst_nest:\n",
    "   print(i)\n",
    "```"
   ]
  },
  {
   "cell_type": "markdown",
   "id": "dental-blank",
   "metadata": {
    "colab_type": "text",
    "id": "yUIJ2fIP2tDL"
   },
   "source": [
    "The range function creates a sequence of numbers from 0 (or a specified start) to 1 before the specified end. The arguments to range are:\n",
    "\n",
    "range(start, stop, step)\n",
    "\n",
    "where start and step are optional.\n",
    "\n",
    "```\n",
    "x = range(5) # range contains 0, 1, 2, 3, 4\n",
    "y = range(5, 10) # range contains 5, 6, 7, 8, 9\n",
    "z = range(2, 8, 2) # range contains 2, 4, 6\n",
    "```"
   ]
  },
  {
   "cell_type": "markdown",
   "id": "embedded-stadium",
   "metadata": {
    "colab_type": "text",
    "id": "g-EFc4XbwOfU"
   },
   "source": [
    "However, when I try to print out the range using the print() function, I don't actually see those values. "
   ]
  },
  {
   "cell_type": "code",
   "execution_count": 18,
   "id": "loved-reader",
   "metadata": {
    "colab": {
     "base_uri": "https://localhost:8080/",
     "height": 34
    },
    "colab_type": "code",
    "executionInfo": {
     "elapsed": 404,
     "status": "ok",
     "timestamp": 1594747298179,
     "user": {
      "displayName": "Priya Veeraraghavan",
      "photoUrl": "https://lh3.googleusercontent.com/a-/AOh14Gh2dEr_zfHymCarnLpzSeBStUfsCSd3VguS7odKMikqxgM916bExUrLY3O49YnZ6vR3MdR250MLZTfakPYl4b6qq3KqoX47cMPxnUw5Np-v92Q--lQSoaA2N5ePkvEE4rWiv7cFFHzHUNy3e4TEUqM0EF2Ec_uXbbWWl2jtTp19GBLA_5BoSV2_zDzi2pH3tLgfi8NjHXTdDeMFEGzMAR-D41Hy61PvGty-3qwJw5CEGKheJN8FiMeqwxk3byGtGmB-knuxuWkEUupZonJDxvfRq8NJQ1m7Cadn3en5trCUlGpUhQTyBDLI-biT9OPFI9xLDPTrwHx6KOrkw7gs0v30BJ4eQ1V2-B3Rlwsf0RE1ZqCOob71YS4K-7BvmEBTMdOo-SdprmwdgSk9knEg_NmGn1CLqnAkbqihZPPCv8f2nNLJwypgKPOysaa5v1N_JYbQIKGM9LG2QuihZ-0Ga-cWSBhinvb3Hc3cEY80UnsFO7A-SlmCgrM7Jk33LMtxxERMm2G1Ci7vT8dZcg7qVlvbtBIm8gQc_Eo7bT54GMe1HKvUEOVcGIcstFzkrPH4fw1o67emGFNzf6dO3QDp0RAgOwUdwwPZzHXvRXKVeGP7zJQkeHU-GYXUgvMv75IVcuGJs9KbZyR6A0Doy8HYEqJx6ZdMLZ29UgNs-WetfCSdrlxuYxU2Ye36BIG6RSD_rIKPpRjZPr29nfhm4O_zjNUTtLuYYxXEyr3BFCoNz0AniHKOu_jJ6w56QRx_kyoP7L5jwg=s64",
      "userId": "10950794880338920839"
     },
     "user_tz": 240
    },
    "id": "n7hQYYIx2ay7",
    "outputId": "3ea91470-1267-498a-b5d6-c443521938df"
   },
   "outputs": [
    {
     "name": "stdout",
     "output_type": "stream",
     "text": [
      "range(5, 10)\n"
     ]
    }
   ],
   "source": [
    "y = range(5, 10) # range contains 5, 6, 7, 8, 9\n",
    "\n",
    "print(y)"
   ]
  },
  {
   "cell_type": "code",
   "execution_count": 19,
   "id": "ecological-macedonia",
   "metadata": {
    "colab": {
     "base_uri": "https://localhost:8080/",
     "height": 101
    },
    "colab_type": "code",
    "executionInfo": {
     "elapsed": 337,
     "status": "ok",
     "timestamp": 1594747343582,
     "user": {
      "displayName": "Priya Veeraraghavan",
      "photoUrl": "https://lh3.googleusercontent.com/a-/AOh14Gh2dEr_zfHymCarnLpzSeBStUfsCSd3VguS7odKMikqxgM916bExUrLY3O49YnZ6vR3MdR250MLZTfakPYl4b6qq3KqoX47cMPxnUw5Np-v92Q--lQSoaA2N5ePkvEE4rWiv7cFFHzHUNy3e4TEUqM0EF2Ec_uXbbWWl2jtTp19GBLA_5BoSV2_zDzi2pH3tLgfi8NjHXTdDeMFEGzMAR-D41Hy61PvGty-3qwJw5CEGKheJN8FiMeqwxk3byGtGmB-knuxuWkEUupZonJDxvfRq8NJQ1m7Cadn3en5trCUlGpUhQTyBDLI-biT9OPFI9xLDPTrwHx6KOrkw7gs0v30BJ4eQ1V2-B3Rlwsf0RE1ZqCOob71YS4K-7BvmEBTMdOo-SdprmwdgSk9knEg_NmGn1CLqnAkbqihZPPCv8f2nNLJwypgKPOysaa5v1N_JYbQIKGM9LG2QuihZ-0Ga-cWSBhinvb3Hc3cEY80UnsFO7A-SlmCgrM7Jk33LMtxxERMm2G1Ci7vT8dZcg7qVlvbtBIm8gQc_Eo7bT54GMe1HKvUEOVcGIcstFzkrPH4fw1o67emGFNzf6dO3QDp0RAgOwUdwwPZzHXvRXKVeGP7zJQkeHU-GYXUgvMv75IVcuGJs9KbZyR6A0Doy8HYEqJx6ZdMLZ29UgNs-WetfCSdrlxuYxU2Ye36BIG6RSD_rIKPpRjZPr29nfhm4O_zjNUTtLuYYxXEyr3BFCoNz0AniHKOu_jJ6w56QRx_kyoP7L5jwg=s64",
      "userId": "10950794880338920839"
     },
     "user_tz": 240
    },
    "id": "gXb_Hn1CWPD6",
    "outputId": "84be6f60-c4ef-42c8-ccc1-5f7abfe7cb5d"
   },
   "outputs": [
    {
     "name": "stdout",
     "output_type": "stream",
     "text": [
      "5\n",
      "6\n",
      "7\n",
      "8\n",
      "9\n"
     ]
    }
   ],
   "source": [
    "for num in y:\n",
    "  print(num)"
   ]
  },
  {
   "cell_type": "markdown",
   "id": "vocal-dryer",
   "metadata": {
    "colab_type": "text",
    "id": "xfhI3QcfvmLi"
   },
   "source": [
    "#### *Exercise 7*\n",
    "\n",
    "What is printed by the following code?\n",
    "\n",
    "```\n",
    "mysum = 0\n",
    "for i in range(5, 11, 2):\n",
    "    mysum += i\n",
    "    if mysum == 5:\n",
    "        break\n",
    "        mysum += 1\n",
    "print(mysum)\n",
    "```"
   ]
  },
  {
   "cell_type": "markdown",
   "id": "automotive-train",
   "metadata": {
    "colab_type": "text",
    "id": "RsVwL-nj3EXy"
   },
   "source": [
    "#### *Exercise 8*\n",
    "\n",
    "What is the output of this code?\n",
    "\n",
    "```\n",
    "for i in range(6, -6, -1):\n",
    "   if i % 5 == 0 and i*2 < 10:\n",
    "      print(i)\n",
    "```"
   ]
  },
  {
   "cell_type": "markdown",
   "id": "official-number",
   "metadata": {
    "colab_type": "text",
    "id": "FLSXJwLq3L2K"
   },
   "source": [
    "It's also possible to perform operations on the variable in the for loop. For example, printing all the squares of numbers from 0 to 10 can be accomplished like this: "
   ]
  },
  {
   "cell_type": "code",
   "execution_count": null,
   "id": "postal-memphis",
   "metadata": {
    "colab": {
     "base_uri": "https://localhost:8080/",
     "height": 202
    },
    "colab_type": "code",
    "executionInfo": {
     "elapsed": 329,
     "status": "ok",
     "timestamp": 1594747660747,
     "user": {
      "displayName": "Priya Veeraraghavan",
      "photoUrl": "https://lh3.googleusercontent.com/a-/AOh14Gh2dEr_zfHymCarnLpzSeBStUfsCSd3VguS7odKMikqxgM916bExUrLY3O49YnZ6vR3MdR250MLZTfakPYl4b6qq3KqoX47cMPxnUw5Np-v92Q--lQSoaA2N5ePkvEE4rWiv7cFFHzHUNy3e4TEUqM0EF2Ec_uXbbWWl2jtTp19GBLA_5BoSV2_zDzi2pH3tLgfi8NjHXTdDeMFEGzMAR-D41Hy61PvGty-3qwJw5CEGKheJN8FiMeqwxk3byGtGmB-knuxuWkEUupZonJDxvfRq8NJQ1m7Cadn3en5trCUlGpUhQTyBDLI-biT9OPFI9xLDPTrwHx6KOrkw7gs0v30BJ4eQ1V2-B3Rlwsf0RE1ZqCOob71YS4K-7BvmEBTMdOo-SdprmwdgSk9knEg_NmGn1CLqnAkbqihZPPCv8f2nNLJwypgKPOysaa5v1N_JYbQIKGM9LG2QuihZ-0Ga-cWSBhinvb3Hc3cEY80UnsFO7A-SlmCgrM7Jk33LMtxxERMm2G1Ci7vT8dZcg7qVlvbtBIm8gQc_Eo7bT54GMe1HKvUEOVcGIcstFzkrPH4fw1o67emGFNzf6dO3QDp0RAgOwUdwwPZzHXvRXKVeGP7zJQkeHU-GYXUgvMv75IVcuGJs9KbZyR6A0Doy8HYEqJx6ZdMLZ29UgNs-WetfCSdrlxuYxU2Ye36BIG6RSD_rIKPpRjZPr29nfhm4O_zjNUTtLuYYxXEyr3BFCoNz0AniHKOu_jJ6w56QRx_kyoP7L5jwg=s64",
      "userId": "10950794880338920839"
     },
     "user_tz": 240
    },
    "id": "7bE-d-E93MqL",
    "outputId": "ac786329-83b1-4095-a1db-765625b369d0"
   },
   "outputs": [
    {
     "name": "stdout",
     "output_type": "stream",
     "text": [
      "0\n",
      "1\n",
      "4\n",
      "9\n",
      "16\n",
      "25\n",
      "36\n",
      "49\n",
      "64\n",
      "81\n",
      "100\n"
     ]
    }
   ],
   "source": [
    "integers = range(11)\n",
    "\n",
    "for i in integers:\n",
    "  print(i*i)"
   ]
  },
  {
   "cell_type": "markdown",
   "id": "marked-blackberry",
   "metadata": {
    "colab_type": "text",
    "id": "DVyaot5l3QEN"
   },
   "source": [
    "New variables can also be created/reassigned in a for loop. For example, this code multiplies n*(n-1) for all adjacent numbers in a list."
   ]
  },
  {
   "cell_type": "code",
   "execution_count": 20,
   "id": "duplicate-oracle",
   "metadata": {
    "colab": {
     "base_uri": "https://localhost:8080/",
     "height": 386
    },
    "colab_type": "code",
    "executionInfo": {
     "elapsed": 320,
     "status": "ok",
     "timestamp": 1594747811573,
     "user": {
      "displayName": "Priya Veeraraghavan",
      "photoUrl": "https://lh3.googleusercontent.com/a-/AOh14Gh2dEr_zfHymCarnLpzSeBStUfsCSd3VguS7odKMikqxgM916bExUrLY3O49YnZ6vR3MdR250MLZTfakPYl4b6qq3KqoX47cMPxnUw5Np-v92Q--lQSoaA2N5ePkvEE4rWiv7cFFHzHUNy3e4TEUqM0EF2Ec_uXbbWWl2jtTp19GBLA_5BoSV2_zDzi2pH3tLgfi8NjHXTdDeMFEGzMAR-D41Hy61PvGty-3qwJw5CEGKheJN8FiMeqwxk3byGtGmB-knuxuWkEUupZonJDxvfRq8NJQ1m7Cadn3en5trCUlGpUhQTyBDLI-biT9OPFI9xLDPTrwHx6KOrkw7gs0v30BJ4eQ1V2-B3Rlwsf0RE1ZqCOob71YS4K-7BvmEBTMdOo-SdprmwdgSk9knEg_NmGn1CLqnAkbqihZPPCv8f2nNLJwypgKPOysaa5v1N_JYbQIKGM9LG2QuihZ-0Ga-cWSBhinvb3Hc3cEY80UnsFO7A-SlmCgrM7Jk33LMtxxERMm2G1Ci7vT8dZcg7qVlvbtBIm8gQc_Eo7bT54GMe1HKvUEOVcGIcstFzkrPH4fw1o67emGFNzf6dO3QDp0RAgOwUdwwPZzHXvRXKVeGP7zJQkeHU-GYXUgvMv75IVcuGJs9KbZyR6A0Doy8HYEqJx6ZdMLZ29UgNs-WetfCSdrlxuYxU2Ye36BIG6RSD_rIKPpRjZPr29nfhm4O_zjNUTtLuYYxXEyr3BFCoNz0AniHKOu_jJ6w56QRx_kyoP7L5jwg=s64",
      "userId": "10950794880338920839"
     },
     "user_tz": 240
    },
    "id": "aNCVB2AT3S1K",
    "outputId": "8aeb2225-f8cd-49a2-805d-4fb32b5775fe"
   },
   "outputs": [
    {
     "name": "stdout",
     "output_type": "stream",
     "text": [
      "0 0\n",
      "Reached the end\n",
      "1 0\n",
      "n*(n-1) = 0\n",
      "2 1\n",
      "n*(n-1) = 2\n",
      "3 2\n",
      "n*(n-1) = 6\n",
      "4 3\n",
      "n*(n-1) = 12\n",
      "5 4\n",
      "n*(n-1) = 20\n",
      "6 5\n",
      "n*(n-1) = 30\n",
      "7 6\n",
      "n*(n-1) = 42\n",
      "8 7\n",
      "n*(n-1) = 56\n",
      "9 8\n",
      "n*(n-1) = 72\n",
      "10 9\n",
      "n*(n-1) = 90\n"
     ]
    }
   ],
   "source": [
    "integers = range(11)\n",
    "\n",
    "j = 0\n",
    "for i in integers:\n",
    "  print(i, j)\n",
    "  if i == j:\n",
    "    print(\"Reached the end\")\n",
    "  else:\n",
    "    print(\"n*(n-1) = {}\".format(i*j))\n",
    "    j = i"
   ]
  },
  {
   "cell_type": "markdown",
   "id": "olympic-minute",
   "metadata": {
    "colab_type": "text",
    "id": "Mnkz2Jl23abW"
   },
   "source": [
    "#### *Exercise 9*\n",
    "\n",
    "Recall that compound interest is interest that is paid on the previous term/year's principal amount *plus* the interest from the previous term/year. For example, if every year I pay 5% interest, then for $100 starting loan:\n",
    "```\n",
    "1 year --> $105\n",
    "2 years --> $110.25\n",
    "3 years --> $115.76\n",
    "...\n",
    "15 years --> $207.89 \n",
    "```\n",
    "This is amost *DOUBLE* the original amount!\n",
    "\n",
    "a. Write a for loop that, given a certain number of years, calculates the amount that I owe if I don't pay off any of the debt annually.\n",
    "\n",
    "b. Now, write a loop that, given a certain number of years, calculates the amount that I owe if I do pay off 10% of the current debt annually."
   ]
  },
  {
   "cell_type": "markdown",
   "id": "painful-channels",
   "metadata": {
    "colab_type": "text",
    "id": "WGcf3MRP3eSg"
   },
   "source": [
    "For loops can also iterate through objects other than lists and ranges: dictionaries have a couple of options for iterating.\n",
    "\n",
    "The first is to iterate over the keys of the dictionary."
   ]
  },
  {
   "cell_type": "code",
   "execution_count": null,
   "id": "supported-worse",
   "metadata": {
    "colab": {
     "base_uri": "https://localhost:8080/",
     "height": 67
    },
    "colab_type": "code",
    "executionInfo": {
     "elapsed": 360,
     "status": "ok",
     "timestamp": 1594748560336,
     "user": {
      "displayName": "Priya Veeraraghavan",
      "photoUrl": "https://lh3.googleusercontent.com/a-/AOh14Gh2dEr_zfHymCarnLpzSeBStUfsCSd3VguS7odKMikqxgM916bExUrLY3O49YnZ6vR3MdR250MLZTfakPYl4b6qq3KqoX47cMPxnUw5Np-v92Q--lQSoaA2N5ePkvEE4rWiv7cFFHzHUNy3e4TEUqM0EF2Ec_uXbbWWl2jtTp19GBLA_5BoSV2_zDzi2pH3tLgfi8NjHXTdDeMFEGzMAR-D41Hy61PvGty-3qwJw5CEGKheJN8FiMeqwxk3byGtGmB-knuxuWkEUupZonJDxvfRq8NJQ1m7Cadn3en5trCUlGpUhQTyBDLI-biT9OPFI9xLDPTrwHx6KOrkw7gs0v30BJ4eQ1V2-B3Rlwsf0RE1ZqCOob71YS4K-7BvmEBTMdOo-SdprmwdgSk9knEg_NmGn1CLqnAkbqihZPPCv8f2nNLJwypgKPOysaa5v1N_JYbQIKGM9LG2QuihZ-0Ga-cWSBhinvb3Hc3cEY80UnsFO7A-SlmCgrM7Jk33LMtxxERMm2G1Ci7vT8dZcg7qVlvbtBIm8gQc_Eo7bT54GMe1HKvUEOVcGIcstFzkrPH4fw1o67emGFNzf6dO3QDp0RAgOwUdwwPZzHXvRXKVeGP7zJQkeHU-GYXUgvMv75IVcuGJs9KbZyR6A0Doy8HYEqJx6ZdMLZ29UgNs-WetfCSdrlxuYxU2Ye36BIG6RSD_rIKPpRjZPr29nfhm4O_zjNUTtLuYYxXEyr3BFCoNz0AniHKOu_jJ6w56QRx_kyoP7L5jwg=s64",
      "userId": "10950794880338920839"
     },
     "user_tz": 240
    },
    "id": "gyxAq90d3gNC",
    "outputId": "fdc5b9c9-8408-4946-d62b-da72b12e9aaa"
   },
   "outputs": [
    {
     "name": "stdout",
     "output_type": "stream",
     "text": [
      "banana\n",
      "tangerine\n",
      "strawberry\n"
     ]
    }
   ],
   "source": [
    "dct = {'banana': 'yellow', 'tangerine': 'orange', 'strawberry' : 'red'}\n",
    "\n",
    "for k in dct.keys():\n",
    "   print(k)"
   ]
  },
  {
   "cell_type": "markdown",
   "id": "frank-zimbabwe",
   "metadata": {
    "colab_type": "text",
    "id": "k79V9EiF3k2w"
   },
   "source": [
    "The second is to iterate over the values in the dictionary. "
   ]
  },
  {
   "cell_type": "code",
   "execution_count": null,
   "id": "hearing-sauce",
   "metadata": {
    "colab": {
     "base_uri": "https://localhost:8080/",
     "height": 67
    },
    "colab_type": "code",
    "executionInfo": {
     "elapsed": 351,
     "status": "ok",
     "timestamp": 1594748572632,
     "user": {
      "displayName": "Priya Veeraraghavan",
      "photoUrl": "https://lh3.googleusercontent.com/a-/AOh14Gh2dEr_zfHymCarnLpzSeBStUfsCSd3VguS7odKMikqxgM916bExUrLY3O49YnZ6vR3MdR250MLZTfakPYl4b6qq3KqoX47cMPxnUw5Np-v92Q--lQSoaA2N5ePkvEE4rWiv7cFFHzHUNy3e4TEUqM0EF2Ec_uXbbWWl2jtTp19GBLA_5BoSV2_zDzi2pH3tLgfi8NjHXTdDeMFEGzMAR-D41Hy61PvGty-3qwJw5CEGKheJN8FiMeqwxk3byGtGmB-knuxuWkEUupZonJDxvfRq8NJQ1m7Cadn3en5trCUlGpUhQTyBDLI-biT9OPFI9xLDPTrwHx6KOrkw7gs0v30BJ4eQ1V2-B3Rlwsf0RE1ZqCOob71YS4K-7BvmEBTMdOo-SdprmwdgSk9knEg_NmGn1CLqnAkbqihZPPCv8f2nNLJwypgKPOysaa5v1N_JYbQIKGM9LG2QuihZ-0Ga-cWSBhinvb3Hc3cEY80UnsFO7A-SlmCgrM7Jk33LMtxxERMm2G1Ci7vT8dZcg7qVlvbtBIm8gQc_Eo7bT54GMe1HKvUEOVcGIcstFzkrPH4fw1o67emGFNzf6dO3QDp0RAgOwUdwwPZzHXvRXKVeGP7zJQkeHU-GYXUgvMv75IVcuGJs9KbZyR6A0Doy8HYEqJx6ZdMLZ29UgNs-WetfCSdrlxuYxU2Ye36BIG6RSD_rIKPpRjZPr29nfhm4O_zjNUTtLuYYxXEyr3BFCoNz0AniHKOu_jJ6w56QRx_kyoP7L5jwg=s64",
      "userId": "10950794880338920839"
     },
     "user_tz": 240
    },
    "id": "GW3iKbDd3vKx",
    "outputId": "c2c16bc6-f25b-424f-f869-c1783965f6b6"
   },
   "outputs": [
    {
     "name": "stdout",
     "output_type": "stream",
     "text": [
      "yellow\n",
      "orange\n",
      "red\n"
     ]
    }
   ],
   "source": [
    "for v in dct.values():\n",
    "  print(v)"
   ]
  },
  {
   "cell_type": "markdown",
   "id": "molecular-talent",
   "metadata": {
    "colab_type": "text",
    "id": "qUJq1-bn3y4H"
   },
   "source": [
    "The third is to iterate over all of the key, value pairs in the dictionary, called \"items\""
   ]
  },
  {
   "cell_type": "code",
   "execution_count": null,
   "id": "increasing-medication",
   "metadata": {
    "colab": {
     "base_uri": "https://localhost:8080/",
     "height": 67
    },
    "colab_type": "code",
    "executionInfo": {
     "elapsed": 320,
     "status": "ok",
     "timestamp": 1594748603436,
     "user": {
      "displayName": "Priya Veeraraghavan",
      "photoUrl": "https://lh3.googleusercontent.com/a-/AOh14Gh2dEr_zfHymCarnLpzSeBStUfsCSd3VguS7odKMikqxgM916bExUrLY3O49YnZ6vR3MdR250MLZTfakPYl4b6qq3KqoX47cMPxnUw5Np-v92Q--lQSoaA2N5ePkvEE4rWiv7cFFHzHUNy3e4TEUqM0EF2Ec_uXbbWWl2jtTp19GBLA_5BoSV2_zDzi2pH3tLgfi8NjHXTdDeMFEGzMAR-D41Hy61PvGty-3qwJw5CEGKheJN8FiMeqwxk3byGtGmB-knuxuWkEUupZonJDxvfRq8NJQ1m7Cadn3en5trCUlGpUhQTyBDLI-biT9OPFI9xLDPTrwHx6KOrkw7gs0v30BJ4eQ1V2-B3Rlwsf0RE1ZqCOob71YS4K-7BvmEBTMdOo-SdprmwdgSk9knEg_NmGn1CLqnAkbqihZPPCv8f2nNLJwypgKPOysaa5v1N_JYbQIKGM9LG2QuihZ-0Ga-cWSBhinvb3Hc3cEY80UnsFO7A-SlmCgrM7Jk33LMtxxERMm2G1Ci7vT8dZcg7qVlvbtBIm8gQc_Eo7bT54GMe1HKvUEOVcGIcstFzkrPH4fw1o67emGFNzf6dO3QDp0RAgOwUdwwPZzHXvRXKVeGP7zJQkeHU-GYXUgvMv75IVcuGJs9KbZyR6A0Doy8HYEqJx6ZdMLZ29UgNs-WetfCSdrlxuYxU2Ye36BIG6RSD_rIKPpRjZPr29nfhm4O_zjNUTtLuYYxXEyr3BFCoNz0AniHKOu_jJ6w56QRx_kyoP7L5jwg=s64",
      "userId": "10950794880338920839"
     },
     "user_tz": 240
    },
    "id": "IeoX8VbH4MKK",
    "outputId": "32a235a1-21b9-48f1-d670-9e416eb5762b"
   },
   "outputs": [
    {
     "name": "stdout",
     "output_type": "stream",
     "text": [
      "('banana', 'yellow')\n",
      "('tangerine', 'orange')\n",
      "('strawberry', 'red')\n"
     ]
    }
   ],
   "source": [
    "for i in dct.items():\n",
    "  print(i)\n"
   ]
  },
  {
   "cell_type": "markdown",
   "id": "superb-plasma",
   "metadata": {
    "colab_type": "text",
    "id": "XZzj7uWm4RDq"
   },
   "source": [
    "Which data structure does the previous output remind you of?"
   ]
  },
  {
   "cell_type": "markdown",
   "id": "concrete-experience",
   "metadata": {
    "colab_type": "text",
    "id": "682vuEz54TaF"
   },
   "source": [
    "If you know that there are going to be n separate values in each step of an iterator (like the dictionary above), you can assign each value a different variable depending on its position. \n",
    "\n",
    "In the previous example, I could have actually separated the key and the value during the iteration."
   ]
  },
  {
   "cell_type": "code",
   "execution_count": null,
   "id": "loaded-storm",
   "metadata": {
    "colab": {
     "base_uri": "https://localhost:8080/",
     "height": 67
    },
    "colab_type": "code",
    "executionInfo": {
     "elapsed": 342,
     "status": "ok",
     "timestamp": 1594748681053,
     "user": {
      "displayName": "Priya Veeraraghavan",
      "photoUrl": "https://lh3.googleusercontent.com/a-/AOh14Gh2dEr_zfHymCarnLpzSeBStUfsCSd3VguS7odKMikqxgM916bExUrLY3O49YnZ6vR3MdR250MLZTfakPYl4b6qq3KqoX47cMPxnUw5Np-v92Q--lQSoaA2N5ePkvEE4rWiv7cFFHzHUNy3e4TEUqM0EF2Ec_uXbbWWl2jtTp19GBLA_5BoSV2_zDzi2pH3tLgfi8NjHXTdDeMFEGzMAR-D41Hy61PvGty-3qwJw5CEGKheJN8FiMeqwxk3byGtGmB-knuxuWkEUupZonJDxvfRq8NJQ1m7Cadn3en5trCUlGpUhQTyBDLI-biT9OPFI9xLDPTrwHx6KOrkw7gs0v30BJ4eQ1V2-B3Rlwsf0RE1ZqCOob71YS4K-7BvmEBTMdOo-SdprmwdgSk9knEg_NmGn1CLqnAkbqihZPPCv8f2nNLJwypgKPOysaa5v1N_JYbQIKGM9LG2QuihZ-0Ga-cWSBhinvb3Hc3cEY80UnsFO7A-SlmCgrM7Jk33LMtxxERMm2G1Ci7vT8dZcg7qVlvbtBIm8gQc_Eo7bT54GMe1HKvUEOVcGIcstFzkrPH4fw1o67emGFNzf6dO3QDp0RAgOwUdwwPZzHXvRXKVeGP7zJQkeHU-GYXUgvMv75IVcuGJs9KbZyR6A0Doy8HYEqJx6ZdMLZ29UgNs-WetfCSdrlxuYxU2Ye36BIG6RSD_rIKPpRjZPr29nfhm4O_zjNUTtLuYYxXEyr3BFCoNz0AniHKOu_jJ6w56QRx_kyoP7L5jwg=s64",
      "userId": "10950794880338920839"
     },
     "user_tz": 240
    },
    "id": "uaLIM9cl4WfU",
    "outputId": "2f2c6979-6f10-443a-e2a7-34e6f6afd8ba"
   },
   "outputs": [
    {
     "name": "stdout",
     "output_type": "stream",
     "text": [
      "Key is banana; Value is yellow\n",
      "Key is tangerine; Value is orange\n",
      "Key is strawberry; Value is red\n"
     ]
    }
   ],
   "source": [
    "for k, v in dct.items():\n",
    "  print(\"Key is {}; Value is {}\".format(k, v))"
   ]
  },
  {
   "cell_type": "markdown",
   "id": "operating-module",
   "metadata": {
    "colab_type": "text",
    "id": "3-O_ExJriHMy"
   },
   "source": [
    "#### While loops\n",
    "A while loop repeats a sequence of statements until some condition becomes false. Here is a simple example which increments a variable until it reaches the value 5."
   ]
  },
  {
   "cell_type": "code",
   "execution_count": 22,
   "id": "circular-certificate",
   "metadata": {
    "colab": {
     "base_uri": "https://localhost:8080/",
     "height": 34
    },
    "colab_type": "code",
    "executionInfo": {
     "elapsed": 319,
     "status": "ok",
     "timestamp": 1594748946167,
     "user": {
      "displayName": "Priya Veeraraghavan",
      "photoUrl": "https://lh3.googleusercontent.com/a-/AOh14Gh2dEr_zfHymCarnLpzSeBStUfsCSd3VguS7odKMikqxgM916bExUrLY3O49YnZ6vR3MdR250MLZTfakPYl4b6qq3KqoX47cMPxnUw5Np-v92Q--lQSoaA2N5ePkvEE4rWiv7cFFHzHUNy3e4TEUqM0EF2Ec_uXbbWWl2jtTp19GBLA_5BoSV2_zDzi2pH3tLgfi8NjHXTdDeMFEGzMAR-D41Hy61PvGty-3qwJw5CEGKheJN8FiMeqwxk3byGtGmB-knuxuWkEUupZonJDxvfRq8NJQ1m7Cadn3en5trCUlGpUhQTyBDLI-biT9OPFI9xLDPTrwHx6KOrkw7gs0v30BJ4eQ1V2-B3Rlwsf0RE1ZqCOob71YS4K-7BvmEBTMdOo-SdprmwdgSk9knEg_NmGn1CLqnAkbqihZPPCv8f2nNLJwypgKPOysaa5v1N_JYbQIKGM9LG2QuihZ-0Ga-cWSBhinvb3Hc3cEY80UnsFO7A-SlmCgrM7Jk33LMtxxERMm2G1Ci7vT8dZcg7qVlvbtBIm8gQc_Eo7bT54GMe1HKvUEOVcGIcstFzkrPH4fw1o67emGFNzf6dO3QDp0RAgOwUdwwPZzHXvRXKVeGP7zJQkeHU-GYXUgvMv75IVcuGJs9KbZyR6A0Doy8HYEqJx6ZdMLZ29UgNs-WetfCSdrlxuYxU2Ye36BIG6RSD_rIKPpRjZPr29nfhm4O_zjNUTtLuYYxXEyr3BFCoNz0AniHKOu_jJ6w56QRx_kyoP7L5jwg=s64",
      "userId": "10950794880338920839"
     },
     "user_tz": 240
    },
    "id": "mYy58qvW3Bka",
    "outputId": "c41ec7e0-2473-4ffa-c141-e3372193b2b4"
   },
   "outputs": [
    {
     "name": "stdout",
     "output_type": "stream",
     "text": [
      "i = 5\n"
     ]
    }
   ],
   "source": [
    "# start out with the variable at 0\n",
    "i = 0\n",
    "\n",
    "# keep doing this as long\n",
    "# as i is less than 5\n",
    "while i < 5:\n",
    "\n",
    "  i = i + 1\n",
    "\n",
    "# when the loop is done, i has the value 5\n",
    "print('i = {:d}'.format(i))"
   ]
  },
  {
   "cell_type": "markdown",
   "id": "adequate-integrity",
   "metadata": {
    "colab_type": "text",
    "id": "CwcgXsCV8mRd"
   },
   "source": [
    "Note that there's no guarantee the loop's end condition will be reached, as in the following example:"
   ]
  },
  {
   "cell_type": "code",
   "execution_count": 23,
   "id": "precious-royalty",
   "metadata": {
    "colab": {
     "base_uri": "https://localhost:8080/",
     "height": 229
    },
    "colab_type": "code",
    "executionInfo": {
     "elapsed": 29579,
     "status": "error",
     "timestamp": 1594749087366,
     "user": {
      "displayName": "Priya Veeraraghavan",
      "photoUrl": "https://lh3.googleusercontent.com/a-/AOh14Gh2dEr_zfHymCarnLpzSeBStUfsCSd3VguS7odKMikqxgM916bExUrLY3O49YnZ6vR3MdR250MLZTfakPYl4b6qq3KqoX47cMPxnUw5Np-v92Q--lQSoaA2N5ePkvEE4rWiv7cFFHzHUNy3e4TEUqM0EF2Ec_uXbbWWl2jtTp19GBLA_5BoSV2_zDzi2pH3tLgfi8NjHXTdDeMFEGzMAR-D41Hy61PvGty-3qwJw5CEGKheJN8FiMeqwxk3byGtGmB-knuxuWkEUupZonJDxvfRq8NJQ1m7Cadn3en5trCUlGpUhQTyBDLI-biT9OPFI9xLDPTrwHx6KOrkw7gs0v30BJ4eQ1V2-B3Rlwsf0RE1ZqCOob71YS4K-7BvmEBTMdOo-SdprmwdgSk9knEg_NmGn1CLqnAkbqihZPPCv8f2nNLJwypgKPOysaa5v1N_JYbQIKGM9LG2QuihZ-0Ga-cWSBhinvb3Hc3cEY80UnsFO7A-SlmCgrM7Jk33LMtxxERMm2G1Ci7vT8dZcg7qVlvbtBIm8gQc_Eo7bT54GMe1HKvUEOVcGIcstFzkrPH4fw1o67emGFNzf6dO3QDp0RAgOwUdwwPZzHXvRXKVeGP7zJQkeHU-GYXUgvMv75IVcuGJs9KbZyR6A0Doy8HYEqJx6ZdMLZ29UgNs-WetfCSdrlxuYxU2Ye36BIG6RSD_rIKPpRjZPr29nfhm4O_zjNUTtLuYYxXEyr3BFCoNz0AniHKOu_jJ6w56QRx_kyoP7L5jwg=s64",
      "userId": "10950794880338920839"
     },
     "user_tz": 240
    },
    "id": "bhdegIAa8lRc",
    "outputId": "9019b41f-3a97-4e83-f8e3-c78fa52aca15"
   },
   "outputs": [
    {
     "ename": "KeyboardInterrupt",
     "evalue": "",
     "output_type": "error",
     "traceback": [
      "\u001b[0;31m---------------------------------------------------------------------------\u001b[0m",
      "\u001b[0;31mKeyboardInterrupt\u001b[0m                         Traceback (most recent call last)",
      "\u001b[0;32m<ipython-input-23-2585037c5ac3>\u001b[0m in \u001b[0;36m<module>\u001b[0;34m\u001b[0m\n\u001b[1;32m      2\u001b[0m \u001b[0;34m\u001b[0m\u001b[0m\n\u001b[1;32m      3\u001b[0m \u001b[0;31m# do this as long as i is even\u001b[0m\u001b[0;34m\u001b[0m\u001b[0;34m\u001b[0m\u001b[0;34m\u001b[0m\u001b[0m\n\u001b[0;32m----> 4\u001b[0;31m \u001b[0;32mwhile\u001b[0m \u001b[0mi\u001b[0m\u001b[0;34m%\u001b[0m\u001b[0;36m2\u001b[0m\u001b[0;34m==\u001b[0m\u001b[0;36m0\u001b[0m\u001b[0;34m:\u001b[0m\u001b[0;34m\u001b[0m\u001b[0;34m\u001b[0m\u001b[0m\n\u001b[0m\u001b[1;32m      5\u001b[0m   \u001b[0mi\u001b[0m \u001b[0;34m=\u001b[0m \u001b[0mi\u001b[0m\u001b[0;34m+\u001b[0m\u001b[0;36m2\u001b[0m\u001b[0;34m\u001b[0m\u001b[0;34m\u001b[0m\u001b[0m\n\u001b[1;32m      6\u001b[0m \u001b[0;34m\u001b[0m\u001b[0m\n",
      "\u001b[0;31mKeyboardInterrupt\u001b[0m: "
     ]
    }
   ],
   "source": [
    "i = 2\n",
    "\n",
    "# do this as long as i is even\n",
    "while i%2==0:\n",
    "  i = i+2\n",
    "\n",
    "print('done')"
   ]
  },
  {
   "cell_type": "markdown",
   "id": "continuous-myanmar",
   "metadata": {
    "colab_type": "text",
    "id": "bwayJwQP9My0"
   },
   "source": [
    "The word \"done\" is never printed because *i* is always even. (You may have to manually stop the evaluation of the above cell.)"
   ]
  },
  {
   "cell_type": "markdown",
   "id": "invisible-prize",
   "metadata": {},
   "source": [
    "### Breakout rooms for a few exercises"
   ]
  },
  {
   "cell_type": "markdown",
   "id": "israeli-glossary",
   "metadata": {
    "colab_type": "text",
    "id": "QkRY4E6R4Jkw"
   },
   "source": [
    "#### *Exercise 10*\n",
    "What string of numbers will the following while loop print out?"
   ]
  },
  {
   "cell_type": "markdown",
   "id": "worse-machinery",
   "metadata": {
    "colab_type": "text",
    "id": "zRstCHE_6Ssl"
   },
   "source": [
    "#### *Exercise 11 (Fibonacci 1)*\n",
    "\n",
    "The Fibonacci sequence is generated according to the following rule: the *k*th entry $s_k$ is calculated according to\n",
    "\n",
    "$s_k = s_{k-1} + s_{k-2}$,\n",
    "\n",
    "and $s_0 = s_1 = 1$.\n",
    "\n",
    "Write a while loop to print out every element of the series less than 100. (You don't have to worry about printing the first two within the loop.) Solution code is available at the end of the notebook."
   ]
  },
  {
   "cell_type": "code",
   "execution_count": null,
   "id": "african-miami",
   "metadata": {
    "colab": {},
    "colab_type": "code",
    "id": "MOoZ4F9s6D5a"
   },
   "outputs": [],
   "source": [
    "### write code here ###"
   ]
  },
  {
   "cell_type": "markdown",
   "id": "gothic-recall",
   "metadata": {
    "colab_type": "text",
    "id": "KdKi17Rs8Q7E"
   },
   "source": [
    "#### *Exercise 12 (Phone number)*\n",
    "\n",
    "In the following, *dial* represents a randomly chosen phone number and *phone_number* represents that of someone we would like to call.\n",
    "\n",
    "Going digit by digit, assume that we can either increase a digit of *dial* by one or set it to zero. Write the missing code to set *dial* to chosen number. (You will have to change the indentation level of the two allowed assignment statements if you use if/else statements!) A solution is available at the end of the notebook."
   ]
  },
  {
   "cell_type": "code",
   "execution_count": null,
   "id": "handmade-pledge",
   "metadata": {
    "colab": {},
    "colab_type": "code",
    "id": "hclJ9C6g9r3s"
   },
   "outputs": [],
   "source": [
    "dial         = [2,3,9,6,0,2,2]\n",
    "phone_number = [8,6,7,5,3,0,9]\n",
    "\n",
    "# proceed through each digit\n",
    "for d in range(len(dial)):\n",
    "\n",
    "  # do something until ?\n",
    "  while dial[d] == phone_number[d]:\n",
    "\n",
    "    ### write code here ###\n",
    "    dial[d] = dial[d] + 1\n",
    "    dial[d] = 0\n",
    "    ### the above two statements ###\n",
    "    ### are the only assignments ###\n",
    "    ### you may use with dial    ###\n",
    "\n",
    "print(dial == phone_number)\n"
   ]
  },
  {
   "cell_type": "markdown",
   "id": "resistant-season",
   "metadata": {
    "colab_type": "text",
    "id": "3kauLTUMBssu"
   },
   "source": [
    "#### *Exercise 13 (Mineral water) *\n",
    "\n",
    "In a room with four walls (we label them wall *i*, with $i=0,1,2,3$), each wall initially holds 99 bottles of mineral water. The number of bottles on each wall is stored in the *bottles* list, such that *bottles[i]* is the number of bottles on wall *i*.\n",
    "\n",
    "A group is taking down and sharing the bottles' contents in a predictable pattern, stored in the *take* array. In particular, for each round of mineral water, the group removes *take[i]* bottles from wall *i*.\n",
    "\n",
    "The group stops drinking the mineral water as soon as one of the walls has no bottles left. Write a while loop (and use for loops as needed) to determine how many bottles are left on each wall after the group is done. A solution is availabe at the end of the notebook.\n",
    "\n",
    "Hint: you can use a for loop to calculate a boolean variable representing whether each wall has at least one bottle on it."
   ]
  },
  {
   "cell_type": "code",
   "execution_count": null,
   "id": "entitled-store",
   "metadata": {
    "colab": {},
    "colab_type": "code",
    "id": "N46yxp8uBh9V"
   },
   "outputs": [],
   "source": [
    "bottles = [99,99,99,99]\n",
    "take = [1,3,2,1]\n",
    "\n",
    "### write code here ###"
   ]
  },
  {
   "cell_type": "markdown",
   "id": "patient-meter",
   "metadata": {
    "colab_type": "text",
    "id": "_V4vOf475Icd"
   },
   "source": [
    "## The *break* and *continue* statements\n",
    "\n",
    "Sometimes, we may want to jump out of or to the beginning of a loop iteration.\n",
    "\n",
    "The *break* statement immediately exits a for or a while loop. Here is an example where we loop through a list to find the index of a certain value and exit immediately on finding it:"
   ]
  },
  {
   "cell_type": "code",
   "execution_count": null,
   "id": "functional-toddler",
   "metadata": {
    "colab": {
     "base_uri": "https://localhost:8080/",
     "height": 34
    },
    "colab_type": "code",
    "executionInfo": {
     "elapsed": 664,
     "status": "ok",
     "timestamp": 1595353244326,
     "user": {
      "displayName": "Priya Veeraraghavan",
      "photoUrl": "https://lh3.googleusercontent.com/a-/AOh14GitZYxyab7Fw-44g8fH-Vcff7S7Q0qEFjjp4kHWaKn4UhIipTSW64s4nwS6uEnViFK6BUfg9toenL5iH6hCDx2ibYF2CUWuikCwCMo8qM3KGXnqqM7_84UF6Z0cH5sZK6QoRjQEDDyeNegLVetiL9_ZghRYGRMR9rXj5lyJf42FPky2fDsWH2RAbjgcveLpeJuLOXeueObiqWxFIApRcfze7EBgPTskgDMiEzDvxzLbAc2HRSOtPm5v-BS54s3BUyiY3ZnaGf7BYYZSJ-zSJbympRXfjGGBbiYo5DE_XpSP-d5wLVd0XNU5OYQp8pwZncBVtA4IZxQr6T8c2I0zEIKHkC1Bp9AGGacNbVJ9nko2Lf2ewDB1WZh69QJU0azCuA9V6OGaVpTW8SF_eay-dsnP-iPd-cMsyIJw774z8dbDfrIB1IzzR5Vd_6cCfxz2_rrgykGTaHFgopW7YTuMDdzDgHNTSjNxdW2MMy59efRXAi2ocIG-f3yLCgsxFGSEMSYpjAUG5VmxSixYDDDBZFVXPKySrurENIw6cWo0VCy2cmy8KeC07ao2amrf9HKhAbhSlYrAMk8X-6auuNLkHwc4mq1hjIVZ8wgoEI7YLYGDPkfFv8pNNXMEX0G9UkqRc9IOz-gs16mrdesVuKZUuBU-H-07eyz3UVzeiuufRqEFZQ9riItG2JO1Ko7-aQFfmCAcYSYaFFJwmce2B3KV_YP1NJeR5KN8Jyrm5eY2Hh0z9eMnY0FL-yhLf_V7BJ0khVmydg=s64",
      "userId": "10950794880338920839"
     },
     "user_tz": 240
    },
    "id": "oJAJaDFt4G5h",
    "outputId": "263b58ef-323f-466b-a1c5-e96fcdac51ec"
   },
   "outputs": [
    {
     "name": "stdout",
     "output_type": "stream",
     "text": [
      "i = 8\n"
     ]
    }
   ],
   "source": [
    "# here is a set of values\n",
    "values = [2,1,6,3,67,2,43,534,23,2]\n",
    "\n",
    "# let's find the index of the first\n",
    "# value in the list betweeen 20 and 30\n",
    "\n",
    "# we start a for loop\n",
    "for i in range(len(values)):\n",
    "  \n",
    "  # for each value, we check if\n",
    "  # between 20 and 30\n",
    "  if 20 < values[i] < 30:\n",
    "\n",
    "    # if it is, let's break the loop\n",
    "    break\n",
    "\n",
    "# now that we are out of the loop, i\n",
    "# retains the value it had at the\n",
    "# evaluation of the break statement\n",
    "\n",
    "# i will be 8, the index of 23\n",
    "print('i = {:d}'.format(i))"
   ]
  },
  {
   "cell_type": "markdown",
   "id": "global-combat",
   "metadata": {
    "colab_type": "text",
    "id": "xC7OcuD4_YcS"
   },
   "source": [
    "The *continue* statement is used to jump to the start of a loop's next iteration, as in the following example, which builds a set of integer ranges of odd numbers."
   ]
  },
  {
   "cell_type": "code",
   "execution_count": null,
   "id": "handmade-christianity",
   "metadata": {
    "colab": {},
    "colab_type": "code",
    "id": "izUi6skU8tgo"
   },
   "outputs": [],
   "source": [
    "output = []\n",
    "for i in range(5):\n",
    "\n",
    "  # skip this iteration if\n",
    "  # i is an odd number\n",
    "  if i%2 == 1:\n",
    "    continue\n",
    "\n",
    "  # generate a list from 0 to i (inclusive)\n",
    "  new_list = []\n",
    "  for j in range(i+1):\n",
    "    new_list.append(j)\n",
    "\n",
    "  # include the new list in the output\n",
    "  output.append(new_list)\n",
    "\n",
    "# we should now have three lists containing\n",
    "# integer ranges from 0-0, 0-2, and 0-4 inclusive\n",
    "print(output)"
   ]
  },
  {
   "cell_type": "markdown",
   "id": "adolescent-prime",
   "metadata": {
    "colab_type": "text",
    "id": "K4dkltEoy5Sz"
   },
   "source": [
    "#### Compound boolean operators\n",
    "As seen above, we can use *and*, *or*, and *not* to build complicated boolean expressions.\n",
    "\n",
    "Parsing these can look daunting, but we can boil much of the process down to a single rule:\n",
    "\n",
    "*not (A and B) = (not A) or (not B)*\n",
    "\n",
    "*not (A or B) = (not A) and (not B)*\n",
    "\n",
    "Negating a compound expression yields another compound expression where 1) each individual piece is its opposite and 2) *and*'s and *or*'s are swapped.\n",
    "\n",
    "This can be seen in the example below, which will evaluate to True regardless of the values of and b. (Why is this the case?)"
   ]
  },
  {
   "cell_type": "code",
   "execution_count": null,
   "id": "stretch-invitation",
   "metadata": {
    "colab": {},
    "colab_type": "code",
    "id": "goghFf59z20S"
   },
   "outputs": [],
   "source": [
    "# set these to whatever you want\n",
    "a = False\n",
    "b = True\n",
    "\n",
    "# always True\n",
    "not (a and b) == (not a or not b)"
   ]
  },
  {
   "cell_type": "markdown",
   "id": "thick-construction",
   "metadata": {
    "colab_type": "text",
    "id": "CmppnHlh2eIS"
   },
   "source": [
    "Python employs a strategy called \"short-circuiting\" in evaluating boolean expressions, such that it does no more work than it needs to. Consider the expression\n",
    "\n",
    "C = A and B.\n",
    "\n",
    "When Python evaluates C, if A evaluates to False, it will not evaluate B (why?). Similarly, if\n",
    "\n",
    "C = A or B,\n",
    "\n",
    "then if A evaluates to True, B will not be evaluated.\n",
    "\n",
    "This can be advantageous in cases where we need to check if something exists (for instance, if we're given user input and are unsure whether it is usable).\n",
    "\n",
    "For example, in the following, we check whether the *j*th element of *values* is less than 3. Using short-circuiting, we can accept any value of *j* and not risk an IndexError, since if *j* is out of range the expression *values[j] < 3* will not be evaluated."
   ]
  },
  {
   "cell_type": "code",
   "execution_count": 6,
   "id": "contained-malta",
   "metadata": {
    "colab": {
     "base_uri": "https://localhost:8080/",
     "height": 34
    },
    "colab_type": "code",
    "executionInfo": {
     "elapsed": 379,
     "status": "ok",
     "timestamp": 1595954450122,
     "user": {
      "displayName": "Natalia Rodriguez",
      "photoUrl": "https://lh3.googleusercontent.com/a-/AOh14GiwH8p7tNw2lwBw23umqDB9ttzlqD2NcjCkk1p2=s64",
      "userId": "17829630678085361865"
     },
     "user_tz": 240
    },
    "id": "Nga8dnYLzps3",
    "outputId": "b4402de6-eed2-4727-cc4b-900e85019afb"
   },
   "outputs": [
    {
     "name": "stdout",
     "output_type": "stream",
     "text": [
      "values[j] is less than 3\n"
     ]
    }
   ],
   "source": [
    "values = [3,7,2,5,4,4,-2,0,2,4]\n",
    "\n",
    "j = 2\n",
    "\n",
    "if (0 < j < len(values)) and values[j] < 3:\n",
    "  print(\"values[j] is less than 3\")\n",
    "else:\n",
    "  print(\"inconclusive\")"
   ]
  },
  {
   "cell_type": "markdown",
   "id": "domestic-object",
   "metadata": {
    "colab_type": "text",
    "id": "2oNCF-7z4afl"
   },
   "source": [
    "Can the above code snippet tell us whether *values[j]* is greater than or equal to 3? Why or why not?\n",
    "\n",
    "Note that without short-circuiting, an error is generated."
   ]
  },
  {
   "cell_type": "code",
   "execution_count": 7,
   "id": "regulated-advice",
   "metadata": {
    "colab": {
     "base_uri": "https://localhost:8080/",
     "height": 215
    },
    "colab_type": "code",
    "executionInfo": {
     "elapsed": 286,
     "status": "error",
     "timestamp": 1595954483088,
     "user": {
      "displayName": "Natalia Rodriguez",
      "photoUrl": "https://lh3.googleusercontent.com/a-/AOh14GiwH8p7tNw2lwBw23umqDB9ttzlqD2NcjCkk1p2=s64",
      "userId": "17829630678085361865"
     },
     "user_tz": 240
    },
    "id": "cQCYPakO3LyW",
    "outputId": "340e18bf-e82d-48dc-d56f-19387426e3d2"
   },
   "outputs": [
    {
     "ename": "IndexError",
     "evalue": "ignored",
     "output_type": "error",
     "traceback": [
      "\u001b[0;31m---------------------------------------------------------------------------\u001b[0m",
      "\u001b[0;31mIndexError\u001b[0m                                Traceback (most recent call last)",
      "\u001b[0;32m<ipython-input-7-59a5db3b121f>\u001b[0m in \u001b[0;36m<module>\u001b[0;34m()\u001b[0m\n\u001b[1;32m      3\u001b[0m \u001b[0mj\u001b[0m \u001b[0;34m=\u001b[0m \u001b[0;36m10\u001b[0m\u001b[0;34m\u001b[0m\u001b[0;34m\u001b[0m\u001b[0m\n\u001b[1;32m      4\u001b[0m \u001b[0;34m\u001b[0m\u001b[0m\n\u001b[0;32m----> 5\u001b[0;31m \u001b[0;32mif\u001b[0m \u001b[0mvalues\u001b[0m\u001b[0;34m[\u001b[0m\u001b[0mj\u001b[0m\u001b[0;34m]\u001b[0m \u001b[0;34m<\u001b[0m \u001b[0;36m3\u001b[0m\u001b[0;34m:\u001b[0m\u001b[0;34m\u001b[0m\u001b[0;34m\u001b[0m\u001b[0m\n\u001b[0m\u001b[1;32m      6\u001b[0m   \u001b[0mprint\u001b[0m\u001b[0;34m(\u001b[0m\u001b[0;34m\"A\"\u001b[0m\u001b[0;34m)\u001b[0m\u001b[0;34m\u001b[0m\u001b[0;34m\u001b[0m\u001b[0m\n",
      "\u001b[0;31mIndexError\u001b[0m: list index out of range"
     ]
    }
   ],
   "source": [
    "values = [0,1,2,3,4]\n",
    "\n",
    "j = 10\n",
    "\n",
    "if values[j] < 3:\n",
    "  print(\"A\")"
   ]
  },
  {
   "cell_type": "markdown",
   "id": "persistent-pressure",
   "metadata": {
    "colab_type": "text",
    "id": "UZRzXkIJ4rT7"
   },
   "source": [
    "### Functions"
   ]
  },
  {
   "cell_type": "markdown",
   "id": "compound-burst",
   "metadata": {
    "colab_type": "text",
    "id": "UAyUzIq3EyEN"
   },
   "source": [
    "In previous examples and problems, you'll notice code is repeated. Consider the following, where we start with a list [0,0,0,0] and add the values [1,2,3,4] at the corresponding positions, stopping once there is at least one element of the list which is greater than or equal to 10:"
   ]
  },
  {
   "cell_type": "code",
   "execution_count": null,
   "id": "superior-needle",
   "metadata": {
    "colab": {
     "base_uri": "https://localhost:8080/",
     "height": 36
    },
    "colab_type": "code",
    "executionInfo": {
     "elapsed": 399,
     "status": "ok",
     "timestamp": 1595956790272,
     "user": {
      "displayName": "Nick Derr",
      "photoUrl": "",
      "userId": "09936509318349382167"
     },
     "user_tz": 240
    },
    "id": "Yjikk1AO4qVO",
    "outputId": "e839a957-a4ce-4e1b-887e-83a5825213ba"
   },
   "outputs": [
    {
     "name": "stdout",
     "output_type": "stream",
     "text": [
      "[3, 6, 9, 12]\n"
     ]
    }
   ],
   "source": [
    "# initial list\n",
    "vals = [0,0,0,0]\n",
    "\n",
    "# increment amounts\n",
    "dv   = [1,2,3,4]\n",
    "\n",
    "# this code block sets \"all_less_than_ten\"\n",
    "all_less_than_ten = True\n",
    "for v in vals:\n",
    "  if v >= 10:\n",
    "    all_less_than_ten = False\n",
    "  \n",
    "# loop as long as all elements are less than ten\n",
    "while all_less_than_ten:\n",
    "\n",
    "  # increment each value in the list\n",
    "  for vi in range(len(vals)):\n",
    "    vals[vi] = vals[vi] + dv[vi]\n",
    "\n",
    "  # we have to re-run this entire code block each\n",
    "  # time through the loop for all_less_than_ten's\n",
    "  # value to reflect the current state of the list\n",
    "  all_less_than_ten = True\n",
    "  for v in vals:\n",
    "    if v >= 10:\n",
    "      all_less_than_ten = False\n",
    "\n",
    "# print final value\n",
    "print(vals)"
   ]
  },
  {
   "cell_type": "markdown",
   "id": "sharing-cigarette",
   "metadata": {
    "colab_type": "text",
    "id": "KLx_SSak7IE3"
   },
   "source": [
    "Notice that each time through the list, we need to run a set of four lines which are exactly the same in order to set the boolean variable \"all_less_than_ten\" which expresses whether the loop's end condition has been met. This is an example of *repeated code*, where two instances in the program are performing exactly the same calculations or actions.\n",
    "\n",
    "In general, it's a good idea to limit the amount of repeated code in your work for a few reasons:\n",
    "\n",
    "1) the more times you're writing the same thing, the more chances you have to introduce a bug\n",
    "\n",
    "2) if you alter the code later and change a part of the repeated bit, you'll have to remember each location it's repeated and make the corresponding changes at each of those points\n",
    "\n",
    "3) repeated code encourages copy-pasting code snippets. This seems like it can save time (and in some circumstances it can!) but it can also lead to writing code \"on autopilot\" with less focus (and possibly more bugs.)\n",
    "\n",
    "Aside from these practical reasons for avoiding repeated code, there's an organizational argument as well. When you first read this code, it was probably not obvious that the two blocks setting \"all_less_than_ten\" were the same: you probably had to read through them and verify that each of the lines was identical. In other words, repeated code can be hard to parse and understand, as **there's no explicit indication to a reader that separate code snippets are doing the same thing**.\n",
    "\n",
    "We can address many of these concerns with the concept of *functions*. When writing code, we can designate blocks of code which are designed to take in arguments and perform a set series of actions on them. Here's an example:"
   ]
  },
  {
   "cell_type": "code",
   "execution_count": null,
   "id": "unauthorized-consent",
   "metadata": {
    "colab": {},
    "colab_type": "code",
    "id": "I5GvN2TP5wVG"
   },
   "outputs": [],
   "source": [
    "# this function takes in a list (\"values\")\n",
    "# and returns True if each element of list\n",
    "# is less than 10. Otherwise, it returns False\n",
    "def fun_all_less_than_ten(values):\n",
    "\n",
    "  # introduce a boolean variable representing\n",
    "  # whether the vars are less than 10\n",
    "  less_than_ten = True\n",
    "\n",
    "  # loop through each value in the provided list\n",
    "  for v in values:\n",
    "\n",
    "    # if it is equal to or greater than 10, set\n",
    "    # the boolean variable to False\n",
    "    if not v < 10:\n",
    "      less_than_ten = False\n",
    "\n",
    "  # return the boolean variable\n",
    "  return less_than_ten"
   ]
  },
  {
   "cell_type": "markdown",
   "id": "sexual-train",
   "metadata": {
    "colab_type": "text",
    "id": "HW5suZuI-djr"
   },
   "source": [
    "This block of code represents a *function definiton* (hence the \"def\" at the beginning.) The name of the function is \"fun_all_less_than_ten\", and it takes a single argument: a list called \"values\".\n",
    "\n",
    "The value with the *return* keyword is the value the function call will evaluate to when it is called. Below, this takes the form of a boolean which is true if (and only if) each value in the passed list is less than 10."
   ]
  },
  {
   "cell_type": "code",
   "execution_count": null,
   "id": "lesser-contents",
   "metadata": {
    "colab": {
     "base_uri": "https://localhost:8080/",
     "height": 75
    },
    "colab_type": "code",
    "executionInfo": {
     "elapsed": 314,
     "status": "ok",
     "timestamp": 1595956799161,
     "user": {
      "displayName": "Nick Derr",
      "photoUrl": "",
      "userId": "09936509318349382167"
     },
     "user_tz": 240
    },
    "id": "joxwltmv-ael",
    "outputId": "7049d1f7-a52b-402c-b3aa-053539e5cda5"
   },
   "outputs": [
    {
     "name": "stdout",
     "output_type": "stream",
     "text": [
      "True should be True\n",
      "True should be True\n",
      "False should be False\n"
     ]
    }
   ],
   "source": [
    "example_list_1 = [3,2,1]\n",
    "less_than = fun_all_less_than_ten(example_list_1)\n",
    "print(\"{} should be True\".format(less_than))\n",
    "\n",
    "example_list_2 = [3,2,1,4,7,2,4,2,5]\n",
    "less_than = fun_all_less_than_ten(example_list_2)\n",
    "print(\"{} should be True\".format(less_than))\n",
    "\n",
    "example_list_3 = [3,2,1,41,7,2,4,2,5]\n",
    "less_than = fun_all_less_than_ten(example_list_3)\n",
    "print(\"{} should be False\".format(less_than))"
   ]
  },
  {
   "cell_type": "markdown",
   "id": "connected-ghana",
   "metadata": {
    "colab_type": "text",
    "id": "WAf0CRhwBpPc"
   },
   "source": [
    "Now we can re-write our example list from above:"
   ]
  },
  {
   "cell_type": "code",
   "execution_count": null,
   "id": "excessive-shelter",
   "metadata": {
    "colab": {},
    "colab_type": "code",
    "id": "q3OjIGzR_BK1"
   },
   "outputs": [],
   "source": [
    "# initial list\n",
    "vals = [0,0,0,0]\n",
    "\n",
    "# increment amounts\n",
    "dv   = [1,2,3,4]\n",
    "  \n",
    "# set boolean representing whether\n",
    "# each element is less than ten\n",
    "all_less = fun_all_less_than_ten(vals)\n",
    "\n",
    "# loop as long as all elements are less than ten\n",
    "while all_less:\n",
    "\n",
    "  # increment each value in the list\n",
    "  for vi in range(len(vals)):\n",
    "    vals[vi] = vals[vi] + dv[vi]\n",
    "\n",
    "  # update boolean \n",
    "  all_less = fun_all_less_than_ten(vals)\n",
    "\n",
    "# print final value\n",
    "print(vals)"
   ]
  },
  {
   "cell_type": "markdown",
   "id": "electrical-lottery",
   "metadata": {
    "colab_type": "text",
    "id": "4kH-lJKbCjyQ"
   },
   "source": [
    "This is much cleaner: the repeated four-line snippet is now contained in the function \"fun_all_less_than_ten\", and it is now explicitly communicated to any reader of the code that the two lines setting the value of \"all_less\" are performing the same actions.\n",
    "\n",
    "Note that just looking at this block **no longer** communicates to a reader what the value of \"all_less\" represents; they would also need to look at the definition of the function to see what exactly it's doing. For this reason, it's good to choose a function name that communicates what the function does!\n",
    "\n",
    "We can clean up the loop even more: since the function returns a boolean variable, we can use it as the loop condition and eliminate the boolean variable \"all_less\":"
   ]
  },
  {
   "cell_type": "code",
   "execution_count": null,
   "id": "artificial-composition",
   "metadata": {
    "colab": {
     "base_uri": "https://localhost:8080/",
     "height": 36
    },
    "colab_type": "code",
    "executionInfo": {
     "elapsed": 354,
     "status": "ok",
     "timestamp": 1595956987397,
     "user": {
      "displayName": "Nick Derr",
      "photoUrl": "",
      "userId": "09936509318349382167"
     },
     "user_tz": 240
    },
    "id": "Qt-oorN2B1sg",
    "outputId": "a6904c63-b397-45be-af14-d29dfd5918a5"
   },
   "outputs": [
    {
     "name": "stdout",
     "output_type": "stream",
     "text": [
      "[3, 6, 9, 12]\n"
     ]
    }
   ],
   "source": [
    "# initial list\n",
    "vals = [0,0,0,0]\n",
    "\n",
    "# increment amounts\n",
    "dv   = [1,2,3,4]\n",
    "\n",
    "# loop as long as all elements are less than ten\n",
    "while fun_all_less_than_ten(vals):\n",
    "\n",
    "  # increment each value in the list\n",
    "  for vi in range(len(vals)):\n",
    "    vals[vi] = vals[vi] + dv[vi]\n",
    "\n",
    "# print final value\n",
    "print(vals)"
   ]
  },
  {
   "cell_type": "markdown",
   "id": "about-bankruptcy",
   "metadata": {
    "colab_type": "text",
    "id": "jbAfOTiXFGaX"
   },
   "source": [
    "Functions can take in any number of arguments (including zero): here's a function that takes in two numbers and returns their product."
   ]
  },
  {
   "cell_type": "code",
   "execution_count": 24,
   "id": "sorted-saturn",
   "metadata": {
    "colab": {
     "base_uri": "https://localhost:8080/",
     "height": 55
    },
    "colab_type": "code",
    "executionInfo": {
     "elapsed": 410,
     "status": "ok",
     "timestamp": 1595957058776,
     "user": {
      "displayName": "Nick Derr",
      "photoUrl": "",
      "userId": "09936509318349382167"
     },
     "user_tz": 240
    },
    "id": "inV6QGAvFDAw",
    "outputId": "d447086b-c73e-4971-ff22-f36239ee70ff"
   },
   "outputs": [
    {
     "name": "stdout",
     "output_type": "stream",
     "text": [
      "8 should be 8\n",
      "-6 should be -6\n"
     ]
    }
   ],
   "source": [
    "def prod(a,b):\n",
    "  return a*b\n",
    "\n",
    "result = prod(2,4)\n",
    "print(\"{} should be 8\".format(result))\n",
    "\n",
    "result = prod(3,-2)\n",
    "print(\"{} should be -6\".format(result))"
   ]
  },
  {
   "cell_type": "markdown",
   "id": "organizational-duncan",
   "metadata": {
    "colab_type": "text",
    "id": "f_kQECqz0XPe"
   },
   "source": [
    "Not all functions need a return statement. Consider the following function, which accepts a number and prints it."
   ]
  },
  {
   "cell_type": "code",
   "execution_count": null,
   "id": "endangered-program",
   "metadata": {
    "colab": {
     "base_uri": "https://localhost:8080/",
     "height": 36
    },
    "colab_type": "code",
    "executionInfo": {
     "elapsed": 430,
     "status": "ok",
     "timestamp": 1595957205200,
     "user": {
      "displayName": "Nick Derr",
      "photoUrl": "",
      "userId": "09936509318349382167"
     },
     "user_tz": 240
    },
    "id": "yCks4FOH0l2L",
    "outputId": "8b66e41c-6f7f-4c67-f7bd-c76950177500"
   },
   "outputs": [
    {
     "name": "stdout",
     "output_type": "stream",
     "text": [
      "result\n"
     ]
    }
   ],
   "source": [
    "def print_num(n):\n",
    "  print(n)\n",
    "\n",
    "print_num('result')"
   ]
  },
  {
   "cell_type": "markdown",
   "id": "respected-zimbabwe",
   "metadata": {
    "colab_type": "text",
    "id": "KGpVJJD00p6l"
   },
   "source": [
    "A function without a return statement implicitly returns the special \"None\" value:"
   ]
  },
  {
   "cell_type": "code",
   "execution_count": null,
   "id": "comfortable-newton",
   "metadata": {
    "colab": {
     "base_uri": "https://localhost:8080/",
     "height": 94
    },
    "colab_type": "code",
    "executionInfo": {
     "elapsed": 412,
     "status": "ok",
     "timestamp": 1595957504756,
     "user": {
      "displayName": "Nick Derr",
      "photoUrl": "",
      "userId": "09936509318349382167"
     },
     "user_tz": 240
    },
    "id": "7STHciwK0wqb",
    "outputId": "25b21df8-3b41-4717-9bdf-e01c06f28d3d"
   },
   "outputs": [
    {
     "name": "stdout",
     "output_type": "stream",
     "text": [
      "-------\n",
      "3\n",
      "-------\n",
      "None\n"
     ]
    }
   ],
   "source": [
    "print('-------')\n",
    "result = print_num(3)\n",
    "print('-------')\n",
    "print(result)"
   ]
  },
  {
   "cell_type": "markdown",
   "id": "ranking-server",
   "metadata": {},
   "source": [
    "### Breakout Rooms for some exercises!"
   ]
  },
  {
   "cell_type": "markdown",
   "id": "marked-british",
   "metadata": {
    "colab_type": "text",
    "id": "1bYsguv8Fyy6"
   },
   "source": [
    "#### Exercise 14 (Fibonacci 2):\n",
    "Recall the k-th number $f_k$ in the Fibonacci sequence is given by $f_k = f_{k-1} + f_{k-2}$, with $f_0=f_1=1$.\n",
    "\n",
    "Complete the following code skeleton to 1) define a function which takes in $f_{k-1}$ and $f_{k-2}$ and returns $f_k$ and 2) print out each Fibonacci number less than 1000. A sample solution is available at the end of the notebook."
   ]
  },
  {
   "cell_type": "code",
   "execution_count": null,
   "id": "conservative-eleven",
   "metadata": {
    "colab": {},
    "colab_type": "code",
    "id": "_lqcQAE-Fxvv"
   },
   "outputs": [],
   "source": [
    "def fib_k(fib_k_minus_1,fib_k_minus_2):\n",
    "  \n",
    "  fk = fib_k_minus_1 + fib_k_minus_2\n",
    "\n",
    "  return fk\n",
    "\n",
    "# start with the two initial fibonacci numbers\n",
    "f0 = 1\n",
    "f1 = 1\n",
    "\n",
    "f2 = fib_k(f0,f1)\n",
    "\n",
    "# two variables representing the previous two\n",
    "# Fibonacci numbers\n",
    "fm1 = f1\n",
    "fm2 = f0\n",
    "\n",
    "while ### write code here ###:\n",
    "\n",
    "  ### do something here ###"
   ]
  },
  {
   "cell_type": "markdown",
   "id": "phantom-civilization",
   "metadata": {
    "colab_type": "text",
    "id": "LpbfwHdT02o3"
   },
   "source": [
    "#### Exercise 15:\n",
    "Complete the following code to write a function that accepts three numbers and returns the largest."
   ]
  },
  {
   "cell_type": "code",
   "execution_count": null,
   "id": "union-rates",
   "metadata": {
    "colab": {
     "base_uri": "https://localhost:8080/",
     "height": 34
    },
    "colab_type": "code",
    "executionInfo": {
     "elapsed": 556,
     "status": "ok",
     "timestamp": 1597109160511,
     "user": {
      "displayName": "Natalia Rodriguez",
      "photoUrl": "https://lh3.googleusercontent.com/a-/AOh14GiwH8p7tNw2lwBw23umqDB9ttzlqD2NcjCkk1p2=s64",
      "userId": "17829630678085361865"
     },
     "user_tz": 240
    },
    "id": "mK-Y786z02CZ",
    "outputId": "19aca02e-0582-4883-9e06-418233258955"
   },
   "outputs": [
    {
     "name": "stdout",
     "output_type": "stream",
     "text": [
      "None should be 5\n"
     ]
    }
   ],
   "source": [
    "def largest(a,b,c):\n",
    "\n",
    "  ### write code here ###\n",
    "\n",
    "  return ### write code here ###\n",
    "\n",
    "#######################################################333\n",
    "\n",
    "result = largest(2,1,5)\n",
    "print(\"{} should be 5\".format(result))"
   ]
  },
  {
   "cell_type": "markdown",
   "id": "toxic-physiology",
   "metadata": {
    "colab_type": "text",
    "id": "_hgzYNME1VD_"
   },
   "source": [
    "#### Exercise 16:\n",
    "What will the following code output?"
   ]
  },
  {
   "cell_type": "code",
   "execution_count": null,
   "id": "orange-silence",
   "metadata": {
    "colab": {
     "base_uri": "https://localhost:8080/",
     "height": 55
    },
    "colab_type": "code",
    "executionInfo": {
     "elapsed": 292,
     "status": "ok",
     "timestamp": 1595958575084,
     "user": {
      "displayName": "Nick Derr",
      "photoUrl": "",
      "userId": "09936509318349382167"
     },
     "user_tz": 240
    },
    "id": "hs-hWBnH1S1s",
    "outputId": "b85525df-a016-43f9-89be-ee8cfb1da49c"
   },
   "outputs": [
    {
     "name": "stdout",
     "output_type": "stream",
     "text": [
      "2\n",
      "10\n"
     ]
    }
   ],
   "source": [
    "# function definition\n",
    "def print_and_return(a,b,c):\n",
    "  b = a\n",
    "  print(b)\n",
    "  return c\n",
    "\n",
    "# variable declarations\n",
    "aa = 2\n",
    "bb = 4\n",
    "cc = 10\n",
    "\n",
    "# execution\n",
    "print(cc)\n",
    "print_and_return(aa,bb,cc)"
   ]
  },
  {
   "cell_type": "markdown",
   "id": "elder-evidence",
   "metadata": {
    "colab_type": "text",
    "id": "KRcjHCjH14Tl"
   },
   "source": [
    "#### Exercise 17:\n",
    "What will the following code output?"
   ]
  },
  {
   "cell_type": "code",
   "execution_count": null,
   "id": "necessary-stuff",
   "metadata": {
    "colab": {},
    "colab_type": "code",
    "id": "jzFHcSEN2IET"
   },
   "outputs": [],
   "source": [
    "# function definition\n",
    "def smallest(a,b,c):\n",
    "\n",
    "  small = a\n",
    "  if b < small:\n",
    "    small = b\n",
    "  if c < small:\n",
    "    small = c\n",
    "\n",
    "  print(small)\n",
    "\n",
    "# variables\n",
    "aa = 2\n",
    "bb = 4\n",
    "cc = 6\n",
    "\n",
    "# execution\n",
    "small_val = smallest(aa,bb,cc)\n",
    "print(small_val < cc)"
   ]
  },
  {
   "cell_type": "markdown",
   "id": "stuck-williams",
   "metadata": {
    "colab_type": "text",
    "id": "58SewRst21Jq"
   },
   "source": [
    "#### Exercise 18:\n",
    "Write a function that accepts two lists of numbers of the same size $v=[v_0,v_1,...,v_n]$ and $w = [w_0,w_1,...,w_n]$ and returns true if each element of the first list is less than the corresponding element of the second, i.e. if $v_k < w_k$ for all $k$."
   ]
  },
  {
   "cell_type": "code",
   "execution_count": null,
   "id": "optimum-eight",
   "metadata": {
    "colab": {},
    "colab_type": "code",
    "id": "oNQ93Jgz3JqN"
   },
   "outputs": [],
   "source": [
    "def all_less_than(v,w):\n",
    "\n",
    "  ### write code here ###\n",
    "\n",
    "  return ### write code here ###\n",
    "\n",
    "# first example\n",
    "v1 = [3,2,6,3]\n",
    "w1 = [2,5,4,2]\n",
    "r1 = all_less_than(v1,w1)\n",
    "\n",
    "# second example\n",
    "v2 = [1,2,3,4]\n",
    "w2 = [2,3,4,5]\n",
    "r2 = all_less_than(v2,w2)\n",
    "\n",
    "print(\"{} should be False\".format(r1))\n",
    "print(\"{} should be True\".format(r2))\n"
   ]
  },
  {
   "cell_type": "markdown",
   "id": "verified-watson",
   "metadata": {
    "colab_type": "text",
    "id": "o5PJmRZ0G9-o"
   },
   "source": [
    "## Solutions"
   ]
  },
  {
   "cell_type": "markdown",
   "id": "rocky-chapel",
   "metadata": {},
   "source": [
    "#### Compound interest solution"
   ]
  },
  {
   "cell_type": "code",
   "execution_count": 21,
   "id": "cleared-lucas",
   "metadata": {
    "colab": {
     "base_uri": "https://localhost:8080/",
     "height": 269
    },
    "colab_type": "code",
    "executionInfo": {
     "elapsed": 318,
     "status": "ok",
     "timestamp": 1594748511031,
     "user": {
      "displayName": "Priya Veeraraghavan",
      "photoUrl": "https://lh3.googleusercontent.com/a-/AOh14Gh2dEr_zfHymCarnLpzSeBStUfsCSd3VguS7odKMikqxgM916bExUrLY3O49YnZ6vR3MdR250MLZTfakPYl4b6qq3KqoX47cMPxnUw5Np-v92Q--lQSoaA2N5ePkvEE4rWiv7cFFHzHUNy3e4TEUqM0EF2Ec_uXbbWWl2jtTp19GBLA_5BoSV2_zDzi2pH3tLgfi8NjHXTdDeMFEGzMAR-D41Hy61PvGty-3qwJw5CEGKheJN8FiMeqwxk3byGtGmB-knuxuWkEUupZonJDxvfRq8NJQ1m7Cadn3en5trCUlGpUhQTyBDLI-biT9OPFI9xLDPTrwHx6KOrkw7gs0v30BJ4eQ1V2-B3Rlwsf0RE1ZqCOob71YS4K-7BvmEBTMdOo-SdprmwdgSk9knEg_NmGn1CLqnAkbqihZPPCv8f2nNLJwypgKPOysaa5v1N_JYbQIKGM9LG2QuihZ-0Ga-cWSBhinvb3Hc3cEY80UnsFO7A-SlmCgrM7Jk33LMtxxERMm2G1Ci7vT8dZcg7qVlvbtBIm8gQc_Eo7bT54GMe1HKvUEOVcGIcstFzkrPH4fw1o67emGFNzf6dO3QDp0RAgOwUdwwPZzHXvRXKVeGP7zJQkeHU-GYXUgvMv75IVcuGJs9KbZyR6A0Doy8HYEqJx6ZdMLZ29UgNs-WetfCSdrlxuYxU2Ye36BIG6RSD_rIKPpRjZPr29nfhm4O_zjNUTtLuYYxXEyr3BFCoNz0AniHKOu_jJ6w56QRx_kyoP7L5jwg=s64",
      "userId": "10950794880338920839"
     },
     "user_tz": 240
    },
    "id": "esUUh23fYq0M",
    "outputId": "ac644ea4-be05-4972-e5fd-d878b1312c54"
   },
   "outputs": [
    {
     "name": "stdout",
     "output_type": "stream",
     "text": [
      "105.0 105.0\n",
      "110.25 110.25\n",
      "115.76250000000002 115.7625\n",
      "121.55062500000003 121.55062500000001\n",
      "127.62815625000003 127.62815625000002\n",
      "134.00956406250003 134.00956406250003\n",
      "140.71004226562505 140.71004226562505\n",
      "147.7455443789063 147.74554437890632\n",
      "155.13282159785163 155.13282159785163\n",
      "162.8894626777442 162.8894626777442\n",
      "171.0339358116314 171.03393581163144\n",
      "179.585632602213 179.58563260221302\n",
      "188.56491423232367 188.56491423232367\n",
      "197.99315994393987 197.99315994393987\n",
      "207.89281794113688 207.89281794113688\n"
     ]
    }
   ],
   "source": [
    "# solution (erase before starting)\n",
    "p = 100\n",
    "interest = 0.05\n",
    "years = 15\n",
    "# p + p*interest = p*(1+interest)\n",
    "p_0 = p\n",
    "for y in range(1, 1+years):\n",
    "\n",
    "  p = p*(1+interest)\n",
    "  print(p_0*(1+interest)**y, p)\n"
   ]
  },
  {
   "cell_type": "markdown",
   "id": "compound-medicine",
   "metadata": {
    "colab_type": "text",
    "id": "QcxBSgN_7TH_"
   },
   "source": [
    "#### *Fibonacci 1 solution*"
   ]
  },
  {
   "cell_type": "code",
   "execution_count": 1,
   "id": "internal-elements",
   "metadata": {
    "colab": {
     "base_uri": "https://localhost:8080/",
     "height": 204
    },
    "colab_type": "code",
    "executionInfo": {
     "elapsed": 472,
     "status": "ok",
     "timestamp": 1595953087916,
     "user": {
      "displayName": "Natalia Rodriguez",
      "photoUrl": "https://lh3.googleusercontent.com/a-/AOh14GiwH8p7tNw2lwBw23umqDB9ttzlqD2NcjCkk1p2=s64",
      "userId": "17829630678085361865"
     },
     "user_tz": 240
    },
    "id": "a9N_MyUk7W2G",
    "outputId": "d385b26a-9fca-4615-ddab-c0bcbaa4a5ec"
   },
   "outputs": [
    {
     "name": "stdout",
     "output_type": "stream",
     "text": [
      "1\n",
      "1\n",
      "2\n",
      "3\n",
      "5\n",
      "8\n",
      "13\n",
      "21\n",
      "34\n",
      "55\n",
      "89\n"
     ]
    }
   ],
   "source": [
    "# start with the first two values\n",
    "ip = 1\n",
    "i  = 1\n",
    "\n",
    "# print them\n",
    "print(ip)\n",
    "print(i)\n",
    "\n",
    "# until i reaches 100...\n",
    "while i < 100:\n",
    "\n",
    "  # store the current sequence value\n",
    "  tmp = i\n",
    "\n",
    "  # update to the new value\n",
    "  i = i + ip\n",
    "\n",
    "  # store the previous value\n",
    "  ip = tmp\n",
    "\n",
    "  # print if we're under 100\n",
    "  if (i<100):\n",
    "    print(i)  "
   ]
  },
  {
   "cell_type": "markdown",
   "id": "surrounded-fluid",
   "metadata": {
    "colab_type": "text",
    "id": "43an0li0BAX0"
   },
   "source": [
    "#### *Phone number solution*"
   ]
  },
  {
   "cell_type": "code",
   "execution_count": 2,
   "id": "crazy-colleague",
   "metadata": {
    "colab": {
     "base_uri": "https://localhost:8080/",
     "height": 34
    },
    "colab_type": "code",
    "executionInfo": {
     "elapsed": 548,
     "status": "ok",
     "timestamp": 1595953229880,
     "user": {
      "displayName": "Natalia Rodriguez",
      "photoUrl": "https://lh3.googleusercontent.com/a-/AOh14GiwH8p7tNw2lwBw23umqDB9ttzlqD2NcjCkk1p2=s64",
      "userId": "17829630678085361865"
     },
     "user_tz": 240
    },
    "id": "Cj773wscAMQL",
    "outputId": "e2b05741-e6fe-4c6a-f1fc-85237f316318"
   },
   "outputs": [
    {
     "name": "stdout",
     "output_type": "stream",
     "text": [
      "True\n"
     ]
    }
   ],
   "source": [
    "dial = [2,3,9,6,0,2,2]\n",
    "phone_number = [8,6,7,5,3,0,9]\n",
    "\n",
    "# proceed through each digit\n",
    "for d in range(len(dial)):\n",
    "\n",
    "  # alter digits until they are right\n",
    "  while phone_number[d] != dial[d]:\n",
    "    \n",
    "    # if the digit is 9, set to 0\n",
    "    # otherwise, increment\n",
    "    if dial[d] == 9:\n",
    "      dial[d] = 0\n",
    "    else:\n",
    "      dial[d] = dial[d] + 1\n",
    "\n",
    "print(dial == phone_number)\n"
   ]
  },
  {
   "cell_type": "markdown",
   "id": "material-package",
   "metadata": {
    "colab_type": "text",
    "id": "7JE_2q7XEwkH"
   },
   "source": [
    "#### *Mineral water solution*"
   ]
  },
  {
   "cell_type": "code",
   "execution_count": null,
   "id": "competitive-window",
   "metadata": {
    "colab": {},
    "colab_type": "code",
    "id": "ar1FteZoAc-J"
   },
   "outputs": [],
   "source": [
    "bottles = [99,99,99,99]\n",
    "take = [1,3,2,1]\n",
    "\n",
    "# calculate whether each wall has at\n",
    "# least one bottle\n",
    "all_have_bottles = True\n",
    "for i in range(len(bottles)):\n",
    "  if bottles[i] <= 0:\n",
    "    all_have_bottles = False\n",
    "\n",
    "# continue as long as each wall has\n",
    "# at least one bottle\n",
    "while all_have_bottles:\n",
    "\n",
    "  # update the bottles on each wall\n",
    "  for i in range(len(bottles)):\n",
    "    bottles[i] = bottles[i] - take[i]\n",
    "\n",
    "  # calculate whether each wall has at\n",
    "  # least one bottle\n",
    "  all_have_bottles = True\n",
    "  for i in range(len(bottles)):\n",
    "    if bottles[i] <= 0:\n",
    "      all_have_bottles = False\n",
    "\n",
    "# print the final tally of bottles\n",
    "print(bottles)"
   ]
  },
  {
   "cell_type": "markdown",
   "id": "sporting-mayor",
   "metadata": {
    "colab_type": "text",
    "id": "4Emn45-YHBAY"
   },
   "source": [
    "###Solution 1:"
   ]
  },
  {
   "cell_type": "code",
   "execution_count": null,
   "id": "introductory-third",
   "metadata": {
    "colab": {},
    "colab_type": "code",
    "id": "l90rN3NQG9Cw"
   },
   "outputs": [],
   "source": [
    "def fib_k(fib_k_minus_1,fib_k_minus_2):\n",
    "  \n",
    "  return fib_k_minus_1 + fib_k_minus_2\n",
    "\n",
    "# start with the two initial fibonacci numbers\n",
    "f0 = 1\n",
    "f1 = 1\n",
    "\n",
    "# two variables representing the previous two\n",
    "# Fibonacci numbers\n",
    "fm1 = f1\n",
    "fm2 = f0\n",
    "\n",
    "while fib_k(fm1,fm2) < 1000:\n",
    "\n",
    "  fk = fib_k(fm1,fm2)\n",
    "\n",
    "  fm2,fm1 = fm1,fk\n",
    "\n",
    "  print(fk)\n",
    "  "
   ]
  },
  {
   "cell_type": "markdown",
   "id": "composite-promise",
   "metadata": {
    "colab_type": "text",
    "id": "0ex-bq8pAbgR"
   },
   "source": [
    "#### Solution 15:"
   ]
  },
  {
   "cell_type": "code",
   "execution_count": null,
   "id": "monetary-drink",
   "metadata": {
    "colab": {},
    "colab_type": "code",
    "id": "sqU5-wOJHlae"
   },
   "outputs": [],
   "source": [
    "def largest(a,b,c):\n",
    "\n",
    "  large = a\n",
    "  if b > large:\n",
    "    large = b\n",
    "  if c > large:\n",
    "    large = c\n",
    "\n",
    "  return large\n",
    "\n",
    "result = largest(2,1,5)\n",
    "print(\"{} should be 5\".format(result))"
   ]
  },
  {
   "cell_type": "markdown",
   "id": "premier-recognition",
   "metadata": {
    "colab_type": "text",
    "id": "fvLUt317AqlX"
   },
   "source": [
    "#### Solution 18:"
   ]
  },
  {
   "cell_type": "code",
   "execution_count": null,
   "id": "cooked-challenge",
   "metadata": {
    "colab": {},
    "colab_type": "code",
    "id": "wGHPwZsDAsWa"
   },
   "outputs": [],
   "source": [
    "def all_less_than(v,w):\n",
    "\n",
    "  all_less = True\n",
    "  for i in range(len(v)):\n",
    "    if v[i] >= w[i]:\n",
    "      all_less = False\n",
    "\n",
    "  return all_less\n",
    "\n",
    "# first example\n",
    "v1 = [3,2,6,3]\n",
    "w1 = [2,5,4,2]\n",
    "r1 = all_less_than(v1,w1)\n",
    "\n",
    "# second example\n",
    "v2 = [1,2,3,4]\n",
    "w2 = [2,3,4,5]\n",
    "r2 = all_less_than(v2,w2)\n",
    "\n",
    "print(\"{} should be False\".format(r1))\n",
    "print(\"{} should be True\".format(r2))"
   ]
  }
 ],
 "metadata": {
  "kernelspec": {
   "display_name": "Python 3",
   "language": "python",
   "name": "python3"
  },
  "language_info": {
   "codemirror_mode": {
    "name": "ipython",
    "version": 3
   },
   "file_extension": ".py",
   "mimetype": "text/x-python",
   "name": "python",
   "nbconvert_exporter": "python",
   "pygments_lexer": "ipython3",
   "version": "3.9.4"
  }
 },
 "nbformat": 4,
 "nbformat_minor": 5
}
