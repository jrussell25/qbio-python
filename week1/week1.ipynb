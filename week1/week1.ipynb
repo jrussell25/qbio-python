{
 "cells": [
  {
   "cell_type": "markdown",
   "id": "civilian-whole",
   "metadata": {},
   "source": [
    "# Week 1: Introduction and Review\n",
    "\n",
    "## June 17, 2021\n",
    "\n",
    "Hi, everyone! Welcome to the first week of QBio Python workshops!\n",
    "\n",
    "Program links:\n",
    "\n",
    "[Workshop and Office Hour schedules](https://docs.google.com/document/d/167RV34j7GoF71j1zGlJVk8VZC_ufwv9qy_lxTDXe7Ng/edit?usp=sharing)\n",
    "\n",
    "Package links:\n",
    "\n",
    "[Anaconda](https://www.anaconda.com/products/individual)\n",
    "\n",
    "[Miniconda (minimal conda install)](https://docs.conda.io/en/latest/miniconda.html)\n",
    "\n",
    "Extra material if you'd like more review or practice:\n",
    "\n",
    "[Unix cheatsheet for command line](http://www.mathcs.emory.edu/~valerie/courses/fall10/155/resources/unix_cheatsheet.html)\n",
    "\n",
    "[Whirlwind Tour of Python](https://jakevdp.github.io/WhirlwindTourOfPython/)\n",
    "\n",
    "[Jake Vanderplas' blog on scientific computing with python](https://jakevdp.github.io/)\n",
    "\n",
    "[MIT OCW Intro to Comp Sci/Python](https://ocw.mit.edu/courses/electrical-engineering-and-computer-science/6-0001-introduction-to-computer-science-and-programming-in-python-fall-2016/index.htm)\n",
    "\n",
    "### What to accomplish today?\n",
    "In this session, we plan to:\n",
    "- introduce ourselves (it's nice to meet you!)\n",
    "- discuss the command-line/terminal interface\n",
    "- talk through the installation of anaconda or miniconda, perhaps the most convenient python ecosystems to install on your work station\n",
    "- cover some Python basics, including\n",
    "    - input/output (reading in files, printing out results)\n",
    "    - container types (lists and dictionaries)\n",
    "    - program flow (if statements, for loops)\n",
    "    - writing functions"
   ]
  },
  {
   "cell_type": "markdown",
   "id": "honey-setup",
   "metadata": {},
   "source": [
    "## The Command Line"
   ]
  },
  {
   "cell_type": "markdown",
   "id": "dutch-sierra",
   "metadata": {},
   "source": [
    "When working on a *Unix-type system*, we often use the command line (or terminal, or command prompt) to interact with our computer, call scripts, move files, etc. Let's use the command line to install the GitHub repository for our Python workshops. [You can install \\\"git\\\" here.](https://git-scm.com/downloads)\n",
    "\n",
    "If you're using Windows (or are more comfortable with GUIs), [GitHub Desktop](https://desktop.github.com/) is also a good option. In particular, it comes bundled with Unix shell (which is otherwise a pain to set up on Windows!)\n",
    "\n",
    "Some sample commands:\n",
    "- *cd \\[dir\\]*: change directory to \\[dir\\]\n",
    "- *rm \\[file\\]*: remove the provided file\n",
    "- *python \\[file.py\\]*: run the provided python script\n",
    "- *git clone https://github.com/jrussell25/qbio-python.git .*: clone our QBio Python Workshop GitHub repository into the current directory\n",
    "- *git pull*: if you're inside of a github repository, pull updates from\n",
    "\n",
    "The directory structure we're in looks like the following:"
   ]
  },
  {
   "cell_type": "raw",
   "id": "alpine-asthma",
   "metadata": {},
   "source": [
    "qbio-python/\n",
    "├── week1/\n",
    "│   ├── sample_tree/\n",
    "│   |   ├── hello_world.py\n",
    "│   |   ├── data.txt\n",
    "|   │   ├── subdirectory/\n",
    "|   │   │   ├── add_two_ints.py\n",
    "|   │   │   ├── message.txt\n",
    "│   ├── week1.ipynb\n",
    "├── week2/\n",
    ".\n",
    ".\n",
    "."
   ]
  },
  {
   "cell_type": "markdown",
   "id": "wireless-europe",
   "metadata": {},
   "source": [
    "I'll share my screen and call some of these sample python functions.\n",
    "\n",
    "Where \\\"are\\\" we? Can we print the contents of the files \\\"hello_world.py\\\" or \\\"add_two_ints.py\\\"? Here's a function to do so:"
   ]
  },
  {
   "cell_type": "code",
   "execution_count": null,
   "id": "timely-enforcement",
   "metadata": {},
   "outputs": [],
   "source": [
    "# a function for printing a file's contents\n",
    "def print_file(filename):\n",
    "    \n",
    "    # open up file\n",
    "    file = open(filename,\"r\") # r for read, w for write\n",
    "    \n",
    "    # print each line\n",
    "    for line in file:\n",
    "        print(line, end=\"\")\n",
    "        \n",
    "    # close file when we're done with it\n",
    "    file.close()"
   ]
  },
  {
   "cell_type": "markdown",
   "id": "certain-advertiser",
   "metadata": {},
   "source": [
    "What happens if we execute the following code snippet? Why?"
   ]
  },
  {
   "cell_type": "code",
   "execution_count": null,
   "id": "collective-edgar",
   "metadata": {},
   "outputs": [],
   "source": [
    "print_file(\"hello_world.py\")"
   ]
  },
  {
   "cell_type": "code",
   "execution_count": null,
   "id": "vulnerable-wagon",
   "metadata": {
    "scrolled": true
   },
   "outputs": [],
   "source": [
    "for line in open(\"sample_tree/hello_world.py\"):\n",
    "    print(line,end=\"\")"
   ]
  },
  {
   "cell_type": "markdown",
   "id": "random-siemens",
   "metadata": {},
   "source": [
    "## Anaconda"
   ]
  },
  {
   "cell_type": "markdown",
   "id": "reduced-selection",
   "metadata": {},
   "source": [
    "There are many different ways to install python (e.g. a distribution manager such as homebrew on iOS or apt on Ubuntu.) The most convenient is with Anaconda (link at top), which provides a multitude of standard packages at installation for easy use (and access to many more by installing them if you turn out to need them!)\n",
    "\n",
    "Let's move into breakout rooms and start setting up Anaconda installations."
   ]
  },
  {
   "cell_type": "markdown",
   "id": "contrary-queue",
   "metadata": {},
   "source": [
    "## Python Review"
   ]
  },
  {
   "cell_type": "markdown",
   "id": "sustainable-jonathan",
   "metadata": {
    "id": "cRfAMLtjIyUv"
   },
   "source": [
    "## Printing\n",
    "\n",
    "Python3 uses the print() function to print the specified message to the screen or to another standard output device."
   ]
  },
  {
   "cell_type": "code",
   "execution_count": null,
   "id": "editorial-notion",
   "metadata": {
    "colab": {
     "base_uri": "https://localhost:8080/",
     "height": 34
    },
    "executionInfo": {
     "elapsed": 865,
     "status": "ok",
     "timestamp": 1594253681186,
     "user": {
      "displayName": "monica roberson",
      "photoUrl": "",
      "userId": "12493745571037541376"
     },
     "user_tz": 240
    },
    "id": "NxCO7bqeJVEh",
    "outputId": "1b8438de-63d8-4332-b4f4-f699bdca5033"
   },
   "outputs": [],
   "source": [
    "# print a string\n",
    "x = \"Hello my name is Nick\"\n",
    "\n",
    "print(x)\n"
   ]
  },
  {
   "cell_type": "markdown",
   "id": "ceramic-malta",
   "metadata": {
    "id": "03MvBlmLJjS4"
   },
   "source": [
    "Print 2 messages with a separator specified:"
   ]
  },
  {
   "cell_type": "code",
   "execution_count": null,
   "id": "opened-philippines",
   "metadata": {
    "colab": {
     "base_uri": "https://localhost:8080/",
     "height": 34
    },
    "executionInfo": {
     "elapsed": 723,
     "status": "ok",
     "timestamp": 1594253780237,
     "user": {
      "displayName": "monica roberson",
      "photoUrl": "",
      "userId": "12493745571037541376"
     },
     "user_tz": 240
    },
    "id": "fCAXfXPQJoB4",
    "outputId": "509a1311-1f0a-4ad9-f8a5-88a9bd4fae7f"
   },
   "outputs": [],
   "source": [
    "greeting = \"Hello my name is\"\n",
    "name = \"Nick\"\n",
    "print(greeting, name, sep=\":\")\n",
    "\n"
   ]
  },
  {
   "cell_type": "markdown",
   "id": "younger-hardwood",
   "metadata": {
    "id": "UQV-CL_9JveK"
   },
   "source": [
    "The string .format() method can be used to pass variables into an otherwise constant string, using the {} placeholder."
   ]
  },
  {
   "cell_type": "code",
   "execution_count": null,
   "id": "searching-military",
   "metadata": {
    "colab": {
     "base_uri": "https://localhost:8080/",
     "height": 34
    },
    "executionInfo": {
     "elapsed": 843,
     "status": "ok",
     "timestamp": 1594254436545,
     "user": {
      "displayName": "monica roberson",
      "photoUrl": "",
      "userId": "12493745571037541376"
     },
     "user_tz": 240
    },
    "id": "MEFj2XkZKGO0",
    "outputId": "1729b135-0ef4-48d1-af9c-f1fa61ea19e4"
   },
   "outputs": [],
   "source": [
    "# basic usage, each {} is filled with the next item in the specified values of .format() \n",
    "text_format_1 = \"Hello my name is {}, and I'm a G{} in the {} program.\".format(\"Nick\", 5, \"Applied Math\")\n",
    "print(text_format_1)\n"
   ]
  },
  {
   "cell_type": "markdown",
   "id": "577d0063",
   "metadata": {},
   "source": [
    "I have just been informed (thanks, John!) that f-strings are the way of the future!"
   ]
  },
  {
   "cell_type": "code",
   "execution_count": null,
   "id": "cc892737",
   "metadata": {},
   "outputs": [],
   "source": [
    "name = 'Nick'\n",
    "Gnum = 5\n",
    "subj = 'Applied Math'\n",
    "\n",
    "print(f\"Hello my name is {name:s}, and I'm a G{Gnum:d} in the {subj:s} program.\")"
   ]
  },
  {
   "cell_type": "markdown",
   "id": "human-budapest",
   "metadata": {
    "id": "FUJYfmVzPU8H"
   },
   "source": [
    "The precise format of the placeholder value can also be specified. Often it suffices to use:\n",
    "- {:d} (for integers)\n",
    "- {:g} (for floats using \\\"most convenient\\\" notation)\n",
    "- {:s} (for strings)\n",
    "\n",
    "\n",
    "More details on format types here: https://www.w3schools.com/python/ref_string_format.asp\n"
   ]
  },
  {
   "cell_type": "markdown",
   "id": "periodic-aggregate",
   "metadata": {
    "id": "b-pcNRJ3PjFW"
   },
   "source": [
    "Importantly, the placeholder format has to match the given value. Otherwise, ValueError will be thrown."
   ]
  },
  {
   "cell_type": "code",
   "execution_count": null,
   "id": "built-material",
   "metadata": {
    "colab": {
     "base_uri": "https://localhost:8080/",
     "height": 34
    },
    "executionInfo": {
     "elapsed": 760,
     "status": "ok",
     "timestamp": 1594254899232,
     "user": {
      "displayName": "monica roberson",
      "photoUrl": "",
      "userId": "12493745571037541376"
     },
     "user_tz": 240
    },
    "id": "CcEKrgrxPowt",
    "outputId": "95985057-0b7e-4730-ae13-995f4e1ebd8d",
    "scrolled": true
   },
   "outputs": [],
   "source": [
    "text_format_6 = \"The year is {:s}\".format(2020)\n",
    "print(text_format_6)"
   ]
  },
  {
   "cell_type": "markdown",
   "id": "restricted-sense",
   "metadata": {
    "id": "_pbpuXgsQjjr"
   },
   "source": [
    "### Containers\n",
    "\n",
    "Python has many ways of representing groups of variables in what are called \"data structures\". Data structures include tuples, lists, sets, and dictionaries. These structures differ based on order (are the elements of the structure in a defined order?), how the elements are accessed, and whether the structure can be changed (mutability). We'll go through each of the structures below."
   ]
  },
  {
   "cell_type": "markdown",
   "id": "leading-seventh",
   "metadata": {
    "id": "Rlw8ioPqGvgv"
   },
   "source": [
    "#### Tuples\n",
    "\n",
    "A tuple is an ordered sequence of elements. Neither the order nor the values can change: we call this *immutable*. Tuples are represented with parentheses.\n"
   ]
  },
  {
   "cell_type": "code",
   "execution_count": null,
   "id": "inclusive-platform",
   "metadata": {
    "colab": {
     "base_uri": "https://localhost:8080/",
     "height": 68
    },
    "executionInfo": {
     "elapsed": 765,
     "status": "ok",
     "timestamp": 1593539131732,
     "user": {
      "displayName": "Priya Veeraraghavan",
      "photoUrl": "https://lh3.googleusercontent.com/a-/AOh14GiC8c03Ty3XKDty3DqTKr7bxSDNQZre0H-fZPlOY3fne-zbRvJZRExmDbpp1HuyjPwUTszr8eohaXax7v8ZO8G9Hx5_DQURFtcHp9Sd2jiDzs-n_pahskGXi9soJHJCZjo32qWxji2jZusaXnNHhi3Yq92OLBacLlrnIWNqz6rh_dVTs5_Rp5FdLDOu6PG9XLPF1Q36SGrG7qQWIGA7gPPbax7RpQpfmuTHQcWarbHEFIUXavMEVY2RVCxvl2nvsZlAJGDVzI0Qy6kaRAwrOw1YWtHrAq1N5qm98nun8F0fZPIRLS1wdvbz3r7PVmCcQ3rPHanJGgdyaakZ4FMfxMacDqDeuBaFJOo16cOqPFuPVf7Lum9g0RfUpQfp4yd4EHWB2Bw7ub2WwUnwm7yOPQ-ktR_RcMMrg3i4EMjT5v_fpLm48bfDflqB6wYz3FuKPMEPG9Ty7aFG5bk4_TmJE94TALuuk-kFAEhR55xQk6ovaHtvP2lI0jn7jQLzMJ96NQG49Dr1a6WdRqodogWurSBOBvy2adtJfrAnzXsBTKMfHqocb9xPsZWEptfLw9vKZJ28BtsTWmj9ni15E_bkgSvMssYYdKGU-txtXtExaRLkfuwkE981dC75B8Olg1W76Vg7qk6cFdJCD96K6_OxGUMTkNQ2N2dfSZzrCJ5iKgb3Z2AhPzg7Di_TAy4uYOeiyvXyF_GFMYxzc8jSk6aXO2LpUn7fsXMj4-BqnzZNI6vPWBAFeE_FL77pgQlQjn32VGTnzg=s64",
      "userId": "10950794880338920839"
     },
     "user_tz": 240
    },
    "id": "GrQ6Ar3BHNsB",
    "outputId": "c75c452e-cf37-478a-b740-a16affbe20da"
   },
   "outputs": [],
   "source": [
    "empty_tuple = ()\n",
    "nonempty_tuple = (\"REU\", \"Summer\", 2020)\n",
    "\n",
    "nonempty_tuple_2 = (empty_tuple, nonempty_tuple)\n",
    "\n",
    "print(\"empty_tuple:\", empty_tuple)\n",
    "print(\"nonempty tuple:\", nonempty_tuple)\n",
    "print(nonempty_tuple_2)"
   ]
  },
  {
   "cell_type": "markdown",
   "id": "emotional-perfume",
   "metadata": {
    "id": "_Y3lUIDSSevF"
   },
   "source": [
    "Accessing data: tuples let you read data if you know where it is in the tuple (\"indexing\"). All base Python data structures are \"0\"-indexed, which means that the first element is at index 0."
   ]
  },
  {
   "cell_type": "code",
   "execution_count": null,
   "id": "behind-defensive",
   "metadata": {
    "colab": {
     "base_uri": "https://localhost:8080/",
     "height": 34
    },
    "executionInfo": {
     "elapsed": 466,
     "status": "ok",
     "timestamp": 1593539263664,
     "user": {
      "displayName": "Priya Veeraraghavan",
      "photoUrl": "https://lh3.googleusercontent.com/a-/AOh14GiC8c03Ty3XKDty3DqTKr7bxSDNQZre0H-fZPlOY3fne-zbRvJZRExmDbpp1HuyjPwUTszr8eohaXax7v8ZO8G9Hx5_DQURFtcHp9Sd2jiDzs-n_pahskGXi9soJHJCZjo32qWxji2jZusaXnNHhi3Yq92OLBacLlrnIWNqz6rh_dVTs5_Rp5FdLDOu6PG9XLPF1Q36SGrG7qQWIGA7gPPbax7RpQpfmuTHQcWarbHEFIUXavMEVY2RVCxvl2nvsZlAJGDVzI0Qy6kaRAwrOw1YWtHrAq1N5qm98nun8F0fZPIRLS1wdvbz3r7PVmCcQ3rPHanJGgdyaakZ4FMfxMacDqDeuBaFJOo16cOqPFuPVf7Lum9g0RfUpQfp4yd4EHWB2Bw7ub2WwUnwm7yOPQ-ktR_RcMMrg3i4EMjT5v_fpLm48bfDflqB6wYz3FuKPMEPG9Ty7aFG5bk4_TmJE94TALuuk-kFAEhR55xQk6ovaHtvP2lI0jn7jQLzMJ96NQG49Dr1a6WdRqodogWurSBOBvy2adtJfrAnzXsBTKMfHqocb9xPsZWEptfLw9vKZJ28BtsTWmj9ni15E_bkgSvMssYYdKGU-txtXtExaRLkfuwkE981dC75B8Olg1W76Vg7qk6cFdJCD96K6_OxGUMTkNQ2N2dfSZzrCJ5iKgb3Z2AhPzg7Di_TAy4uYOeiyvXyF_GFMYxzc8jSk6aXO2LpUn7fsXMj4-BqnzZNI6vPWBAFeE_FL77pgQlQjn32VGTnzg=s64",
      "userId": "10950794880338920839"
     },
     "user_tz": 240
    },
    "id": "A4Ynk-JHSkBj",
    "outputId": "a8434455-ce98-4bf8-b621-ee529f35bd5f"
   },
   "outputs": [],
   "source": [
    "print(\"The third element in the nonempty_tuple is {:d}\".format(nonempty_tuple[2]))"
   ]
  },
  {
   "cell_type": "markdown",
   "id": "trying-school",
   "metadata": {
    "id": "ZDOo98zuGqxD"
   },
   "source": [
    "#### Lists\n",
    "\n",
    "A list is an ordered sequence of elements. The order and values can change in specific ways; for this reason, lists are *mutable*. Lists are represented with brackets []."
   ]
  },
  {
   "cell_type": "code",
   "execution_count": null,
   "id": "activated-spending",
   "metadata": {
    "id": "2QuSpleJBQkx"
   },
   "outputs": [],
   "source": [
    "list_same = [1,3,5,2,3]\n",
    "list_mix  = [1,'banana',-43/2,False]"
   ]
  },
  {
   "cell_type": "markdown",
   "id": "sacred-reggae",
   "metadata": {
    "id": "Eu7CMcb7XAHb"
   },
   "source": [
    "You can find the length of the list using the len() function"
   ]
  },
  {
   "cell_type": "code",
   "execution_count": null,
   "id": "standing-experience",
   "metadata": {
    "colab": {
     "base_uri": "https://localhost:8080/",
     "height": 51
    },
    "executionInfo": {
     "elapsed": 508,
     "status": "ok",
     "timestamp": 1593539399695,
     "user": {
      "displayName": "Priya Veeraraghavan",
      "photoUrl": "https://lh3.googleusercontent.com/a-/AOh14GiC8c03Ty3XKDty3DqTKr7bxSDNQZre0H-fZPlOY3fne-zbRvJZRExmDbpp1HuyjPwUTszr8eohaXax7v8ZO8G9Hx5_DQURFtcHp9Sd2jiDzs-n_pahskGXi9soJHJCZjo32qWxji2jZusaXnNHhi3Yq92OLBacLlrnIWNqz6rh_dVTs5_Rp5FdLDOu6PG9XLPF1Q36SGrG7qQWIGA7gPPbax7RpQpfmuTHQcWarbHEFIUXavMEVY2RVCxvl2nvsZlAJGDVzI0Qy6kaRAwrOw1YWtHrAq1N5qm98nun8F0fZPIRLS1wdvbz3r7PVmCcQ3rPHanJGgdyaakZ4FMfxMacDqDeuBaFJOo16cOqPFuPVf7Lum9g0RfUpQfp4yd4EHWB2Bw7ub2WwUnwm7yOPQ-ktR_RcMMrg3i4EMjT5v_fpLm48bfDflqB6wYz3FuKPMEPG9Ty7aFG5bk4_TmJE94TALuuk-kFAEhR55xQk6ovaHtvP2lI0jn7jQLzMJ96NQG49Dr1a6WdRqodogWurSBOBvy2adtJfrAnzXsBTKMfHqocb9xPsZWEptfLw9vKZJ28BtsTWmj9ni15E_bkgSvMssYYdKGU-txtXtExaRLkfuwkE981dC75B8Olg1W76Vg7qk6cFdJCD96K6_OxGUMTkNQ2N2dfSZzrCJ5iKgb3Z2AhPzg7Di_TAy4uYOeiyvXyF_GFMYxzc8jSk6aXO2LpUn7fsXMj4-BqnzZNI6vPWBAFeE_FL77pgQlQjn32VGTnzg=s64",
      "userId": "10950794880338920839"
     },
     "user_tz": 240
    },
    "id": "ycaFsS5EXDwW",
    "outputId": "abbcc1f9-1e28-42c6-eb49-b16e892a7fe8"
   },
   "outputs": [],
   "source": [
    "print(\"The length of list_same is {:d}\".format(len(list_same)))\n",
    "print(\"The length of list_mix is {:d}\".format(len(list_mix)))"
   ]
  },
  {
   "cell_type": "markdown",
   "id": "thorough-finger",
   "metadata": {
    "id": "q__3cQJbCcHX"
   },
   "source": [
    "Accessing data: lists let you quickly read data if you know where it is in the list (\"indexing\")"
   ]
  },
  {
   "cell_type": "code",
   "execution_count": null,
   "id": "south-chinese",
   "metadata": {
    "colab": {
     "base_uri": "https://localhost:8080/",
     "height": 51
    },
    "executionInfo": {
     "elapsed": 473,
     "status": "ok",
     "timestamp": 1593539474569,
     "user": {
      "displayName": "Priya Veeraraghavan",
      "photoUrl": "https://lh3.googleusercontent.com/a-/AOh14GiC8c03Ty3XKDty3DqTKr7bxSDNQZre0H-fZPlOY3fne-zbRvJZRExmDbpp1HuyjPwUTszr8eohaXax7v8ZO8G9Hx5_DQURFtcHp9Sd2jiDzs-n_pahskGXi9soJHJCZjo32qWxji2jZusaXnNHhi3Yq92OLBacLlrnIWNqz6rh_dVTs5_Rp5FdLDOu6PG9XLPF1Q36SGrG7qQWIGA7gPPbax7RpQpfmuTHQcWarbHEFIUXavMEVY2RVCxvl2nvsZlAJGDVzI0Qy6kaRAwrOw1YWtHrAq1N5qm98nun8F0fZPIRLS1wdvbz3r7PVmCcQ3rPHanJGgdyaakZ4FMfxMacDqDeuBaFJOo16cOqPFuPVf7Lum9g0RfUpQfp4yd4EHWB2Bw7ub2WwUnwm7yOPQ-ktR_RcMMrg3i4EMjT5v_fpLm48bfDflqB6wYz3FuKPMEPG9Ty7aFG5bk4_TmJE94TALuuk-kFAEhR55xQk6ovaHtvP2lI0jn7jQLzMJ96NQG49Dr1a6WdRqodogWurSBOBvy2adtJfrAnzXsBTKMfHqocb9xPsZWEptfLw9vKZJ28BtsTWmj9ni15E_bkgSvMssYYdKGU-txtXtExaRLkfuwkE981dC75B8Olg1W76Vg7qk6cFdJCD96K6_OxGUMTkNQ2N2dfSZzrCJ5iKgb3Z2AhPzg7Di_TAy4uYOeiyvXyF_GFMYxzc8jSk6aXO2LpUn7fsXMj4-BqnzZNI6vPWBAFeE_FL77pgQlQjn32VGTnzg=s64",
      "userId": "10950794880338920839"
     },
     "user_tz": 240
    },
    "id": "qPQyy-DlCbnu",
    "outputId": "503e4591-ef81-4ff5-fdbd-d3576151ea44"
   },
   "outputs": [],
   "source": [
    "print('the third element of list_same is {:d}'.format(list_same[2]))\n",
    "print('the second element of list_mix is {:s}'.format(list_mix[1]))"
   ]
  },
  {
   "cell_type": "markdown",
   "id": "undefined-negotiation",
   "metadata": {
    "id": "iknc0B7uC8lK"
   },
   "source": [
    "We can also lookup data from the back"
   ]
  },
  {
   "cell_type": "code",
   "execution_count": null,
   "id": "italic-remainder",
   "metadata": {
    "colab": {
     "base_uri": "https://localhost:8080/",
     "height": 51
    },
    "executionInfo": {
     "elapsed": 480,
     "status": "ok",
     "timestamp": 1593539522386,
     "user": {
      "displayName": "Priya Veeraraghavan",
      "photoUrl": "https://lh3.googleusercontent.com/a-/AOh14GiC8c03Ty3XKDty3DqTKr7bxSDNQZre0H-fZPlOY3fne-zbRvJZRExmDbpp1HuyjPwUTszr8eohaXax7v8ZO8G9Hx5_DQURFtcHp9Sd2jiDzs-n_pahskGXi9soJHJCZjo32qWxji2jZusaXnNHhi3Yq92OLBacLlrnIWNqz6rh_dVTs5_Rp5FdLDOu6PG9XLPF1Q36SGrG7qQWIGA7gPPbax7RpQpfmuTHQcWarbHEFIUXavMEVY2RVCxvl2nvsZlAJGDVzI0Qy6kaRAwrOw1YWtHrAq1N5qm98nun8F0fZPIRLS1wdvbz3r7PVmCcQ3rPHanJGgdyaakZ4FMfxMacDqDeuBaFJOo16cOqPFuPVf7Lum9g0RfUpQfp4yd4EHWB2Bw7ub2WwUnwm7yOPQ-ktR_RcMMrg3i4EMjT5v_fpLm48bfDflqB6wYz3FuKPMEPG9Ty7aFG5bk4_TmJE94TALuuk-kFAEhR55xQk6ovaHtvP2lI0jn7jQLzMJ96NQG49Dr1a6WdRqodogWurSBOBvy2adtJfrAnzXsBTKMfHqocb9xPsZWEptfLw9vKZJ28BtsTWmj9ni15E_bkgSvMssYYdKGU-txtXtExaRLkfuwkE981dC75B8Olg1W76Vg7qk6cFdJCD96K6_OxGUMTkNQ2N2dfSZzrCJ5iKgb3Z2AhPzg7Di_TAy4uYOeiyvXyF_GFMYxzc8jSk6aXO2LpUn7fsXMj4-BqnzZNI6vPWBAFeE_FL77pgQlQjn32VGTnzg=s64",
      "userId": "10950794880338920839"
     },
     "user_tz": 240
    },
    "id": "bkH8RX5NC_Oc",
    "outputId": "ee293885-a9c5-4b11-94af-f153ec36ca1c"
   },
   "outputs": [],
   "source": [
    "print('the last element of list_same is {:d}'.format(list_same[-1]))\n",
    "print('the second-to-last element of list_mix is {:f}'.format(list_mix[-2]))"
   ]
  },
  {
   "cell_type": "markdown",
   "id": "increasing-coral",
   "metadata": {
    "id": "CBqDF9yTWu4q"
   },
   "source": [
    "What happens if you index outside of the range? An IndexError : You specified an index that is not present in the list-- ie a number out of the range [0, len(list)-1]"
   ]
  },
  {
   "cell_type": "markdown",
   "id": "simplified-ghana",
   "metadata": {
    "id": "Yzc515JcDbBC"
   },
   "source": [
    "#### Dictionaries\n",
    "\n",
    "Like lists, dictionares are a mutable collection of items, called *values*, which can be of any type. Unlike lists, their items are not accessed according to their position. Instead, they are accessed by providing a unique corresponding *key* which is commonly a string. They are identified by curly brackets { }.\n",
    "\n",
    "They can be instantiated by providing a set of key-value pairs in the form key:value between curly braces."
   ]
  },
  {
   "cell_type": "code",
   "execution_count": null,
   "id": "close-wrong",
   "metadata": {
    "colab": {
     "base_uri": "https://localhost:8080/"
    },
    "executionInfo": {
     "elapsed": 373,
     "status": "ok",
     "timestamp": 1623720301095,
     "user": {
      "displayName": "Nick Derr",
      "photoUrl": "",
      "userId": "09936509318349382167"
     },
     "user_tz": 240
    },
    "id": "77rbo-a5Dcy4",
    "outputId": "ed2c840f-c3a4-445a-a1f4-84ae600ab0b2"
   },
   "outputs": [],
   "source": [
    "dog = {\"name\":\"Pickles\", \"age\":6, \"is_a_cat\":False}\n",
    "print(dog)"
   ]
  },
  {
   "cell_type": "markdown",
   "id": "requested-stand",
   "metadata": {
    "id": "Tf1REsGvE_Lc"
   },
   "source": [
    "The dictionary may contain multiple copies of a value, but no key can be repeated.\n",
    "\n",
    "Be careful, because providing a repeated key will not generate an error. It will simply write over the value previously associated with that key. "
   ]
  },
  {
   "cell_type": "code",
   "execution_count": null,
   "id": "spiritual-accountability",
   "metadata": {
    "colab": {
     "base_uri": "https://localhost:8080/"
    },
    "executionInfo": {
     "elapsed": 285,
     "status": "ok",
     "timestamp": 1623720301110,
     "user": {
      "displayName": "Nick Derr",
      "photoUrl": "",
      "userId": "09936509318349382167"
     },
     "user_tz": 240
    },
    "id": "9To6K6ItE4F5",
    "outputId": "76c00a91-7465-4fc0-ab37-d915f1741146"
   },
   "outputs": [],
   "source": [
    "# create a dictionary providing repeated keys\n",
    "repeat_dict = {\"key1\":\"value1\", \"key2\":\"value2\",\"key3\":\"value3\",\"key3\":\"value4\"}\n",
    "\n",
    "# print the value of each unique key\n",
    "print('key1 is the key for {:s}'.format(repeat_dict['key1']))\n",
    "print('key2 is the key for {:s}'.format(repeat_dict['key2']))\n",
    "print('key3 is the key for {:s}'.format(repeat_dict['key3']))\n"
   ]
  },
  {
   "cell_type": "markdown",
   "id": "biblical-universe",
   "metadata": {
    "id": "SWan-293CJqw"
   },
   "source": [
    "The length of the dictionary can be found with the len() function."
   ]
  },
  {
   "cell_type": "code",
   "execution_count": null,
   "id": "essential-pantyhose",
   "metadata": {
    "colab": {
     "base_uri": "https://localhost:8080/"
    },
    "executionInfo": {
     "elapsed": 225,
     "status": "ok",
     "timestamp": 1623720301118,
     "user": {
      "displayName": "Nick Derr",
      "photoUrl": "",
      "userId": "09936509318349382167"
     },
     "user_tz": 240
    },
    "id": "831ESF20CFnf",
    "outputId": "97365728-8f35-403b-f968-c89dfd315719"
   },
   "outputs": [],
   "source": [
    "print('This dictionary contains {:d} key-value pairs.'.format(len(dog)))"
   ]
  },
  {
   "cell_type": "markdown",
   "id": "decreased-difference",
   "metadata": {
    "id": "oMwKziscHG7c"
   },
   "source": [
    "Values can be accessed by providing the key within brackets following the dictionary name, as shown above."
   ]
  },
  {
   "cell_type": "code",
   "execution_count": null,
   "id": "joint-clock",
   "metadata": {
    "colab": {
     "base_uri": "https://localhost:8080/"
    },
    "executionInfo": {
     "elapsed": 177,
     "status": "ok",
     "timestamp": 1623720301126,
     "user": {
      "displayName": "Nick Derr",
      "photoUrl": "",
      "userId": "09936509318349382167"
     },
     "user_tz": 240
    },
    "id": "oaEDrwmW_YZr",
    "outputId": "661d65d4-8f19-4be0-b45d-27ea498ff61e"
   },
   "outputs": [],
   "source": [
    "print('the dog\\'s name is {:s}'.format(dog['name']))\n",
    "print('the dog is {:d} years old'.format(dog['age']))"
   ]
  },
  {
   "cell_type": "markdown",
   "id": "civic-figure",
   "metadata": {
    "id": "mWo5qZeKH51f"
   },
   "source": [
    "If a key is provided which is not contained in the dictionary, we will get a KeyError."
   ]
  },
  {
   "cell_type": "code",
   "execution_count": null,
   "id": "acquired-robert",
   "metadata": {
    "colab": {
     "base_uri": "https://localhost:8080/",
     "height": 176
    },
    "executionInfo": {
     "elapsed": 83,
     "status": "error",
     "timestamp": 1623720301606,
     "user": {
      "displayName": "Nick Derr",
      "photoUrl": "",
      "userId": "09936509318349382167"
     },
     "user_tz": 240
    },
    "id": "Axavu6VEH2IN",
    "outputId": "ced0bfd3-b542-480f-b25c-d442bb702838"
   },
   "outputs": [],
   "source": [
    "print('the dog\\'s favorite book is {:s}'.format(dog['favorite_book']))"
   ]
  },
  {
   "cell_type": "markdown",
   "id": "canadian-punishment",
   "metadata": {
    "id": "RkJAFm85OQLZ"
   },
   "source": [
    "We extract a list of the key-pairs with the items() function, which returns a list of 2-item tuples in the form [(key1,value1),(key2,value2),...]"
   ]
  },
  {
   "cell_type": "code",
   "execution_count": null,
   "id": "active-volume",
   "metadata": {
    "executionInfo": {
     "elapsed": 33,
     "status": "aborted",
     "timestamp": 1623720301587,
     "user": {
      "displayName": "Nick Derr",
      "photoUrl": "",
      "userId": "09936509318349382167"
     },
     "user_tz": 240
    },
    "id": "sDj3mOZBKcRY"
   },
   "outputs": [],
   "source": [
    "items = list(dog.items())\n",
    "print(items)"
   ]
  },
  {
   "cell_type": "markdown",
   "id": "distributed-province",
   "metadata": {
    "id": "T7bTGrk0PIeU"
   },
   "source": [
    "Dictionaries are mutable, like lists. We can add entries by setting the value of a provided key like below."
   ]
  },
  {
   "cell_type": "code",
   "execution_count": null,
   "id": "adaptive-absolute",
   "metadata": {
    "executionInfo": {
     "elapsed": 38,
     "status": "aborted",
     "timestamp": 1623720301593,
     "user": {
      "displayName": "Nick Derr",
      "photoUrl": "",
      "userId": "09936509318349382167"
     },
     "user_tz": 240
    },
    "id": "q5dywH8bPBUs"
   },
   "outputs": [],
   "source": [
    "# adds a favorite toy entry\n",
    "dog['favorite_toy'] = 'squeaker'\n",
    "\n",
    "# now this will not generate an error\n",
    "print('the dog\\'s favorite toy is the {:s}'.format(dog['favorite_toy']))"
   ]
  },
  {
   "cell_type": "markdown",
   "id": "large-powder",
   "metadata": {
    "id": "l0AnRrgORPOA"
   },
   "source": [
    "Setting the value of a key already in the dictionary updates its value."
   ]
  },
  {
   "cell_type": "code",
   "execution_count": null,
   "id": "forbidden-advocate",
   "metadata": {
    "executionInfo": {
     "elapsed": 39,
     "status": "aborted",
     "timestamp": 1623720301595,
     "user": {
      "displayName": "Nick Derr",
      "photoUrl": "",
      "userId": "09936509318349382167"
     },
     "user_tz": 240
    },
    "id": "yELjeX4QQohL"
   },
   "outputs": [],
   "source": [
    "# sets the dog's age to one more than its current value (6->7)\n",
    "dog['age'] = dog['age'] + 1\n",
    "print('Happy Birthday! The dog is now {:d}'.format(dog['age']))"
   ]
  },
  {
   "cell_type": "markdown",
   "id": "incorporate-concentrate",
   "metadata": {
    "colab_type": "text",
    "id": "CmwBmzfqhBh7"
   },
   "source": [
    "### Command Flow"
   ]
  },
  {
   "cell_type": "markdown",
   "id": "negative-period",
   "metadata": {
    "colab_type": "text",
    "id": "s32EZ3AKjr3d"
   },
   "source": [
    "#### If/else statements\n",
    "\n",
    "\"Branching\" means that you provide the computer instructions to begin executing a different part of the program rather than executing steps one-by-one. In Python, we represent this with if, else, and elif (\"else if\") statements. Each of these statements depends on the evaluation of some condition into a boolean (recall: True or False). Then the direction of the control flow goes to the first statement that evaluates \"True\".\n",
    "\n",
    "\n"
   ]
  },
  {
   "cell_type": "markdown",
   "id": "living-karaoke",
   "metadata": {
    "colab_type": "text",
    "id": "V3IabRFdDipK"
   },
   "source": [
    "Here's an example of a simple if statement that always is True."
   ]
  },
  {
   "cell_type": "code",
   "execution_count": null,
   "id": "located-workshop",
   "metadata": {
    "colab": {},
    "colab_type": "code",
    "id": "1dMQUgJeDdO7"
   },
   "outputs": [],
   "source": [
    "if True:\n",
    "  print(\"Hello world\")"
   ]
  },
  {
   "cell_type": "markdown",
   "id": "wooden-xerox",
   "metadata": {
    "colab_type": "text",
    "id": "ixxpwA0QD4W9"
   },
   "source": [
    "Comparisons evaluate to \"True\" or \"False\". Here are some examples."
   ]
  },
  {
   "cell_type": "code",
   "execution_count": null,
   "id": "alert-partition",
   "metadata": {
    "colab": {
     "base_uri": "https://localhost:8080/",
     "height": 102
    },
    "colab_type": "code",
    "executionInfo": {
     "elapsed": 587,
     "status": "ok",
     "timestamp": 1595948473930,
     "user": {
      "displayName": "monica roberson",
      "photoUrl": "",
      "userId": "12493745571037541376"
     },
     "user_tz": 240
    },
    "id": "QLhgCTiuD-Bn",
    "outputId": "7175e0cb-868b-41eb-8d4b-1f1c28a885d3"
   },
   "outputs": [],
   "source": [
    "# length of a list greater than zero\n",
    "lst = [0, 2, 3, 5]\n",
    "boolean1 = len(lst) > 0\n",
    "print(\"Length of list is greater than 0 boolean: {}.\".format(boolean1))\n",
    "\n",
    "# compare two numbers\n",
    "num = 8\n",
    "\n",
    "boolean2 = num < 7\n",
    "print(\"Number num less than 7 boolean: {}\".format(boolean2))\n",
    "\n",
    "# use inequality\n",
    "boolean3 = num != 7\n",
    "print(\"Print {}\".format(boolean3))\n",
    "\n",
    "# use compound booleans\n",
    "boolean4 = True and False\n",
    "print(\"Print {}\".format(boolean4))\n",
    "\n",
    "boolean5 = True or False\n",
    "print(boolean5)\n",
    "\n",
    "boolean6 = (True or False) and True"
   ]
  },
  {
   "cell_type": "markdown",
   "id": "north-hunter",
   "metadata": {
    "colab_type": "text",
    "id": "ObGEl7-qEsPE"
   },
   "source": [
    "The program follows the \"elif\" branch of the code if the condition in \"if\" is not satisfied AND if the condition in the \"elif\" is satisfied. The program follows the \"else\" branch of the code if the condition in the preceding \"if\" and \"elif\" statements ALL evaluate to False."
   ]
  },
  {
   "cell_type": "code",
   "execution_count": null,
   "id": "veterinary-patio",
   "metadata": {
    "colab": {},
    "colab_type": "code",
    "id": "529s50qwE12t"
   },
   "outputs": [],
   "source": [
    "num = 8\n",
    "\n",
    "if num < 7:\n",
    "  print(\"Number is less than seven!\")\n",
    "\n",
    "# the % is called the \"modulo\" operator. \n",
    "# x % y is the residual number after x has been divided by y\n",
    "# for example, 10 % 3 = 1 because 9 is divisible by 3 and 10-1 = 9\n",
    "elif num % 2 == 0:\n",
    "  print(\"Number is divisible by two!\")"
   ]
  },
  {
   "cell_type": "markdown",
   "id": "fifth-marker",
   "metadata": {
    "colab_type": "text",
    "id": "Z51D69hSFEAd"
   },
   "source": [
    "#### *Exercise 1*: \n",
    " a. What would happen if num=6 instead?\n",
    " \n",
    " b. What would happen if num=6 but we flipped the if and elif statements?"
   ]
  },
  {
   "cell_type": "markdown",
   "id": "prostate-incidence",
   "metadata": {
    "colab_type": "text",
    "id": "zKXg-y_IDpua"
   },
   "source": [
    "The program follows the \"else\" branch of the code if the condition in the preceding \"if\" and \"elif\" statements ALL evaluate to False. \n"
   ]
  },
  {
   "cell_type": "code",
   "execution_count": null,
   "id": "coral-furniture",
   "metadata": {
    "colab": {},
    "colab_type": "code",
    "id": "tOPLyGrRFZZj"
   },
   "outputs": [],
   "source": [
    "num = 9\n",
    "\n",
    "if num < 7:\n",
    "  print(\"Number is less than seven!\")\n",
    "elif num % 2 == 0:\n",
    "  print(\"Number is divisible by two!\")\n",
    "else:\n",
    "  print(\"Made it to the else statement!\")"
   ]
  },
  {
   "cell_type": "markdown",
   "id": "8bad7938",
   "metadata": {},
   "source": [
    "### Breakout Rooms for a few exercises!"
   ]
  },
  {
   "cell_type": "markdown",
   "id": "crucial-applicant",
   "metadata": {
    "colab_type": "text",
    "id": "KwZJT1gdr7i9"
   },
   "source": [
    "#### *Exercise 2*\n",
    "What does the code print when x = 0 and y = 5?\n",
    "\n",
    "\n",
    "```\n",
    "if x == y:\n",
    "    if y != 0:\n",
    "        print(\"x / y is\", x/y)\n",
    "elif x < y:\n",
    "    print(\"x is smaller\")\n",
    "else:\n",
    "    print(\"y is smaller\")\n",
    "```\n",
    "\n"
   ]
  },
  {
   "cell_type": "markdown",
   "id": "medical-silly",
   "metadata": {
    "colab_type": "text",
    "id": "8omiYzgNtRG0"
   },
   "source": [
    "#### *Exercise 3*\n",
    "\n",
    "What does the following code print when run?\n",
    "\n",
    "```\n",
    "sum = 14\n",
    "if sum < 20:\n",
    "   print(\"Under \")\n",
    "else\n",
    "   print(\"Over \")\n",
    "print(\"the limit\")\n",
    "```\n",
    "\n"
   ]
  },
  {
   "cell_type": "markdown",
   "id": "inner-vatican",
   "metadata": {
    "colab_type": "text",
    "id": "FVdVFhhqtyis"
   },
   "source": [
    "#### *Exercise 4*\n",
    "\n",
    "What does the following code print when run?\n",
    "\n",
    "```\n",
    "sum = 14\n",
    "if sum < 20:\n",
    "   print(\"Under \")\n",
    "else\n",
    "   print(\"Over \")\n",
    "   print(\"the limit\")\n",
    "```\n"
   ]
  },
  {
   "cell_type": "markdown",
   "id": "moral-airport",
   "metadata": {
    "colab_type": "text",
    "id": "SqaToGL5uiOF"
   },
   "source": [
    "#### *Exercise 5*\n",
    "\n",
    "What does the following code print when run?\n",
    "\n",
    "```\n",
    "num = 2\n",
    "\n",
    "# != means not equal to\n",
    "if num != 7: \n",
    "  print(\"number is not equal to seven!\")\n",
    "elif num == 2:\n",
    "  print(\"Number is equal to two!\")\n",
    "else:\n",
    "  print(\"Made it to the else statement!\")\n",
    "```"
   ]
  },
  {
   "cell_type": "markdown",
   "id": "confused-flour",
   "metadata": {
    "colab_type": "text",
    "id": "fPSC-U3wiBsj"
   },
   "source": [
    "## For loops\n",
    "\n",
    "A for loop sequentially steps through an object that is *iterable*, like a list, creating a variable assigned to the value of the iterable at the particular step (\"num\" in this case). When the for loop has completed, this variable retains the *last* value that it had in the for loop.\n",
    "\n"
   ]
  },
  {
   "cell_type": "code",
   "execution_count": null,
   "id": "medical-translator",
   "metadata": {
    "colab": {
     "base_uri": "https://localhost:8080/",
     "height": 101
    },
    "colab_type": "code",
    "executionInfo": {
     "elapsed": 332,
     "status": "ok",
     "timestamp": 1594747048090,
     "user": {
      "displayName": "Priya Veeraraghavan",
      "photoUrl": "https://lh3.googleusercontent.com/a-/AOh14Gh2dEr_zfHymCarnLpzSeBStUfsCSd3VguS7odKMikqxgM916bExUrLY3O49YnZ6vR3MdR250MLZTfakPYl4b6qq3KqoX47cMPxnUw5Np-v92Q--lQSoaA2N5ePkvEE4rWiv7cFFHzHUNy3e4TEUqM0EF2Ec_uXbbWWl2jtTp19GBLA_5BoSV2_zDzi2pH3tLgfi8NjHXTdDeMFEGzMAR-D41Hy61PvGty-3qwJw5CEGKheJN8FiMeqwxk3byGtGmB-knuxuWkEUupZonJDxvfRq8NJQ1m7Cadn3en5trCUlGpUhQTyBDLI-biT9OPFI9xLDPTrwHx6KOrkw7gs0v30BJ4eQ1V2-B3Rlwsf0RE1ZqCOob71YS4K-7BvmEBTMdOo-SdprmwdgSk9knEg_NmGn1CLqnAkbqihZPPCv8f2nNLJwypgKPOysaa5v1N_JYbQIKGM9LG2QuihZ-0Ga-cWSBhinvb3Hc3cEY80UnsFO7A-SlmCgrM7Jk33LMtxxERMm2G1Ci7vT8dZcg7qVlvbtBIm8gQc_Eo7bT54GMe1HKvUEOVcGIcstFzkrPH4fw1o67emGFNzf6dO3QDp0RAgOwUdwwPZzHXvRXKVeGP7zJQkeHU-GYXUgvMv75IVcuGJs9KbZyR6A0Doy8HYEqJx6ZdMLZ29UgNs-WetfCSdrlxuYxU2Ye36BIG6RSD_rIKPpRjZPr29nfhm4O_zjNUTtLuYYxXEyr3BFCoNz0AniHKOu_jJ6w56QRx_kyoP7L5jwg=s64",
      "userId": "10950794880338920839"
     },
     "user_tz": 240
    },
    "id": "d744LH39wM4E",
    "outputId": "245dccfd-017f-4be7-9658-c196ebc51bf6"
   },
   "outputs": [],
   "source": [
    "lst = [3, 5, 6, 8]\n",
    "\n",
    "for num in lst:\n",
    "   print(num)\n",
    "\n",
    "print(\"The final value of num is : {}\".format(num))"
   ]
  },
  {
   "cell_type": "markdown",
   "id": "suspected-opposition",
   "metadata": {
    "colab_type": "text",
    "id": "vlKoeYSD2pVb"
   },
   "source": [
    "#### *Exercise 6*\n",
    "\n",
    "What is the output of this code?\n",
    "\n",
    "```\n",
    "lst_nest = [\"hi\", \"my\", \"name\", [\"is\", \"Nick\"], \"!\"]\n",
    "\n",
    "for i in lst_nest:\n",
    "   print(i)\n",
    "```"
   ]
  },
  {
   "cell_type": "markdown",
   "id": "dental-blank",
   "metadata": {
    "colab_type": "text",
    "id": "yUIJ2fIP2tDL"
   },
   "source": [
    "The range function creates a sequence of numbers from 0 (or a specified start) to 1 before the specified end. The arguments to range are:\n",
    "\n",
    "range(start, stop, step)\n",
    "\n",
    "where start and step are optional.\n",
    "\n",
    "```\n",
    "x = range(5) # range contains 0, 1, 2, 3, 4\n",
    "y = range(5, 10) # range contains 5, 6, 7, 8, 9\n",
    "z = range(2, 8, 2) # range contains 2, 4, 6\n",
    "```"
   ]
  },
  {
   "cell_type": "markdown",
   "id": "embedded-stadium",
   "metadata": {
    "colab_type": "text",
    "id": "g-EFc4XbwOfU"
   },
   "source": [
    "However, when I try to print out the range using the print() function, I don't actually see those values. It's not a List, but a special object called a generator."
   ]
  },
  {
   "cell_type": "code",
   "execution_count": null,
   "id": "loved-reader",
   "metadata": {
    "colab": {
     "base_uri": "https://localhost:8080/",
     "height": 34
    },
    "colab_type": "code",
    "executionInfo": {
     "elapsed": 404,
     "status": "ok",
     "timestamp": 1594747298179,
     "user": {
      "displayName": "Priya Veeraraghavan",
      "photoUrl": "https://lh3.googleusercontent.com/a-/AOh14Gh2dEr_zfHymCarnLpzSeBStUfsCSd3VguS7odKMikqxgM916bExUrLY3O49YnZ6vR3MdR250MLZTfakPYl4b6qq3KqoX47cMPxnUw5Np-v92Q--lQSoaA2N5ePkvEE4rWiv7cFFHzHUNy3e4TEUqM0EF2Ec_uXbbWWl2jtTp19GBLA_5BoSV2_zDzi2pH3tLgfi8NjHXTdDeMFEGzMAR-D41Hy61PvGty-3qwJw5CEGKheJN8FiMeqwxk3byGtGmB-knuxuWkEUupZonJDxvfRq8NJQ1m7Cadn3en5trCUlGpUhQTyBDLI-biT9OPFI9xLDPTrwHx6KOrkw7gs0v30BJ4eQ1V2-B3Rlwsf0RE1ZqCOob71YS4K-7BvmEBTMdOo-SdprmwdgSk9knEg_NmGn1CLqnAkbqihZPPCv8f2nNLJwypgKPOysaa5v1N_JYbQIKGM9LG2QuihZ-0Ga-cWSBhinvb3Hc3cEY80UnsFO7A-SlmCgrM7Jk33LMtxxERMm2G1Ci7vT8dZcg7qVlvbtBIm8gQc_Eo7bT54GMe1HKvUEOVcGIcstFzkrPH4fw1o67emGFNzf6dO3QDp0RAgOwUdwwPZzHXvRXKVeGP7zJQkeHU-GYXUgvMv75IVcuGJs9KbZyR6A0Doy8HYEqJx6ZdMLZ29UgNs-WetfCSdrlxuYxU2Ye36BIG6RSD_rIKPpRjZPr29nfhm4O_zjNUTtLuYYxXEyr3BFCoNz0AniHKOu_jJ6w56QRx_kyoP7L5jwg=s64",
      "userId": "10950794880338920839"
     },
     "user_tz": 240
    },
    "id": "n7hQYYIx2ay7",
    "outputId": "3ea91470-1267-498a-b5d6-c443521938df"
   },
   "outputs": [],
   "source": [
    "y = range(5, 10) # range contains 5, 6, 7, 8, 9\n",
    "\n",
    "print(y)"
   ]
  },
  {
   "cell_type": "code",
   "execution_count": null,
   "id": "ecological-macedonia",
   "metadata": {
    "colab": {
     "base_uri": "https://localhost:8080/",
     "height": 101
    },
    "colab_type": "code",
    "executionInfo": {
     "elapsed": 337,
     "status": "ok",
     "timestamp": 1594747343582,
     "user": {
      "displayName": "Priya Veeraraghavan",
      "photoUrl": "https://lh3.googleusercontent.com/a-/AOh14Gh2dEr_zfHymCarnLpzSeBStUfsCSd3VguS7odKMikqxgM916bExUrLY3O49YnZ6vR3MdR250MLZTfakPYl4b6qq3KqoX47cMPxnUw5Np-v92Q--lQSoaA2N5ePkvEE4rWiv7cFFHzHUNy3e4TEUqM0EF2Ec_uXbbWWl2jtTp19GBLA_5BoSV2_zDzi2pH3tLgfi8NjHXTdDeMFEGzMAR-D41Hy61PvGty-3qwJw5CEGKheJN8FiMeqwxk3byGtGmB-knuxuWkEUupZonJDxvfRq8NJQ1m7Cadn3en5trCUlGpUhQTyBDLI-biT9OPFI9xLDPTrwHx6KOrkw7gs0v30BJ4eQ1V2-B3Rlwsf0RE1ZqCOob71YS4K-7BvmEBTMdOo-SdprmwdgSk9knEg_NmGn1CLqnAkbqihZPPCv8f2nNLJwypgKPOysaa5v1N_JYbQIKGM9LG2QuihZ-0Ga-cWSBhinvb3Hc3cEY80UnsFO7A-SlmCgrM7Jk33LMtxxERMm2G1Ci7vT8dZcg7qVlvbtBIm8gQc_Eo7bT54GMe1HKvUEOVcGIcstFzkrPH4fw1o67emGFNzf6dO3QDp0RAgOwUdwwPZzHXvRXKVeGP7zJQkeHU-GYXUgvMv75IVcuGJs9KbZyR6A0Doy8HYEqJx6ZdMLZ29UgNs-WetfCSdrlxuYxU2Ye36BIG6RSD_rIKPpRjZPr29nfhm4O_zjNUTtLuYYxXEyr3BFCoNz0AniHKOu_jJ6w56QRx_kyoP7L5jwg=s64",
      "userId": "10950794880338920839"
     },
     "user_tz": 240
    },
    "id": "gXb_Hn1CWPD6",
    "outputId": "84be6f60-c4ef-42c8-ccc1-5f7abfe7cb5d"
   },
   "outputs": [],
   "source": [
    "for num in y:\n",
    "  print(num)"
   ]
  },
  {
   "cell_type": "markdown",
   "id": "vocal-dryer",
   "metadata": {
    "colab_type": "text",
    "id": "xfhI3QcfvmLi"
   },
   "source": [
    "#### *Exercise 7*\n",
    "\n",
    "What is printed by the following code?\n",
    "\n",
    "```\n",
    "mysum = 0\n",
    "for i in range(5, 11, 2):\n",
    "    mysum += i\n",
    "    if mysum == 5:\n",
    "        break\n",
    "        mysum += 1\n",
    "print(mysum)\n",
    "```"
   ]
  },
  {
   "cell_type": "markdown",
   "id": "automotive-train",
   "metadata": {
    "colab_type": "text",
    "id": "RsVwL-nj3EXy"
   },
   "source": [
    "#### *Exercise 8*\n",
    "\n",
    "What is the output of this code?\n",
    "\n",
    "```\n",
    "for i in range(6, -6, -1):\n",
    "   if i % 5 == 0 and i*2 < 10:\n",
    "      print(i)\n",
    "```"
   ]
  },
  {
   "cell_type": "markdown",
   "id": "official-number",
   "metadata": {
    "colab_type": "text",
    "id": "FLSXJwLq3L2K"
   },
   "source": [
    "It's also possible to perform operations on the index variable, define new variables, etc."
   ]
  },
  {
   "cell_type": "code",
   "execution_count": null,
   "id": "postal-memphis",
   "metadata": {
    "colab": {
     "base_uri": "https://localhost:8080/",
     "height": 202
    },
    "colab_type": "code",
    "executionInfo": {
     "elapsed": 329,
     "status": "ok",
     "timestamp": 1594747660747,
     "user": {
      "displayName": "Priya Veeraraghavan",
      "photoUrl": "https://lh3.googleusercontent.com/a-/AOh14Gh2dEr_zfHymCarnLpzSeBStUfsCSd3VguS7odKMikqxgM916bExUrLY3O49YnZ6vR3MdR250MLZTfakPYl4b6qq3KqoX47cMPxnUw5Np-v92Q--lQSoaA2N5ePkvEE4rWiv7cFFHzHUNy3e4TEUqM0EF2Ec_uXbbWWl2jtTp19GBLA_5BoSV2_zDzi2pH3tLgfi8NjHXTdDeMFEGzMAR-D41Hy61PvGty-3qwJw5CEGKheJN8FiMeqwxk3byGtGmB-knuxuWkEUupZonJDxvfRq8NJQ1m7Cadn3en5trCUlGpUhQTyBDLI-biT9OPFI9xLDPTrwHx6KOrkw7gs0v30BJ4eQ1V2-B3Rlwsf0RE1ZqCOob71YS4K-7BvmEBTMdOo-SdprmwdgSk9knEg_NmGn1CLqnAkbqihZPPCv8f2nNLJwypgKPOysaa5v1N_JYbQIKGM9LG2QuihZ-0Ga-cWSBhinvb3Hc3cEY80UnsFO7A-SlmCgrM7Jk33LMtxxERMm2G1Ci7vT8dZcg7qVlvbtBIm8gQc_Eo7bT54GMe1HKvUEOVcGIcstFzkrPH4fw1o67emGFNzf6dO3QDp0RAgOwUdwwPZzHXvRXKVeGP7zJQkeHU-GYXUgvMv75IVcuGJs9KbZyR6A0Doy8HYEqJx6ZdMLZ29UgNs-WetfCSdrlxuYxU2Ye36BIG6RSD_rIKPpRjZPr29nfhm4O_zjNUTtLuYYxXEyr3BFCoNz0AniHKOu_jJ6w56QRx_kyoP7L5jwg=s64",
      "userId": "10950794880338920839"
     },
     "user_tz": 240
    },
    "id": "7bE-d-E93MqL",
    "outputId": "ac786329-83b1-4095-a1db-765625b369d0"
   },
   "outputs": [],
   "source": [
    "integers = range(11)\n",
    "\n",
    "for i in integers:\n",
    "  print(f\"i^2     = {i*i:d}\")\n",
    "  j = i - 3\n",
    "  print(f\"j = i-3 = {j:d}\")\n",
    "  print()"
   ]
  },
  {
   "cell_type": "markdown",
   "id": "painful-channels",
   "metadata": {
    "colab_type": "text",
    "id": "WGcf3MRP3eSg"
   },
   "source": [
    "For loops can also iterate through objects other than lists and ranges: dictionaries have a couple of options for iterating.\n",
    "\n",
    "The first is to iterate over the keys of the dictionary."
   ]
  },
  {
   "cell_type": "code",
   "execution_count": null,
   "id": "supported-worse",
   "metadata": {
    "colab": {
     "base_uri": "https://localhost:8080/",
     "height": 67
    },
    "colab_type": "code",
    "executionInfo": {
     "elapsed": 360,
     "status": "ok",
     "timestamp": 1594748560336,
     "user": {
      "displayName": "Priya Veeraraghavan",
      "photoUrl": "https://lh3.googleusercontent.com/a-/AOh14Gh2dEr_zfHymCarnLpzSeBStUfsCSd3VguS7odKMikqxgM916bExUrLY3O49YnZ6vR3MdR250MLZTfakPYl4b6qq3KqoX47cMPxnUw5Np-v92Q--lQSoaA2N5ePkvEE4rWiv7cFFHzHUNy3e4TEUqM0EF2Ec_uXbbWWl2jtTp19GBLA_5BoSV2_zDzi2pH3tLgfi8NjHXTdDeMFEGzMAR-D41Hy61PvGty-3qwJw5CEGKheJN8FiMeqwxk3byGtGmB-knuxuWkEUupZonJDxvfRq8NJQ1m7Cadn3en5trCUlGpUhQTyBDLI-biT9OPFI9xLDPTrwHx6KOrkw7gs0v30BJ4eQ1V2-B3Rlwsf0RE1ZqCOob71YS4K-7BvmEBTMdOo-SdprmwdgSk9knEg_NmGn1CLqnAkbqihZPPCv8f2nNLJwypgKPOysaa5v1N_JYbQIKGM9LG2QuihZ-0Ga-cWSBhinvb3Hc3cEY80UnsFO7A-SlmCgrM7Jk33LMtxxERMm2G1Ci7vT8dZcg7qVlvbtBIm8gQc_Eo7bT54GMe1HKvUEOVcGIcstFzkrPH4fw1o67emGFNzf6dO3QDp0RAgOwUdwwPZzHXvRXKVeGP7zJQkeHU-GYXUgvMv75IVcuGJs9KbZyR6A0Doy8HYEqJx6ZdMLZ29UgNs-WetfCSdrlxuYxU2Ye36BIG6RSD_rIKPpRjZPr29nfhm4O_zjNUTtLuYYxXEyr3BFCoNz0AniHKOu_jJ6w56QRx_kyoP7L5jwg=s64",
      "userId": "10950794880338920839"
     },
     "user_tz": 240
    },
    "id": "gyxAq90d3gNC",
    "outputId": "fdc5b9c9-8408-4946-d62b-da72b12e9aaa"
   },
   "outputs": [],
   "source": [
    "dct = {'banana': 'yellow', 'tangerine': 'orange', 'strawberry' : 'red'}\n",
    "\n",
    "for k in dct:\n",
    "   print(k)"
   ]
  },
  {
   "cell_type": "markdown",
   "id": "frank-zimbabwe",
   "metadata": {
    "colab_type": "text",
    "id": "k79V9EiF3k2w"
   },
   "source": [
    "The second is to iterate over the values in the dictionary. "
   ]
  },
  {
   "cell_type": "code",
   "execution_count": null,
   "id": "hearing-sauce",
   "metadata": {
    "colab": {
     "base_uri": "https://localhost:8080/",
     "height": 67
    },
    "colab_type": "code",
    "executionInfo": {
     "elapsed": 351,
     "status": "ok",
     "timestamp": 1594748572632,
     "user": {
      "displayName": "Priya Veeraraghavan",
      "photoUrl": "https://lh3.googleusercontent.com/a-/AOh14Gh2dEr_zfHymCarnLpzSeBStUfsCSd3VguS7odKMikqxgM916bExUrLY3O49YnZ6vR3MdR250MLZTfakPYl4b6qq3KqoX47cMPxnUw5Np-v92Q--lQSoaA2N5ePkvEE4rWiv7cFFHzHUNy3e4TEUqM0EF2Ec_uXbbWWl2jtTp19GBLA_5BoSV2_zDzi2pH3tLgfi8NjHXTdDeMFEGzMAR-D41Hy61PvGty-3qwJw5CEGKheJN8FiMeqwxk3byGtGmB-knuxuWkEUupZonJDxvfRq8NJQ1m7Cadn3en5trCUlGpUhQTyBDLI-biT9OPFI9xLDPTrwHx6KOrkw7gs0v30BJ4eQ1V2-B3Rlwsf0RE1ZqCOob71YS4K-7BvmEBTMdOo-SdprmwdgSk9knEg_NmGn1CLqnAkbqihZPPCv8f2nNLJwypgKPOysaa5v1N_JYbQIKGM9LG2QuihZ-0Ga-cWSBhinvb3Hc3cEY80UnsFO7A-SlmCgrM7Jk33LMtxxERMm2G1Ci7vT8dZcg7qVlvbtBIm8gQc_Eo7bT54GMe1HKvUEOVcGIcstFzkrPH4fw1o67emGFNzf6dO3QDp0RAgOwUdwwPZzHXvRXKVeGP7zJQkeHU-GYXUgvMv75IVcuGJs9KbZyR6A0Doy8HYEqJx6ZdMLZ29UgNs-WetfCSdrlxuYxU2Ye36BIG6RSD_rIKPpRjZPr29nfhm4O_zjNUTtLuYYxXEyr3BFCoNz0AniHKOu_jJ6w56QRx_kyoP7L5jwg=s64",
      "userId": "10950794880338920839"
     },
     "user_tz": 240
    },
    "id": "GW3iKbDd3vKx",
    "outputId": "c2c16bc6-f25b-424f-f869-c1783965f6b6"
   },
   "outputs": [],
   "source": [
    "for v in dct.values():\n",
    "  print(v)"
   ]
  },
  {
   "cell_type": "markdown",
   "id": "molecular-talent",
   "metadata": {
    "colab_type": "text",
    "id": "qUJq1-bn3y4H"
   },
   "source": [
    "The third is to iterate over all of the key, value pairs in the dictionary, called \"items\""
   ]
  },
  {
   "cell_type": "code",
   "execution_count": null,
   "id": "increasing-medication",
   "metadata": {
    "colab": {
     "base_uri": "https://localhost:8080/",
     "height": 67
    },
    "colab_type": "code",
    "executionInfo": {
     "elapsed": 320,
     "status": "ok",
     "timestamp": 1594748603436,
     "user": {
      "displayName": "Priya Veeraraghavan",
      "photoUrl": "https://lh3.googleusercontent.com/a-/AOh14Gh2dEr_zfHymCarnLpzSeBStUfsCSd3VguS7odKMikqxgM916bExUrLY3O49YnZ6vR3MdR250MLZTfakPYl4b6qq3KqoX47cMPxnUw5Np-v92Q--lQSoaA2N5ePkvEE4rWiv7cFFHzHUNy3e4TEUqM0EF2Ec_uXbbWWl2jtTp19GBLA_5BoSV2_zDzi2pH3tLgfi8NjHXTdDeMFEGzMAR-D41Hy61PvGty-3qwJw5CEGKheJN8FiMeqwxk3byGtGmB-knuxuWkEUupZonJDxvfRq8NJQ1m7Cadn3en5trCUlGpUhQTyBDLI-biT9OPFI9xLDPTrwHx6KOrkw7gs0v30BJ4eQ1V2-B3Rlwsf0RE1ZqCOob71YS4K-7BvmEBTMdOo-SdprmwdgSk9knEg_NmGn1CLqnAkbqihZPPCv8f2nNLJwypgKPOysaa5v1N_JYbQIKGM9LG2QuihZ-0Ga-cWSBhinvb3Hc3cEY80UnsFO7A-SlmCgrM7Jk33LMtxxERMm2G1Ci7vT8dZcg7qVlvbtBIm8gQc_Eo7bT54GMe1HKvUEOVcGIcstFzkrPH4fw1o67emGFNzf6dO3QDp0RAgOwUdwwPZzHXvRXKVeGP7zJQkeHU-GYXUgvMv75IVcuGJs9KbZyR6A0Doy8HYEqJx6ZdMLZ29UgNs-WetfCSdrlxuYxU2Ye36BIG6RSD_rIKPpRjZPr29nfhm4O_zjNUTtLuYYxXEyr3BFCoNz0AniHKOu_jJ6w56QRx_kyoP7L5jwg=s64",
      "userId": "10950794880338920839"
     },
     "user_tz": 240
    },
    "id": "IeoX8VbH4MKK",
    "outputId": "32a235a1-21b9-48f1-d670-9e416eb5762b"
   },
   "outputs": [],
   "source": [
    "for i in dct.items():\n",
    "  print(i)\n"
   ]
  },
  {
   "cell_type": "markdown",
   "id": "superb-plasma",
   "metadata": {
    "colab_type": "text",
    "id": "XZzj7uWm4RDq"
   },
   "source": [
    "Which data structure does the previous output remind you of?"
   ]
  },
  {
   "cell_type": "markdown",
   "id": "concrete-experience",
   "metadata": {
    "colab_type": "text",
    "id": "682vuEz54TaF"
   },
   "source": [
    "If you know that there are going to be n separate values in each step of an iterator (like the dictionary above), you can assign each value a different variable depending on its position. \n",
    "\n",
    "In the previous example, I could have actually separated the key and the value during the iteration."
   ]
  },
  {
   "cell_type": "code",
   "execution_count": null,
   "id": "loaded-storm",
   "metadata": {
    "colab": {
     "base_uri": "https://localhost:8080/",
     "height": 67
    },
    "colab_type": "code",
    "executionInfo": {
     "elapsed": 342,
     "status": "ok",
     "timestamp": 1594748681053,
     "user": {
      "displayName": "Priya Veeraraghavan",
      "photoUrl": "https://lh3.googleusercontent.com/a-/AOh14Gh2dEr_zfHymCarnLpzSeBStUfsCSd3VguS7odKMikqxgM916bExUrLY3O49YnZ6vR3MdR250MLZTfakPYl4b6qq3KqoX47cMPxnUw5Np-v92Q--lQSoaA2N5ePkvEE4rWiv7cFFHzHUNy3e4TEUqM0EF2Ec_uXbbWWl2jtTp19GBLA_5BoSV2_zDzi2pH3tLgfi8NjHXTdDeMFEGzMAR-D41Hy61PvGty-3qwJw5CEGKheJN8FiMeqwxk3byGtGmB-knuxuWkEUupZonJDxvfRq8NJQ1m7Cadn3en5trCUlGpUhQTyBDLI-biT9OPFI9xLDPTrwHx6KOrkw7gs0v30BJ4eQ1V2-B3Rlwsf0RE1ZqCOob71YS4K-7BvmEBTMdOo-SdprmwdgSk9knEg_NmGn1CLqnAkbqihZPPCv8f2nNLJwypgKPOysaa5v1N_JYbQIKGM9LG2QuihZ-0Ga-cWSBhinvb3Hc3cEY80UnsFO7A-SlmCgrM7Jk33LMtxxERMm2G1Ci7vT8dZcg7qVlvbtBIm8gQc_Eo7bT54GMe1HKvUEOVcGIcstFzkrPH4fw1o67emGFNzf6dO3QDp0RAgOwUdwwPZzHXvRXKVeGP7zJQkeHU-GYXUgvMv75IVcuGJs9KbZyR6A0Doy8HYEqJx6ZdMLZ29UgNs-WetfCSdrlxuYxU2Ye36BIG6RSD_rIKPpRjZPr29nfhm4O_zjNUTtLuYYxXEyr3BFCoNz0AniHKOu_jJ6w56QRx_kyoP7L5jwg=s64",
      "userId": "10950794880338920839"
     },
     "user_tz": 240
    },
    "id": "uaLIM9cl4WfU",
    "outputId": "2f2c6979-6f10-443a-e2a7-34e6f6afd8ba"
   },
   "outputs": [],
   "source": [
    "for k, v in dct.items():\n",
    "  print(\"Key is {}; Value is {}\".format(k, v))"
   ]
  },
  {
   "cell_type": "markdown",
   "id": "c1c6a5ed",
   "metadata": {},
   "source": [
    "Another common occurence where this is useful is when iterating over values of a list and maintaining an index. The *enumerate* function, when applied to an iterator, gives us something much like *range*:"
   ]
  },
  {
   "cell_type": "code",
   "execution_count": null,
   "id": "f7920c44",
   "metadata": {},
   "outputs": [],
   "source": [
    "candle_scents = ['maple', 'lilac', 'gym socks', 'peanut butter']\n",
    "\n",
    "for i,s in enumerate(candle_scents):\n",
    "    message = f'the {i:d}th candle scent is {s:s}'\n",
    "    print(message)"
   ]
  },
  {
   "cell_type": "markdown",
   "id": "294bcdcb",
   "metadata": {},
   "source": [
    "*enumerate* functions as a generator! What are the objects we're iterating over? What are the values we can unpack from those objects?"
   ]
  },
  {
   "cell_type": "markdown",
   "id": "operating-module",
   "metadata": {
    "colab_type": "text",
    "id": "3-O_ExJriHMy"
   },
   "source": [
    "### While loops\n",
    "A while loop repeats a sequence of statements until some condition becomes false. Here is a simple example which increments a variable until it reaches the value 5."
   ]
  },
  {
   "cell_type": "code",
   "execution_count": null,
   "id": "circular-certificate",
   "metadata": {
    "colab": {
     "base_uri": "https://localhost:8080/",
     "height": 34
    },
    "colab_type": "code",
    "executionInfo": {
     "elapsed": 319,
     "status": "ok",
     "timestamp": 1594748946167,
     "user": {
      "displayName": "Priya Veeraraghavan",
      "photoUrl": "https://lh3.googleusercontent.com/a-/AOh14Gh2dEr_zfHymCarnLpzSeBStUfsCSd3VguS7odKMikqxgM916bExUrLY3O49YnZ6vR3MdR250MLZTfakPYl4b6qq3KqoX47cMPxnUw5Np-v92Q--lQSoaA2N5ePkvEE4rWiv7cFFHzHUNy3e4TEUqM0EF2Ec_uXbbWWl2jtTp19GBLA_5BoSV2_zDzi2pH3tLgfi8NjHXTdDeMFEGzMAR-D41Hy61PvGty-3qwJw5CEGKheJN8FiMeqwxk3byGtGmB-knuxuWkEUupZonJDxvfRq8NJQ1m7Cadn3en5trCUlGpUhQTyBDLI-biT9OPFI9xLDPTrwHx6KOrkw7gs0v30BJ4eQ1V2-B3Rlwsf0RE1ZqCOob71YS4K-7BvmEBTMdOo-SdprmwdgSk9knEg_NmGn1CLqnAkbqihZPPCv8f2nNLJwypgKPOysaa5v1N_JYbQIKGM9LG2QuihZ-0Ga-cWSBhinvb3Hc3cEY80UnsFO7A-SlmCgrM7Jk33LMtxxERMm2G1Ci7vT8dZcg7qVlvbtBIm8gQc_Eo7bT54GMe1HKvUEOVcGIcstFzkrPH4fw1o67emGFNzf6dO3QDp0RAgOwUdwwPZzHXvRXKVeGP7zJQkeHU-GYXUgvMv75IVcuGJs9KbZyR6A0Doy8HYEqJx6ZdMLZ29UgNs-WetfCSdrlxuYxU2Ye36BIG6RSD_rIKPpRjZPr29nfhm4O_zjNUTtLuYYxXEyr3BFCoNz0AniHKOu_jJ6w56QRx_kyoP7L5jwg=s64",
      "userId": "10950794880338920839"
     },
     "user_tz": 240
    },
    "id": "mYy58qvW3Bka",
    "outputId": "c41ec7e0-2473-4ffa-c141-e3372193b2b4"
   },
   "outputs": [],
   "source": [
    "# start out with the variable at 0\n",
    "i = 0\n",
    "\n",
    "# keep doing this as long\n",
    "# as i is less than 5\n",
    "while i < 5:\n",
    "\n",
    "  i = i + 1\n",
    "\n",
    "# when the loop is done, i has the value 5\n",
    "print('i = {:d}'.format(i))"
   ]
  },
  {
   "cell_type": "markdown",
   "id": "adequate-integrity",
   "metadata": {
    "colab_type": "text",
    "id": "CwcgXsCV8mRd"
   },
   "source": [
    "Note that there's no guarantee the loop's end condition will be reached, as in the following example:"
   ]
  },
  {
   "cell_type": "code",
   "execution_count": null,
   "id": "precious-royalty",
   "metadata": {
    "colab": {
     "base_uri": "https://localhost:8080/",
     "height": 229
    },
    "colab_type": "code",
    "executionInfo": {
     "elapsed": 29579,
     "status": "error",
     "timestamp": 1594749087366,
     "user": {
      "displayName": "Priya Veeraraghavan",
      "photoUrl": "https://lh3.googleusercontent.com/a-/AOh14Gh2dEr_zfHymCarnLpzSeBStUfsCSd3VguS7odKMikqxgM916bExUrLY3O49YnZ6vR3MdR250MLZTfakPYl4b6qq3KqoX47cMPxnUw5Np-v92Q--lQSoaA2N5ePkvEE4rWiv7cFFHzHUNy3e4TEUqM0EF2Ec_uXbbWWl2jtTp19GBLA_5BoSV2_zDzi2pH3tLgfi8NjHXTdDeMFEGzMAR-D41Hy61PvGty-3qwJw5CEGKheJN8FiMeqwxk3byGtGmB-knuxuWkEUupZonJDxvfRq8NJQ1m7Cadn3en5trCUlGpUhQTyBDLI-biT9OPFI9xLDPTrwHx6KOrkw7gs0v30BJ4eQ1V2-B3Rlwsf0RE1ZqCOob71YS4K-7BvmEBTMdOo-SdprmwdgSk9knEg_NmGn1CLqnAkbqihZPPCv8f2nNLJwypgKPOysaa5v1N_JYbQIKGM9LG2QuihZ-0Ga-cWSBhinvb3Hc3cEY80UnsFO7A-SlmCgrM7Jk33LMtxxERMm2G1Ci7vT8dZcg7qVlvbtBIm8gQc_Eo7bT54GMe1HKvUEOVcGIcstFzkrPH4fw1o67emGFNzf6dO3QDp0RAgOwUdwwPZzHXvRXKVeGP7zJQkeHU-GYXUgvMv75IVcuGJs9KbZyR6A0Doy8HYEqJx6ZdMLZ29UgNs-WetfCSdrlxuYxU2Ye36BIG6RSD_rIKPpRjZPr29nfhm4O_zjNUTtLuYYxXEyr3BFCoNz0AniHKOu_jJ6w56QRx_kyoP7L5jwg=s64",
      "userId": "10950794880338920839"
     },
     "user_tz": 240
    },
    "id": "bhdegIAa8lRc",
    "outputId": "9019b41f-3a97-4e83-f8e3-c78fa52aca15"
   },
   "outputs": [],
   "source": [
    "i = 2\n",
    "\n",
    "# do this as long as i is even\n",
    "while i%2==0:\n",
    "  i = i+2\n",
    "\n",
    "print('done')"
   ]
  },
  {
   "cell_type": "markdown",
   "id": "continuous-myanmar",
   "metadata": {
    "colab_type": "text",
    "id": "bwayJwQP9My0"
   },
   "source": [
    "The word \"done\" is never printed because *i* is always even. (You may have to manually stop the evaluation of the above cell.)"
   ]
  },
  {
   "cell_type": "markdown",
   "id": "invisible-prize",
   "metadata": {},
   "source": [
    "### Breakout rooms for a few exercises"
   ]
  },
  {
   "cell_type": "markdown",
   "id": "worse-machinery",
   "metadata": {
    "colab_type": "text",
    "id": "zRstCHE_6Ssl"
   },
   "source": [
    "#### *Exercise 9 (Fibonacci 1)*\n",
    "\n",
    "The Fibonacci sequence is generated according to the following rule: the *k*th entry $s_k$ is calculated according to\n",
    "\n",
    "$s_k = s_{k-1} + s_{k-2}$,\n",
    "\n",
    "and $s_0 = s_1 = 1$.\n",
    "\n",
    "Write a while loop to print out every element of the series less than 100. (You don't have to worry about printing the first two within the loop.) Solution code is available at the end of the notebook."
   ]
  },
  {
   "cell_type": "code",
   "execution_count": null,
   "id": "african-miami",
   "metadata": {
    "colab": {},
    "colab_type": "code",
    "id": "MOoZ4F9s6D5a"
   },
   "outputs": [],
   "source": [
    "### write code here ###"
   ]
  },
  {
   "cell_type": "markdown",
   "id": "gothic-recall",
   "metadata": {
    "colab_type": "text",
    "id": "KdKi17Rs8Q7E"
   },
   "source": [
    "#### *Exercise 10 (Phone number)*\n",
    "\n",
    "In the following, *dial* represents a randomly chosen phone number and *phone_number* represents that of someone we would like to call.\n",
    "\n",
    "Going digit by digit, assume that we can either increase a digit of *dial* by one or set it to zero. Write the missing code to set *dial* to chosen number. (You will have to change the indentation level of the two allowed assignment statements if you use if/else statements!) A solution is available at the end of the notebook."
   ]
  },
  {
   "cell_type": "code",
   "execution_count": null,
   "id": "handmade-pledge",
   "metadata": {
    "colab": {},
    "colab_type": "code",
    "id": "hclJ9C6g9r3s"
   },
   "outputs": [],
   "source": [
    "dial         = [2,3,9,6,0,2,2]\n",
    "phone_number = [8,6,7,5,3,0,9]\n",
    "\n",
    "# proceed through each digit\n",
    "for d in range(len(dial)):\n",
    "\n",
    "  # do something until ?\n",
    "  while ... :\n",
    "\n",
    "    ### write code here ###\n",
    "    dial[d] = dial[d] + 1\n",
    "    dial[d] = 0\n",
    "    ### the above two statements ###\n",
    "    ### are the only assignments ###\n",
    "    ### you may use with dial    ###\n",
    "\n",
    "print(dial == phone_number)\n"
   ]
  },
  {
   "cell_type": "markdown",
   "id": "resistant-season",
   "metadata": {
    "colab_type": "text",
    "id": "3kauLTUMBssu"
   },
   "source": [
    "#### *Exercise 11 (Mineral water)*\n",
    "\n",
    "In a room with four walls (we label them wall *i*, with $i=0,1,2,3$), each wall initially holds 99 bottles of mineral water. The number of bottles on each wall is stored in the *bottles* list, such that *bottles[i]* is the number of bottles on wall *i*.\n",
    "\n",
    "A group is taking down and sharing the bottles' contents in a predictable pattern, stored in the *take* array. In particular, for each round of mineral water, the group removes *take[i]* bottles from wall *i*. That is, they drink *take[0]* bottles from the first wall, then *take[1]* from the second, *take[2]* from the third, *take[3]* from the fourth, and then wrap back around to take *take[0]* from the first wall (in their fifth round of mineral water.)\n",
    "\n",
    "The group stops drinking the mineral water as soon as one of the walls has no bottles left. Write a while loop (and use for loops as needed) to determine how many bottles are left on each wall after the group is done. A solution is availabe at the end of the notebook.\n",
    "\n",
    "Hint: you can use a for loop to calculate a boolean variable representing whether each wall has at least one bottle on it."
   ]
  },
  {
   "cell_type": "code",
   "execution_count": null,
   "id": "entitled-store",
   "metadata": {
    "colab": {},
    "colab_type": "code",
    "id": "N46yxp8uBh9V"
   },
   "outputs": [],
   "source": [
    "bottles = [99,99,99,99]\n",
    "take = [1,3,2,1]\n",
    "\n",
    "### write code here ###"
   ]
  },
  {
   "cell_type": "markdown",
   "id": "persistent-pressure",
   "metadata": {
    "colab_type": "text",
    "id": "UZRzXkIJ4rT7"
   },
   "source": [
    "### Functions"
   ]
  },
  {
   "cell_type": "markdown",
   "id": "compound-burst",
   "metadata": {
    "colab_type": "text",
    "id": "UAyUzIq3EyEN"
   },
   "source": [
    "In previous examples and problems, you'll notice code is repeated. Consider the following arbitrary bit of code, where we start with a list [0,0,0,0] and add the values [1,2,3,4] at the corresponding positions, stopping once there is at least one element of the list which is greater than or equal to 10:"
   ]
  },
  {
   "cell_type": "code",
   "execution_count": null,
   "id": "superior-needle",
   "metadata": {
    "colab": {
     "base_uri": "https://localhost:8080/",
     "height": 36
    },
    "colab_type": "code",
    "executionInfo": {
     "elapsed": 399,
     "status": "ok",
     "timestamp": 1595956790272,
     "user": {
      "displayName": "Nick Derr",
      "photoUrl": "",
      "userId": "09936509318349382167"
     },
     "user_tz": 240
    },
    "id": "Yjikk1AO4qVO",
    "outputId": "e839a957-a4ce-4e1b-887e-83a5825213ba"
   },
   "outputs": [],
   "source": [
    "# initial list\n",
    "vals = [0,0,0,0]\n",
    "\n",
    "# increment amounts\n",
    "dv   = [1,2,3,4]\n",
    "\n",
    "# this code block sets \"all_less_than_ten\"\n",
    "all_less_than_ten = True\n",
    "for v in vals:\n",
    "  if v >= 10:\n",
    "    all_less_than_ten = False\n",
    "  \n",
    "# loop as long as all elements are less than ten\n",
    "while all_less_than_ten:\n",
    "\n",
    "  # increment each value in the list\n",
    "  for vi in range(len(vals)):\n",
    "    vals[vi] = vals[vi] + dv[vi]\n",
    "\n",
    "  # we have to re-run this entire code block each\n",
    "  # time through the loop for all_less_than_ten's\n",
    "  # value to reflect the current state of the list\n",
    "  all_less_than_ten = True\n",
    "  for v in vals:\n",
    "    if v >= 10:\n",
    "      all_less_than_ten = False\n",
    "\n",
    "# print final value\n",
    "print(vals)"
   ]
  },
  {
   "cell_type": "markdown",
   "id": "sharing-cigarette",
   "metadata": {
    "colab_type": "text",
    "id": "KLx_SSak7IE3"
   },
   "source": [
    "Notice that each time through the list, we need to run a set of four lines which are exactly the same in order to set the boolean variable \"all_less_than_ten\" which expresses whether the loop's end condition has been met. This is an example of *repeated code*, where two instances in the program are performing exactly the same calculations or actions.\n",
    "\n",
    "In general, it's a good idea to limit the amount of repeated code in your work for a few reasons:\n",
    "\n",
    "1) the more times you're writing the same thing, the more chances you have to introduce a bug\n",
    "\n",
    "2) if you alter the code later and change a part of the repeated bit, you'll have to remember each location it's repeated and make the corresponding changes at each of those points\n",
    "\n",
    "3) repeated code encourages copy-pasting code snippets. This seems like it can save time (and in some circumstances it can!) but it can also lead to writing code \"on autopilot\" with less focus (and possibly more bugs.)\n",
    "\n",
    "Aside from these practical reasons for avoiding repeated code, there's an organizational argument as well. When you first read this code, it was probably not obvious that the two blocks setting \"all_less_than_ten\" were the same: you probably had to read through them and verify that each of the lines was identical. In other words, repeated code can be hard to parse and understand, as **there's no explicit indication to a reader that separate code snippets are doing the same thing**.\n",
    "\n",
    "We can address many of these concerns with the concept of *functions*. When writing code, we can designate blocks of code which are designed to take in arguments and perform a set series of actions on them. Here's an example:"
   ]
  },
  {
   "cell_type": "code",
   "execution_count": null,
   "id": "unauthorized-consent",
   "metadata": {
    "colab": {},
    "colab_type": "code",
    "id": "I5GvN2TP5wVG"
   },
   "outputs": [],
   "source": [
    "# this function takes in a list (\"values\")\n",
    "# and returns True if each element of list\n",
    "# is less than 10. Otherwise, it returns False\n",
    "def fun_all_less_than_ten(values):\n",
    "\n",
    "  # introduce a boolean variable representing\n",
    "  # whether the vars are less than 10\n",
    "  less_than_ten = True\n",
    "\n",
    "  # loop through each value in the provided list\n",
    "  for v in values:\n",
    "\n",
    "    # if it is equal to or greater than 10, set\n",
    "    # the boolean variable to False\n",
    "    if not v < 10:\n",
    "      less_than_ten = False\n",
    "\n",
    "  # return the boolean variable\n",
    "  return less_than_ten"
   ]
  },
  {
   "cell_type": "markdown",
   "id": "sexual-train",
   "metadata": {
    "colab_type": "text",
    "id": "HW5suZuI-djr"
   },
   "source": [
    "This block of code represents a *function definiton* (hence the \"def\" at the beginning.) The name of the function is \"fun_all_less_than_ten\", and it takes a single argument: a list called \"values\".\n",
    "\n",
    "The value with the *return* keyword is the value the function call will evaluate to when it is called. Below, this takes the form of a boolean which is true if (and only if) each value in the passed list is less than 10."
   ]
  },
  {
   "cell_type": "code",
   "execution_count": null,
   "id": "lesser-contents",
   "metadata": {
    "colab": {
     "base_uri": "https://localhost:8080/",
     "height": 75
    },
    "colab_type": "code",
    "executionInfo": {
     "elapsed": 314,
     "status": "ok",
     "timestamp": 1595956799161,
     "user": {
      "displayName": "Nick Derr",
      "photoUrl": "",
      "userId": "09936509318349382167"
     },
     "user_tz": 240
    },
    "id": "joxwltmv-ael",
    "outputId": "7049d1f7-a52b-402c-b3aa-053539e5cda5"
   },
   "outputs": [],
   "source": [
    "example_list_1 = [3,2,1]\n",
    "less_than = fun_all_less_than_ten(example_list_1)\n",
    "print(\"{} should be True\".format(less_than))\n",
    "\n",
    "example_list_2 = [3,2,1,4,7,2,4,2,5]\n",
    "less_than = fun_all_less_than_ten(example_list_2)\n",
    "print(\"{} should be True\".format(less_than))\n",
    "\n",
    "example_list_3 = [3,2,1,41,7,2,4,2,5]\n",
    "less_than = fun_all_less_than_ten(example_list_3)\n",
    "print(\"{} should be False\".format(less_than))"
   ]
  },
  {
   "cell_type": "markdown",
   "id": "connected-ghana",
   "metadata": {
    "colab_type": "text",
    "id": "WAf0CRhwBpPc"
   },
   "source": [
    "Now we can re-write our example list from above:"
   ]
  },
  {
   "cell_type": "code",
   "execution_count": null,
   "id": "excessive-shelter",
   "metadata": {
    "colab": {},
    "colab_type": "code",
    "id": "q3OjIGzR_BK1"
   },
   "outputs": [],
   "source": [
    "# initial list\n",
    "vals = [0,0,0,0]\n",
    "\n",
    "# increment amounts\n",
    "dv   = [1,2,3,4]\n",
    "  \n",
    "# set boolean representing whether\n",
    "# each element is less than ten\n",
    "all_less = fun_all_less_than_ten(vals)\n",
    "\n",
    "# loop as long as all elements are less than ten\n",
    "while all_less:\n",
    "\n",
    "  # increment each value in the list\n",
    "  for vi in range(len(vals)):\n",
    "    vals[vi] = vals[vi] + dv[vi]\n",
    "\n",
    "  # update boolean \n",
    "  all_less = fun_all_less_than_ten(vals)\n",
    "\n",
    "# print final value\n",
    "print(vals)"
   ]
  },
  {
   "cell_type": "markdown",
   "id": "electrical-lottery",
   "metadata": {
    "colab_type": "text",
    "id": "4kH-lJKbCjyQ"
   },
   "source": [
    "This is much cleaner: the repeated four-line snippet is now contained in the function \"fun_all_less_than_ten\", and it is now explicitly communicated to any reader of the code that the two lines setting the value of \"all_less\" are performing the same actions.\n",
    "\n",
    "Note that just looking at this block **no longer** communicates to a reader what the value of \"all_less\" represents; they would also need to look at the definition of the function to see what exactly it's doing. For this reason, it's good to choose a function name that communicates what the function does!\n",
    "\n",
    "We can clean up the loop even more: since the function returns a boolean variable, we can use it as the loop condition and eliminate the boolean variable \"all_less\":"
   ]
  },
  {
   "cell_type": "code",
   "execution_count": null,
   "id": "artificial-composition",
   "metadata": {
    "colab": {
     "base_uri": "https://localhost:8080/",
     "height": 36
    },
    "colab_type": "code",
    "executionInfo": {
     "elapsed": 354,
     "status": "ok",
     "timestamp": 1595956987397,
     "user": {
      "displayName": "Nick Derr",
      "photoUrl": "",
      "userId": "09936509318349382167"
     },
     "user_tz": 240
    },
    "id": "Qt-oorN2B1sg",
    "outputId": "a6904c63-b397-45be-af14-d29dfd5918a5"
   },
   "outputs": [],
   "source": [
    "# initial list\n",
    "vals = [0,0,0,0]\n",
    "\n",
    "# increment amounts\n",
    "dv   = [1,2,3,4]\n",
    "\n",
    "# loop as long as all elements are less than ten\n",
    "while fun_all_less_than_ten(vals):\n",
    "\n",
    "  # increment each value in the list\n",
    "  for vi in range(len(vals)):\n",
    "    vals[vi] = vals[vi] + dv[vi]\n",
    "\n",
    "# print final value\n",
    "print(vals)"
   ]
  },
  {
   "cell_type": "markdown",
   "id": "about-bankruptcy",
   "metadata": {
    "colab_type": "text",
    "id": "jbAfOTiXFGaX"
   },
   "source": [
    "Functions can take in any number of arguments (including zero): here's a function that takes in two numbers and returns their product."
   ]
  },
  {
   "cell_type": "code",
   "execution_count": null,
   "id": "sorted-saturn",
   "metadata": {
    "colab": {
     "base_uri": "https://localhost:8080/",
     "height": 55
    },
    "colab_type": "code",
    "executionInfo": {
     "elapsed": 410,
     "status": "ok",
     "timestamp": 1595957058776,
     "user": {
      "displayName": "Nick Derr",
      "photoUrl": "",
      "userId": "09936509318349382167"
     },
     "user_tz": 240
    },
    "id": "inV6QGAvFDAw",
    "outputId": "d447086b-c73e-4971-ff22-f36239ee70ff"
   },
   "outputs": [],
   "source": [
    "def prod(a,b):\n",
    "  return a*b\n",
    "\n",
    "result = prod(2,4)\n",
    "print(\"{} should be 8\".format(result))\n",
    "\n",
    "result = prod(3,-2)\n",
    "print(\"{} should be -6\".format(result))"
   ]
  },
  {
   "cell_type": "markdown",
   "id": "organizational-duncan",
   "metadata": {
    "colab_type": "text",
    "id": "f_kQECqz0XPe"
   },
   "source": [
    "Not all functions need a return statement. Consider the following function, which accepts a number and prints it."
   ]
  },
  {
   "cell_type": "code",
   "execution_count": null,
   "id": "endangered-program",
   "metadata": {
    "colab": {
     "base_uri": "https://localhost:8080/",
     "height": 36
    },
    "colab_type": "code",
    "executionInfo": {
     "elapsed": 430,
     "status": "ok",
     "timestamp": 1595957205200,
     "user": {
      "displayName": "Nick Derr",
      "photoUrl": "",
      "userId": "09936509318349382167"
     },
     "user_tz": 240
    },
    "id": "yCks4FOH0l2L",
    "outputId": "8b66e41c-6f7f-4c67-f7bd-c76950177500"
   },
   "outputs": [],
   "source": [
    "def print_num(n):\n",
    "  print(n)\n",
    "\n",
    "print_num('result')"
   ]
  },
  {
   "cell_type": "markdown",
   "id": "respected-zimbabwe",
   "metadata": {
    "colab_type": "text",
    "id": "KGpVJJD00p6l"
   },
   "source": [
    "A function without a return statement implicitly returns the special \"None\" value:"
   ]
  },
  {
   "cell_type": "code",
   "execution_count": null,
   "id": "comfortable-newton",
   "metadata": {
    "colab": {
     "base_uri": "https://localhost:8080/",
     "height": 94
    },
    "colab_type": "code",
    "executionInfo": {
     "elapsed": 412,
     "status": "ok",
     "timestamp": 1595957504756,
     "user": {
      "displayName": "Nick Derr",
      "photoUrl": "",
      "userId": "09936509318349382167"
     },
     "user_tz": 240
    },
    "id": "7STHciwK0wqb",
    "outputId": "25b21df8-3b41-4717-9bdf-e01c06f28d3d"
   },
   "outputs": [],
   "source": [
    "print('-------')\n",
    "result = print_num(3)\n",
    "print('-------')\n",
    "print(result)"
   ]
  },
  {
   "cell_type": "markdown",
   "id": "ranking-server",
   "metadata": {},
   "source": [
    "### Breakout Rooms for some exercises!"
   ]
  },
  {
   "cell_type": "markdown",
   "id": "marked-british",
   "metadata": {
    "colab_type": "text",
    "id": "1bYsguv8Fyy6"
   },
   "source": [
    "#### *Exercise 12 (Fibonacci 2):*\n",
    "Recall the k-th number $f_k$ in the Fibonacci sequence is given by $f_k = f_{k-1} + f_{k-2}$, with $f_0=f_1=1$.\n",
    "\n",
    "Complete the following code skeleton to 1) define a function which takes in $f_{k-1}$ and $f_{k-2}$ and returns $f_k$ and 2) print out each Fibonacci number less than 1000. A sample solution is available at the end of the notebook."
   ]
  },
  {
   "cell_type": "code",
   "execution_count": null,
   "id": "conservative-eleven",
   "metadata": {
    "colab": {},
    "colab_type": "code",
    "id": "_lqcQAE-Fxvv"
   },
   "outputs": [],
   "source": [
    "def fib_k(?????):\n",
    "  \n",
    "  fk = ??????\n",
    "\n",
    "  return fk\n",
    "\n",
    "# start with the two initial fibonacci numbers\n",
    "f0 = 1\n",
    "f1 = 1\n",
    "\n",
    "while ### write code here ###:\n",
    "\n",
    "  ### do something here ###"
   ]
  },
  {
   "cell_type": "markdown",
   "id": "phantom-civilization",
   "metadata": {
    "colab_type": "text",
    "id": "LpbfwHdT02o3"
   },
   "source": [
    "#### *Exercise 13:*\n",
    "Complete the following code to write a function that accepts three numbers and returns the largest."
   ]
  },
  {
   "cell_type": "code",
   "execution_count": null,
   "id": "union-rates",
   "metadata": {
    "colab": {
     "base_uri": "https://localhost:8080/",
     "height": 34
    },
    "colab_type": "code",
    "executionInfo": {
     "elapsed": 556,
     "status": "ok",
     "timestamp": 1597109160511,
     "user": {
      "displayName": "Natalia Rodriguez",
      "photoUrl": "https://lh3.googleusercontent.com/a-/AOh14GiwH8p7tNw2lwBw23umqDB9ttzlqD2NcjCkk1p2=s64",
      "userId": "17829630678085361865"
     },
     "user_tz": 240
    },
    "id": "mK-Y786z02CZ",
    "outputId": "19aca02e-0582-4883-9e06-418233258955"
   },
   "outputs": [],
   "source": [
    "def largest(a,b,c):\n",
    "\n",
    "  ### write code here ###\n",
    "\n",
    "  return ### write code here ###\n",
    "\n",
    "#######################################################333\n",
    "\n",
    "result = largest(2,1,5)\n",
    "print(\"{} should be 5\".format(result))"
   ]
  },
  {
   "cell_type": "markdown",
   "id": "toxic-physiology",
   "metadata": {
    "colab_type": "text",
    "id": "_hgzYNME1VD_"
   },
   "source": [
    "#### *Exercise 14:*\n",
    "What will the following code output?"
   ]
  },
  {
   "cell_type": "code",
   "execution_count": null,
   "id": "orange-silence",
   "metadata": {
    "colab": {
     "base_uri": "https://localhost:8080/",
     "height": 55
    },
    "colab_type": "code",
    "executionInfo": {
     "elapsed": 292,
     "status": "ok",
     "timestamp": 1595958575084,
     "user": {
      "displayName": "Nick Derr",
      "photoUrl": "",
      "userId": "09936509318349382167"
     },
     "user_tz": 240
    },
    "id": "hs-hWBnH1S1s",
    "outputId": "b85525df-a016-43f9-89be-ee8cfb1da49c"
   },
   "outputs": [],
   "source": [
    "# function definition\n",
    "def print_and_return(a,b,c):\n",
    "  b = a\n",
    "  print(b)\n",
    "  return c\n",
    "\n",
    "# variable declarations\n",
    "aa = 2\n",
    "bb = 4\n",
    "cc = 10\n",
    "\n",
    "# execution\n",
    "print_and_return(aa,bb,cc)"
   ]
  },
  {
   "cell_type": "markdown",
   "id": "elder-evidence",
   "metadata": {
    "colab_type": "text",
    "id": "KRcjHCjH14Tl"
   },
   "source": [
    "#### *Exercise 15:*\n",
    "What will the following code output? (This is a trick question.)"
   ]
  },
  {
   "cell_type": "code",
   "execution_count": null,
   "id": "necessary-stuff",
   "metadata": {
    "colab": {},
    "colab_type": "code",
    "id": "jzFHcSEN2IET"
   },
   "outputs": [],
   "source": [
    "# function definition\n",
    "def smallest(a,b,c):\n",
    "\n",
    "  small = a\n",
    "  if b < small:\n",
    "    small = b\n",
    "  if c < small:\n",
    "    small = c\n",
    "\n",
    "  print(small)\n",
    "\n",
    "# variables\n",
    "aa = 2\n",
    "bb = 4\n",
    "cc = 6\n",
    "\n",
    "# execution\n",
    "small_val = smallest(aa,bb,cc)\n",
    "print(small_val < c)"
   ]
  },
  {
   "cell_type": "markdown",
   "id": "stuck-williams",
   "metadata": {
    "colab_type": "text",
    "id": "58SewRst21Jq"
   },
   "source": [
    "#### *Exercise 16:*\n",
    "Write a function that accepts two lists of numbers of the same size $v=[v_0,v_1,...,v_n]$ and $w = [w_0,w_1,...,w_n]$ and returns true if each element of the first list is less than the corresponding element of the second, i.e. if $v_k < w_k$ for all $k$."
   ]
  },
  {
   "cell_type": "code",
   "execution_count": null,
   "id": "optimum-eight",
   "metadata": {
    "colab": {},
    "colab_type": "code",
    "id": "oNQ93Jgz3JqN"
   },
   "outputs": [],
   "source": [
    "def all_less_than(v,w):\n",
    "\n",
    "  ### write code here ###\n",
    "\n",
    "  return ### write code here ###\n",
    "\n",
    "# first example\n",
    "v1 = [3,2,6,3]\n",
    "w1 = [2,5,4,2]\n",
    "r1 = all_less_than(v1,w1)\n",
    "\n",
    "# second example\n",
    "v2 = [1,2,3,4]\n",
    "w2 = [2,3,4,5]\n",
    "r2 = all_less_than(v2,w2)\n",
    "\n",
    "print(\"{} should be False\".format(r1))\n",
    "print(\"{} should be True\".format(r2))\n"
   ]
  },
  {
   "cell_type": "markdown",
   "id": "verified-watson",
   "metadata": {
    "colab_type": "text",
    "id": "o5PJmRZ0G9-o"
   },
   "source": [
    "## Solutions"
   ]
  },
  {
   "cell_type": "markdown",
   "id": "compound-medicine",
   "metadata": {
    "colab_type": "text",
    "id": "QcxBSgN_7TH_"
   },
   "source": [
    "#### *Solution 9 (Fibonacci 1)*"
   ]
  },
  {
   "cell_type": "code",
   "execution_count": null,
   "id": "internal-elements",
   "metadata": {
    "colab": {
     "base_uri": "https://localhost:8080/",
     "height": 204
    },
    "colab_type": "code",
    "executionInfo": {
     "elapsed": 472,
     "status": "ok",
     "timestamp": 1595953087916,
     "user": {
      "displayName": "Natalia Rodriguez",
      "photoUrl": "https://lh3.googleusercontent.com/a-/AOh14GiwH8p7tNw2lwBw23umqDB9ttzlqD2NcjCkk1p2=s64",
      "userId": "17829630678085361865"
     },
     "user_tz": 240
    },
    "id": "a9N_MyUk7W2G",
    "outputId": "d385b26a-9fca-4615-ddab-c0bcbaa4a5ec"
   },
   "outputs": [],
   "source": [
    "# start with the first two values\n",
    "ip = 1\n",
    "i  = 1\n",
    "\n",
    "# print them\n",
    "print(ip)\n",
    "print(i)\n",
    "\n",
    "# until i reaches 100...\n",
    "while i < 100:\n",
    "\n",
    "  # store the current sequence value\n",
    "  tmp = i\n",
    "\n",
    "  # update to the new value\n",
    "  i = i + ip\n",
    "\n",
    "  # store the previous value\n",
    "  ip = tmp\n",
    "\n",
    "  # print if we're under 100\n",
    "  if (i<100):\n",
    "    print(i)  "
   ]
  },
  {
   "cell_type": "markdown",
   "id": "surrounded-fluid",
   "metadata": {
    "colab_type": "text",
    "id": "43an0li0BAX0"
   },
   "source": [
    "#### *Solution 10 (phone number)*"
   ]
  },
  {
   "cell_type": "code",
   "execution_count": null,
   "id": "crazy-colleague",
   "metadata": {
    "colab": {
     "base_uri": "https://localhost:8080/",
     "height": 34
    },
    "colab_type": "code",
    "executionInfo": {
     "elapsed": 548,
     "status": "ok",
     "timestamp": 1595953229880,
     "user": {
      "displayName": "Natalia Rodriguez",
      "photoUrl": "https://lh3.googleusercontent.com/a-/AOh14GiwH8p7tNw2lwBw23umqDB9ttzlqD2NcjCkk1p2=s64",
      "userId": "17829630678085361865"
     },
     "user_tz": 240
    },
    "id": "Cj773wscAMQL",
    "outputId": "e2b05741-e6fe-4c6a-f1fc-85237f316318"
   },
   "outputs": [],
   "source": [
    "dial = [2,3,9,6,0,2,2]\n",
    "phone_number = [8,6,7,5,3,0,9]\n",
    "\n",
    "# proceed through each digit\n",
    "for d in range(len(dial)):\n",
    "\n",
    "  # alter digits until they are right\n",
    "  while phone_number[d] != dial[d]:\n",
    "    \n",
    "    # if the digit is 9, set to 0\n",
    "    # otherwise, increment\n",
    "    if dial[d] == 9:\n",
    "      dial[d] = 0\n",
    "    else:\n",
    "      dial[d] = dial[d] + 1\n",
    "\n",
    "print(dial == phone_number)\n"
   ]
  },
  {
   "cell_type": "markdown",
   "id": "material-package",
   "metadata": {
    "colab_type": "text",
    "id": "7JE_2q7XEwkH"
   },
   "source": [
    "#### *Solution 11 (mineral water)*"
   ]
  },
  {
   "cell_type": "code",
   "execution_count": null,
   "id": "competitive-window",
   "metadata": {
    "colab": {},
    "colab_type": "code",
    "id": "ar1FteZoAc-J"
   },
   "outputs": [],
   "source": [
    "bottles = [99,99,99,99]\n",
    "take = [1,3,2,1]\n",
    "\n",
    "# calculate whether each wall has at\n",
    "# least one bottle\n",
    "all_have_bottles = True\n",
    "for i in range(len(bottles)):\n",
    "  if bottles[i] <= 0:\n",
    "    all_have_bottles = False\n",
    "\n",
    "# continue as long as each wall has\n",
    "# at least one bottle\n",
    "while all_have_bottles:\n",
    "\n",
    "  # update the bottles on each wall\n",
    "  for i in range(len(bottles)):\n",
    "    bottles[i] = bottles[i] - take[i]\n",
    "\n",
    "  # calculate whether each wall has at\n",
    "  # least one bottle\n",
    "  all_have_bottles = True\n",
    "  for i in range(len(bottles)):\n",
    "    if bottles[i] <= 0:\n",
    "      all_have_bottles = False\n",
    "\n",
    "# print the final tally of bottles\n",
    "print(bottles)"
   ]
  },
  {
   "cell_type": "markdown",
   "id": "sporting-mayor",
   "metadata": {
    "colab_type": "text",
    "id": "4Emn45-YHBAY"
   },
   "source": [
    "#### *Solution 12 (Fibonacci 2):*"
   ]
  },
  {
   "cell_type": "code",
   "execution_count": null,
   "id": "introductory-third",
   "metadata": {
    "colab": {},
    "colab_type": "code",
    "id": "l90rN3NQG9Cw"
   },
   "outputs": [],
   "source": [
    "def fib_k(fib_k_minus_1,fib_k_minus_2):\n",
    "  \n",
    "  return fib_k_minus_1 + fib_k_minus_2\n",
    "\n",
    "# start with the two initial fibonacci numbers\n",
    "f0 = 1\n",
    "f1 = 1\n",
    "\n",
    "# two variables representing the previous two\n",
    "# Fibonacci numbers\n",
    "fm1 = f1\n",
    "fm2 = f0\n",
    "\n",
    "while fib_k(fm1,fm2) < 1000:\n",
    "\n",
    "  fk = fib_k(fm1,fm2)\n",
    "\n",
    "  fm2,fm1 = fm1,fk\n",
    "\n",
    "  print(fk)\n",
    "  "
   ]
  },
  {
   "cell_type": "markdown",
   "id": "composite-promise",
   "metadata": {
    "colab_type": "text",
    "id": "0ex-bq8pAbgR"
   },
   "source": [
    "#### *Solution 13:*"
   ]
  },
  {
   "cell_type": "code",
   "execution_count": null,
   "id": "monetary-drink",
   "metadata": {
    "colab": {},
    "colab_type": "code",
    "id": "sqU5-wOJHlae"
   },
   "outputs": [],
   "source": [
    "def largest(a,b,c):\n",
    "\n",
    "  large = a\n",
    "  if b > large:\n",
    "    large = b\n",
    "  if c > large:\n",
    "    large = c\n",
    "\n",
    "  return large\n",
    "\n",
    "result = largest(2,1,5)\n",
    "print(\"{} should be 5\".format(result))"
   ]
  },
  {
   "cell_type": "markdown",
   "id": "premier-recognition",
   "metadata": {
    "colab_type": "text",
    "id": "fvLUt317AqlX"
   },
   "source": [
    "#### *Solution 16:*"
   ]
  },
  {
   "cell_type": "code",
   "execution_count": null,
   "id": "cooked-challenge",
   "metadata": {
    "colab": {},
    "colab_type": "code",
    "id": "wGHPwZsDAsWa"
   },
   "outputs": [],
   "source": [
    "def all_less_than(v,w):\n",
    "\n",
    "  all_less = True\n",
    "  for i in range(len(v)):\n",
    "    if v[i] >= w[i]:\n",
    "      all_less = False\n",
    "\n",
    "  return all_less\n",
    "\n",
    "# first example\n",
    "v1 = [3,2,6,3]\n",
    "w1 = [2,5,4,2]\n",
    "r1 = all_less_than(v1,w1)\n",
    "\n",
    "# second example\n",
    "v2 = [1,2,3,4]\n",
    "w2 = [2,3,4,5]\n",
    "r2 = all_less_than(v2,w2)\n",
    "\n",
    "print(\"{} should be False\".format(r1))\n",
    "print(\"{} should be True\".format(r2))"
   ]
  },
  {
   "cell_type": "code",
   "execution_count": null,
   "id": "76ca3efb",
   "metadata": {},
   "outputs": [],
   "source": []
  }
 ],
 "metadata": {
  "kernelspec": {
   "display_name": "Python 3",
   "language": "python",
   "name": "python3"
  },
  "language_info": {
   "codemirror_mode": {
    "name": "ipython",
    "version": 3
   },
   "file_extension": ".py",
   "mimetype": "text/x-python",
   "name": "python",
   "nbconvert_exporter": "python",
   "pygments_lexer": "ipython3",
   "version": "3.9.5"
  }
 },
 "nbformat": 4,
 "nbformat_minor": 5
}
