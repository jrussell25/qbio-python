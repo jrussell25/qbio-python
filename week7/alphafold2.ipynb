{
 "cells": [
  {
   "cell_type": "markdown",
   "id": "9e0d687d",
   "metadata": {},
   "source": [
    "Advanced machine learning techniques for biological problems recently made headlines last December with the debut of AlphaFold 2, a model (also developed by DeepMind) that utilizes several approaches (new and old) to make significant advances in protein structure prediction. "
   ]
  },
  {
   "cell_type": "markdown",
   "id": "6c482013",
   "metadata": {},
   "source": [
    "The AlphaFold 2 model is semi-supervised, making use of a large number of sequences with entries in the Protein Data Bank (PDB), but also incorporating 350,000 sequences from UniClust30 (a database clustering millions of sequences into 30% sequence identity clusters to reduce redundancy) in order to improve its accuracy. "
   ]
  },
  {
   "cell_type": "markdown",
   "id": "62279ac1",
   "metadata": {},
   "source": [
    "Some of the moving parts:"
   ]
  },
  {
   "cell_type": "markdown",
   "id": "48abb55c",
   "metadata": {},
   "source": [
    "* Multiple sequence alignment\n",
    "* Attention to get from sequence space into 2D distance map space (`Evoformer`)\n",
    "* BERT-like ideas: masking\n",
    "* ...\n",
    "\n"
   ]
  },
  {
   "cell_type": "markdown",
   "id": "34d74152",
   "metadata": {},
   "source": [
    "We'll be walking through the some of the released code as used to run the model on a particular sequence, using a Colab notebook here: [https://colab.research.google.com/github/deepmind/alphafold/blob/main/notebooks/AlphaFold.ipynb] (make sure to load in Chrome -- from anecdotal experience, it appears the files don't sometimes save well with other browsers). \n",
    "\n",
    "This notebook largely treats the model as a black box and takes about 20 minutes to run on a given sequence. "
   ]
  },
  {
   "cell_type": "code",
   "execution_count": null,
   "id": "dd2a3ba8",
   "metadata": {},
   "outputs": [],
   "source": []
  }
 ],
 "metadata": {
  "kernelspec": {
   "display_name": "Python 3",
   "language": "python",
   "name": "python3"
  },
  "language_info": {
   "codemirror_mode": {
    "name": "ipython",
    "version": 3
   },
   "file_extension": ".py",
   "mimetype": "text/x-python",
   "name": "python",
   "nbconvert_exporter": "python",
   "pygments_lexer": "ipython3",
   "version": "3.7.7"
  }
 },
 "nbformat": 4,
 "nbformat_minor": 5
}
