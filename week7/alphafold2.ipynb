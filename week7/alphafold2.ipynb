{
 "cells": [
  {
   "cell_type": "markdown",
   "id": "9e0d687d",
   "metadata": {},
   "source": [
    "Advanced machine learning techniques for biological problems recently made headlines last December with the debut of AlphaFold 2, a model (also developed by DeepMind) that utilizes several approaches (new and old) to make significant advances in protein structure prediction. "
   ]
  },
  {
   "cell_type": "markdown",
   "id": "6c482013",
   "metadata": {},
   "source": [
    "The AlphaFold 2 model is semi-supervised, making use of a large number of sequences with entries in the Protein Data Bank (PDB), but also incorporating 350,000 sequences from UniClust30 (a database clustering millions of sequences into 30% sequence identity clusters to reduce redundancy) in order to improve its accuracy. "
   ]
  },
  {
   "cell_type": "markdown",
   "id": "62279ac1",
   "metadata": {},
   "source": [
    "Some of the moving parts:"
   ]
  },
  {
   "cell_type": "markdown",
   "id": "48abb55c",
   "metadata": {},
   "source": [
    "* Multiple sequence alignment (thousands of similar sequences aligned residue by residue to learn about constrained [and not-so-constrained] features in secondary structure)\n",
    "* Similar search on sequences with structures in the PDB\n",
    "* Attention to dynamically improve 1D sequence and 2D (distance map between residues) space (`Evoformer`)\n",
    "* BERT-like masking on the MSA and other processing for both datasets\n",
    "* Structural (3D) layer at end, with stereochemical constraint checks\n",
    "\n"
   ]
  },
  {
   "cell_type": "markdown",
   "id": "34d74152",
   "metadata": {},
   "source": [
    "We'll be walking through the some of the released code as used to run the model on a particular sequence, using a Colab notebook here: https://colab.research.google.com/github/sokrypton/ColabFold/blob/main/AlphaFold2.ipynb (make sure to load in Chrome -- from anecdotal experience, it appears the files don't sometimes save well with other browsers). \n",
    "\n",
    "This notebook largely treats the model as a black box and takes about 20 minutes to run on a given sequence. "
   ]
  },
  {
   "cell_type": "markdown",
   "id": "47c2bee7",
   "metadata": {},
   "source": [
    "Structures of the human proteome, as well as some from other organisms, have been made available at https://alphafold.ebi.ac.uk. If you're interested in the details, check out https://www.nature.com/articles/s41586-021-03819-2. (if you want to see a similar, three-fold approach, RoseTTAfold is also another recently published model out of David Baker's lab that passes information between three representations of the sequence - the (1D) MSA, (2D) distance map, and (3D) structure: https://science.sciencemag.org/content/early/2021/07/19/science.abj8754)"
   ]
  },
  {
   "cell_type": "code",
   "execution_count": null,
   "id": "934d4917",
   "metadata": {},
   "outputs": [],
   "source": []
  }
 ],
 "metadata": {
  "kernelspec": {
   "display_name": "Python 3",
   "language": "python",
   "name": "python3"
  },
  "language_info": {
   "codemirror_mode": {
    "name": "ipython",
    "version": 3
   },
   "file_extension": ".py",
   "mimetype": "text/x-python",
   "name": "python",
   "nbconvert_exporter": "python",
   "pygments_lexer": "ipython3",
   "version": "3.7.7"
  }
 },
 "nbformat": 4,
 "nbformat_minor": 5
}
