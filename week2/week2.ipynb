{
 "cells": [
  {
   "cell_type": "markdown",
   "id": "separate-classic",
   "metadata": {},
   "source": [
    "# QBio Python Workshop Week 2\n",
    "## Introduction to Numpy and Matplotlib\n",
    "Prepared by John Russell (johnrussell@g.harvard.edu)\n",
    "\n",
    "**Outline**\n",
    "- Jupyter Lab shortcuts\n",
    "- Intro to Numpy arrays\n",
    "  - Initializing\n",
    "  - Shape and reshape\n",
    "  - Vectorized math operations \n",
    "- Matplotlib line plots\n",
    "- More arrays\n",
    "  - Aggregations\n",
    "  - Broadcasting\n",
    "- Numpy indexing (time permitting. Focus on this next week for sure)"
   ]
  },
  {
   "cell_type": "markdown",
   "id": "respective-literature",
   "metadata": {},
   "source": [
    "## Jupyter Lab Tips and Tricks\n",
    "\n",
    "**Note** Jupyter Lab is the present and the future (notebooks are the past). I'd strongly recommend switching over if you still use jupyter notebook. To launch from the command line, type `jupyter lab`.\n",
    "\n",
    "### Working in Jupyter Notebooks\n",
    "\n",
    "**The Essentials**\n",
    "- `Shift + Enter` executes a cell\n",
    "- `Shift + Tab` shows the documentation of a function\n",
    "- `Tab` will attempt to auto-complete the word you are typing\n",
    "\n",
    "**Cell Operations**\n",
    "- There are two modes in a jupyter notebook: *Edititing* mode is where you are editing text in a cell. *Command* mode is when you are outside of a cell. `Esc` while in a cell switches to command mode. `Enter` will select a cell and enter editing mode there if you are in command mode.\n",
    "\n",
    "- `Esc + a` makes a new cell *above* your current position \n",
    "- `Esc + b` makes a new cell *below* your current position\n",
    "- `Esc + m` converts a cell into a markdown cell\n",
    "- `Esc + y` converts a cell into a code cell.\n",
    "- `Esc + d + d` deletes a cell\n",
    "- `Esc + i + i` interrupts the execution of a cell\n",
    "- `Esc + 0 + 0` stops execution and restarts the kernel"
   ]
  },
  {
   "cell_type": "markdown",
   "id": "sexual-combat",
   "metadata": {},
   "source": [
    "## Numpy\n",
    "\n",
    "### Lets look at an example\n",
    "\n",
    "Below is data and an image representing the temperature of a square surface as a function of time. Right now this 3D data is a list of list of lists."
   ]
  },
  {
   "cell_type": "code",
   "execution_count": null,
   "id": "running-olympus",
   "metadata": {},
   "outputs": [],
   "source": [
    "temp_3d = [\n",
    "    [[72, 72, 68, 73, 72],\n",
    "    [68, 73, 70, 67, 68],\n",
    "    [72, 68, 69, 73, 72],\n",
    "    [72, 68, 69, 74, 71],\n",
    "    [70, 73, 72, 68, 71]],\n",
    "\n",
    "    [[67, 71, 73, 68, 68],\n",
    "    [72, 74, 69, 67, 72],\n",
    "    [69, 72, 68, 71, 72],\n",
    "    [71, 67, 70, 68, 67],\n",
    "    [71, 68, 68, 69, 68]],\n",
    "\n",
    "    [[67, 68, 67, 70, 69],\n",
    "    [67, 67, 74, 68, 67],\n",
    "    [69, 70, 74, 70, 68],\n",
    "    [74, 68, 70, 74, 71],\n",
    "    [69, 73, 68, 74, 68]]\n",
    "]\n"
   ]
  },
  {
   "cell_type": "code",
   "execution_count": null,
   "id": "entitled-gentleman",
   "metadata": {},
   "outputs": [],
   "source": [
    "def labelled_temp_plot(arr):\n",
    "    \"\"\"\n",
    "    Make 3 panel plot showing surface temperatures or related quantites.\n",
    "    Assumes arr is array-like with shape (3,N,M)\n",
    "    \"\"\"\n",
    "    arr = np.asarray(arr)\n",
    "    fig, ax = plt.subplots(1,3, figsize=(20,6))\n",
    "    for i,surf in enumerate(arr):\n",
    "        ax[i].set_title(f\"Time={i}\")\n",
    "        ax[i].imshow(surf, cmap='RdBu_r',interpolation='hermite')\n",
    "        for j in range(surf.shape[0]):\n",
    "            for k in range(surf.shape[1]):\n",
    "                ax[i].annotate(f\"{surf[j][k]}\", (k,j))\n",
    "    return fig, ax"
   ]
  },
  {
   "cell_type": "code",
   "execution_count": null,
   "id": "military-doctor",
   "metadata": {},
   "outputs": [],
   "source": [
    "# I'll explain a lot about plotting like this later - for now just look at the picture\n",
    "fig, ax = labelled_temp_plot(temp_3d)\n",
    "fig.suptitle(\"Surface Temperature (Fahrenheit)\")\n",
    "plt.show()"
   ]
  },
  {
   "cell_type": "markdown",
   "id": "dietary-hanging",
   "metadata": {},
   "source": [
    "### Lets do some simple analysis of this data\n",
    "\n",
    "1. Convert this data to Celsius\n",
    "2. Compute the average temperature over the middle row at each time point."
   ]
  },
  {
   "cell_type": "code",
   "execution_count": null,
   "id": "wound-feeling",
   "metadata": {},
   "outputs": [],
   "source": [
    "def f2c(x):\n",
    "    return (x-32)/1.8"
   ]
  },
  {
   "cell_type": "code",
   "execution_count": null,
   "id": "critical-threshold",
   "metadata": {},
   "outputs": [],
   "source": [
    "temp_3d_celsius = []"
   ]
  },
  {
   "cell_type": "code",
   "execution_count": null,
   "id": "referenced-surge",
   "metadata": {},
   "outputs": [],
   "source": []
  },
  {
   "cell_type": "code",
   "execution_count": null,
   "id": "departmental-cylinder",
   "metadata": {},
   "outputs": [],
   "source": [
    "middle_row_avg = []"
   ]
  },
  {
   "cell_type": "code",
   "execution_count": null,
   "id": "authentic-victor",
   "metadata": {},
   "outputs": [],
   "source": []
  },
  {
   "cell_type": "markdown",
   "id": "offensive-harvest",
   "metadata": {},
   "source": [
    "### What are NumPy Arrays\n",
    "\n",
    "Numpy `array` is the core of the numpy library and essentially all scientific computing and data analysis in python. \n",
    "I tend to think of them as multidimensional lists that are highly optimized for numerical data and mathematical operations.\n",
    "\n",
    "They also have very powerful *indexing* syntax making it easy to access parts of a dataset.\n",
    "\n",
    "Lets see how much more easily we can do the above tasks by using numpy arrays.\n",
    "\n",
    "See https://numpy.org/doc/stable/user/absolute_beginners.html"
   ]
  },
  {
   "cell_type": "code",
   "execution_count": null,
   "id": "smooth-spain",
   "metadata": {},
   "outputs": [],
   "source": [
    "import numpy as np # canonical way to import numpy"
   ]
  },
  {
   "cell_type": "code",
   "execution_count": null,
   "id": "addressed-dayton",
   "metadata": {},
   "outputs": [],
   "source": [
    "temp_arr ="
   ]
  },
  {
   "cell_type": "code",
   "execution_count": null,
   "id": "electric-diesel",
   "metadata": {},
   "outputs": [],
   "source": [
    "#celsius conversion "
   ]
  },
  {
   "cell_type": "code",
   "execution_count": null,
   "id": "practical-surfing",
   "metadata": {},
   "outputs": [],
   "source": []
  },
  {
   "cell_type": "code",
   "execution_count": null,
   "id": "fifty-footwear",
   "metadata": {},
   "outputs": [],
   "source": [
    "# middle row average"
   ]
  },
  {
   "cell_type": "code",
   "execution_count": null,
   "id": "unnecessary-enzyme",
   "metadata": {},
   "outputs": [],
   "source": []
  },
  {
   "cell_type": "markdown",
   "id": "private-constraint",
   "metadata": {},
   "source": [
    "### Lets start from the beginning - How do we make arrays\n",
    "\n",
    "- From lists as above (*be careful about shapes*)\n",
    "\n",
    "- Methods giving you specific numbers\n",
    "    - [arange](https://docs.scipy.org/doc/numpy/reference/generated/numpy.arange.html#numpy.arange) Use this to generate lists of integers\n",
    "    - [linspace](https://docs.scipy.org/doc/numpy/reference/generated/numpy.linspace.html#numpy.linspace) use this to generate lists of evenly spaced numbers. For example to evaluate a function at many values between 0 and 1\n",
    "    \n",
    "- Methods where you give the shape of an array\n",
    "    - [zeros](https://docs.scipy.org/doc/numpy/reference/generated/numpy.zeros_like.html#numpy.zeros) give an array of zeros in the shape you specify\n",
    "    - [zeros_like](https://docs.scipy.org/doc/numpy/reference/generated/numpy.zeros_like.html#numpy.zeros_like) gives an array of zeros in the shape of anther array\n",
    "    - [ones](https://docs.scipy.org/doc/numpy/reference/generated/numpy.ones_like.html#numpy.ones) same as zeros except filled with ones\n",
    "    - [ones_like](https://docs.scipy.org/doc/numpy/reference/generated/numpy.ones_like.html#numpy.ones_like) sames as zeros_like except filled with ones"
   ]
  },
  {
   "cell_type": "code",
   "execution_count": null,
   "id": "saved-millennium",
   "metadata": {},
   "outputs": [],
   "source": []
  },
  {
   "cell_type": "code",
   "execution_count": null,
   "id": "binding-singing",
   "metadata": {},
   "outputs": [],
   "source": [
    "# initialize an array\n",
    "# arr = np.array([])"
   ]
  },
  {
   "cell_type": "code",
   "execution_count": null,
   "id": "saving-sapphire",
   "metadata": {},
   "outputs": [],
   "source": [
    "# look at it\n"
   ]
  },
  {
   "cell_type": "markdown",
   "id": "technical-carter",
   "metadata": {},
   "source": [
    "### Doing math with Numpy\n",
    "\n",
    "https://numpy.org/doc/stable/reference/routines.math.html"
   ]
  },
  {
   "cell_type": "code",
   "execution_count": null,
   "id": "entitled-interim",
   "metadata": {},
   "outputs": [],
   "source": []
  },
  {
   "cell_type": "markdown",
   "id": "southwest-prospect",
   "metadata": {},
   "source": [
    "### Array shapes and reshape\n",
    "\n",
    "Arrays have several *attributes* the can give you very useful information both for writing code and debugging.\n",
    "\n",
    "Chief among these is `np.shape` or `.shape`."
   ]
  },
  {
   "cell_type": "code",
   "execution_count": null,
   "id": "boring-commons",
   "metadata": {},
   "outputs": [],
   "source": []
  },
  {
   "cell_type": "code",
   "execution_count": null,
   "id": "widespread-reservation",
   "metadata": {},
   "outputs": [],
   "source": [
    "# shape"
   ]
  },
  {
   "cell_type": "code",
   "execution_count": null,
   "id": "necessary-harris",
   "metadata": {},
   "outputs": [],
   "source": [
    "# ndim"
   ]
  },
  {
   "cell_type": "code",
   "execution_count": null,
   "id": "streaming-wallet",
   "metadata": {},
   "outputs": [],
   "source": [
    "# size"
   ]
  },
  {
   "cell_type": "markdown",
   "id": "desirable-hampshire",
   "metadata": {},
   "source": [
    "## Breakout Room Exercises 1\n",
    "\n",
    "#### 1. Triangular numbers\n",
    "\n",
    "The [triangular numbers](https://en.wikipedia.org/wiki/Triangular_number) are defined recursively as $T(0)=0$, $T(1)=1$, $T(n)=T(n−1)+n$.\n",
    "\n",
    "However there is also an explicit formula. \n",
    "$$T_n = \\frac{n(n+1)}{2}$$\n",
    "\n",
    "Calculate the first 1000 triangular numbers using the explicit formula and numpy arrays (No loops!).\n",
    "\n",
    "*Hint* The first 5 triangular numbers are: `[0, 1, 3, 6, 10]` and the 1000th triangular number is`499500`.\n",
    "\n",
    "*Hint* A good start is to make an array that represents $n$ in the triangular numbers formula. i.e. `[1,2,3,....,1000]`."
   ]
  },
  {
   "cell_type": "code",
   "execution_count": null,
   "id": "valid-kennedy",
   "metadata": {},
   "outputs": [],
   "source": []
  },
  {
   "cell_type": "markdown",
   "id": "protective-cornell",
   "metadata": {},
   "source": [
    "#### 2. Calculating an integral\n",
    "\n",
    "An import integral equation is given below\n",
    "\n",
    "$$ \\int_{-\\infty}^{\\infty} e^{-x^2} dx = \\sqrt{\\pi} $$\n",
    "\n",
    "Confirm this result numerically by \n",
    "1. Creating arrays for $x$ and $y=e^{-x^2}$. We obviously cannot truly integrate to infinity but the result can be well approximated by integrating from -1000 to 1000 using $10^5$ points. \n",
    "1. Read the documentation for [`np.trapz`](https://numpy.org/doc/stable/reference/generated/numpy.trapz.html) and then use it to compute the integral.\n",
    "1. Compare your results to the true answer by looking at the absolute difference between the two and then by computing the the fractional error in your estimate using the formula below.  \n",
    "\n",
    "$$\\text{Error} = \\dfrac{|\\text{Estimate} - \\text{True}|}{\\text{True}}$$"
   ]
  },
  {
   "cell_type": "code",
   "execution_count": null,
   "id": "bizarre-orientation",
   "metadata": {},
   "outputs": [],
   "source": []
  },
  {
   "cell_type": "markdown",
   "id": "electronic-particle",
   "metadata": {},
   "source": [
    "# Basic plotting with Matplotlib\n",
    "\n",
    "**Matplotlib cheatsheets:** https://github.com/matplotlib/cheatsheets#cheatsheets\n",
    "\n",
    "\n"
   ]
  },
  {
   "cell_type": "code",
   "execution_count": null,
   "id": "liked-pavilion",
   "metadata": {},
   "outputs": [],
   "source": []
  },
  {
   "cell_type": "code",
   "execution_count": null,
   "id": "diagnostic-destination",
   "metadata": {},
   "outputs": [],
   "source": [
    "t = np.array(temp_3d)"
   ]
  },
  {
   "cell_type": "code",
   "execution_count": null,
   "id": "noble-infection",
   "metadata": {},
   "outputs": [],
   "source": [
    "plt.imshow()"
   ]
  },
  {
   "cell_type": "markdown",
   "id": "weighted-marriage",
   "metadata": {},
   "source": [
    "### Intro to matplotlib \n",
    "\n",
    "Matplotlib is the standard plotting software in the scientific python ecosystem. There are some newer libraries gaining traction but many of them build on top of matplotlib so it is worth knowing. \n",
    "\n",
    "There are a few slightly different ways to use matplotlib. I'll show you two of them. The way that that most poeple do it and the way that is considered best practice by the developers of matplotlib (they are not very different).\n",
    "\n",
    "[**Official Matplotlib Cheatsheets**](https://github.com/matplotlib/cheatsheets) - Really great reference for all levels of matplotlib users.\n",
    "\n",
    "[**Tutorials**](https://matplotlib.org/3.3.4/tutorials/index.html)\n",
    "\n",
    "**Good goodling phrase:** \"How to make a ___ plot in matplotlib\"\n",
    "#### Line Plots"
   ]
  },
  {
   "cell_type": "code",
   "execution_count": null,
   "id": "present-timing",
   "metadata": {},
   "outputs": [],
   "source": [
    "# canonical import line for plotting \n",
    "import matplotlib.pyplot as plt "
   ]
  },
  {
   "cell_type": "code",
   "execution_count": null,
   "id": "overall-livestock",
   "metadata": {},
   "outputs": [],
   "source": [
    "# generate some data\n",
    "x_plt = np.linspace(-3, 3, 200) \n",
    "y_plt = np.exp(-x_plt**2)*np.sin(10*x_plt)"
   ]
  },
  {
   "cell_type": "code",
   "execution_count": null,
   "id": "bored-mount",
   "metadata": {},
   "outputs": [],
   "source": [
    "plt.plot(x_plt,y_plt)\n",
    "plt.show()"
   ]
  },
  {
   "cell_type": "code",
   "execution_count": null,
   "id": "false-garden",
   "metadata": {},
   "outputs": [],
   "source": [
    "# plot multiple curves"
   ]
  },
  {
   "cell_type": "code",
   "execution_count": null,
   "id": "informed-trinidad",
   "metadata": {},
   "outputs": [],
   "source": [
    "# Add some basic labels, and styling"
   ]
  },
  {
   "cell_type": "code",
   "execution_count": null,
   "id": "progressive-worry",
   "metadata": {},
   "outputs": [],
   "source": [
    "# save figure"
   ]
  },
  {
   "cell_type": "markdown",
   "id": "eligible-parish",
   "metadata": {},
   "source": [
    "## Plotting exercise\n",
    "\n",
    "**Part a.**\n",
    "A gaussian or normal distribution for a single variable is given by the following formula:\n",
    "\n",
    "$$p(x; \\mu, \\sigma) = \\frac{1}{\\sqrt{2\\pi \\sigma^2}}\\exp\\left[-\\frac{(x-\\mu)^2}{2\\sigma^2}\\right]$$\n",
    "\n",
    "where $\\mu$ is the mean and $\\sigma$ is the standard deviation. Plot normal distributions with the following combinations of mean and standard deviation:\n",
    "\n",
    "| Mean | Std. Dev |\n",
    "| ---- | ---------|\n",
    "| 0 | 1 |\n",
    "| 0 | 5 |\n",
    "| -2 | 1 |\n",
    "| 3 | 5 |\n",
    "\n",
    " \n",
    "*Hint 1:* Write a python function that takes an array `x` and two numbers `mu` and `sigma` and returns $p(x; \\mu, \\sigma)$. Then call this function multiple times.\n",
    "\n",
    "*Hint 2:* Write a `for` loop to iterate over the different parameters and call `plt.plot` each time.\n",
    "\n",
    "**Part b.**\n",
    "Add a legend to this graph that labels each curve with its mean and standard deviation. Check out the cheatsheets linked above or google \"matplotlib legend\".\n",
    "\n",
    "**Part c.** \n",
    "Experiment with more styling options. For instance changing the colors or styles of the different curves, adding labels to the axes, or some other things from the cheatsheets."
   ]
  },
  {
   "cell_type": "code",
   "execution_count": null,
   "id": "alpine-reservoir",
   "metadata": {},
   "outputs": [],
   "source": []
  },
  {
   "cell_type": "markdown",
   "id": "regular-cable",
   "metadata": {},
   "source": [
    "## More Numpy: Aggregations, Axes, and Broadcasting\n",
    "\n",
    "Aggregations are operations that take in many numbers and *aggregate* them into a single number (e.g. `sum`, `mean`, `std`, `prod`).\n",
    "\n",
    "For 1D arrays this is pretty straightforward."
   ]
  },
  {
   "cell_type": "code",
   "execution_count": null,
   "id": "varying-bullet",
   "metadata": {},
   "outputs": [],
   "source": [
    "X1 = np.array([1,3,5,7])"
   ]
  },
  {
   "cell_type": "code",
   "execution_count": null,
   "id": "dying-settle",
   "metadata": {},
   "outputs": [],
   "source": [
    "X1.mean() # equivalent to np.mean(X1)"
   ]
  },
  {
   "cell_type": "markdown",
   "id": "parental-planner",
   "metadata": {},
   "source": [
    "For higher dimensions we need to think a little bit more about applying these operations. Often we want to aggregate over the rows or columns of a matrix for example. All numpy aggregating functions take an `axis` argument to accomplish this.\n",
    "\n",
    "![numpy aggregations](https://numpy.org/doc/stable/_images/np_matrix_aggregation_row.png)\n"
   ]
  },
  {
   "cell_type": "code",
   "execution_count": null,
   "id": "sharp-candidate",
   "metadata": {},
   "outputs": [],
   "source": [
    "data = np.arange(6).reshape(3,2)+1"
   ]
  },
  {
   "cell_type": "code",
   "execution_count": null,
   "id": "different-scope",
   "metadata": {},
   "outputs": [],
   "source": [
    "# mean"
   ]
  },
  {
   "cell_type": "code",
   "execution_count": null,
   "id": "infinite-intention",
   "metadata": {},
   "outputs": [],
   "source": [
    "# mean over rows"
   ]
  },
  {
   "cell_type": "code",
   "execution_count": null,
   "id": "random-precipitation",
   "metadata": {},
   "outputs": [],
   "source": [
    "# mean over columns"
   ]
  },
  {
   "cell_type": "markdown",
   "id": "extensive-timing",
   "metadata": {},
   "source": [
    "### Broadcasting\n",
    "\n",
    "We have already seen the simplest case of broadcasting."
   ]
  },
  {
   "cell_type": "code",
   "execution_count": null,
   "id": "white-sussex",
   "metadata": {},
   "outputs": [],
   "source": [
    "x = np.arange(5)"
   ]
  },
  {
   "cell_type": "code",
   "execution_count": null,
   "id": "broadband-writer",
   "metadata": {},
   "outputs": [],
   "source": [
    "6*x +1"
   ]
  },
  {
   "cell_type": "markdown",
   "id": "intelligent-tunnel",
   "metadata": {},
   "source": [
    "Even though `x` is an array, numpy knows to *broadcast* the multiplication and addition of single numbers over each value of the array. Among other things, this makes your code much more closely resemble mathematical notation. Compare the above numpy code with how we would do this with a list\n",
    "\n",
    "```python\n",
    "y = []\n",
    "for i in range(len(x)):\n",
    "    y.append(6*x[i]+3)\n",
    "```"
   ]
  },
  {
   "cell_type": "markdown",
   "id": "unusual-truth",
   "metadata": {},
   "source": [
    "Broadcasting can also work between arrays. The rule is roughly that the arrays must be broadcastable along the *last dimensions* of the larger arrays. Being broadcastable means they either have the same shape or one of them has shape 1."
   ]
  },
  {
   "cell_type": "code",
   "execution_count": null,
   "id": "union-haven",
   "metadata": {},
   "outputs": [],
   "source": [
    "a = 10*np.arange(12).reshape(4,3)\n",
    "b1 = np.arange(3)"
   ]
  },
  {
   "cell_type": "code",
   "execution_count": null,
   "id": "german-spyware",
   "metadata": {},
   "outputs": [],
   "source": [
    "a + b1"
   ]
  },
  {
   "cell_type": "code",
   "execution_count": null,
   "id": "numerical-membership",
   "metadata": {},
   "outputs": [],
   "source": [
    "print(f\"{a.shape=}\")\n",
    "print(f\"{b1.shape=}\")"
   ]
  },
  {
   "cell_type": "code",
   "execution_count": null,
   "id": "french-techno",
   "metadata": {},
   "outputs": [],
   "source": [
    "b2 = np.arange(4)"
   ]
  },
  {
   "cell_type": "code",
   "execution_count": null,
   "id": "specified-prime",
   "metadata": {},
   "outputs": [],
   "source": [
    "a+b2"
   ]
  },
  {
   "cell_type": "code",
   "execution_count": null,
   "id": "cardiovascular-brooklyn",
   "metadata": {},
   "outputs": [],
   "source": [
    "a+b2[:,None]"
   ]
  },
  {
   "cell_type": "code",
   "execution_count": null,
   "id": "chief-migration",
   "metadata": {},
   "outputs": [],
   "source": [
    "print(f'{b2.shape=}') # doesnt work\n",
    "print(f'{b2[:,None].shape=}') # works - this will make more sense next week\n",
    "print(f'{np.expand_dims(b2,1).shape=}') # works - same as previous "
   ]
  },
  {
   "cell_type": "markdown",
   "id": "divided-promotion",
   "metadata": {},
   "source": [
    "#### Convenient argument to aggregations - `keepdims=True`"
   ]
  },
  {
   "cell_type": "code",
   "execution_count": null,
   "id": "capital-prevention",
   "metadata": {},
   "outputs": [],
   "source": [
    "a"
   ]
  },
  {
   "cell_type": "code",
   "execution_count": null,
   "id": "developed-auditor",
   "metadata": {},
   "outputs": [],
   "source": [
    "a_mean1 = np.mean(a, axis=1)"
   ]
  },
  {
   "cell_type": "code",
   "execution_count": null,
   "id": "computational-showcase",
   "metadata": {},
   "outputs": [],
   "source": [
    "a_mean1.shape"
   ]
  },
  {
   "cell_type": "code",
   "execution_count": null,
   "id": "square-culture",
   "metadata": {},
   "outputs": [],
   "source": [
    "a/a_mean1"
   ]
  },
  {
   "cell_type": "code",
   "execution_count": null,
   "id": "cleared-checklist",
   "metadata": {},
   "outputs": [],
   "source": [
    "a_mean2 = np.mean(a, axis=1, keepdims=True)"
   ]
  },
  {
   "cell_type": "code",
   "execution_count": null,
   "id": "intensive-replication",
   "metadata": {},
   "outputs": [],
   "source": [
    "a_mean2.shape"
   ]
  },
  {
   "cell_type": "code",
   "execution_count": null,
   "id": "anticipated-remains",
   "metadata": {},
   "outputs": [],
   "source": [
    "a/a_mean2"
   ]
  },
  {
   "cell_type": "markdown",
   "id": "worst-description",
   "metadata": {},
   "source": [
    "## Aggregations and Broadcasting Exercises\n",
    "\n",
    "**Question 1:** Recall our original motivating example of surface temperature over time.\n",
    "\n",
    "1. Using Numpy, compute the time average surface temperature (i.e. The average temperature at each xy position). *Hint* If you have not already, start by converting the list `temp_3d` into an array. Look at its shape and think about which axis corresponds to the time dimension.\n",
    "1. Subtract the surface average you just computed from the original data and call `labelled_temp_plot` on the result to visualize it.\n",
    "1. Compute the average temperature at each time point (i.e. average over xy positions). Subtract this result from the original data and display the result with `labelled_temp_plot`."
   ]
  },
  {
   "cell_type": "code",
   "execution_count": null,
   "id": "regulated-lloyd",
   "metadata": {},
   "outputs": [],
   "source": []
  },
  {
   "cell_type": "markdown",
   "id": "moving-ensemble",
   "metadata": {},
   "source": [
    "**Question 2:** Softmax\n",
    "\n",
    "In machine learning we often want to assign a set of probabilities to a data point being in some class. In order to be a consistent set of probabilities they must sum to 1 since we assume that each data point must be in one of the possible classes. For numerical reasons, it is often preferebale to work with a vector of unnormalized \"scores\" that we convert to probabilities using the `softmax` function defined by\n",
    "\n",
    "$$\\text{softmax}({\\bf x})_i = \\dfrac{e^{x_i}}{\\sum_j e^{x_j}}$$\n",
    "\n",
    "Write your own softmax function that takes in a 2D numpy array with shape `(N,C)` where N is the number of data points (so each row is a separate entry) and C is the number of classes. Test your function on the synthetic data array provided.\n",
    "\n",
    "**Note 1:** If you have done some thermodynamics you might recognize the softmax function as the boltzmann distribution where you you would say \"energy\" rather than \"score\".\n",
    "\n",
    "**Note 2:** In real life, you should use one of the many existing implementations of softmax e.g. [`scipy.special.softmax`](https://docs.scipy.org/doc/scipy/reference/generated/scipy.special.softmax.html)."
   ]
  },
  {
   "cell_type": "code",
   "execution_count": 119,
   "id": "academic-exemption",
   "metadata": {},
   "outputs": [],
   "source": [
    "data = np.random.normal(scale=3, size=(100,5))"
   ]
  },
  {
   "cell_type": "code",
   "execution_count": null,
   "id": "ahead-shipping",
   "metadata": {},
   "outputs": [],
   "source": []
  }
 ],
 "metadata": {
  "kernelspec": {
   "display_name": "Python 3",
   "language": "python",
   "name": "python3"
  },
  "language_info": {
   "codemirror_mode": {
    "name": "ipython",
    "version": 3
   },
   "file_extension": ".py",
   "mimetype": "text/x-python",
   "name": "python",
   "nbconvert_exporter": "python",
   "pygments_lexer": "ipython3",
   "version": "3.8.6"
  }
 },
 "nbformat": 4,
 "nbformat_minor": 5
}
