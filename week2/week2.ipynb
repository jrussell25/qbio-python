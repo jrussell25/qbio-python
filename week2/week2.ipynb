{
 "cells": [
  {
   "cell_type": "markdown",
   "id": "stylish-farmer",
   "metadata": {},
   "source": [
    "# QBio Python Workshop Week 2\n",
    "## Introduction to Numpy and Matplotlib\n",
    "Prepared by John Russell (johnrussell@g.harvard.edu)\n",
    "\n",
    "**Outline**\n",
    "- Jupyter Lab shortcuts\n",
    "- Intro to Numpy arrays\n",
    "  - Initializing\n",
    "  - Shape and reshape\n",
    "  - Vectorized math operations \n",
    "- Matplotlib line plots\n",
    "- More arrays\n",
    "  - Aggregations\n",
    "  - Broadcasting\n",
    "- Numpy indexing (time permitting. Focus on this next week for sure)"
   ]
  },
  {
   "cell_type": "markdown",
   "id": "athletic-house",
   "metadata": {},
   "source": [
    "## Jupyter Lab Tips and Tricks\n",
    "\n",
    "**Note** Jupyter Lab is the present and the future (notebooks are the past). I'd strongly recommend switching over if you still use jupyter notebook. To launch from the command line, type `jupyter lab`.\n",
    "\n",
    "### Working in Jupyter Notebooks\n",
    "\n",
    "**The Essentials**\n",
    "- `Shift + Enter` executes a cell\n",
    "- `Shift + Tab` shows the documentation of a function\n",
    "- `Tab` will attempt to auto-complete the word you are typing\n",
    "\n",
    "**Cell Operations**\n",
    "- There are two modes in a jupyter notebook: *Edititing* mode is where you are editing text in a cell. *Command* mode is when you are outside of a cell. `Esc` while in a cell switches to command mode. `Enter` will select a cell and enter editing mode there if you are in command mode.\n",
    "\n",
    "- `Esc + a` makes a new cell *above* your current position \n",
    "- `Esc + b` makes a new cell *below* your current position\n",
    "- `Esc + m` converts a cell into a markdown cell\n",
    "- `Esc + y` converts a cell into a code cell.\n",
    "- `Esc + d + d` deletes a cell\n",
    "- `Esc + i + i` interrupts the execution of a cell\n",
    "- `Esc + 0 + 0` stops execution and restarts the kernel"
   ]
  },
  {
   "cell_type": "markdown",
   "id": "naughty-bahrain",
   "metadata": {},
   "source": [
    "## Numpy\n",
    "\n",
    "### Lets look at an example\n",
    "\n",
    "Below is data and an image representing the temperature of a square surface as a function of time. Right now this 3D data is a list of list of lists."
   ]
  },
  {
   "cell_type": "code",
   "execution_count": null,
   "id": "front-reference",
   "metadata": {},
   "outputs": [],
   "source": [
    "temp_3d = [\n",
    "    [[72, 72, 68, 73, 72],\n",
    "    [68, 73, 70, 67, 68],\n",
    "    [72, 68, 69, 73, 72],\n",
    "    [72, 68, 69, 74, 71],\n",
    "    [70, 73, 72, 68, 71]],\n",
    "\n",
    "    [[67, 71, 73, 68, 68],\n",
    "    [72, 74, 69, 67, 72],\n",
    "    [69, 72, 68, 71, 72],\n",
    "    [71, 67, 70, 68, 67],\n",
    "    [71, 68, 68, 69, 68]],\n",
    "\n",
    "    [[67, 68, 67, 70, 69],\n",
    "    [67, 67, 74, 68, 67],\n",
    "    [69, 70, 74, 70, 68],\n",
    "    [74, 68, 70, 74, 71],\n",
    "    [69, 73, 68, 74, 68]]\n",
    "]\n"
   ]
  },
  {
   "cell_type": "code",
   "execution_count": null,
   "id": "continental-magazine",
   "metadata": {},
   "outputs": [],
   "source": [
    "def labelled_temp_plot(arr):\n",
    "    \"\"\"\n",
    "    Make 3 panel plot showing surface temperatures or related quantites.\n",
    "    Assumes arr is array-like with shape (3,N,M)\n",
    "    \"\"\"\n",
    "    arr = np.asarray(arr)\n",
    "    fig, ax = plt.subplots(1,3, figsize=(20,6))\n",
    "    for i,surf in enumerate(arr):\n",
    "        ax[i].set_title(f\"Time={i}\")\n",
    "        ax[i].imshow(surf, cmap='RdBu_r',interpolation='hermite')\n",
    "        for j in range(surf.shape[0]):\n",
    "            for k in range(surf.shape[1]):\n",
    "                ax[i].annotate(f\"{surf[j][k]}\", (k,j))\n",
    "    return fig, ax"
   ]
  },
  {
   "cell_type": "code",
   "execution_count": null,
   "id": "satisfactory-pulse",
   "metadata": {},
   "outputs": [],
   "source": [
    "# I'll explain a lot about plotting like this later - for now just look at the picture\n",
    "fig, ax = labelled_temp_plot(temp_3d)\n",
    "fig.suptitle(\"Surface Temperature (Fahrenheit)\")\n",
    "plt.show()"
   ]
  },
  {
   "cell_type": "markdown",
   "id": "offensive-roberts",
   "metadata": {},
   "source": [
    "### Lets do some simple analysis of this data\n",
    "\n",
    "1. Convert this data to Celsius\n",
    "2. Compute the average temperature over the middle row at each time point."
   ]
  },
  {
   "cell_type": "code",
   "execution_count": null,
   "id": "complex-temperature",
   "metadata": {},
   "outputs": [],
   "source": [
    "def f2c(x):\n",
    "    return (x-32)/1.8"
   ]
  },
  {
   "cell_type": "code",
   "execution_count": null,
   "id": "gentle-mortality",
   "metadata": {},
   "outputs": [],
   "source": [
    "temp_3d_celsius = []"
   ]
  },
  {
   "cell_type": "code",
   "execution_count": null,
   "id": "passive-machinery",
   "metadata": {},
   "outputs": [],
   "source": []
  },
  {
   "cell_type": "code",
   "execution_count": null,
   "id": "reasonable-public",
   "metadata": {},
   "outputs": [],
   "source": [
    "middle_row_avg = []"
   ]
  },
  {
   "cell_type": "code",
   "execution_count": null,
   "id": "crazy-wrapping",
   "metadata": {},
   "outputs": [],
   "source": []
  },
  {
   "cell_type": "markdown",
   "id": "sexual-translation",
   "metadata": {},
   "source": [
    "### What are NumPy Arrays\n",
    "\n",
    "Numpy `array` is the core of the numpy library and essentially all scientific computing and data analysis in python. \n",
    "I tend to think of them as multidimensional lists that are highly optimized for numerical data and mathematical operations.\n",
    "\n",
    "They also have very powerful *indexing* syntax making it easy to access parts of a dataset.\n",
    "\n",
    "Lets see how much more easily we can do the above tasks by using numpy arrays.\n",
    "\n",
    "See https://numpy.org/doc/stable/user/absolute_beginners.html"
   ]
  },
  {
   "cell_type": "code",
   "execution_count": null,
   "id": "professional-enzyme",
   "metadata": {},
   "outputs": [],
   "source": [
    "import numpy as np # canonical way to import numpy"
   ]
  },
  {
   "cell_type": "code",
   "execution_count": null,
   "id": "declared-poverty",
   "metadata": {},
   "outputs": [],
   "source": [
    "temp_arr ="
   ]
  },
  {
   "cell_type": "code",
   "execution_count": null,
   "id": "practical-louisiana",
   "metadata": {},
   "outputs": [],
   "source": [
    "#celsius conversion "
   ]
  },
  {
   "cell_type": "code",
   "execution_count": null,
   "id": "rocky-halifax",
   "metadata": {},
   "outputs": [],
   "source": []
  },
  {
   "cell_type": "code",
   "execution_count": null,
   "id": "oriental-nickname",
   "metadata": {},
   "outputs": [],
   "source": [
    "# middle row average"
   ]
  },
  {
   "cell_type": "code",
   "execution_count": null,
   "id": "unlimited-departure",
   "metadata": {},
   "outputs": [],
   "source": []
  },
  {
   "cell_type": "markdown",
   "id": "sought-czech",
   "metadata": {},
   "source": [
    "### Lets start from the beginning - How do we make arrays\n",
    "\n",
    "- From lists as above (*be careful about shapes*)\n",
    "\n",
    "- Methods giving you specific numbers\n",
    "    - [arange](https://docs.scipy.org/doc/numpy/reference/generated/numpy.arange.html#numpy.arange) Use this to generate lists of integers\n",
    "    - [linspace](https://docs.scipy.org/doc/numpy/reference/generated/numpy.linspace.html#numpy.linspace) use this to generate lists of evenly spaced numbers. For example to evaluate a function at many values between 0 and 1\n",
    "    \n",
    "- Methods where you give the shape of an array\n",
    "    - [zeros](https://docs.scipy.org/doc/numpy/reference/generated/numpy.zeros_like.html#numpy.zeros) give an array of zeros in the shape you specify\n",
    "    - [zeros_like](https://docs.scipy.org/doc/numpy/reference/generated/numpy.zeros_like.html#numpy.zeros_like) gives an array of zeros in the shape of anther array\n",
    "    - [ones](https://docs.scipy.org/doc/numpy/reference/generated/numpy.ones_like.html#numpy.ones) same as zeros except filled with ones\n",
    "    - [ones_like](https://docs.scipy.org/doc/numpy/reference/generated/numpy.ones_like.html#numpy.ones_like) sames as zeros_like except filled with ones"
   ]
  },
  {
   "cell_type": "code",
   "execution_count": null,
   "id": "representative-aviation",
   "metadata": {},
   "outputs": [],
   "source": []
  },
  {
   "cell_type": "code",
   "execution_count": null,
   "id": "charged-layout",
   "metadata": {},
   "outputs": [],
   "source": [
    "# initialize an array\n",
    "# arr = np.array([])"
   ]
  },
  {
   "cell_type": "code",
   "execution_count": null,
   "id": "social-clear",
   "metadata": {},
   "outputs": [],
   "source": [
    "# look at it\n"
   ]
  },
  {
   "cell_type": "markdown",
   "id": "wound-lightweight",
   "metadata": {},
   "source": [
    "### Doing math with Numpy\n",
    "\n",
    "https://numpy.org/doc/stable/reference/routines.math.html"
   ]
  },
  {
   "cell_type": "code",
   "execution_count": null,
   "id": "declared-accountability",
   "metadata": {},
   "outputs": [],
   "source": []
  },
  {
   "cell_type": "markdown",
   "id": "protective-stuart",
   "metadata": {},
   "source": [
    "### Array shapes and reshape\n",
    "\n",
    "Arrays have several *attributes* the can give you very useful information both for writing code and debugging.\n",
    "\n",
    "Chief among these is `np.shape` or `.shape`."
   ]
  },
  {
   "cell_type": "code",
   "execution_count": null,
   "id": "surgical-clock",
   "metadata": {},
   "outputs": [],
   "source": []
  },
  {
   "cell_type": "code",
   "execution_count": null,
   "id": "narrative-tourist",
   "metadata": {},
   "outputs": [],
   "source": [
    "# shape"
   ]
  },
  {
   "cell_type": "code",
   "execution_count": null,
   "id": "superior-midwest",
   "metadata": {},
   "outputs": [],
   "source": [
    "# ndim"
   ]
  },
  {
   "cell_type": "code",
   "execution_count": null,
   "id": "polar-blink",
   "metadata": {},
   "outputs": [],
   "source": [
    "# size"
   ]
  },
  {
   "cell_type": "markdown",
   "id": "forty-combining",
   "metadata": {},
   "source": [
    "### Dtypes \n",
    "\n",
    "Probably the second most useful array attribute is `arr.dtype` this specifies the memory format for the numbers in an array. Note here than unlike lists and most other python containers, numpy arrays can only hold a single type of entry. This is a major part of what makes them very fast for doing math.\n",
    "\n",
    "You can read more than you could possibly want to know about numpy dtypes [here](https://numpy.org/doc/stable/reference/arrays.dtypes.html)."
   ]
  },
  {
   "cell_type": "code",
   "execution_count": null,
   "id": "hidden-hygiene",
   "metadata": {},
   "outputs": [],
   "source": [
    "a = np.arange(5)\n",
    "b = np.linspace(0,1,11)"
   ]
  },
  {
   "cell_type": "code",
   "execution_count": null,
   "id": "spread-speaking",
   "metadata": {},
   "outputs": [],
   "source": [
    "print(f\"{a.dtype=}\")\n",
    "print(f\"{b.dtype=}\")"
   ]
  },
  {
   "cell_type": "markdown",
   "id": "statistical-slope",
   "metadata": {},
   "source": [
    "You can change the dtype of an array with the `astype()`. The main reason to do this is for memory saving purposes. E.g. a 3 Gb, 8-bit image dataset -> 24 Gb in numpy by default."
   ]
  },
  {
   "cell_type": "code",
   "execution_count": null,
   "id": "infinite-bundle",
   "metadata": {},
   "outputs": [],
   "source": [
    "a.astype(np.uint8)"
   ]
  },
  {
   "cell_type": "markdown",
   "id": "answering-religious",
   "metadata": {},
   "source": [
    "**Important Note 1**\n",
    "\n",
    "You need to be careful with this since by default numpy wont raise any warnings about throwing away information"
   ]
  },
  {
   "cell_type": "code",
   "execution_count": null,
   "id": "vocal-grass",
   "metadata": {},
   "outputs": [],
   "source": [
    "b.astype(np.uint8)"
   ]
  },
  {
   "cell_type": "markdown",
   "id": "active-beast",
   "metadata": {},
   "source": [
    "**Important Note 2**\n",
    "\n",
    "By default, `astype` returns a copy of the array with the same data and the new dtype. So even after the last cell, `b` is unchanged. You can either reassign e.g. `a = a.astype(np.uint8)` or pass `copy=False` to change the type inplace e.g. `a.astype(np.uint8, copy=False)`."
   ]
  },
  {
   "cell_type": "code",
   "execution_count": null,
   "id": "liberal-quarterly",
   "metadata": {},
   "outputs": [],
   "source": []
  },
  {
   "cell_type": "code",
   "execution_count": null,
   "id": "afraid-theory",
   "metadata": {},
   "outputs": [],
   "source": [
    "np.linspace(0,1,11).astype(np.uint8)"
   ]
  },
  {
   "cell_type": "markdown",
   "id": "scientific-casting",
   "metadata": {},
   "source": [
    "## Breakout Room Exercises 1\n",
    "\n",
    "#### 1. Triangular numbers\n",
    "\n",
    "The [triangular numbers](https://en.wikipedia.org/wiki/Triangular_number) are defined recursively as $T(0)=0$, $T(1)=1$, $T(n)=T(n−1)+n$.\n",
    "\n",
    "However there is also an explicit formula. \n",
    "$$T_n = \\frac{n(n+1)}{2}$$\n",
    "\n",
    "Calculate the first 1000 triangular numbers using the explicit formula and numpy arrays (No loops!).\n",
    "\n",
    "*Hint* The first 5 triangular numbers are: `[0, 1, 3, 6, 10]` and the 1000th triangular number is`499500`.\n",
    "\n",
    "*Hint* A good start is to make an array that represents $n$ in the triangular numbers formula. i.e. `[1,2,3,....,1000]`."
   ]
  },
  {
   "cell_type": "code",
   "execution_count": null,
   "id": "periodic-payroll",
   "metadata": {},
   "outputs": [],
   "source": []
  },
  {
   "cell_type": "markdown",
   "id": "focused-midnight",
   "metadata": {},
   "source": [
    "#### 2. Calculating an integral\n",
    "\n",
    "An import integral equation is given below\n",
    "\n",
    "$$ \\int_{-\\infty}^{\\infty} e^{-x^2} dx = \\sqrt{\\pi} $$\n",
    "\n",
    "Confirm this result numerically by \n",
    "1. Creating arrays for $x$ and $y=e^{-x^2}$. We obviously cannot truly integrate to infinity but the result can be well approximated by integrating from -1000 to 1000 using $10^5$ points. \n",
    "1. Read the documentation for [`np.trapz`](https://numpy.org/doc/stable/reference/generated/numpy.trapz.html) and then use it to compute the integral.\n",
    "1. Compare your results to the true answer by looking at the absolute difference between the two and then by computing the the fractional error in your estimate using the formula below.  \n",
    "\n",
    "$$\\text{Error} = \\dfrac{|\\text{Estimate} - \\text{True}|}{\\text{True}}$$"
   ]
  },
  {
   "cell_type": "code",
   "execution_count": null,
   "id": "happy-fundamentals",
   "metadata": {},
   "outputs": [],
   "source": []
  },
  {
   "cell_type": "markdown",
   "id": "related-generic",
   "metadata": {},
   "source": [
    "## Intro to matplotlib \n",
    "\n",
    "Matplotlib is the standard plotting software in the scientific python ecosystem. There are some newer libraries gaining traction but many of them build on top of matplotlib so it is worth knowing. \n",
    "\n",
    "There are a few slightly different ways to use matplotlib. I'll show you two of them. The way that that most poeple do it and the way that is considered best practice by the developers of matplotlib (they are not very different).\n",
    "\n",
    "[**Official Matplotlib Cheatsheets**](https://github.com/matplotlib/cheatsheets) - Really great reference for all levels of matplotlib users.\n",
    "\n",
    "[**Tutorials**](https://matplotlib.org/3.3.4/tutorials/index.html)\n",
    "\n",
    "**Good googling phrase:** \"How to make a ___ plot in matplotlib\"\n",
    "#### Line Plots"
   ]
  },
  {
   "cell_type": "code",
   "execution_count": null,
   "id": "talented-petroleum",
   "metadata": {},
   "outputs": [],
   "source": [
    "# canonical import line for plotting \n",
    "import matplotlib.pyplot as plt "
   ]
  },
  {
   "cell_type": "code",
   "execution_count": null,
   "id": "working-catholic",
   "metadata": {},
   "outputs": [],
   "source": [
    "# generate some data\n",
    "x_plt = np.linspace(-3, 3, 200) \n",
    "y_plt = np.exp(-x_plt**2)*np.sin(10*x_plt)"
   ]
  },
  {
   "cell_type": "code",
   "execution_count": null,
   "id": "packed-spectacular",
   "metadata": {},
   "outputs": [],
   "source": [
    "plt.plot(x_plt,y_plt)\n",
    "plt.show()"
   ]
  },
  {
   "cell_type": "code",
   "execution_count": null,
   "id": "special-dutch",
   "metadata": {},
   "outputs": [],
   "source": [
    "# plot multiple curves"
   ]
  },
  {
   "cell_type": "code",
   "execution_count": null,
   "id": "olympic-outdoors",
   "metadata": {},
   "outputs": [],
   "source": [
    "# Add some basic labels, and styling"
   ]
  },
  {
   "cell_type": "code",
   "execution_count": null,
   "id": "bound-titanium",
   "metadata": {},
   "outputs": [],
   "source": [
    "# save figure"
   ]
  },
  {
   "cell_type": "markdown",
   "id": "heavy-shooting",
   "metadata": {},
   "source": [
    "## Plotting exercise\n",
    "\n",
    "**Part a.**\n",
    "A gaussian or normal distribution for a single variable is given by the following formula:\n",
    "\n",
    "$$p(x; \\mu, \\sigma) = \\frac{1}{\\sqrt{2\\pi \\sigma^2}}\\exp\\left[-\\frac{(x-\\mu)^2}{2\\sigma^2}\\right]$$\n",
    "\n",
    "where $\\mu$ is the mean and $\\sigma$ is the standard deviation. Plot normal distributions with the following combinations of mean and standard deviation:\n",
    "\n",
    "| Mean | Std. Dev |\n",
    "| ---- | ---------|\n",
    "| 0 | 1 |\n",
    "| 0 | 5 |\n",
    "| -2 | 1 |\n",
    "| 3 | 5 |\n",
    "\n",
    " \n",
    "*Hint 1:* Write a python function that takes an array `x` and two numbers `mu` and `sigma` and returns $p(x; \\mu, \\sigma)$. Then call this function multiple times.\n",
    "\n",
    "*Hint 2:* Write a `for` loop to iterate over the different parameters and call `plt.plot` each time.\n",
    "\n",
    "**Part b.**\n",
    "Add a legend to this graph that labels each curve with its mean and standard deviation. Check out the cheatsheets linked above or google \"matplotlib legend\".\n",
    "\n",
    "**Part c.** \n",
    "Experiment with more styling options. For instance changing the colors or styles of the different curves, adding labels to the axes, or some other things from the cheatsheets."
   ]
  },
  {
   "cell_type": "code",
   "execution_count": null,
   "id": "based-seating",
   "metadata": {},
   "outputs": [],
   "source": []
  },
  {
   "cell_type": "markdown",
   "id": "worthy-kentucky",
   "metadata": {},
   "source": [
    "## More Numpy: Aggregations, Axes, and Broadcasting\n",
    "\n",
    "Aggregations are operations that take in many numbers and *aggregate* them into a single number (e.g. `sum`, `mean`, `std`, `prod`).\n",
    "\n",
    "For 1D arrays this is pretty straightforward."
   ]
  },
  {
   "cell_type": "code",
   "execution_count": null,
   "id": "catholic-novel",
   "metadata": {},
   "outputs": [],
   "source": [
    "X1 = np.array([1,3,5,7])"
   ]
  },
  {
   "cell_type": "code",
   "execution_count": null,
   "id": "brave-county",
   "metadata": {},
   "outputs": [],
   "source": [
    "X1.mean() # equivalent to np.mean(X1)"
   ]
  },
  {
   "cell_type": "markdown",
   "id": "skilled-fighter",
   "metadata": {},
   "source": [
    "For higher dimensions we need to think a little bit more about applying these operations. Often we want to aggregate over the rows or columns of a matrix for example. All numpy aggregating functions take an `axis` argument to accomplish this.\n",
    "\n",
    "![numpy aggregations](https://numpy.org/doc/stable/_images/np_matrix_aggregation_row.png)\n"
   ]
  },
  {
   "cell_type": "code",
   "execution_count": null,
   "id": "supreme-intelligence",
   "metadata": {},
   "outputs": [],
   "source": [
    "data = np.arange(6).reshape(3,2)+1"
   ]
  },
  {
   "cell_type": "code",
   "execution_count": null,
   "id": "electronic-offer",
   "metadata": {},
   "outputs": [],
   "source": [
    "# mean"
   ]
  },
  {
   "cell_type": "code",
   "execution_count": null,
   "id": "identical-champagne",
   "metadata": {},
   "outputs": [],
   "source": [
    "# mean over rows"
   ]
  },
  {
   "cell_type": "code",
   "execution_count": null,
   "id": "third-speed",
   "metadata": {},
   "outputs": [],
   "source": [
    "# mean over columns"
   ]
  },
  {
   "cell_type": "markdown",
   "id": "human-dubai",
   "metadata": {},
   "source": [
    "### Broadcasting\n",
    "\n",
    "We have already seen the simplest case of broadcasting."
   ]
  },
  {
   "cell_type": "code",
   "execution_count": null,
   "id": "basic-jamaica",
   "metadata": {},
   "outputs": [],
   "source": [
    "x = np.arange(5)"
   ]
  },
  {
   "cell_type": "code",
   "execution_count": null,
   "id": "tribal-security",
   "metadata": {},
   "outputs": [],
   "source": [
    "6*x +1"
   ]
  },
  {
   "cell_type": "markdown",
   "id": "virgin-january",
   "metadata": {},
   "source": [
    "Even though `x` is an array, numpy knows to *broadcast* the multiplication and addition of single numbers over each value of the array. Among other things, this makes your code much more closely resemble mathematical notation. Compare the above numpy code with how we would do this with a list\n",
    "\n",
    "```python\n",
    "y = []\n",
    "for i in range(len(x)):\n",
    "    y.append(6*x[i]+3)\n",
    "```"
   ]
  },
  {
   "cell_type": "markdown",
   "id": "enclosed-arthur",
   "metadata": {},
   "source": [
    "Broadcasting can also work between arrays. The rule is roughly that the arrays must be broadcastable along the *last dimensions* of the larger arrays. Being broadcastable means they either have the same shape or one of them has shape 1."
   ]
  },
  {
   "cell_type": "code",
   "execution_count": null,
   "id": "solar-bermuda",
   "metadata": {},
   "outputs": [],
   "source": [
    "a = 10*np.arange(12).reshape(4,3)\n",
    "b1 = np.arange(3)"
   ]
  },
  {
   "cell_type": "code",
   "execution_count": null,
   "id": "smaller-aside",
   "metadata": {},
   "outputs": [],
   "source": [
    "a + b1"
   ]
  },
  {
   "cell_type": "code",
   "execution_count": null,
   "id": "descending-latest",
   "metadata": {},
   "outputs": [],
   "source": [
    "print(f\"{a.shape=}\")\n",
    "print(f\"{b1.shape=}\")"
   ]
  },
  {
   "cell_type": "code",
   "execution_count": null,
   "id": "changing-calgary",
   "metadata": {},
   "outputs": [],
   "source": [
    "b2 = np.arange(4)"
   ]
  },
  {
   "cell_type": "code",
   "execution_count": null,
   "id": "seasonal-debut",
   "metadata": {},
   "outputs": [],
   "source": [
    "a+b2"
   ]
  },
  {
   "cell_type": "code",
   "execution_count": null,
   "id": "impaired-activity",
   "metadata": {},
   "outputs": [],
   "source": [
    "a+b2[:,None]"
   ]
  },
  {
   "cell_type": "code",
   "execution_count": null,
   "id": "published-expansion",
   "metadata": {},
   "outputs": [],
   "source": [
    "print(f'{b2.shape=}') # doesnt work\n",
    "print(f'{b2[:,None].shape=}') # works - this will make more sense next week\n",
    "print(f'{np.expand_dims(b2,1).shape=}') # works - same as previous "
   ]
  },
  {
   "cell_type": "markdown",
   "id": "junior-testing",
   "metadata": {},
   "source": [
    "#### Convenient argument to aggregations - `keepdims=True`"
   ]
  },
  {
   "cell_type": "code",
   "execution_count": null,
   "id": "adverse-oriental",
   "metadata": {},
   "outputs": [],
   "source": [
    "a"
   ]
  },
  {
   "cell_type": "code",
   "execution_count": null,
   "id": "executive-violin",
   "metadata": {},
   "outputs": [],
   "source": [
    "a_mean1 = np.mean(a, axis=1)"
   ]
  },
  {
   "cell_type": "code",
   "execution_count": null,
   "id": "elect-arbitration",
   "metadata": {},
   "outputs": [],
   "source": [
    "a_mean1.shape"
   ]
  },
  {
   "cell_type": "code",
   "execution_count": null,
   "id": "frequent-norwegian",
   "metadata": {},
   "outputs": [],
   "source": [
    "a/a_mean1"
   ]
  },
  {
   "cell_type": "code",
   "execution_count": null,
   "id": "convenient-polymer",
   "metadata": {},
   "outputs": [],
   "source": [
    "a_mean2 = np.mean(a, axis=1, keepdims=True)"
   ]
  },
  {
   "cell_type": "code",
   "execution_count": null,
   "id": "canadian-holocaust",
   "metadata": {},
   "outputs": [],
   "source": [
    "a_mean2.shape"
   ]
  },
  {
   "cell_type": "code",
   "execution_count": null,
   "id": "confused-clark",
   "metadata": {},
   "outputs": [],
   "source": [
    "a/a_mean2"
   ]
  },
  {
   "cell_type": "markdown",
   "id": "fifty-female",
   "metadata": {},
   "source": [
    "## Aggregations and Broadcasting Exercises\n",
    "\n",
    "**Question 1:** Softmax\n",
    "\n",
    "In machine learning we often want to assign a set of probabilities to a data point being in some class. In order to be a consistent set of probabilities they must sum to 1 since we assume that each data point must be in one of the possible classes. For numerical reasons, it is often preferebale to work with a vector of unnormalized \"scores\" that we convert to probabilities using the `softmax` function defined by\n",
    "\n",
    "$$\\text{softmax}({\\bf x})_i = \\dfrac{e^{x_i}}{\\sum_j e^{x_j}}$$\n",
    "\n",
    "Write your own softmax function that takes in a 2D numpy array with shape `(N,C)` where N is the number of data points (so each row is a separate entry) and C is the number of classes. Test your function on the synthetic data array provided.\n",
    "\n",
    "**Note 1:** If you have done some thermodynamics you might recognize the softmax function as the boltzmann distribution where you you would say \"energy\" rather than \"score\".\n",
    "\n",
    "**Note 2:** In real life, you should use one of the many existing implementations of softmax e.g. [`scipy.special.softmax`](https://docs.scipy.org/doc/scipy/reference/generated/scipy.special.softmax.html)."
   ]
  },
  {
   "cell_type": "code",
   "execution_count": null,
   "id": "popular-accident",
   "metadata": {},
   "outputs": [],
   "source": []
  },
  {
   "cell_type": "markdown",
   "id": "median-anniversary",
   "metadata": {},
   "source": [
    "**Question 3** Analyzing the heat equation"
   ]
  },
  {
   "cell_type": "code",
   "execution_count": null,
   "id": "mediterranean-plate",
   "metadata": {},
   "outputs": [],
   "source": [
    "# The details of this are beyond the scope of this course but are very interesting.\n",
    "# Id be happy to talk about it in my office hours tomorrow\n",
    "# Though you should probably go to Nick's OH if you want to *really* know about this\n",
    "T = np.zeros((501,126))\n",
    "T[0,50:75] = 1\n",
    "# T[0] = ...\n",
    "for t in range(500):\n",
    "    T[t+1] = T[t] + 0.4*(np.roll(T[t],1)+np.roll(T[t],-1)-2*T[t]) \n",
    "    T[t+1,0] = T[t,0] + 0.4*(T[t,1]-T[t,0])\n",
    "    T[t+1,-1] = T[t,-1] + 0.4*(T[t,-2]-T[t,-1])\n",
    "    \n",
    "T_plot = T[::50]\n",
    "X = np.linspace(0,10,126)\n",
    "dx =10/125\n",
    "dt = 0.4*dx**2"
   ]
  },
  {
   "cell_type": "markdown",
   "id": "objective-lindsay",
   "metadata": {},
   "source": [
    "The code above solves the [Heat Equation](https://en.wikipedia.org/wiki/Heat_equation) for a perfectly insulated 1D rod yielding data for the temperature of a rod as a function of time i.e. $T(x,t)$. Because computers don't easily represent continuous functions, I have solved the heat equation on a grid with 126 points at a spacing `dx=0.08` at 501 time points separated by `dt=0.00256`. The code above creates 2 arrays, `T` which contains the solution at all 501 time steps and `T_plot` which subsamples this data every 50 time points yielding 11 solutions for plotting. There is also an array `X` that contains the x coordinates of all the grid points.\n",
    "\n",
    "**Part a.** Make a plot showing the 11 solutions containined in `T_plot` on the same axes. I have given you some code that will color the 11 different curves in a way that I find pleasing, as well as code to make a legend. You should add labels to the axes as well as a title."
   ]
  },
  {
   "cell_type": "code",
   "execution_count": null,
   "id": "absolute-payment",
   "metadata": {},
   "outputs": [],
   "source": [
    "# from cycler import cycler \n",
    "vc = cycler(color=plt.cm.viridis(np.linspace(0.1,0.9,11)))\n",
    "fig, ax = plt.subplots()\n",
    "ax.set_prop_cycle(vc)\n",
    "# your code here\n",
    "# ax.plot(...)\n",
    "\n",
    "plt.legend(labels=[f\"t={t:.3f}\" for t in 50*dt*np.arange(11)])\n",
    "plt.show()"
   ]
  },
  {
   "cell_type": "markdown",
   "id": "differential-sterling",
   "metadata": {},
   "source": [
    "**Part b.**\n",
    "\n",
    "Make a plot showing the average temperature and maximum temperature as a function of time one the same axes. Be sure to add a legend, a title, and axes labels. (Use the full solution `T` to make a nice smooth curve)."
   ]
  },
  {
   "cell_type": "code",
   "execution_count": null,
   "id": "reduced-amsterdam",
   "metadata": {},
   "outputs": [],
   "source": []
  },
  {
   "cell_type": "markdown",
   "id": "together-archive",
   "metadata": {},
   "source": [
    "**Part c.** Optional\n",
    "\n",
    "- Compute another interesting quantity for this dataset and make a plot.\n",
    "- For this simulation, I started with $T(x,0) = 1 \\text{where} 4 \\leq x \\leq 6.$ In the code at the top of this question, change $T(x,0)$ by changing the `...` in the commented line that starts `T[0] =` to an array of your creation. It must have shape 126 for this line to work. Remake the plots in this problem and see how they compare between the two different initial conditions."
   ]
  },
  {
   "cell_type": "code",
   "execution_count": null,
   "id": "listed-prince",
   "metadata": {},
   "outputs": [],
   "source": []
  }
 ],
 "metadata": {
  "kernelspec": {
   "display_name": "Python 3",
   "language": "python",
   "name": "python3"
  },
  "language_info": {
   "codemirror_mode": {
    "name": "ipython",
    "version": 3
   },
   "file_extension": ".py",
   "mimetype": "text/x-python",
   "name": "python",
   "nbconvert_exporter": "python",
   "pygments_lexer": "ipython3",
   "version": "3.8.6"
  }
 },
 "nbformat": 4,
 "nbformat_minor": 5
}
