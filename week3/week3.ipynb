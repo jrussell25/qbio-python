{
 "cells": [
  {
   "cell_type": "markdown",
   "id": "reverse-company",
   "metadata": {},
   "source": [
    "# QBio Python Workshop Week 3\n",
    "\n",
    "## More Numpy and Matplotlib\n",
    "\n",
    "Prepared and presented by John Russell (johnrussell@g.harvard.edu)\n",
    "\n",
    "**Outline**\n",
    "\n",
    "- Recap last week\n",
    "  - Creating arrays\n",
    "  - Aggregations\n",
    "- Broadcasting\n",
    "- Indexing\n",
    "  - Single elements\n",
    "  - Slicing\n",
    "  - Binary indexing\n",
    "  - Some advanced indexing\n"
   ]
  },
  {
   "cell_type": "code",
   "execution_count": 9,
   "id": "stopped-hospital",
   "metadata": {},
   "outputs": [],
   "source": [
    "import numpy as np\n",
    "import matplotlib.pyplot as plt"
   ]
  },
  {
   "cell_type": "code",
   "execution_count": 10,
   "id": "previous-recruitment",
   "metadata": {},
   "outputs": [],
   "source": [
    "#this cell changes some matplotlib defaults to make plots nicer \n",
    "import matplotlib as mpl\n",
    "mpl.rc(\"font\", family='serif')\n",
    "mpl.rc(\"figure\", figsize=(9,6))\n",
    "%config InlineBackend.figure_format = 'retina'"
   ]
  },
  {
   "cell_type": "markdown",
   "id": "domestic-investigation",
   "metadata": {},
   "source": [
    "## Broadcasting\n",
    "\n",
    "We have already seen the simplest case of broadcasting."
   ]
  },
  {
   "cell_type": "code",
   "execution_count": 26,
   "id": "polar-honey",
   "metadata": {},
   "outputs": [],
   "source": [
    "x = np.arange(5)"
   ]
  },
  {
   "cell_type": "code",
   "execution_count": 27,
   "id": "hungarian-image",
   "metadata": {},
   "outputs": [
    {
     "data": {
      "text/plain": [
       "array([ 1,  7, 13, 19, 25])"
      ]
     },
     "execution_count": 27,
     "metadata": {},
     "output_type": "execute_result"
    }
   ],
   "source": [
    "6*x +1"
   ]
  },
  {
   "cell_type": "markdown",
   "id": "aerial-softball",
   "metadata": {},
   "source": [
    "Even though `x` is an array, numpy knows to *broadcast* the multiplication and addition of single numbers over each value of the array. Among other things, this makes your code much more closely resemble mathematical notation. Compare the above numpy code with how we would do this with a list\n",
    "\n",
    "```python\n",
    "y = []\n",
    "for i in range(len(x)):\n",
    "    y.append(6*x[i]+3)\n",
    "```"
   ]
  },
  {
   "cell_type": "markdown",
   "id": "based-twelve",
   "metadata": {},
   "source": [
    "Broadcasting can also work between arrays. The rule is roughly that the arrays must be broadcastable along the *last dimensions* of the larger arrays. Being broadcastable means the two arrays either have the same shape or one of them has shape 1 along their last dimensions."
   ]
  },
  {
   "cell_type": "code",
   "execution_count": 29,
   "id": "detailed-contact",
   "metadata": {},
   "outputs": [],
   "source": [
    "a = 10*np.arange(12).reshape(4,3)\n",
    "b1 = np.arange(3)"
   ]
  },
  {
   "cell_type": "code",
   "execution_count": 30,
   "id": "living-mailing",
   "metadata": {},
   "outputs": [
    {
     "data": {
      "text/plain": [
       "array([[  0,  11,  22],\n",
       "       [ 30,  41,  52],\n",
       "       [ 60,  71,  82],\n",
       "       [ 90, 101, 112]])"
      ]
     },
     "execution_count": 30,
     "metadata": {},
     "output_type": "execute_result"
    }
   ],
   "source": [
    "a + b1"
   ]
  },
  {
   "cell_type": "code",
   "execution_count": 31,
   "id": "coastal-banks",
   "metadata": {},
   "outputs": [
    {
     "name": "stdout",
     "output_type": "stream",
     "text": [
      "a.shape=(4, 3)\n",
      "b1.shape=(3,)\n"
     ]
    }
   ],
   "source": [
    "print(f\"{a.shape=}\")\n",
    "print(f\"{b1.shape=}\")"
   ]
  },
  {
   "cell_type": "code",
   "execution_count": 32,
   "id": "developed-consequence",
   "metadata": {},
   "outputs": [],
   "source": [
    "b2 = np.arange(4)"
   ]
  },
  {
   "cell_type": "code",
   "execution_count": 33,
   "id": "violent-regression",
   "metadata": {},
   "outputs": [
    {
     "ename": "ValueError",
     "evalue": "operands could not be broadcast together with shapes (4,3) (4,) ",
     "output_type": "error",
     "traceback": [
      "\u001b[0;31m---------------------------------------------------------------------------\u001b[0m",
      "\u001b[0;31mValueError\u001b[0m                                Traceback (most recent call last)",
      "\u001b[0;32m<ipython-input-33-1040507f52d2>\u001b[0m in \u001b[0;36m<module>\u001b[0;34m\u001b[0m\n\u001b[0;32m----> 1\u001b[0;31m \u001b[0ma\u001b[0m\u001b[0;34m+\u001b[0m\u001b[0mb2\u001b[0m\u001b[0;34m\u001b[0m\u001b[0;34m\u001b[0m\u001b[0m\n\u001b[0m",
      "\u001b[0;31mValueError\u001b[0m: operands could not be broadcast together with shapes (4,3) (4,) "
     ]
    }
   ],
   "source": [
    "a+b2 # bad - will not run becuase shapes incompatible"
   ]
  },
  {
   "cell_type": "code",
   "execution_count": 35,
   "id": "clear-pharmacology",
   "metadata": {},
   "outputs": [
    {
     "data": {
      "text/plain": [
       "array([[  0,  10,  20],\n",
       "       [ 31,  41,  51],\n",
       "       [ 62,  72,  82],\n",
       "       [ 93, 103, 113]])"
      ]
     },
     "execution_count": 35,
     "metadata": {},
     "output_type": "execute_result"
    }
   ],
   "source": [
    "a+b2[:,None] # works because the shapes are consistent according to numpy broadcasting"
   ]
  },
  {
   "cell_type": "code",
   "execution_count": 38,
   "id": "coastal-complaint",
   "metadata": {},
   "outputs": [
    {
     "name": "stdout",
     "output_type": "stream",
     "text": [
      "a.shape=(4, 3)\n",
      "b2.shape=(4,)\n",
      "b2[:,None].shape=(4, 1)\n",
      "np.expand_dims(b2,1).shape=(4, 1)\n"
     ]
    }
   ],
   "source": [
    "# shapes of arrays used in the broadcasting example\n",
    "print(f'{a.shape=}')\n",
    "print(f'{b2.shape=}') # doesnt work\n",
    "print(f'{b2[:,None].shape=}') # works - this will make more sense next week\n",
    "print(f'{np.expand_dims(b2,1).shape=}') # works - same as previous "
   ]
  },
  {
   "cell_type": "markdown",
   "id": "hired-progress",
   "metadata": {},
   "source": [
    "#### Convenient argument to aggregations - `keepdims=True`"
   ]
  },
  {
   "cell_type": "code",
   "execution_count": 39,
   "id": "upset-hayes",
   "metadata": {},
   "outputs": [
    {
     "data": {
      "text/plain": [
       "array([[  0,  10,  20],\n",
       "       [ 30,  40,  50],\n",
       "       [ 60,  70,  80],\n",
       "       [ 90, 100, 110]])"
      ]
     },
     "execution_count": 39,
     "metadata": {},
     "output_type": "execute_result"
    }
   ],
   "source": [
    "a"
   ]
  },
  {
   "cell_type": "code",
   "execution_count": 40,
   "id": "tribal-albania",
   "metadata": {},
   "outputs": [],
   "source": [
    "a_mean1 = np.mean(a, axis=1)"
   ]
  },
  {
   "cell_type": "code",
   "execution_count": 41,
   "id": "crude-timing",
   "metadata": {},
   "outputs": [
    {
     "data": {
      "text/plain": [
       "(4,)"
      ]
     },
     "execution_count": 41,
     "metadata": {},
     "output_type": "execute_result"
    }
   ],
   "source": [
    "a_mean1.shape"
   ]
  },
  {
   "cell_type": "code",
   "execution_count": 42,
   "id": "marine-timing",
   "metadata": {},
   "outputs": [
    {
     "ename": "ValueError",
     "evalue": "operands could not be broadcast together with shapes (4,3) (4,) ",
     "output_type": "error",
     "traceback": [
      "\u001b[0;31m---------------------------------------------------------------------------\u001b[0m",
      "\u001b[0;31mValueError\u001b[0m                                Traceback (most recent call last)",
      "\u001b[0;32m<ipython-input-42-ce3c390446e8>\u001b[0m in \u001b[0;36m<module>\u001b[0;34m\u001b[0m\n\u001b[0;32m----> 1\u001b[0;31m \u001b[0ma\u001b[0m\u001b[0;34m/\u001b[0m\u001b[0ma_mean1\u001b[0m\u001b[0;34m\u001b[0m\u001b[0;34m\u001b[0m\u001b[0m\n\u001b[0m",
      "\u001b[0;31mValueError\u001b[0m: operands could not be broadcast together with shapes (4,3) (4,) "
     ]
    }
   ],
   "source": [
    "a/a_mean1"
   ]
  },
  {
   "cell_type": "code",
   "execution_count": 43,
   "id": "fantastic-baseline",
   "metadata": {},
   "outputs": [],
   "source": [
    "a_mean2 = np.mean(a, axis=1, keepdims=True)"
   ]
  },
  {
   "cell_type": "code",
   "execution_count": 44,
   "id": "choice-program",
   "metadata": {},
   "outputs": [
    {
     "data": {
      "text/plain": [
       "(4, 1)"
      ]
     },
     "execution_count": 44,
     "metadata": {},
     "output_type": "execute_result"
    }
   ],
   "source": [
    "a_mean2.shape"
   ]
  },
  {
   "cell_type": "code",
   "execution_count": 45,
   "id": "disabled-version",
   "metadata": {},
   "outputs": [
    {
     "data": {
      "text/plain": [
       "array([[0.        , 1.        , 2.        ],\n",
       "       [0.75      , 1.        , 1.25      ],\n",
       "       [0.85714286, 1.        , 1.14285714],\n",
       "       [0.9       , 1.        , 1.1       ]])"
      ]
     },
     "execution_count": 45,
     "metadata": {},
     "output_type": "execute_result"
    }
   ],
   "source": [
    "a/a_mean2"
   ]
  },
  {
   "cell_type": "markdown",
   "id": "worst-editor",
   "metadata": {},
   "source": [
    "## Aggregations and Broadcasting Exercises\n",
    "\n",
    "**Question 1:** Softmax\n",
    "\n",
    "In machine learning we often want to assign a set of probabilities to a data point being in some class. In order to be a consistent set of probabilities they must sum to 1 since we assume that each data point must be in one of the possible classes. For numerical reasons, it is often preferebale to work with a vector of unnormalized \"scores\" that we convert to probabilities using the `softmax` function defined by\n",
    "\n",
    "$$\\text{softmax}({\\bf x})_i = \\dfrac{e^{x_i}}{\\sum_j e^{x_j}}$$\n",
    "\n",
    "Write your own softmax function that takes in a 2D numpy array with shape `(N,C)` where N is the number of data points (so each row is a separate entry) and C is the number of classes. Test your function on the synthetic data array provided.\n",
    "\n",
    "**Note 1:** If you have done some thermodynamics you might recognize the softmax function as the boltzmann distribution where you you would say \"energy\" rather than \"score\".\n",
    "\n",
    "**Note 2:** In real life, you should use one of the many existing implementations of softmax e.g. [`scipy.special.softmax`](https://docs.scipy.org/doc/scipy/reference/generated/scipy.special.softmax.html). If time permits, you can use the scipy implementation and [`np.allclose`](https://numpy.org/doc/stable/reference/generated/numpy.allclose.html) to check that your implementation is correct."
   ]
  },
  {
   "cell_type": "code",
   "execution_count": 52,
   "id": "atomic-girlfriend",
   "metadata": {},
   "outputs": [],
   "source": [
    "data = np.random.default_rng().normal(size=(100,15))"
   ]
  },
  {
   "cell_type": "code",
   "execution_count": 54,
   "id": "flush-employment",
   "metadata": {},
   "outputs": [],
   "source": [
    "def my_softmax(x):\n",
    "    # Your code here\n",
    "    return None"
   ]
  },
  {
   "cell_type": "markdown",
   "id": "right-escape",
   "metadata": {},
   "source": [
    "## Numpy array indexing\n",
    "\n",
    "**Basic Indexing and Slicing**\n",
    "\n",
    "Numpy arrays can be indexed like lists. For a 1D array we can \n",
    "- Use square brackets and a number (0 references the first elemnt, -1 references the last and so on) e.g. `np.linspace(0,1,11)[8]`.\n",
    "- Use a : for slices e.g. `np.arange(6)[1:4]`\n",
    "\n",
    "Things get more interesting for higher dimensional arrays.\n",
    "- Indexing a single element will return a sub-array \n",
    "- Index multiple dimensions with a single set of brackets e.g. arr[3,4,5]\n",
    "- Use a : to select an entire dimension\n",
    "- Combine indexing and slicing along different dimensions\n",
    "\n",
    "![indexing](https://numpy.org/doc/stable/_images/np_matrix_indexing.png)"
   ]
  },
  {
   "cell_type": "code",
   "execution_count": null,
   "id": "noble-ordinary",
   "metadata": {},
   "outputs": [],
   "source": []
  },
  {
   "cell_type": "markdown",
   "id": "announced-genre",
   "metadata": {},
   "source": [
    "**Advanced Indexing**\n",
    "\n",
    "We can also index numpy arrays using other arrarys. This allows us to specify a set of points and return them in a specific shape.\n",
    "\n",
    "The returned array always has the same shape as the indexing array."
   ]
  },
  {
   "cell_type": "code",
   "execution_count": null,
   "id": "spread-front",
   "metadata": {},
   "outputs": [],
   "source": [
    "arr = np.arange()"
   ]
  },
  {
   "cell_type": "code",
   "execution_count": null,
   "id": "meaningful-raleigh",
   "metadata": {},
   "outputs": [],
   "source": [
    "# Using other arrays -- Expand here given \n",
    "arr[np.array([1,3]), np.array([2,4])]"
   ]
  },
  {
   "cell_type": "code",
   "execution_count": null,
   "id": "honest-colonial",
   "metadata": {},
   "outputs": [],
   "source": [
    "# More use of other arrays - get the diagonal\n",
    "arr[np.arange(4), np.arange(4)]"
   ]
  },
  {
   "cell_type": "code",
   "execution_count": null,
   "id": "faced-receipt",
   "metadata": {},
   "outputs": [],
   "source": []
  },
  {
   "cell_type": "markdown",
   "id": "fixed-indonesia",
   "metadata": {},
   "source": [
    "**Boolean Indexing**\n",
    "\n",
    "Boolean indexing allows us to access all the elements of an array that satisfy a certain condition. The first step is to make a boolean array, sometimes called a mask."
   ]
  },
  {
   "cell_type": "markdown",
   "id": "disciplinary-pastor",
   "metadata": {},
   "source": [
    "In the same way that we can do mathematical operations on whole arrays, we can also do *logical operations* on arrays. The output of logical operations will be boolean arrays, arrays that only contain `True` or `False` elements."
   ]
  },
  {
   "cell_type": "code",
   "execution_count": 56,
   "id": "animal-inspiration",
   "metadata": {},
   "outputs": [
    {
     "name": "stdout",
     "output_type": "stream",
     "text": [
      "[[ 0  1  2  3  4]\n",
      " [ 5  6  7  8  9]\n",
      " [10 11 12 13 14]\n",
      " [15 16 17 18 19]]\n",
      "\n",
      "[[False False False False False]\n",
      " [False False False  True  True]\n",
      " [ True  True  True  True  True]\n",
      " [ True  True  True  True  True]]\n"
     ]
    }
   ],
   "source": [
    "print(arr)\n",
    "print()\n",
    "print(arr > 7)"
   ]
  },
  {
   "cell_type": "code",
   "execution_count": 25,
   "id": "external-frontier",
   "metadata": {},
   "outputs": [],
   "source": [
    "evens = arr%2==0"
   ]
  },
  {
   "cell_type": "code",
   "execution_count": 26,
   "id": "tamil-tablet",
   "metadata": {},
   "outputs": [
    {
     "name": "stdout",
     "output_type": "stream",
     "text": [
      "[[ 0  1  2  3  4]\n",
      " [ 5  6  7  8  9]\n",
      " [10 11 12 13 14]\n",
      " [15 16 17 18 19]]\n",
      "\n",
      "[[ True False  True False  True]\n",
      " [False  True False  True False]\n",
      " [ True False  True False  True]\n",
      " [False  True False  True False]]\n"
     ]
    }
   ],
   "source": [
    "print(arr)\n",
    "print()\n",
    "print(evens)# % is the modulo operator, x%y gives the remainder when x is divided by y."
   ]
  },
  {
   "cell_type": "markdown",
   "id": "recovered-condition",
   "metadata": {},
   "source": [
    "If we index the array with a boolean array of compatible shape, we can access the elements where the boolean array is `True`."
   ]
  },
  {
   "cell_type": "code",
   "execution_count": 27,
   "id": "driven-application",
   "metadata": {},
   "outputs": [
    {
     "data": {
      "text/plain": [
       "array([ 0,  2,  4,  6,  8, 10, 12, 14, 16, 18])"
      ]
     },
     "execution_count": 27,
     "metadata": {},
     "output_type": "execute_result"
    }
   ],
   "source": [
    "arr[evens]"
   ]
  },
  {
   "cell_type": "markdown",
   "id": "parental-equipment",
   "metadata": {},
   "source": [
    "Note that the returned array is 1D since in general, we cannot guarantee that the result will be rectangular."
   ]
  },
  {
   "cell_type": "markdown",
   "id": "negative-chicken",
   "metadata": {},
   "source": [
    "#### A few handy tricks for indexing with binary arrays\n",
    "\n",
    "Inversion"
   ]
  },
  {
   "cell_type": "code",
   "execution_count": null,
   "id": "informative-istanbul",
   "metadata": {},
   "outputs": [],
   "source": [
    "#naively\n"
   ]
  },
  {
   "cell_type": "code",
   "execution_count": null,
   "id": "minus-wrist",
   "metadata": {},
   "outputs": [],
   "source": [
    "#maybe easier"
   ]
  },
  {
   "cell_type": "code",
   "execution_count": null,
   "id": "adaptive-subcommittee",
   "metadata": {},
   "outputs": [],
   "source": []
  },
  {
   "cell_type": "markdown",
   "id": "acting-abraham",
   "metadata": {},
   "source": [
    "Logical operations: And and Or"
   ]
  },
  {
   "cell_type": "code",
   "execution_count": null,
   "id": "temporal-arrest",
   "metadata": {},
   "outputs": [],
   "source": [
    "#multiples of three"
   ]
  },
  {
   "cell_type": "code",
   "execution_count": null,
   "id": "joined-rachel",
   "metadata": {},
   "outputs": [],
   "source": []
  },
  {
   "cell_type": "code",
   "execution_count": null,
   "id": "confidential-python",
   "metadata": {},
   "outputs": [],
   "source": [
    "#even and multiple of three"
   ]
  },
  {
   "cell_type": "code",
   "execution_count": 14,
   "id": "adequate-plain",
   "metadata": {},
   "outputs": [],
   "source": [
    "#even or multiple of three"
   ]
  },
  {
   "cell_type": "markdown",
   "id": "informed-wagner",
   "metadata": {},
   "source": [
    "You can do a lot with these logical operations, but these three (not, and, or) are the fundamental ones out of which you can compute complex things."
   ]
  },
  {
   "cell_type": "markdown",
   "id": "expired-fundamental",
   "metadata": {},
   "source": [
    "## Indexing Exercises \n",
    "\n",
    "### Question 1\n",
    "\n",
    "This exercise is desinged to review what you learned yesterday and to begin to practice boolean indexing.\n",
    "\n",
    "The cell below generates two arrays: \n",
    "- `x` is the dependent variable which we will use for plotting. It contains 300 uniformly spaced points from [-1,1].\n",
    "- `y` is a 2-dimensional array that contains the values of 10 different functions of x, each one in its own column\n",
    "\n",
    "The following cell makes a plot of all 10 different columns of `y`."
   ]
  },
  {
   "cell_type": "code",
   "execution_count": 20,
   "id": "committed-literacy",
   "metadata": {},
   "outputs": [],
   "source": [
    "x = np.linspace(-1,1, 300)\n",
    "y = np.load(\"exercise1_y.npy\")"
   ]
  },
  {
   "cell_type": "code",
   "execution_count": 22,
   "id": "handed-navigation",
   "metadata": {},
   "outputs": [
    {
     "data": {
      "image/png": "[encoded data removed]",
      "text/plain": [
       "<Figure size 648x432 with 1 Axes>"
      ]
     },
     "metadata": {
      "image/png": {
       "height": 385,
       "width": 551
      },
      "needs_background": "light"
     },
     "output_type": "display_data"
    }
   ],
   "source": [
    "for i in range(10):\n",
    "    plt.plot(x, y[:,i])\n",
    "plt.title(\"10 Random Functions\")\n",
    "plt.xlabel('x')\n",
    "plt.ylabel('y')\n",
    "plt.show()"
   ]
  },
  {
   "cell_type": "markdown",
   "id": "passive-strain",
   "metadata": {},
   "source": [
    "**Part a.**\n",
    "\n",
    "Compute the difference between the first and last point of each of the 10 columns of y. Which column has the largest difference and which has the smallest?\n",
    "\n",
    "Hint: Look at the documentation for [`np.argmin`](https://numpy.org/doc/stable/reference/generated/numpy.argmin.html) and [`np.argmax`](https://numpy.org/doc/stable/reference/generated/numpy.argmax.html)"
   ]
  },
  {
   "cell_type": "code",
   "execution_count": null,
   "id": "subject-startup",
   "metadata": {},
   "outputs": [],
   "source": []
  },
  {
   "cell_type": "code",
   "execution_count": null,
   "id": "leading-jersey",
   "metadata": {},
   "outputs": [],
   "source": []
  },
  {
   "cell_type": "markdown",
   "id": "adopted-bridal",
   "metadata": {},
   "source": [
    "**Part b.**\n",
    "\n",
    "Make a plot showing the curves with the largest and smallest net differences that you found in part a on the same axes. Include a legend that lists the value of the net difference for each curve."
   ]
  },
  {
   "cell_type": "code",
   "execution_count": null,
   "id": "dramatic-afghanistan",
   "metadata": {},
   "outputs": [],
   "source": []
  },
  {
   "cell_type": "markdown",
   "id": "registered-apache",
   "metadata": {},
   "source": [
    "**Part c.**\n",
    "\n",
    "Compute average value of y for each of the 10 different functions, in other words, the average of each column. Which column has the largest average and which one has the smallest? "
   ]
  },
  {
   "cell_type": "code",
   "execution_count": null,
   "id": "worth-vacation",
   "metadata": {},
   "outputs": [],
   "source": []
  },
  {
   "cell_type": "markdown",
   "id": "seventh-sheep",
   "metadata": {},
   "source": [
    "**Part d.**\n",
    "\n",
    "Make a plot showing the curves with the largest and smallest average values that you found in part c on the same axes. Include a legend that lists the average value of each curve as well as its index in the original array."
   ]
  },
  {
   "cell_type": "code",
   "execution_count": null,
   "id": "thick-event",
   "metadata": {},
   "outputs": [],
   "source": []
  },
  {
   "cell_type": "markdown",
   "id": "allied-switzerland",
   "metadata": {},
   "source": [
    "## Question 2 - Estimating $\\pi$ again.\n",
    "\n",
    "**Part a.**\n",
    "The cell below generates two arrays `X` and `Y` that each contain 1000 random numbers between 0 and 1. Make a [scatter plot](https://matplotlib.org/stable/api/_as_gen/matplotlib.pyplot.scatter.html) showing all the points that lie inside the circle $x^2+y^2=1$ in red and all the points that lie outside that circle in blue."
   ]
  },
  {
   "cell_type": "code",
   "execution_count": 43,
   "id": "combined-dutch",
   "metadata": {},
   "outputs": [],
   "source": [
    "N = int(1e3)\n",
    "rng = np.random.default_rng()\n",
    "X = rng.random(N)\n",
    "Y = rng.random(N)"
   ]
  },
  {
   "cell_type": "code",
   "execution_count": null,
   "id": "phantom-shirt",
   "metadata": {},
   "outputs": [],
   "source": []
  },
  {
   "cell_type": "markdown",
   "id": "angry-fashion",
   "metadata": {},
   "source": [
    "**Part b**\n",
    "\n",
    "The area of a 1x1 square is obviously 1 and the area of a quarter circle with radius 1 is $\\pi/4$. Count the number of points that lie inside the unit circle and use the fraction of the points inside to estimate $\\pi$. What is the relative error with 1000 sample points? Change the value of `N` in the cell above and rerun and calculate the the relative error with $10^6$ and $10^9$ sample points. Recall from last week that the relative error of an estimate is \n",
    "\n",
    "$$ \\frac{|\\text{Estimate}-\\text{True}|}{\\text{True}} $$"
   ]
  },
  {
   "cell_type": "code",
   "execution_count": null,
   "id": "mineral-cedar",
   "metadata": {},
   "outputs": [],
   "source": []
  },
  {
   "cell_type": "markdown",
   "id": "opening-shell",
   "metadata": {},
   "source": [
    "## Random numbers and random walks\n",
    "\n",
    "Random number generation is a surprisingly tricky thing to do on a computer which we generally think of as highly non-random. Strictly speaking, we will be talking about *pseudo*random number generation since its impossible to genereate truly random numbers. However it is important enough that lots work has gone into doing it well and many of the best implementations live in the `numpy.random` module.\n",
    "\n",
    "*Note*: The `numpy.random` module was changed significantly in summer of 2019 so what you'll see today is the modern (and higher performace) usage. For compatibility reasons, numpy still supports the old way and you are likely to come across older code which will look slightly different.\n",
    "\n",
    "The core of the random module is a `Generator` object. The easiest and most likely best way to initialize one is"
   ]
  },
  {
   "cell_type": "code",
   "execution_count": 57,
   "id": "homeless-herald",
   "metadata": {},
   "outputs": [],
   "source": [
    "rng = np.random.default_rng() #rng stands for Random Number Generator"
   ]
  },
  {
   "cell_type": "markdown",
   "id": "clean-boundary",
   "metadata": {},
   "source": [
    "The `Generator` object can then generate numbers from a vast array of different distributions. You can learn about these in a statistics class but I'll show a few examples."
   ]
  },
  {
   "cell_type": "code",
   "execution_count": null,
   "id": "contained-raising",
   "metadata": {},
   "outputs": [],
   "source": [
    "rng"
   ]
  },
  {
   "cell_type": "code",
   "execution_count": null,
   "id": "massive-withdrawal",
   "metadata": {},
   "outputs": [],
   "source": [
    "#sample normal distribution"
   ]
  },
  {
   "cell_type": "code",
   "execution_count": null,
   "id": "hydraulic-merit",
   "metadata": {},
   "outputs": [],
   "source": []
  },
  {
   "cell_type": "code",
   "execution_count": null,
   "id": "personal-terrorist",
   "metadata": {},
   "outputs": [],
   "source": [
    "#show every distribution, sample gamma"
   ]
  },
  {
   "cell_type": "code",
   "execution_count": null,
   "id": "relevant-portrait",
   "metadata": {},
   "outputs": [],
   "source": []
  },
  {
   "cell_type": "code",
   "execution_count": null,
   "id": "prospective-italic",
   "metadata": {},
   "outputs": [],
   "source": [
    "#Randomly choose from pets\n",
    "pets = ['cat', 'dog', 'fish', 'rabbit']"
   ]
  },
  {
   "cell_type": "code",
   "execution_count": null,
   "id": "arbitrary-arlington",
   "metadata": {},
   "outputs": [],
   "source": []
  },
  {
   "cell_type": "markdown",
   "id": "velvet-contamination",
   "metadata": {},
   "source": [
    "#### Random Walks\n",
    "\n",
    "Random walks are a *very* powerful and widely used model in basically every area of science. One of the great things about random walks is that they are very easy to simulate and often analytically tractable (the math is much beyond the scope of this bootcamp but happy to discuss in office hours as usual). We'll work on these today since they pull together pretty much all of the numpy tools we have discussed.\n",
    "\n",
    "Here is the idea: a walker starts at some point and at each time point takes a \"random step.\" There are many ways to define a random step but lets focus on the simplest case in 1 dimension. \n",
    "- A walker starts at 0 on the number line.\n",
    "- The walker flips a coin.\n",
    "- If the coin comes heads, take a step to the right (+1)\n",
    "- If the coin comes up tails take a step to the left (-1)\n",
    "- Repeat this process for many time steps i.e. coin flips."
   ]
  },
  {
   "cell_type": "code",
   "execution_count": null,
   "id": "vietnamese-quebec",
   "metadata": {},
   "outputs": [],
   "source": [
    "steps = rng.choice([-1,1], size=1000)"
   ]
  },
  {
   "cell_type": "code",
   "execution_count": null,
   "id": "empty-belief",
   "metadata": {},
   "outputs": [],
   "source": [
    "position = np.cumsum(steps)"
   ]
  },
  {
   "cell_type": "code",
   "execution_count": null,
   "id": "patient-battle",
   "metadata": {},
   "outputs": [],
   "source": [
    "plt.plot(position)\n",
    "plt.title(\"A Random Walk\")\n",
    "plt.xlabel('Time')\n",
    "plt.ylabel('Position')\n",
    "plt.show()"
   ]
  },
  {
   "cell_type": "markdown",
   "id": "ceramic-helicopter",
   "metadata": {},
   "source": [
    "#### Compiling statistics\n",
    "\n",
    "Often the idea with simulating random walkers is that we simulate many of them and the calculate statistics as a function of time. Said slightly differently, we often average over the walkers rather than averaging over time. "
   ]
  },
  {
   "cell_type": "code",
   "execution_count": null,
   "id": "polyphonic-medicaid",
   "metadata": {},
   "outputs": [],
   "source": [
    "# generate 500 rws\n",
    "# steps = rng.choice([-1,1], size=(1000,500)) #1000 steps or time points, 500 walkers"
   ]
  },
  {
   "cell_type": "code",
   "execution_count": null,
   "id": "local-photographer",
   "metadata": {},
   "outputs": [],
   "source": [
    "#positions = steps.cumsum(axis=0)"
   ]
  },
  {
   "cell_type": "code",
   "execution_count": null,
   "id": "hollow-services",
   "metadata": {},
   "outputs": [],
   "source": []
  },
  {
   "cell_type": "code",
   "execution_count": null,
   "id": "norwegian-beauty",
   "metadata": {},
   "outputs": [],
   "source": [
    "# plt.plot(positions[:,0])\n",
    "# plt.title(\"10 Random Walks\")\n",
    "# plt.xlabel('Time')\n",
    "# plt.ylabel('Position')\n",
    "# plt.show()"
   ]
  },
  {
   "cell_type": "code",
   "execution_count": null,
   "id": "tired-diving",
   "metadata": {},
   "outputs": [],
   "source": [
    "positions.shape"
   ]
  },
  {
   "cell_type": "code",
   "execution_count": null,
   "id": "broke-indication",
   "metadata": {},
   "outputs": [],
   "source": [
    "#plot "
   ]
  },
  {
   "cell_type": "markdown",
   "id": "excess-acrobat",
   "metadata": {},
   "source": [
    "Remember that we have 500 walkers and 1000 time steps so the first dimension in this array is time and the second dimension is the walkers."
   ]
  },
  {
   "cell_type": "code",
   "execution_count": null,
   "id": "aquatic-simpson",
   "metadata": {},
   "outputs": [],
   "source": [
    "#select the trajectories"
   ]
  },
  {
   "cell_type": "code",
   "execution_count": null,
   "id": "knowing-battery",
   "metadata": {},
   "outputs": [],
   "source": [
    "# mean = positions.mean(1)\n",
    "# std = positions.std(1)"
   ]
  },
  {
   "cell_type": "code",
   "execution_count": null,
   "id": "eastern-alabama",
   "metadata": {},
   "outputs": [],
   "source": [
    "#count them"
   ]
  },
  {
   "cell_type": "code",
   "execution_count": null,
   "id": "tribal-characterization",
   "metadata": {},
   "outputs": [],
   "source": [
    "# plt.plot(std, label=\"Std. Dev.\")\n",
    "# plt.plot(mean, label='Mean')\n",
    "# fit standard deviation\n",
    "# plt.legend()\n",
    "# plt.show()"
   ]
  },
  {
   "cell_type": "markdown",
   "id": "right-tongue",
   "metadata": {},
   "source": [
    "### Random Walks Exercise\n",
    "\n",
    "*Note* Since we are generating random numbers your individual results may be slightly different. \n",
    "\n",
    "\n",
    "#### Part a.\n",
    "\n",
    "Similate 100 random walkers each taking 1000 steps as above but rather than a \"coin flip\" to determine the step, have these walkers take a step to the right (+1) with probability 0.65 and a step to the left (-1) with probability 0.35 - this is often called a biased random walk. Make plot showing the trajectories of the walkers which ended up farthest from the origin and closest to the origin.\n",
    "\n",
    "*Hint* Read the documentation of `rng.choice`"
   ]
  },
  {
   "cell_type": "code",
   "execution_count": null,
   "id": "lucky-tower",
   "metadata": {},
   "outputs": [],
   "source": []
  },
  {
   "cell_type": "markdown",
   "id": "systematic-prime",
   "metadata": {},
   "source": [
    "#### Part b.\n",
    "\n",
    "- Compute the mean and standard deviation of these walkers as a function of time. \n",
    "- Plot the mean and standard deviation as a function of time on the same axes. \n",
    "- Plot $\\sqrt{t}$ as above and plot on the same axes. Does it still seem to describe the standard deiviation as a function of time?\n",
    "- **Optional** Can you come up with a function that describes the mean as a function of time? Plot this function as well. *Hint* How do you think the average depends on the probability of going right? Does your formula give the correct result from the demo above when $p=0.5$?"
   ]
  },
  {
   "cell_type": "code",
   "execution_count": null,
   "id": "invisible-patrol",
   "metadata": {},
   "outputs": [],
   "source": []
  },
  {
   "cell_type": "markdown",
   "id": "wound-audit",
   "metadata": {},
   "source": [
    "#### Part c. \n",
    "\n",
    "Rather than just walking up and down the number line, lets see what happens when the walk happens in two dimensions. Simulate 100 walkers each taking 1000 steps in the XY plane. Generate a 2D step by taking 2 independent samples from a standard normal distribution (mean=0, standard deviation=1). Plot 10 walks *in the XY plane*."
   ]
  },
  {
   "cell_type": "code",
   "execution_count": null,
   "id": "formal-shame",
   "metadata": {},
   "outputs": [],
   "source": []
  },
  {
   "cell_type": "markdown",
   "id": "combined-constraint",
   "metadata": {},
   "source": [
    "#### Part d.\n",
    "\n",
    "Find the walkers which end up the farthest from the origin and the closest. Plot these two trajectories in the XY plane.\n",
    "\n",
    "*Hint* Given a point $(x,y)$ how do you compute the distance from the origin? Can you use numpy to compute the distance for all the walkers at all the time points without any loops?\n",
    "\n",
    "**Optional** Plot the trajectories of all the walkers in black and pass the keyword argument `alpha=0.25` to `plt.plot` which makes the lines somewhat transparent. Then plot the furthest and closest trajectories on the same axes in two different colors of your choice."
   ]
  },
  {
   "cell_type": "code",
   "execution_count": null,
   "id": "interesting-vision",
   "metadata": {},
   "outputs": [],
   "source": []
  },
  {
   "cell_type": "markdown",
   "id": "duplicate-southwest",
   "metadata": {},
   "source": [
    "#### Part e. \n",
    "\n",
    "Plot the trajectories of any walkers who remain in the first quadrant for their entire trajectory (i.e. $x(t)>0$ and $y(t)>0$ for all times $t$). You will probably want to simulate more walkers (~$10^5$) in order to find some who meet this criterion, it happens with probability ~0.05\\%."
   ]
  },
  {
   "cell_type": "code",
   "execution_count": null,
   "id": "manual-preference",
   "metadata": {},
   "outputs": [],
   "source": []
  }
 ],
 "metadata": {
  "kernelspec": {
   "display_name": "Python 3",
   "language": "python",
   "name": "python3"
  },
  "language_info": {
   "codemirror_mode": {
    "name": "ipython",
    "version": 3
   },
   "file_extension": ".py",
   "mimetype": "text/x-python",
   "name": "python",
   "nbconvert_exporter": "python",
   "pygments_lexer": "ipython3",
   "version": "3.8.6"
  }
 },
 "nbformat": 4,
 "nbformat_minor": 5
}
